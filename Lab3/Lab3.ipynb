{
  "cells": [
    {
      "cell_type": "code",
      "execution_count": null,
      "metadata": {},
      "outputs": [],
      "source": [
        "!pip install tensorflow"
      ]
    },
    {
      "cell_type": "code",
      "execution_count": 310,
      "metadata": {
        "id": "0Pro202WJhX2"
      },
      "outputs": [],
      "source": [
        "import cv2\n",
        "import os\n",
        "import random\n",
        "import tensorflow as tf\n",
        "from shutil import copyfile\n",
        "import numpy as np\n",
        "from matplotlib import pyplot as plt\n",
        "from tensorflow.keras.optimizers.legacy import Adam\n",
        "from tensorflow.keras.models import Sequential\n",
        "from tensorflow.keras.layers import Conv2D, MaxPooling2D, Dense, Dropout, Flatten\n",
        "from tensorflow.keras.preprocessing.image import ImageDataGenerator,img_to_array, load_img"
      ]
    },
    {
      "cell_type": "code",
      "execution_count": 279,
      "metadata": {
        "id": "gm7qI4LrKa4U"
      },
      "outputs": [],
      "source": [
        "data_dirs = ['Pepper__bell___Bacterial_spot', 'Potato___healthy', 'Pepper__bell___healthy']"
      ]
    },
    {
      "cell_type": "code",
      "execution_count": 280,
      "metadata": {},
      "outputs": [
        {
          "name": "stdout",
          "output_type": "stream",
          "text": [
            "There are 997 images of Bell Pepper Bacterial Spot\n",
            "There are 152 images of Potato Healthy\n",
            "There are 1478 images of Bell Pepper Healthy\n"
          ]
        }
      ],
      "source": [
        "source_path = 'sources'\n",
        "\n",
        "DATA_CLASSES = ['Bell Pepper Bacterial Spot', 'Potato Healthy', 'Bell Pepper Healthy']\n",
        "\n",
        "for i, dir in enumerate(data_dirs):\n",
        "    class_dir = os.path.join(source_path, dir)\n",
        "    print(f'There are {len(os.listdir(class_dir))} images of {DATA_CLASSES[i]}')"
      ]
    },
    {
      "cell_type": "code",
      "execution_count": 281,
      "metadata": {},
      "outputs": [],
      "source": [
        "root_binary = 'binary_data'\n",
        "\n",
        "os.makedirs(os.path.join(root_binary, 'train'))\n",
        "# os.makedirs(os.path.join(root_binary, 'validation'))\n",
        "os.makedirs(os.path.join(root_binary, 'testing'))\n",
        "\n",
        "os.makedirs(os.path.join(root_binary, 'train/bell_pepper_bac'))\n",
        "os.makedirs(os.path.join(root_binary, 'train/potato_healthy'))\n",
        "\n",
        "# os.makedirs(os.path.join(root_binary, 'validation/bell_pepper_bac'))\n",
        "# os.makedirs(os.path.join(root_binary, 'validation/potato_healthy'))\n",
        "\n",
        "os.makedirs(os.path.join(root_binary, 'testing/bell_pepper_bac'))\n",
        "os.makedirs(os.path.join(root_binary, 'testing/potato_healthy'))"
      ]
    },
    {
      "cell_type": "code",
      "execution_count": 296,
      "metadata": {},
      "outputs": [],
      "source": [
        "def split_data(SOURCE, TRAINING, TESTING, TRAINING_SPLIT, TESTING_SPLIT):\n",
        "    filtered_files = []\n",
        "\n",
        "    for file_name in os.listdir(SOURCE):\n",
        "        file_path = os.path.join(SOURCE, file_name)\n",
        "        \n",
        "        if os.path.getsize(file_path):\n",
        "            filtered_files.append(file_name)\n",
        "        else:\n",
        "            print('{} is zero length, so ignoring.'.format(file_name))\n",
        "  \n",
        "    # Split the files\n",
        "    random_files = random.sample(filtered_files, len(filtered_files))\n",
        "    split_train = int(TRAINING_SPLIT * len(filtered_files))\n",
        "    # split_val = int(VALIDATION_SPLIT * len(filtered_files))\n",
        "    # split_test = int(TESTING_SPLIT * len(filtered_files))\n",
        "    \n",
        "    # print(split_train, split_val, split_test)\n",
        "\n",
        "    training_files = random_files[:split_train]\n",
        "    # val_files = random_files[split_val:split_test-1]\n",
        "    test_files = random_files[split_train:]\n",
        "\n",
        "    # Copy the files\n",
        "    for file_name in training_files:\n",
        "        copyfile(os.path.join(SOURCE, file_name), os.path.join(TRAINING, file_name))\n",
        "\n",
        "    # for file_name in val_files:\n",
        "    #     copyfile(os.path.join(SOURCE, file_name), os.path.join(VALIDATION, file_name))\n",
        "\n",
        "    for file_name in test_files:\n",
        "        copyfile(os.path.join(SOURCE, file_name), os.path.join(TESTING, file_name))"
      ]
    },
    {
      "cell_type": "code",
      "execution_count": 297,
      "metadata": {},
      "outputs": [
        {
          "name": "stdout",
          "output_type": "stream",
          "text": [
            "\n",
            "\n",
            "There are 897 images of Bell Pepper Bacterial Spot for training\n",
            "There are 136 images of Potato Healthy for training\n",
            "There are 100 images of Bell Pepper Bacterial Spot for testing\n",
            "There are 16 images of Potato Healthy for testing\n"
          ]
        }
      ],
      "source": [
        "BELL_PEPPER_BAC_DIR = \"sources/\" + data_dirs[0]\n",
        "POTATO_HEALTHY_DIR = \"sources/\" + data_dirs[1]\n",
        "\n",
        "TRAINING_DIR = \"binary_data/train/\"\n",
        "# VAL_DIR = \"binary_data/validation/\"\n",
        "TEST_DIR = \"binary_data/testing/\"\n",
        "\n",
        "TRAINING_BELL_PEPPER_BAC_DIR = os.path.join(TRAINING_DIR, \"bell_pepper_bac/\")\n",
        "# VAL_BELL_PEPPER_BAC_DIR = os.path.join(VAL_DIR, \"bell_pepper_bac/\")\n",
        "TEST_BELL_PEPPER_BAC_DIR = os.path.join(TEST_DIR, \"bell_pepper_bac/\")\n",
        "\n",
        "TRAINING_POTATO_HEALTHY_DIR = os.path.join(TRAINING_DIR, \"potato_healthy/\")\n",
        "# VAL_POTATO_HEALTHY_DIR = os.path.join(VAL_DIR, \"potato_healthy/\")\n",
        "TEST_POTATO_HEALTHY_DIR = os.path.join(TEST_DIR, \"potato_healthy/\")\n",
        "\n",
        "# Empty directories in case you run this cell multiple times\n",
        "if len(os.listdir(TRAINING_BELL_PEPPER_BAC_DIR)) > 0:\n",
        "    for file in os.scandir(TRAINING_BELL_PEPPER_BAC_DIR):\n",
        "        os.remove(file.path)\n",
        "if len(os.listdir(TRAINING_POTATO_HEALTHY_DIR)) > 0:\n",
        "    for file in os.scandir(TRAINING_POTATO_HEALTHY_DIR):\n",
        "        os.remove(file.path)\n",
        "\n",
        "# if len(os.listdir(VAL_BELL_PEPPER_BAC_DIR)) > 0:\n",
        "#     for file in os.scandir(VAL_BELL_PEPPER_BAC_DIR):\n",
        "#         os.remove(file.path)\n",
        "# if len(os.listdir(VAL_POTATO_HEALTHY_DIR)) > 0:\n",
        "#     for file in os.scandir(TRAINING_POTATO_HEALTHY_DIR):\n",
        "#         os.remove(file.path)        \n",
        "  \n",
        "if len(os.listdir(TEST_BELL_PEPPER_BAC_DIR)) > 0:\n",
        "    for file in os.scandir(TEST_BELL_PEPPER_BAC_DIR):\n",
        "        os.remove(file.path)\n",
        "if len(os.listdir(TEST_POTATO_HEALTHY_DIR)) > 0:\n",
        "    for file in os.scandir(TEST_POTATO_HEALTHY_DIR):\n",
        "        os.remove(file.path)\n",
        "\n",
        "        \n",
        "# Define proportion of images used for training\n",
        "split_train_size = .9\n",
        "\n",
        "# Run the function\n",
        "# NOTE: Messages about zero length images should be printed out\n",
        "split_data(BELL_PEPPER_BAC_DIR, TRAINING_BELL_PEPPER_BAC_DIR, TEST_BELL_PEPPER_BAC_DIR, split_train_size, split_test_size)\n",
        "split_data(POTATO_HEALTHY_DIR, TRAINING_POTATO_HEALTHY_DIR, TEST_POTATO_HEALTHY_DIR, split_train_size, split_test_size)\n",
        "\n",
        "\n",
        "# Check that the number of images matches the expected output\n",
        "print(f\"\\n\\nThere are {len(os.listdir(TRAINING_BELL_PEPPER_BAC_DIR))} images of {DATA_CLASSES[0]} for training\")\n",
        "print(f\"There are {len(os.listdir(TRAINING_POTATO_HEALTHY_DIR))} images of {DATA_CLASSES[1]} for training\")\n",
        "\n",
        "# print(f\"There are {len(os.listdir(VAL_BELL_PEPPER_BAC_DIR))} images of {DATA_CLASSES[0]} for validation\")\n",
        "# print(f\"There are {len(os.listdir(VAL_POTATO_HEALTHY_DIR))} images of {DATA_CLASSES[1]} for validation\")\n",
        "\n",
        "print(f\"There are {len(os.listdir(TEST_BELL_PEPPER_BAC_DIR))} images of {DATA_CLASSES[0]} for testing\")\n",
        "print(f\"There are {len(os.listdir(TEST_POTATO_HEALTHY_DIR))} images of {DATA_CLASSES[1]} for testing\")"
      ]
    },
    {
      "cell_type": "code",
      "execution_count": 298,
      "metadata": {},
      "outputs": [],
      "source": [
        "def train_val_generators(TRAINING_DIR, VALIDATION_DIR):\n",
        "    # Instantiate the ImageDataGenerator class \n",
        "    train_datagen = ImageDataGenerator(rescale = 1.0 / 255.,\n",
        "                                     rotation_range = 40,\n",
        "                                     width_shift_range = .2,\n",
        "                                     height_shift_range = .2,\n",
        "                                     shear_range = .2,\n",
        "                                     zoom_range = .2,\n",
        "                                     horizontal_flip = True,\n",
        "                                     fill_mode = 'nearest')\n",
        "\n",
        "    # Pass in the appropriate arguments to the flow_from_directory method\n",
        "    train_generator = train_datagen.flow_from_directory(directory = TRAINING_DIR,\n",
        "                                                      batch_size = 64,\n",
        "                                                      class_mode = 'categorical',\n",
        "                                                      target_size = (150, 150))\n",
        "\n",
        "    # Instantiate the ImageDataGenerator class \n",
        "    validation_datagen = ImageDataGenerator(rescale = 1.0 / 255.,\n",
        "                                          rotation_range = 40,\n",
        "                                          width_shift_range = .2,\n",
        "                                          height_shift_range = .2,\n",
        "                                          shear_range = .2,\n",
        "                                          zoom_range = .2,\n",
        "                                          horizontal_flip = True,\n",
        "                                          fill_mode = 'nearest')\n",
        "\n",
        "    # Pass in the appropriate arguments to the flow_from_directory method\n",
        "    validation_generator = validation_datagen.flow_from_directory(directory = VALIDATION_DIR,\n",
        "                                                                batch_size = 64,\n",
        "                                                                class_mode = 'categorical',\n",
        "                                                                target_size = (150, 150))\n",
        "\n",
        "    return train_generator, validation_generator"
      ]
    },
    {
      "cell_type": "code",
      "execution_count": 299,
      "metadata": {},
      "outputs": [
        {
          "name": "stdout",
          "output_type": "stream",
          "text": [
            "Found 1033 images belonging to 2 classes.\n",
            "Found 116 images belonging to 2 classes.\n"
          ]
        }
      ],
      "source": [
        "# Test your generators\n",
        "train_generator, validation_generator = train_val_generators(TRAINING_DIR, TEST_DIR)"
      ]
    },
    {
      "cell_type": "code",
      "execution_count": 339,
      "metadata": {},
      "outputs": [],
      "source": [
        "# model = Sequential()"
      ]
    },
    {
      "cell_type": "code",
      "execution_count": 351,
      "metadata": {},
      "outputs": [],
      "source": [
        "model = Sequential()\n",
        "\n",
        "model.add(Conv2D(32, (3,3), activation='relu', input_shape=(256,256, 3)))\n",
        "model.add(MaxPooling2D(2,2))\n",
        "\n",
        "model.add(Conv2D(64, (3,3), activation='relu', input_shape=(256,256, 3)))\n",
        "model.add(MaxPooling2D(2,2))\n",
        "\n",
        "model.add(Conv2D(128, (3,3), activation='relu', input_shape=(256,256, 3)))\n",
        "model.add(MaxPooling2D(2,2))\n",
        "\n",
        "model.add(Conv2D(128, (3,3), activation='relu', input_shape=(256,256, 3)))\n",
        "model.add(MaxPooling2D(2,2))\n",
        "\n",
        "model.add(Conv2D(64, (3,3), activation='relu', input_shape=(256,256, 3)))\n",
        "model.add(MaxPooling2D(2,2))\n",
        "\n",
        "model.add(Flatten())\n",
        "model.add(Dense(512, activation='relu'))\n",
        "model.add(Dense(256, activation='relu'))\n",
        "model.add(Dense(128, activation='relu'))\n",
        "model.add(Dropout(0.5))\n",
        "model.add(Dense(2, activation='softmax'))\n"
      ]
    },
    {
      "cell_type": "code",
      "execution_count": 352,
      "metadata": {},
      "outputs": [
        {
          "name": "stdout",
          "output_type": "stream",
          "text": [
            "Model: \"sequential_27\"\n",
            "_________________________________________________________________\n",
            " Layer (type)                Output Shape              Param #   \n",
            "=================================================================\n",
            " conv2d_109 (Conv2D)         (None, 254, 254, 32)      896       \n",
            "                                                                 \n",
            " max_pooling2d_96 (MaxPooli  (None, 127, 127, 32)      0         \n",
            " ng2D)                                                           \n",
            "                                                                 \n",
            " conv2d_110 (Conv2D)         (None, 125, 125, 64)      18496     \n",
            "                                                                 \n",
            " max_pooling2d_97 (MaxPooli  (None, 62, 62, 64)        0         \n",
            " ng2D)                                                           \n",
            "                                                                 \n",
            " conv2d_111 (Conv2D)         (None, 60, 60, 128)       73856     \n",
            "                                                                 \n",
            " max_pooling2d_98 (MaxPooli  (None, 30, 30, 128)       0         \n",
            " ng2D)                                                           \n",
            "                                                                 \n",
            " conv2d_112 (Conv2D)         (None, 28, 28, 128)       147584    \n",
            "                                                                 \n",
            " max_pooling2d_99 (MaxPooli  (None, 14, 14, 128)       0         \n",
            " ng2D)                                                           \n",
            "                                                                 \n",
            " conv2d_113 (Conv2D)         (None, 12, 12, 64)        73792     \n",
            "                                                                 \n",
            " max_pooling2d_100 (MaxPool  (None, 6, 6, 64)          0         \n",
            " ing2D)                                                          \n",
            "                                                                 \n",
            " flatten_24 (Flatten)        (None, 2304)              0         \n",
            "                                                                 \n",
            " dense_48 (Dense)            (None, 512)               1180160   \n",
            "                                                                 \n",
            " dense_49 (Dense)            (None, 256)               131328    \n",
            "                                                                 \n",
            " dense_50 (Dense)            (None, 128)               32896     \n",
            "                                                                 \n",
            " dropout_24 (Dropout)        (None, 128)               0         \n",
            "                                                                 \n",
            " dense_51 (Dense)            (None, 2)                 258       \n",
            "                                                                 \n",
            "=================================================================\n",
            "Total params: 1659266 (6.33 MB)\n",
            "Trainable params: 1659266 (6.33 MB)\n",
            "Non-trainable params: 0 (0.00 Byte)\n",
            "_________________________________________________________________\n"
          ]
        }
      ],
      "source": [
        "model.summary()"
      ]
    },
    {
      "cell_type": "code",
      "execution_count": 353,
      "metadata": {},
      "outputs": [],
      "source": [
        "# Compile the model\n",
        "model.compile(optimizer=Adam(), \n",
        "              loss='binary_crossentropy', \n",
        "              metrics=['accuracy'])"
      ]
    },
    {
      "cell_type": "code",
      "execution_count": 354,
      "metadata": {},
      "outputs": [
        {
          "name": "stdout",
          "output_type": "stream",
          "text": [
            "Epoch 1/5\n"
          ]
        },
        {
          "ename": "InvalidArgumentError",
          "evalue": "Graph execution error:\n\nDetected at node sequential_27/dense_48/Relu defined at (most recent call last):\n  File \"<frozen runpy>\", line 198, in _run_module_as_main\n\n  File \"<frozen runpy>\", line 88, in _run_code\n\n  File \"/Users/steven/anaconda3/lib/python3.11/site-packages/ipykernel_launcher.py\", line 17, in <module>\n\n  File \"/Users/steven/anaconda3/lib/python3.11/site-packages/traitlets/config/application.py\", line 992, in launch_instance\n\n  File \"/Users/steven/anaconda3/lib/python3.11/site-packages/ipykernel/kernelapp.py\", line 736, in start\n\n  File \"/Users/steven/anaconda3/lib/python3.11/site-packages/tornado/platform/asyncio.py\", line 195, in start\n\n  File \"/Users/steven/anaconda3/lib/python3.11/asyncio/base_events.py\", line 607, in run_forever\n\n  File \"/Users/steven/anaconda3/lib/python3.11/asyncio/base_events.py\", line 1922, in _run_once\n\n  File \"/Users/steven/anaconda3/lib/python3.11/asyncio/events.py\", line 80, in _run\n\n  File \"/Users/steven/anaconda3/lib/python3.11/site-packages/ipykernel/kernelbase.py\", line 516, in dispatch_queue\n\n  File \"/Users/steven/anaconda3/lib/python3.11/site-packages/ipykernel/kernelbase.py\", line 505, in process_one\n\n  File \"/Users/steven/anaconda3/lib/python3.11/site-packages/ipykernel/kernelbase.py\", line 412, in dispatch_shell\n\n  File \"/Users/steven/anaconda3/lib/python3.11/site-packages/ipykernel/kernelbase.py\", line 740, in execute_request\n\n  File \"/Users/steven/anaconda3/lib/python3.11/site-packages/ipykernel/ipkernel.py\", line 422, in do_execute\n\n  File \"/Users/steven/anaconda3/lib/python3.11/site-packages/ipykernel/zmqshell.py\", line 546, in run_cell\n\n  File \"/Users/steven/anaconda3/lib/python3.11/site-packages/IPython/core/interactiveshell.py\", line 3024, in run_cell\n\n  File \"/Users/steven/anaconda3/lib/python3.11/site-packages/IPython/core/interactiveshell.py\", line 3079, in _run_cell\n\n  File \"/Users/steven/anaconda3/lib/python3.11/site-packages/IPython/core/async_helpers.py\", line 129, in _pseudo_sync_runner\n\n  File \"/Users/steven/anaconda3/lib/python3.11/site-packages/IPython/core/interactiveshell.py\", line 3284, in run_cell_async\n\n  File \"/Users/steven/anaconda3/lib/python3.11/site-packages/IPython/core/interactiveshell.py\", line 3466, in run_ast_nodes\n\n  File \"/Users/steven/anaconda3/lib/python3.11/site-packages/IPython/core/interactiveshell.py\", line 3526, in run_code\n\n  File \"/var/folders/9m/nss03pdx03z7tkhdk79ssfmw0000gn/T/ipykernel_76730/1519962912.py\", line 2, in <module>\n\n  File \"/Users/steven/anaconda3/lib/python3.11/site-packages/keras/src/utils/traceback_utils.py\", line 65, in error_handler\n\n  File \"/Users/steven/anaconda3/lib/python3.11/site-packages/keras/src/engine/training.py\", line 1807, in fit\n\n  File \"/Users/steven/anaconda3/lib/python3.11/site-packages/keras/src/engine/training.py\", line 1401, in train_function\n\n  File \"/Users/steven/anaconda3/lib/python3.11/site-packages/keras/src/engine/training.py\", line 1384, in step_function\n\n  File \"/Users/steven/anaconda3/lib/python3.11/site-packages/keras/src/engine/training.py\", line 1373, in run_step\n\n  File \"/Users/steven/anaconda3/lib/python3.11/site-packages/keras/src/engine/training.py\", line 1150, in train_step\n\n  File \"/Users/steven/anaconda3/lib/python3.11/site-packages/keras/src/utils/traceback_utils.py\", line 65, in error_handler\n\n  File \"/Users/steven/anaconda3/lib/python3.11/site-packages/keras/src/engine/training.py\", line 590, in __call__\n\n  File \"/Users/steven/anaconda3/lib/python3.11/site-packages/keras/src/utils/traceback_utils.py\", line 65, in error_handler\n\n  File \"/Users/steven/anaconda3/lib/python3.11/site-packages/keras/src/engine/base_layer.py\", line 1149, in __call__\n\n  File \"/Users/steven/anaconda3/lib/python3.11/site-packages/keras/src/utils/traceback_utils.py\", line 96, in error_handler\n\n  File \"/Users/steven/anaconda3/lib/python3.11/site-packages/keras/src/engine/sequential.py\", line 398, in call\n\n  File \"/Users/steven/anaconda3/lib/python3.11/site-packages/keras/src/engine/functional.py\", line 515, in call\n\n  File \"/Users/steven/anaconda3/lib/python3.11/site-packages/keras/src/engine/functional.py\", line 672, in _run_internal_graph\n\n  File \"/Users/steven/anaconda3/lib/python3.11/site-packages/keras/src/utils/traceback_utils.py\", line 65, in error_handler\n\n  File \"/Users/steven/anaconda3/lib/python3.11/site-packages/keras/src/engine/base_layer.py\", line 1149, in __call__\n\n  File \"/Users/steven/anaconda3/lib/python3.11/site-packages/keras/src/utils/traceback_utils.py\", line 96, in error_handler\n\n  File \"/Users/steven/anaconda3/lib/python3.11/site-packages/keras/src/layers/core/dense.py\", line 255, in call\n\n  File \"/Users/steven/anaconda3/lib/python3.11/site-packages/keras/src/activations.py\", line 306, in relu\n\n  File \"/Users/steven/anaconda3/lib/python3.11/site-packages/keras/src/backend.py\", line 5395, in relu\n\nMatrix size-incompatible: In[0]: [64,256], In[1]: [2304,512]\n\t [[{{node sequential_27/dense_48/Relu}}]] [Op:__inference_train_function_47431]",
          "output_type": "error",
          "traceback": [
            "\u001b[0;31m---------------------------------------------------------------------------\u001b[0m",
            "\u001b[0;31mInvalidArgumentError\u001b[0m                      Traceback (most recent call last)",
            "\u001b[1;32m/Users/steven/Documents/TSU/Lab_Neural_Net/GitHub/NeuralNetworkLab/Lab3/Lab3.ipynb Cell 14\u001b[0m line \u001b[0;36m2\n\u001b[1;32m      <a href='vscode-notebook-cell:/Users/steven/Documents/TSU/Lab_Neural_Net/GitHub/NeuralNetworkLab/Lab3/Lab3.ipynb#Y135sZmlsZQ%3D%3D?line=0'>1</a>\u001b[0m \u001b[39m# Train the model\u001b[39;00m\n\u001b[0;32m----> <a href='vscode-notebook-cell:/Users/steven/Documents/TSU/Lab_Neural_Net/GitHub/NeuralNetworkLab/Lab3/Lab3.ipynb#Y135sZmlsZQ%3D%3D?line=1'>2</a>\u001b[0m history \u001b[39m=\u001b[39m model\u001b[39m.\u001b[39mfit(\n\u001b[1;32m      <a href='vscode-notebook-cell:/Users/steven/Documents/TSU/Lab_Neural_Net/GitHub/NeuralNetworkLab/Lab3/Lab3.ipynb#Y135sZmlsZQ%3D%3D?line=2'>3</a>\u001b[0m     train_generator,\n\u001b[1;32m      <a href='vscode-notebook-cell:/Users/steven/Documents/TSU/Lab_Neural_Net/GitHub/NeuralNetworkLab/Lab3/Lab3.ipynb#Y135sZmlsZQ%3D%3D?line=3'>4</a>\u001b[0m     epochs\u001b[39m=\u001b[39m\u001b[39m5\u001b[39m,  \n\u001b[1;32m      <a href='vscode-notebook-cell:/Users/steven/Documents/TSU/Lab_Neural_Net/GitHub/NeuralNetworkLab/Lab3/Lab3.ipynb#Y135sZmlsZQ%3D%3D?line=4'>5</a>\u001b[0m     validation_data\u001b[39m=\u001b[39mvalidation_generator,\n\u001b[1;32m      <a href='vscode-notebook-cell:/Users/steven/Documents/TSU/Lab_Neural_Net/GitHub/NeuralNetworkLab/Lab3/Lab3.ipynb#Y135sZmlsZQ%3D%3D?line=5'>6</a>\u001b[0m     verbose\u001b[39m=\u001b[39m\u001b[39m1\u001b[39m\n\u001b[1;32m      <a href='vscode-notebook-cell:/Users/steven/Documents/TSU/Lab_Neural_Net/GitHub/NeuralNetworkLab/Lab3/Lab3.ipynb#Y135sZmlsZQ%3D%3D?line=6'>7</a>\u001b[0m )\n",
            "File \u001b[0;32m~/anaconda3/lib/python3.11/site-packages/keras/src/utils/traceback_utils.py:70\u001b[0m, in \u001b[0;36mfilter_traceback.<locals>.error_handler\u001b[0;34m(*args, **kwargs)\u001b[0m\n\u001b[1;32m     67\u001b[0m     filtered_tb \u001b[39m=\u001b[39m _process_traceback_frames(e\u001b[39m.\u001b[39m__traceback__)\n\u001b[1;32m     68\u001b[0m     \u001b[39m# To get the full stack trace, call:\u001b[39;00m\n\u001b[1;32m     69\u001b[0m     \u001b[39m# `tf.debugging.disable_traceback_filtering()`\u001b[39;00m\n\u001b[0;32m---> 70\u001b[0m     \u001b[39mraise\u001b[39;00m e\u001b[39m.\u001b[39mwith_traceback(filtered_tb) \u001b[39mfrom\u001b[39;00m \u001b[39mNone\u001b[39;00m\n\u001b[1;32m     71\u001b[0m \u001b[39mfinally\u001b[39;00m:\n\u001b[1;32m     72\u001b[0m     \u001b[39mdel\u001b[39;00m filtered_tb\n",
            "File \u001b[0;32m~/anaconda3/lib/python3.11/site-packages/tensorflow/python/eager/execute.py:53\u001b[0m, in \u001b[0;36mquick_execute\u001b[0;34m(op_name, num_outputs, inputs, attrs, ctx, name)\u001b[0m\n\u001b[1;32m     51\u001b[0m \u001b[39mtry\u001b[39;00m:\n\u001b[1;32m     52\u001b[0m   ctx\u001b[39m.\u001b[39mensure_initialized()\n\u001b[0;32m---> 53\u001b[0m   tensors \u001b[39m=\u001b[39m pywrap_tfe\u001b[39m.\u001b[39mTFE_Py_Execute(ctx\u001b[39m.\u001b[39m_handle, device_name, op_name,\n\u001b[1;32m     54\u001b[0m                                       inputs, attrs, num_outputs)\n\u001b[1;32m     55\u001b[0m \u001b[39mexcept\u001b[39;00m core\u001b[39m.\u001b[39m_NotOkStatusException \u001b[39mas\u001b[39;00m e:\n\u001b[1;32m     56\u001b[0m   \u001b[39mif\u001b[39;00m name \u001b[39mis\u001b[39;00m \u001b[39mnot\u001b[39;00m \u001b[39mNone\u001b[39;00m:\n",
            "\u001b[0;31mInvalidArgumentError\u001b[0m: Graph execution error:\n\nDetected at node sequential_27/dense_48/Relu defined at (most recent call last):\n  File \"<frozen runpy>\", line 198, in _run_module_as_main\n\n  File \"<frozen runpy>\", line 88, in _run_code\n\n  File \"/Users/steven/anaconda3/lib/python3.11/site-packages/ipykernel_launcher.py\", line 17, in <module>\n\n  File \"/Users/steven/anaconda3/lib/python3.11/site-packages/traitlets/config/application.py\", line 992, in launch_instance\n\n  File \"/Users/steven/anaconda3/lib/python3.11/site-packages/ipykernel/kernelapp.py\", line 736, in start\n\n  File \"/Users/steven/anaconda3/lib/python3.11/site-packages/tornado/platform/asyncio.py\", line 195, in start\n\n  File \"/Users/steven/anaconda3/lib/python3.11/asyncio/base_events.py\", line 607, in run_forever\n\n  File \"/Users/steven/anaconda3/lib/python3.11/asyncio/base_events.py\", line 1922, in _run_once\n\n  File \"/Users/steven/anaconda3/lib/python3.11/asyncio/events.py\", line 80, in _run\n\n  File \"/Users/steven/anaconda3/lib/python3.11/site-packages/ipykernel/kernelbase.py\", line 516, in dispatch_queue\n\n  File \"/Users/steven/anaconda3/lib/python3.11/site-packages/ipykernel/kernelbase.py\", line 505, in process_one\n\n  File \"/Users/steven/anaconda3/lib/python3.11/site-packages/ipykernel/kernelbase.py\", line 412, in dispatch_shell\n\n  File \"/Users/steven/anaconda3/lib/python3.11/site-packages/ipykernel/kernelbase.py\", line 740, in execute_request\n\n  File \"/Users/steven/anaconda3/lib/python3.11/site-packages/ipykernel/ipkernel.py\", line 422, in do_execute\n\n  File \"/Users/steven/anaconda3/lib/python3.11/site-packages/ipykernel/zmqshell.py\", line 546, in run_cell\n\n  File \"/Users/steven/anaconda3/lib/python3.11/site-packages/IPython/core/interactiveshell.py\", line 3024, in run_cell\n\n  File \"/Users/steven/anaconda3/lib/python3.11/site-packages/IPython/core/interactiveshell.py\", line 3079, in _run_cell\n\n  File \"/Users/steven/anaconda3/lib/python3.11/site-packages/IPython/core/async_helpers.py\", line 129, in _pseudo_sync_runner\n\n  File \"/Users/steven/anaconda3/lib/python3.11/site-packages/IPython/core/interactiveshell.py\", line 3284, in run_cell_async\n\n  File \"/Users/steven/anaconda3/lib/python3.11/site-packages/IPython/core/interactiveshell.py\", line 3466, in run_ast_nodes\n\n  File \"/Users/steven/anaconda3/lib/python3.11/site-packages/IPython/core/interactiveshell.py\", line 3526, in run_code\n\n  File \"/var/folders/9m/nss03pdx03z7tkhdk79ssfmw0000gn/T/ipykernel_76730/1519962912.py\", line 2, in <module>\n\n  File \"/Users/steven/anaconda3/lib/python3.11/site-packages/keras/src/utils/traceback_utils.py\", line 65, in error_handler\n\n  File \"/Users/steven/anaconda3/lib/python3.11/site-packages/keras/src/engine/training.py\", line 1807, in fit\n\n  File \"/Users/steven/anaconda3/lib/python3.11/site-packages/keras/src/engine/training.py\", line 1401, in train_function\n\n  File \"/Users/steven/anaconda3/lib/python3.11/site-packages/keras/src/engine/training.py\", line 1384, in step_function\n\n  File \"/Users/steven/anaconda3/lib/python3.11/site-packages/keras/src/engine/training.py\", line 1373, in run_step\n\n  File \"/Users/steven/anaconda3/lib/python3.11/site-packages/keras/src/engine/training.py\", line 1150, in train_step\n\n  File \"/Users/steven/anaconda3/lib/python3.11/site-packages/keras/src/utils/traceback_utils.py\", line 65, in error_handler\n\n  File \"/Users/steven/anaconda3/lib/python3.11/site-packages/keras/src/engine/training.py\", line 590, in __call__\n\n  File \"/Users/steven/anaconda3/lib/python3.11/site-packages/keras/src/utils/traceback_utils.py\", line 65, in error_handler\n\n  File \"/Users/steven/anaconda3/lib/python3.11/site-packages/keras/src/engine/base_layer.py\", line 1149, in __call__\n\n  File \"/Users/steven/anaconda3/lib/python3.11/site-packages/keras/src/utils/traceback_utils.py\", line 96, in error_handler\n\n  File \"/Users/steven/anaconda3/lib/python3.11/site-packages/keras/src/engine/sequential.py\", line 398, in call\n\n  File \"/Users/steven/anaconda3/lib/python3.11/site-packages/keras/src/engine/functional.py\", line 515, in call\n\n  File \"/Users/steven/anaconda3/lib/python3.11/site-packages/keras/src/engine/functional.py\", line 672, in _run_internal_graph\n\n  File \"/Users/steven/anaconda3/lib/python3.11/site-packages/keras/src/utils/traceback_utils.py\", line 65, in error_handler\n\n  File \"/Users/steven/anaconda3/lib/python3.11/site-packages/keras/src/engine/base_layer.py\", line 1149, in __call__\n\n  File \"/Users/steven/anaconda3/lib/python3.11/site-packages/keras/src/utils/traceback_utils.py\", line 96, in error_handler\n\n  File \"/Users/steven/anaconda3/lib/python3.11/site-packages/keras/src/layers/core/dense.py\", line 255, in call\n\n  File \"/Users/steven/anaconda3/lib/python3.11/site-packages/keras/src/activations.py\", line 306, in relu\n\n  File \"/Users/steven/anaconda3/lib/python3.11/site-packages/keras/src/backend.py\", line 5395, in relu\n\nMatrix size-incompatible: In[0]: [64,256], In[1]: [2304,512]\n\t [[{{node sequential_27/dense_48/Relu}}]] [Op:__inference_train_function_47431]"
          ]
        }
      ],
      "source": [
        "# Train the model\n",
        "history = model.fit(\n",
        "    train_generator,\n",
        "    epochs=5,  \n",
        "    validation_data=validation_generator,\n",
        "    verbose=1\n",
        ")"
      ]
    }
  ],
  "metadata": {
    "colab": {
      "provenance": []
    },
    "kernelspec": {
      "display_name": "Python 3",
      "name": "python3"
    },
    "language_info": {
      "codemirror_mode": {
        "name": "ipython",
        "version": 3
      },
      "file_extension": ".py",
      "mimetype": "text/x-python",
      "name": "python",
      "nbconvert_exporter": "python",
      "pygments_lexer": "ipython3",
      "version": "3.11.5"
    }
  },
  "nbformat": 4,
  "nbformat_minor": 0
}
