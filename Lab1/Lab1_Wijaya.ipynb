{
  "nbformat": 4,
  "nbformat_minor": 0,
  "metadata": {
    "colab": {
      "provenance": [],
      "toc_visible": true
    },
    "kernelspec": {
      "name": "python3",
      "display_name": "Python 3"
    },
    "language_info": {
      "name": "python"
    }
  },
  "cells": [
    {
      "cell_type": "code",
      "source": [
        "from google.colab import drive\n",
        "drive.mount('/content/gdrive')"
      ],
      "metadata": {
        "colab": {
          "base_uri": "https://localhost:8080/"
        },
        "id": "lKokEXSzS5OG",
        "outputId": "7516c135-aa07-430e-f002-10739d2d136c"
      },
      "execution_count": 1,
      "outputs": [
        {
          "output_type": "stream",
          "name": "stdout",
          "text": [
            "Drive already mounted at /content/gdrive; to attempt to forcibly remount, call drive.mount(\"/content/gdrive\", force_remount=True).\n"
          ]
        }
      ]
    },
    {
      "cell_type": "code",
      "source": [
        "!pip uninstall scikit-learn -y\n",
        "\n",
        "!pip install -U scikit-learn"
      ],
      "metadata": {
        "colab": {
          "base_uri": "https://localhost:8080/"
        },
        "id": "sae9hHDJQX8s",
        "outputId": "d4a3a6c7-32d7-45a5-ff5f-b6384a74b3f1"
      },
      "execution_count": 2,
      "outputs": [
        {
          "output_type": "stream",
          "name": "stdout",
          "text": [
            "Found existing installation: scikit-learn 1.3.2\n",
            "Uninstalling scikit-learn-1.3.2:\n",
            "  Successfully uninstalled scikit-learn-1.3.2\n",
            "Collecting scikit-learn\n",
            "  Using cached scikit_learn-1.3.2-cp310-cp310-manylinux_2_17_x86_64.manylinux2014_x86_64.whl (10.8 MB)\n",
            "Requirement already satisfied: numpy<2.0,>=1.17.3 in /usr/local/lib/python3.10/dist-packages (from scikit-learn) (1.23.5)\n",
            "Requirement already satisfied: scipy>=1.5.0 in /usr/local/lib/python3.10/dist-packages (from scikit-learn) (1.11.3)\n",
            "Requirement already satisfied: joblib>=1.1.1 in /usr/local/lib/python3.10/dist-packages (from scikit-learn) (1.3.2)\n",
            "Requirement already satisfied: threadpoolctl>=2.0.0 in /usr/local/lib/python3.10/dist-packages (from scikit-learn) (3.2.0)\n",
            "Installing collected packages: scikit-learn\n",
            "Successfully installed scikit-learn-1.3.2\n"
          ]
        }
      ]
    },
    {
      "cell_type": "code",
      "source": [
        "import sklearn\n",
        "sklearn.__version__"
      ],
      "metadata": {
        "colab": {
          "base_uri": "https://localhost:8080/",
          "height": 35
        },
        "id": "cZWANrIMQVV0",
        "outputId": "d463625e-4cf4-43c9-f3ab-b90a9e687130"
      },
      "execution_count": 3,
      "outputs": [
        {
          "output_type": "execute_result",
          "data": {
            "text/plain": [
              "'1.3.2'"
            ],
            "application/vnd.google.colaboratory.intrinsic+json": {
              "type": "string"
            }
          },
          "metadata": {},
          "execution_count": 3
        }
      ]
    },
    {
      "cell_type": "code",
      "execution_count": 4,
      "metadata": {
        "id": "3BV5j3DxSzGl"
      },
      "outputs": [],
      "source": [
        "import numpy as np\n",
        "import pandas as pd\n",
        "import tensorflow as tf\n",
        "import matplotlib.pyplot as plt\n",
        "from sklearn.svm import SVC\n",
        "from sklearn.tree import DecisionTreeClassifier\n",
        "from tensorflow.keras.utils import to_categorical\n",
        "from sklearn.ensemble import RandomForestClassifier\n",
        "from sklearn.linear_model import LogisticRegression\n",
        "from sklearn.model_selection import train_test_split\n",
        "from sklearn.preprocessing import LabelBinarizer, LabelEncoder, StandardScaler\n",
        "from sklearn.metrics import accuracy_score, precision_score, recall_score, roc_auc_score, RocCurveDisplay, mean_squared_error, mean_absolute_error, r2_score"
      ]
    },
    {
      "cell_type": "markdown",
      "source": [
        "# Загружаем все файлы с данными"
      ],
      "metadata": {
        "id": "afxT089-l_f-"
      }
    },
    {
      "cell_type": "code",
      "source": [
        "file1_name = \"/content/gdrive/MyDrive/TSU/Lab_Neural_Network/Lab1/bank.csv\"\n",
        "file2_name = \"/content/gdrive/MyDrive/TSU/Lab_Neural_Network/Lab1/fetal_health.csv\"\n",
        "file3_name = \"/content/gdrive/MyDrive/TSU/Lab_Neural_Network/Lab1/DS_2019.csv\""
      ],
      "metadata": {
        "id": "pWFvACFQjThy"
      },
      "execution_count": 5,
      "outputs": []
    },
    {
      "cell_type": "markdown",
      "source": [
        "# Бинарный классификатор"
      ],
      "metadata": {
        "id": "MbUa1NlcjZBV"
      }
    },
    {
      "cell_type": "code",
      "source": [
        "data1 = pd.read_csv(file1_name, sep=';')\n",
        "data1.head(10)"
      ],
      "metadata": {
        "colab": {
          "base_uri": "https://localhost:8080/",
          "height": 363
        },
        "id": "zfnnuyLFmEDg",
        "outputId": "fef0101a-d5d4-44f1-ab7a-bc113384dbce"
      },
      "execution_count": null,
      "outputs": [
        {
          "output_type": "execute_result",
          "data": {
            "text/plain": [
              "   age            job  marital  education default  balance housing loan  \\\n",
              "0   30     unemployed  married    primary      no     1787      no   no   \n",
              "1   33       services  married  secondary      no     4789     yes  yes   \n",
              "2   35     management   single   tertiary      no     1350     yes   no   \n",
              "3   30     management  married   tertiary      no     1476     yes  yes   \n",
              "4   59    blue-collar  married  secondary      no        0     yes   no   \n",
              "5   35     management   single   tertiary      no      747      no   no   \n",
              "6   36  self-employed  married   tertiary      no      307     yes   no   \n",
              "7   39     technician  married  secondary      no      147     yes   no   \n",
              "8   41   entrepreneur  married   tertiary      no      221     yes   no   \n",
              "9   43       services  married    primary      no      -88     yes  yes   \n",
              "\n",
              "    contact  day month  duration  campaign  pdays  previous poutcome   y  \n",
              "0  cellular   19   oct        79         1     -1         0  unknown  no  \n",
              "1  cellular   11   may       220         1    339         4  failure  no  \n",
              "2  cellular   16   apr       185         1    330         1  failure  no  \n",
              "3   unknown    3   jun       199         4     -1         0  unknown  no  \n",
              "4   unknown    5   may       226         1     -1         0  unknown  no  \n",
              "5  cellular   23   feb       141         2    176         3  failure  no  \n",
              "6  cellular   14   may       341         1    330         2    other  no  \n",
              "7  cellular    6   may       151         2     -1         0  unknown  no  \n",
              "8   unknown   14   may        57         2     -1         0  unknown  no  \n",
              "9  cellular   17   apr       313         1    147         2  failure  no  "
            ],
            "text/html": [
              "\n",
              "  <div id=\"df-5d64ff41-3259-46f4-8a37-15c9b4adadcb\" class=\"colab-df-container\">\n",
              "    <div>\n",
              "<style scoped>\n",
              "    .dataframe tbody tr th:only-of-type {\n",
              "        vertical-align: middle;\n",
              "    }\n",
              "\n",
              "    .dataframe tbody tr th {\n",
              "        vertical-align: top;\n",
              "    }\n",
              "\n",
              "    .dataframe thead th {\n",
              "        text-align: right;\n",
              "    }\n",
              "</style>\n",
              "<table border=\"1\" class=\"dataframe\">\n",
              "  <thead>\n",
              "    <tr style=\"text-align: right;\">\n",
              "      <th></th>\n",
              "      <th>age</th>\n",
              "      <th>job</th>\n",
              "      <th>marital</th>\n",
              "      <th>education</th>\n",
              "      <th>default</th>\n",
              "      <th>balance</th>\n",
              "      <th>housing</th>\n",
              "      <th>loan</th>\n",
              "      <th>contact</th>\n",
              "      <th>day</th>\n",
              "      <th>month</th>\n",
              "      <th>duration</th>\n",
              "      <th>campaign</th>\n",
              "      <th>pdays</th>\n",
              "      <th>previous</th>\n",
              "      <th>poutcome</th>\n",
              "      <th>y</th>\n",
              "    </tr>\n",
              "  </thead>\n",
              "  <tbody>\n",
              "    <tr>\n",
              "      <th>0</th>\n",
              "      <td>30</td>\n",
              "      <td>unemployed</td>\n",
              "      <td>married</td>\n",
              "      <td>primary</td>\n",
              "      <td>no</td>\n",
              "      <td>1787</td>\n",
              "      <td>no</td>\n",
              "      <td>no</td>\n",
              "      <td>cellular</td>\n",
              "      <td>19</td>\n",
              "      <td>oct</td>\n",
              "      <td>79</td>\n",
              "      <td>1</td>\n",
              "      <td>-1</td>\n",
              "      <td>0</td>\n",
              "      <td>unknown</td>\n",
              "      <td>no</td>\n",
              "    </tr>\n",
              "    <tr>\n",
              "      <th>1</th>\n",
              "      <td>33</td>\n",
              "      <td>services</td>\n",
              "      <td>married</td>\n",
              "      <td>secondary</td>\n",
              "      <td>no</td>\n",
              "      <td>4789</td>\n",
              "      <td>yes</td>\n",
              "      <td>yes</td>\n",
              "      <td>cellular</td>\n",
              "      <td>11</td>\n",
              "      <td>may</td>\n",
              "      <td>220</td>\n",
              "      <td>1</td>\n",
              "      <td>339</td>\n",
              "      <td>4</td>\n",
              "      <td>failure</td>\n",
              "      <td>no</td>\n",
              "    </tr>\n",
              "    <tr>\n",
              "      <th>2</th>\n",
              "      <td>35</td>\n",
              "      <td>management</td>\n",
              "      <td>single</td>\n",
              "      <td>tertiary</td>\n",
              "      <td>no</td>\n",
              "      <td>1350</td>\n",
              "      <td>yes</td>\n",
              "      <td>no</td>\n",
              "      <td>cellular</td>\n",
              "      <td>16</td>\n",
              "      <td>apr</td>\n",
              "      <td>185</td>\n",
              "      <td>1</td>\n",
              "      <td>330</td>\n",
              "      <td>1</td>\n",
              "      <td>failure</td>\n",
              "      <td>no</td>\n",
              "    </tr>\n",
              "    <tr>\n",
              "      <th>3</th>\n",
              "      <td>30</td>\n",
              "      <td>management</td>\n",
              "      <td>married</td>\n",
              "      <td>tertiary</td>\n",
              "      <td>no</td>\n",
              "      <td>1476</td>\n",
              "      <td>yes</td>\n",
              "      <td>yes</td>\n",
              "      <td>unknown</td>\n",
              "      <td>3</td>\n",
              "      <td>jun</td>\n",
              "      <td>199</td>\n",
              "      <td>4</td>\n",
              "      <td>-1</td>\n",
              "      <td>0</td>\n",
              "      <td>unknown</td>\n",
              "      <td>no</td>\n",
              "    </tr>\n",
              "    <tr>\n",
              "      <th>4</th>\n",
              "      <td>59</td>\n",
              "      <td>blue-collar</td>\n",
              "      <td>married</td>\n",
              "      <td>secondary</td>\n",
              "      <td>no</td>\n",
              "      <td>0</td>\n",
              "      <td>yes</td>\n",
              "      <td>no</td>\n",
              "      <td>unknown</td>\n",
              "      <td>5</td>\n",
              "      <td>may</td>\n",
              "      <td>226</td>\n",
              "      <td>1</td>\n",
              "      <td>-1</td>\n",
              "      <td>0</td>\n",
              "      <td>unknown</td>\n",
              "      <td>no</td>\n",
              "    </tr>\n",
              "    <tr>\n",
              "      <th>5</th>\n",
              "      <td>35</td>\n",
              "      <td>management</td>\n",
              "      <td>single</td>\n",
              "      <td>tertiary</td>\n",
              "      <td>no</td>\n",
              "      <td>747</td>\n",
              "      <td>no</td>\n",
              "      <td>no</td>\n",
              "      <td>cellular</td>\n",
              "      <td>23</td>\n",
              "      <td>feb</td>\n",
              "      <td>141</td>\n",
              "      <td>2</td>\n",
              "      <td>176</td>\n",
              "      <td>3</td>\n",
              "      <td>failure</td>\n",
              "      <td>no</td>\n",
              "    </tr>\n",
              "    <tr>\n",
              "      <th>6</th>\n",
              "      <td>36</td>\n",
              "      <td>self-employed</td>\n",
              "      <td>married</td>\n",
              "      <td>tertiary</td>\n",
              "      <td>no</td>\n",
              "      <td>307</td>\n",
              "      <td>yes</td>\n",
              "      <td>no</td>\n",
              "      <td>cellular</td>\n",
              "      <td>14</td>\n",
              "      <td>may</td>\n",
              "      <td>341</td>\n",
              "      <td>1</td>\n",
              "      <td>330</td>\n",
              "      <td>2</td>\n",
              "      <td>other</td>\n",
              "      <td>no</td>\n",
              "    </tr>\n",
              "    <tr>\n",
              "      <th>7</th>\n",
              "      <td>39</td>\n",
              "      <td>technician</td>\n",
              "      <td>married</td>\n",
              "      <td>secondary</td>\n",
              "      <td>no</td>\n",
              "      <td>147</td>\n",
              "      <td>yes</td>\n",
              "      <td>no</td>\n",
              "      <td>cellular</td>\n",
              "      <td>6</td>\n",
              "      <td>may</td>\n",
              "      <td>151</td>\n",
              "      <td>2</td>\n",
              "      <td>-1</td>\n",
              "      <td>0</td>\n",
              "      <td>unknown</td>\n",
              "      <td>no</td>\n",
              "    </tr>\n",
              "    <tr>\n",
              "      <th>8</th>\n",
              "      <td>41</td>\n",
              "      <td>entrepreneur</td>\n",
              "      <td>married</td>\n",
              "      <td>tertiary</td>\n",
              "      <td>no</td>\n",
              "      <td>221</td>\n",
              "      <td>yes</td>\n",
              "      <td>no</td>\n",
              "      <td>unknown</td>\n",
              "      <td>14</td>\n",
              "      <td>may</td>\n",
              "      <td>57</td>\n",
              "      <td>2</td>\n",
              "      <td>-1</td>\n",
              "      <td>0</td>\n",
              "      <td>unknown</td>\n",
              "      <td>no</td>\n",
              "    </tr>\n",
              "    <tr>\n",
              "      <th>9</th>\n",
              "      <td>43</td>\n",
              "      <td>services</td>\n",
              "      <td>married</td>\n",
              "      <td>primary</td>\n",
              "      <td>no</td>\n",
              "      <td>-88</td>\n",
              "      <td>yes</td>\n",
              "      <td>yes</td>\n",
              "      <td>cellular</td>\n",
              "      <td>17</td>\n",
              "      <td>apr</td>\n",
              "      <td>313</td>\n",
              "      <td>1</td>\n",
              "      <td>147</td>\n",
              "      <td>2</td>\n",
              "      <td>failure</td>\n",
              "      <td>no</td>\n",
              "    </tr>\n",
              "  </tbody>\n",
              "</table>\n",
              "</div>\n",
              "    <div class=\"colab-df-buttons\">\n",
              "\n",
              "  <div class=\"colab-df-container\">\n",
              "    <button class=\"colab-df-convert\" onclick=\"convertToInteractive('df-5d64ff41-3259-46f4-8a37-15c9b4adadcb')\"\n",
              "            title=\"Convert this dataframe to an interactive table.\"\n",
              "            style=\"display:none;\">\n",
              "\n",
              "  <svg xmlns=\"http://www.w3.org/2000/svg\" height=\"24px\" viewBox=\"0 -960 960 960\">\n",
              "    <path d=\"M120-120v-720h720v720H120Zm60-500h600v-160H180v160Zm220 220h160v-160H400v160Zm0 220h160v-160H400v160ZM180-400h160v-160H180v160Zm440 0h160v-160H620v160ZM180-180h160v-160H180v160Zm440 0h160v-160H620v160Z\"/>\n",
              "  </svg>\n",
              "    </button>\n",
              "\n",
              "  <style>\n",
              "    .colab-df-container {\n",
              "      display:flex;\n",
              "      gap: 12px;\n",
              "    }\n",
              "\n",
              "    .colab-df-convert {\n",
              "      background-color: #E8F0FE;\n",
              "      border: none;\n",
              "      border-radius: 50%;\n",
              "      cursor: pointer;\n",
              "      display: none;\n",
              "      fill: #1967D2;\n",
              "      height: 32px;\n",
              "      padding: 0 0 0 0;\n",
              "      width: 32px;\n",
              "    }\n",
              "\n",
              "    .colab-df-convert:hover {\n",
              "      background-color: #E2EBFA;\n",
              "      box-shadow: 0px 1px 2px rgba(60, 64, 67, 0.3), 0px 1px 3px 1px rgba(60, 64, 67, 0.15);\n",
              "      fill: #174EA6;\n",
              "    }\n",
              "\n",
              "    .colab-df-buttons div {\n",
              "      margin-bottom: 4px;\n",
              "    }\n",
              "\n",
              "    [theme=dark] .colab-df-convert {\n",
              "      background-color: #3B4455;\n",
              "      fill: #D2E3FC;\n",
              "    }\n",
              "\n",
              "    [theme=dark] .colab-df-convert:hover {\n",
              "      background-color: #434B5C;\n",
              "      box-shadow: 0px 1px 3px 1px rgba(0, 0, 0, 0.15);\n",
              "      filter: drop-shadow(0px 1px 2px rgba(0, 0, 0, 0.3));\n",
              "      fill: #FFFFFF;\n",
              "    }\n",
              "  </style>\n",
              "\n",
              "    <script>\n",
              "      const buttonEl =\n",
              "        document.querySelector('#df-5d64ff41-3259-46f4-8a37-15c9b4adadcb button.colab-df-convert');\n",
              "      buttonEl.style.display =\n",
              "        google.colab.kernel.accessAllowed ? 'block' : 'none';\n",
              "\n",
              "      async function convertToInteractive(key) {\n",
              "        const element = document.querySelector('#df-5d64ff41-3259-46f4-8a37-15c9b4adadcb');\n",
              "        const dataTable =\n",
              "          await google.colab.kernel.invokeFunction('convertToInteractive',\n",
              "                                                    [key], {});\n",
              "        if (!dataTable) return;\n",
              "\n",
              "        const docLinkHtml = 'Like what you see? Visit the ' +\n",
              "          '<a target=\"_blank\" href=https://colab.research.google.com/notebooks/data_table.ipynb>data table notebook</a>'\n",
              "          + ' to learn more about interactive tables.';\n",
              "        element.innerHTML = '';\n",
              "        dataTable['output_type'] = 'display_data';\n",
              "        await google.colab.output.renderOutput(dataTable, element);\n",
              "        const docLink = document.createElement('div');\n",
              "        docLink.innerHTML = docLinkHtml;\n",
              "        element.appendChild(docLink);\n",
              "      }\n",
              "    </script>\n",
              "  </div>\n",
              "\n",
              "\n",
              "<div id=\"df-8aeeb71e-75e4-4c28-8188-3c1c4e20f6fc\">\n",
              "  <button class=\"colab-df-quickchart\" onclick=\"quickchart('df-8aeeb71e-75e4-4c28-8188-3c1c4e20f6fc')\"\n",
              "            title=\"Suggest charts.\"\n",
              "            style=\"display:none;\">\n",
              "\n",
              "<svg xmlns=\"http://www.w3.org/2000/svg\" height=\"24px\"viewBox=\"0 0 24 24\"\n",
              "     width=\"24px\">\n",
              "    <g>\n",
              "        <path d=\"M19 3H5c-1.1 0-2 .9-2 2v14c0 1.1.9 2 2 2h14c1.1 0 2-.9 2-2V5c0-1.1-.9-2-2-2zM9 17H7v-7h2v7zm4 0h-2V7h2v10zm4 0h-2v-4h2v4z\"/>\n",
              "    </g>\n",
              "</svg>\n",
              "  </button>\n",
              "\n",
              "<style>\n",
              "  .colab-df-quickchart {\n",
              "      --bg-color: #E8F0FE;\n",
              "      --fill-color: #1967D2;\n",
              "      --hover-bg-color: #E2EBFA;\n",
              "      --hover-fill-color: #174EA6;\n",
              "      --disabled-fill-color: #AAA;\n",
              "      --disabled-bg-color: #DDD;\n",
              "  }\n",
              "\n",
              "  [theme=dark] .colab-df-quickchart {\n",
              "      --bg-color: #3B4455;\n",
              "      --fill-color: #D2E3FC;\n",
              "      --hover-bg-color: #434B5C;\n",
              "      --hover-fill-color: #FFFFFF;\n",
              "      --disabled-bg-color: #3B4455;\n",
              "      --disabled-fill-color: #666;\n",
              "  }\n",
              "\n",
              "  .colab-df-quickchart {\n",
              "    background-color: var(--bg-color);\n",
              "    border: none;\n",
              "    border-radius: 50%;\n",
              "    cursor: pointer;\n",
              "    display: none;\n",
              "    fill: var(--fill-color);\n",
              "    height: 32px;\n",
              "    padding: 0;\n",
              "    width: 32px;\n",
              "  }\n",
              "\n",
              "  .colab-df-quickchart:hover {\n",
              "    background-color: var(--hover-bg-color);\n",
              "    box-shadow: 0 1px 2px rgba(60, 64, 67, 0.3), 0 1px 3px 1px rgba(60, 64, 67, 0.15);\n",
              "    fill: var(--button-hover-fill-color);\n",
              "  }\n",
              "\n",
              "  .colab-df-quickchart-complete:disabled,\n",
              "  .colab-df-quickchart-complete:disabled:hover {\n",
              "    background-color: var(--disabled-bg-color);\n",
              "    fill: var(--disabled-fill-color);\n",
              "    box-shadow: none;\n",
              "  }\n",
              "\n",
              "  .colab-df-spinner {\n",
              "    border: 2px solid var(--fill-color);\n",
              "    border-color: transparent;\n",
              "    border-bottom-color: var(--fill-color);\n",
              "    animation:\n",
              "      spin 1s steps(1) infinite;\n",
              "  }\n",
              "\n",
              "  @keyframes spin {\n",
              "    0% {\n",
              "      border-color: transparent;\n",
              "      border-bottom-color: var(--fill-color);\n",
              "      border-left-color: var(--fill-color);\n",
              "    }\n",
              "    20% {\n",
              "      border-color: transparent;\n",
              "      border-left-color: var(--fill-color);\n",
              "      border-top-color: var(--fill-color);\n",
              "    }\n",
              "    30% {\n",
              "      border-color: transparent;\n",
              "      border-left-color: var(--fill-color);\n",
              "      border-top-color: var(--fill-color);\n",
              "      border-right-color: var(--fill-color);\n",
              "    }\n",
              "    40% {\n",
              "      border-color: transparent;\n",
              "      border-right-color: var(--fill-color);\n",
              "      border-top-color: var(--fill-color);\n",
              "    }\n",
              "    60% {\n",
              "      border-color: transparent;\n",
              "      border-right-color: var(--fill-color);\n",
              "    }\n",
              "    80% {\n",
              "      border-color: transparent;\n",
              "      border-right-color: var(--fill-color);\n",
              "      border-bottom-color: var(--fill-color);\n",
              "    }\n",
              "    90% {\n",
              "      border-color: transparent;\n",
              "      border-bottom-color: var(--fill-color);\n",
              "    }\n",
              "  }\n",
              "</style>\n",
              "\n",
              "  <script>\n",
              "    async function quickchart(key) {\n",
              "      const quickchartButtonEl =\n",
              "        document.querySelector('#' + key + ' button');\n",
              "      quickchartButtonEl.disabled = true;  // To prevent multiple clicks.\n",
              "      quickchartButtonEl.classList.add('colab-df-spinner');\n",
              "      try {\n",
              "        const charts = await google.colab.kernel.invokeFunction(\n",
              "            'suggestCharts', [key], {});\n",
              "      } catch (error) {\n",
              "        console.error('Error during call to suggestCharts:', error);\n",
              "      }\n",
              "      quickchartButtonEl.classList.remove('colab-df-spinner');\n",
              "      quickchartButtonEl.classList.add('colab-df-quickchart-complete');\n",
              "    }\n",
              "    (() => {\n",
              "      let quickchartButtonEl =\n",
              "        document.querySelector('#df-8aeeb71e-75e4-4c28-8188-3c1c4e20f6fc button');\n",
              "      quickchartButtonEl.style.display =\n",
              "        google.colab.kernel.accessAllowed ? 'block' : 'none';\n",
              "    })();\n",
              "  </script>\n",
              "</div>\n",
              "    </div>\n",
              "  </div>\n"
            ]
          },
          "metadata": {},
          "execution_count": 4
        }
      ]
    },
    {
      "cell_type": "code",
      "source": [
        "data1.describe()"
      ],
      "metadata": {
        "colab": {
          "base_uri": "https://localhost:8080/",
          "height": 300
        },
        "id": "zaf54N07mXKk",
        "outputId": "fe80a566-b728-4c1f-da6a-86963135c899"
      },
      "execution_count": null,
      "outputs": [
        {
          "output_type": "execute_result",
          "data": {
            "text/plain": [
              "               age       balance          day     duration     campaign  \\\n",
              "count  4521.000000   4521.000000  4521.000000  4521.000000  4521.000000   \n",
              "mean     41.170095   1422.657819    15.915284   263.961292     2.793630   \n",
              "std      10.576211   3009.638142     8.247667   259.856633     3.109807   \n",
              "min      19.000000  -3313.000000     1.000000     4.000000     1.000000   \n",
              "25%      33.000000     69.000000     9.000000   104.000000     1.000000   \n",
              "50%      39.000000    444.000000    16.000000   185.000000     2.000000   \n",
              "75%      49.000000   1480.000000    21.000000   329.000000     3.000000   \n",
              "max      87.000000  71188.000000    31.000000  3025.000000    50.000000   \n",
              "\n",
              "             pdays     previous  \n",
              "count  4521.000000  4521.000000  \n",
              "mean     39.766645     0.542579  \n",
              "std     100.121124     1.693562  \n",
              "min      -1.000000     0.000000  \n",
              "25%      -1.000000     0.000000  \n",
              "50%      -1.000000     0.000000  \n",
              "75%      -1.000000     0.000000  \n",
              "max     871.000000    25.000000  "
            ],
            "text/html": [
              "\n",
              "  <div id=\"df-c7cf0bda-9281-4636-84f7-d99e47cef99b\" class=\"colab-df-container\">\n",
              "    <div>\n",
              "<style scoped>\n",
              "    .dataframe tbody tr th:only-of-type {\n",
              "        vertical-align: middle;\n",
              "    }\n",
              "\n",
              "    .dataframe tbody tr th {\n",
              "        vertical-align: top;\n",
              "    }\n",
              "\n",
              "    .dataframe thead th {\n",
              "        text-align: right;\n",
              "    }\n",
              "</style>\n",
              "<table border=\"1\" class=\"dataframe\">\n",
              "  <thead>\n",
              "    <tr style=\"text-align: right;\">\n",
              "      <th></th>\n",
              "      <th>age</th>\n",
              "      <th>balance</th>\n",
              "      <th>day</th>\n",
              "      <th>duration</th>\n",
              "      <th>campaign</th>\n",
              "      <th>pdays</th>\n",
              "      <th>previous</th>\n",
              "    </tr>\n",
              "  </thead>\n",
              "  <tbody>\n",
              "    <tr>\n",
              "      <th>count</th>\n",
              "      <td>4521.000000</td>\n",
              "      <td>4521.000000</td>\n",
              "      <td>4521.000000</td>\n",
              "      <td>4521.000000</td>\n",
              "      <td>4521.000000</td>\n",
              "      <td>4521.000000</td>\n",
              "      <td>4521.000000</td>\n",
              "    </tr>\n",
              "    <tr>\n",
              "      <th>mean</th>\n",
              "      <td>41.170095</td>\n",
              "      <td>1422.657819</td>\n",
              "      <td>15.915284</td>\n",
              "      <td>263.961292</td>\n",
              "      <td>2.793630</td>\n",
              "      <td>39.766645</td>\n",
              "      <td>0.542579</td>\n",
              "    </tr>\n",
              "    <tr>\n",
              "      <th>std</th>\n",
              "      <td>10.576211</td>\n",
              "      <td>3009.638142</td>\n",
              "      <td>8.247667</td>\n",
              "      <td>259.856633</td>\n",
              "      <td>3.109807</td>\n",
              "      <td>100.121124</td>\n",
              "      <td>1.693562</td>\n",
              "    </tr>\n",
              "    <tr>\n",
              "      <th>min</th>\n",
              "      <td>19.000000</td>\n",
              "      <td>-3313.000000</td>\n",
              "      <td>1.000000</td>\n",
              "      <td>4.000000</td>\n",
              "      <td>1.000000</td>\n",
              "      <td>-1.000000</td>\n",
              "      <td>0.000000</td>\n",
              "    </tr>\n",
              "    <tr>\n",
              "      <th>25%</th>\n",
              "      <td>33.000000</td>\n",
              "      <td>69.000000</td>\n",
              "      <td>9.000000</td>\n",
              "      <td>104.000000</td>\n",
              "      <td>1.000000</td>\n",
              "      <td>-1.000000</td>\n",
              "      <td>0.000000</td>\n",
              "    </tr>\n",
              "    <tr>\n",
              "      <th>50%</th>\n",
              "      <td>39.000000</td>\n",
              "      <td>444.000000</td>\n",
              "      <td>16.000000</td>\n",
              "      <td>185.000000</td>\n",
              "      <td>2.000000</td>\n",
              "      <td>-1.000000</td>\n",
              "      <td>0.000000</td>\n",
              "    </tr>\n",
              "    <tr>\n",
              "      <th>75%</th>\n",
              "      <td>49.000000</td>\n",
              "      <td>1480.000000</td>\n",
              "      <td>21.000000</td>\n",
              "      <td>329.000000</td>\n",
              "      <td>3.000000</td>\n",
              "      <td>-1.000000</td>\n",
              "      <td>0.000000</td>\n",
              "    </tr>\n",
              "    <tr>\n",
              "      <th>max</th>\n",
              "      <td>87.000000</td>\n",
              "      <td>71188.000000</td>\n",
              "      <td>31.000000</td>\n",
              "      <td>3025.000000</td>\n",
              "      <td>50.000000</td>\n",
              "      <td>871.000000</td>\n",
              "      <td>25.000000</td>\n",
              "    </tr>\n",
              "  </tbody>\n",
              "</table>\n",
              "</div>\n",
              "    <div class=\"colab-df-buttons\">\n",
              "\n",
              "  <div class=\"colab-df-container\">\n",
              "    <button class=\"colab-df-convert\" onclick=\"convertToInteractive('df-c7cf0bda-9281-4636-84f7-d99e47cef99b')\"\n",
              "            title=\"Convert this dataframe to an interactive table.\"\n",
              "            style=\"display:none;\">\n",
              "\n",
              "  <svg xmlns=\"http://www.w3.org/2000/svg\" height=\"24px\" viewBox=\"0 -960 960 960\">\n",
              "    <path d=\"M120-120v-720h720v720H120Zm60-500h600v-160H180v160Zm220 220h160v-160H400v160Zm0 220h160v-160H400v160ZM180-400h160v-160H180v160Zm440 0h160v-160H620v160ZM180-180h160v-160H180v160Zm440 0h160v-160H620v160Z\"/>\n",
              "  </svg>\n",
              "    </button>\n",
              "\n",
              "  <style>\n",
              "    .colab-df-container {\n",
              "      display:flex;\n",
              "      gap: 12px;\n",
              "    }\n",
              "\n",
              "    .colab-df-convert {\n",
              "      background-color: #E8F0FE;\n",
              "      border: none;\n",
              "      border-radius: 50%;\n",
              "      cursor: pointer;\n",
              "      display: none;\n",
              "      fill: #1967D2;\n",
              "      height: 32px;\n",
              "      padding: 0 0 0 0;\n",
              "      width: 32px;\n",
              "    }\n",
              "\n",
              "    .colab-df-convert:hover {\n",
              "      background-color: #E2EBFA;\n",
              "      box-shadow: 0px 1px 2px rgba(60, 64, 67, 0.3), 0px 1px 3px 1px rgba(60, 64, 67, 0.15);\n",
              "      fill: #174EA6;\n",
              "    }\n",
              "\n",
              "    .colab-df-buttons div {\n",
              "      margin-bottom: 4px;\n",
              "    }\n",
              "\n",
              "    [theme=dark] .colab-df-convert {\n",
              "      background-color: #3B4455;\n",
              "      fill: #D2E3FC;\n",
              "    }\n",
              "\n",
              "    [theme=dark] .colab-df-convert:hover {\n",
              "      background-color: #434B5C;\n",
              "      box-shadow: 0px 1px 3px 1px rgba(0, 0, 0, 0.15);\n",
              "      filter: drop-shadow(0px 1px 2px rgba(0, 0, 0, 0.3));\n",
              "      fill: #FFFFFF;\n",
              "    }\n",
              "  </style>\n",
              "\n",
              "    <script>\n",
              "      const buttonEl =\n",
              "        document.querySelector('#df-c7cf0bda-9281-4636-84f7-d99e47cef99b button.colab-df-convert');\n",
              "      buttonEl.style.display =\n",
              "        google.colab.kernel.accessAllowed ? 'block' : 'none';\n",
              "\n",
              "      async function convertToInteractive(key) {\n",
              "        const element = document.querySelector('#df-c7cf0bda-9281-4636-84f7-d99e47cef99b');\n",
              "        const dataTable =\n",
              "          await google.colab.kernel.invokeFunction('convertToInteractive',\n",
              "                                                    [key], {});\n",
              "        if (!dataTable) return;\n",
              "\n",
              "        const docLinkHtml = 'Like what you see? Visit the ' +\n",
              "          '<a target=\"_blank\" href=https://colab.research.google.com/notebooks/data_table.ipynb>data table notebook</a>'\n",
              "          + ' to learn more about interactive tables.';\n",
              "        element.innerHTML = '';\n",
              "        dataTable['output_type'] = 'display_data';\n",
              "        await google.colab.output.renderOutput(dataTable, element);\n",
              "        const docLink = document.createElement('div');\n",
              "        docLink.innerHTML = docLinkHtml;\n",
              "        element.appendChild(docLink);\n",
              "      }\n",
              "    </script>\n",
              "  </div>\n",
              "\n",
              "\n",
              "<div id=\"df-1a6ddaae-6f68-4081-9885-dafbec121146\">\n",
              "  <button class=\"colab-df-quickchart\" onclick=\"quickchart('df-1a6ddaae-6f68-4081-9885-dafbec121146')\"\n",
              "            title=\"Suggest charts.\"\n",
              "            style=\"display:none;\">\n",
              "\n",
              "<svg xmlns=\"http://www.w3.org/2000/svg\" height=\"24px\"viewBox=\"0 0 24 24\"\n",
              "     width=\"24px\">\n",
              "    <g>\n",
              "        <path d=\"M19 3H5c-1.1 0-2 .9-2 2v14c0 1.1.9 2 2 2h14c1.1 0 2-.9 2-2V5c0-1.1-.9-2-2-2zM9 17H7v-7h2v7zm4 0h-2V7h2v10zm4 0h-2v-4h2v4z\"/>\n",
              "    </g>\n",
              "</svg>\n",
              "  </button>\n",
              "\n",
              "<style>\n",
              "  .colab-df-quickchart {\n",
              "      --bg-color: #E8F0FE;\n",
              "      --fill-color: #1967D2;\n",
              "      --hover-bg-color: #E2EBFA;\n",
              "      --hover-fill-color: #174EA6;\n",
              "      --disabled-fill-color: #AAA;\n",
              "      --disabled-bg-color: #DDD;\n",
              "  }\n",
              "\n",
              "  [theme=dark] .colab-df-quickchart {\n",
              "      --bg-color: #3B4455;\n",
              "      --fill-color: #D2E3FC;\n",
              "      --hover-bg-color: #434B5C;\n",
              "      --hover-fill-color: #FFFFFF;\n",
              "      --disabled-bg-color: #3B4455;\n",
              "      --disabled-fill-color: #666;\n",
              "  }\n",
              "\n",
              "  .colab-df-quickchart {\n",
              "    background-color: var(--bg-color);\n",
              "    border: none;\n",
              "    border-radius: 50%;\n",
              "    cursor: pointer;\n",
              "    display: none;\n",
              "    fill: var(--fill-color);\n",
              "    height: 32px;\n",
              "    padding: 0;\n",
              "    width: 32px;\n",
              "  }\n",
              "\n",
              "  .colab-df-quickchart:hover {\n",
              "    background-color: var(--hover-bg-color);\n",
              "    box-shadow: 0 1px 2px rgba(60, 64, 67, 0.3), 0 1px 3px 1px rgba(60, 64, 67, 0.15);\n",
              "    fill: var(--button-hover-fill-color);\n",
              "  }\n",
              "\n",
              "  .colab-df-quickchart-complete:disabled,\n",
              "  .colab-df-quickchart-complete:disabled:hover {\n",
              "    background-color: var(--disabled-bg-color);\n",
              "    fill: var(--disabled-fill-color);\n",
              "    box-shadow: none;\n",
              "  }\n",
              "\n",
              "  .colab-df-spinner {\n",
              "    border: 2px solid var(--fill-color);\n",
              "    border-color: transparent;\n",
              "    border-bottom-color: var(--fill-color);\n",
              "    animation:\n",
              "      spin 1s steps(1) infinite;\n",
              "  }\n",
              "\n",
              "  @keyframes spin {\n",
              "    0% {\n",
              "      border-color: transparent;\n",
              "      border-bottom-color: var(--fill-color);\n",
              "      border-left-color: var(--fill-color);\n",
              "    }\n",
              "    20% {\n",
              "      border-color: transparent;\n",
              "      border-left-color: var(--fill-color);\n",
              "      border-top-color: var(--fill-color);\n",
              "    }\n",
              "    30% {\n",
              "      border-color: transparent;\n",
              "      border-left-color: var(--fill-color);\n",
              "      border-top-color: var(--fill-color);\n",
              "      border-right-color: var(--fill-color);\n",
              "    }\n",
              "    40% {\n",
              "      border-color: transparent;\n",
              "      border-right-color: var(--fill-color);\n",
              "      border-top-color: var(--fill-color);\n",
              "    }\n",
              "    60% {\n",
              "      border-color: transparent;\n",
              "      border-right-color: var(--fill-color);\n",
              "    }\n",
              "    80% {\n",
              "      border-color: transparent;\n",
              "      border-right-color: var(--fill-color);\n",
              "      border-bottom-color: var(--fill-color);\n",
              "    }\n",
              "    90% {\n",
              "      border-color: transparent;\n",
              "      border-bottom-color: var(--fill-color);\n",
              "    }\n",
              "  }\n",
              "</style>\n",
              "\n",
              "  <script>\n",
              "    async function quickchart(key) {\n",
              "      const quickchartButtonEl =\n",
              "        document.querySelector('#' + key + ' button');\n",
              "      quickchartButtonEl.disabled = true;  // To prevent multiple clicks.\n",
              "      quickchartButtonEl.classList.add('colab-df-spinner');\n",
              "      try {\n",
              "        const charts = await google.colab.kernel.invokeFunction(\n",
              "            'suggestCharts', [key], {});\n",
              "      } catch (error) {\n",
              "        console.error('Error during call to suggestCharts:', error);\n",
              "      }\n",
              "      quickchartButtonEl.classList.remove('colab-df-spinner');\n",
              "      quickchartButtonEl.classList.add('colab-df-quickchart-complete');\n",
              "    }\n",
              "    (() => {\n",
              "      let quickchartButtonEl =\n",
              "        document.querySelector('#df-1a6ddaae-6f68-4081-9885-dafbec121146 button');\n",
              "      quickchartButtonEl.style.display =\n",
              "        google.colab.kernel.accessAllowed ? 'block' : 'none';\n",
              "    })();\n",
              "  </script>\n",
              "</div>\n",
              "    </div>\n",
              "  </div>\n"
            ]
          },
          "metadata": {},
          "execution_count": 5
        }
      ]
    },
    {
      "cell_type": "code",
      "source": [
        "data1.info()"
      ],
      "metadata": {
        "colab": {
          "base_uri": "https://localhost:8080/"
        },
        "id": "v2DQS2s6nJWr",
        "outputId": "3418ddb0-ee72-479f-bdca-6c73d7fd1df2"
      },
      "execution_count": null,
      "outputs": [
        {
          "output_type": "stream",
          "name": "stdout",
          "text": [
            "<class 'pandas.core.frame.DataFrame'>\n",
            "RangeIndex: 4521 entries, 0 to 4520\n",
            "Data columns (total 17 columns):\n",
            " #   Column     Non-Null Count  Dtype \n",
            "---  ------     --------------  ----- \n",
            " 0   age        4521 non-null   int64 \n",
            " 1   job        4521 non-null   object\n",
            " 2   marital    4521 non-null   object\n",
            " 3   education  4521 non-null   object\n",
            " 4   default    4521 non-null   object\n",
            " 5   balance    4521 non-null   int64 \n",
            " 6   housing    4521 non-null   object\n",
            " 7   loan       4521 non-null   object\n",
            " 8   contact    4521 non-null   object\n",
            " 9   day        4521 non-null   int64 \n",
            " 10  month      4521 non-null   object\n",
            " 11  duration   4521 non-null   int64 \n",
            " 12  campaign   4521 non-null   int64 \n",
            " 13  pdays      4521 non-null   int64 \n",
            " 14  previous   4521 non-null   int64 \n",
            " 15  poutcome   4521 non-null   object\n",
            " 16  y          4521 non-null   object\n",
            "dtypes: int64(7), object(10)\n",
            "memory usage: 600.6+ KB\n"
          ]
        }
      ]
    },
    {
      "cell_type": "markdown",
      "source": [
        "## Transform every categorical data to numerical"
      ],
      "metadata": {
        "id": "PxQo46qzw73d"
      }
    },
    {
      "cell_type": "markdown",
      "source": [
        "### Job"
      ],
      "metadata": {
        "id": "9FIpgUT72eNU"
      }
    },
    {
      "cell_type": "code",
      "source": [
        "data1['job'].unique()"
      ],
      "metadata": {
        "colab": {
          "base_uri": "https://localhost:8080/"
        },
        "id": "sN5ahTJfw_RQ",
        "outputId": "d8235c04-18ab-4562-82e4-50a90124513d"
      },
      "execution_count": null,
      "outputs": [
        {
          "output_type": "execute_result",
          "data": {
            "text/plain": [
              "array(['unemployed', 'services', 'management', 'blue-collar',\n",
              "       'self-employed', 'technician', 'entrepreneur', 'admin.', 'student',\n",
              "       'housemaid', 'retired', 'unknown'], dtype=object)"
            ]
          },
          "metadata": {},
          "execution_count": 7
        }
      ]
    },
    {
      "cell_type": "code",
      "source": [
        "data1['job'] = data1['job'].replace({'admin.': 'admin'})\n",
        "data1['job'].unique()"
      ],
      "metadata": {
        "colab": {
          "base_uri": "https://localhost:8080/"
        },
        "id": "YeuBBD1QyLtL",
        "outputId": "b29a8e1c-221d-40a9-cbb2-4d38ccc8df1f"
      },
      "execution_count": null,
      "outputs": [
        {
          "output_type": "execute_result",
          "data": {
            "text/plain": [
              "array(['unemployed', 'services', 'management', 'blue-collar',\n",
              "       'self-employed', 'technician', 'entrepreneur', 'admin', 'student',\n",
              "       'housemaid', 'retired', 'unknown'], dtype=object)"
            ]
          },
          "metadata": {},
          "execution_count": 8
        }
      ]
    },
    {
      "cell_type": "code",
      "source": [
        "job_dict = {\n",
        "    'unemployed': -1,\n",
        "    'services': 1,\n",
        "    'management': 2,\n",
        "    'blue-collar': 3,\n",
        "    'self-employed': 4,\n",
        "    'technician': 5,\n",
        "    'entrepreneur': 6,\n",
        "    'admin': 7,\n",
        "    'student': 8,\n",
        "    'housemaid': 9,\n",
        "    'retired': 10,\n",
        "    'unknown': 0\n",
        "}\n",
        "data1['job'] = data1['job'].map(job_dict)"
      ],
      "metadata": {
        "id": "d8mwIBqux3SP"
      },
      "execution_count": null,
      "outputs": []
    },
    {
      "cell_type": "code",
      "source": [
        "data1['job'].head()"
      ],
      "metadata": {
        "colab": {
          "base_uri": "https://localhost:8080/"
        },
        "id": "7_-kREAP2zix",
        "outputId": "cc2c8a5f-2618-4841-c724-f56d0f8d270c"
      },
      "execution_count": null,
      "outputs": [
        {
          "output_type": "execute_result",
          "data": {
            "text/plain": [
              "0   -1\n",
              "1    1\n",
              "2    2\n",
              "3    2\n",
              "4    3\n",
              "Name: job, dtype: int64"
            ]
          },
          "metadata": {},
          "execution_count": 10
        }
      ]
    },
    {
      "cell_type": "markdown",
      "source": [
        "### Marital"
      ],
      "metadata": {
        "id": "ylXJ9OX82hPL"
      }
    },
    {
      "cell_type": "code",
      "source": [
        "data1['marital'].unique()"
      ],
      "metadata": {
        "colab": {
          "base_uri": "https://localhost:8080/"
        },
        "id": "_l89AJ4s2i-y",
        "outputId": "197c9cac-a5f8-4c7d-9577-2aff4398d224"
      },
      "execution_count": null,
      "outputs": [
        {
          "output_type": "execute_result",
          "data": {
            "text/plain": [
              "array(['married', 'single', 'divorced'], dtype=object)"
            ]
          },
          "metadata": {},
          "execution_count": 11
        }
      ]
    },
    {
      "cell_type": "code",
      "source": [
        "marital_dict = {'married': 0, 'single': 1, 'divorced': 2}\n",
        "data1['marital'] = data1['marital'].map(marital_dict)"
      ],
      "metadata": {
        "id": "4vY7ez702mCe"
      },
      "execution_count": null,
      "outputs": []
    },
    {
      "cell_type": "code",
      "source": [
        "data1['marital'].head()"
      ],
      "metadata": {
        "colab": {
          "base_uri": "https://localhost:8080/"
        },
        "id": "dPGD-QPy2xFF",
        "outputId": "11932e1c-f56e-4b53-8f19-e56c8f1a9ff0"
      },
      "execution_count": null,
      "outputs": [
        {
          "output_type": "execute_result",
          "data": {
            "text/plain": [
              "0    0\n",
              "1    0\n",
              "2    1\n",
              "3    0\n",
              "4    0\n",
              "Name: marital, dtype: int64"
            ]
          },
          "metadata": {},
          "execution_count": 13
        }
      ]
    },
    {
      "cell_type": "markdown",
      "source": [
        "### Education"
      ],
      "metadata": {
        "id": "HqIYbbuU230d"
      }
    },
    {
      "cell_type": "code",
      "source": [
        "data1['education'].unique()"
      ],
      "metadata": {
        "colab": {
          "base_uri": "https://localhost:8080/"
        },
        "id": "w-FjeRMM25iq",
        "outputId": "b86e5b45-31a8-436e-b376-c9c8fbcd9463"
      },
      "execution_count": null,
      "outputs": [
        {
          "output_type": "execute_result",
          "data": {
            "text/plain": [
              "array(['primary', 'secondary', 'tertiary', 'unknown'], dtype=object)"
            ]
          },
          "metadata": {},
          "execution_count": 14
        }
      ]
    },
    {
      "cell_type": "code",
      "source": [
        "education_dict = {'primary': 1, 'secondary': 2, 'tertiary': 3, 'unknown': 0}\n",
        "data1['education'] = data1['education'].map(education_dict)"
      ],
      "metadata": {
        "id": "0xE407NQ3PFJ"
      },
      "execution_count": null,
      "outputs": []
    },
    {
      "cell_type": "code",
      "source": [
        "data1['education'].head()"
      ],
      "metadata": {
        "colab": {
          "base_uri": "https://localhost:8080/"
        },
        "id": "5YzMWIzd3bLX",
        "outputId": "379203a1-350d-41b4-dae8-6396d464becc"
      },
      "execution_count": null,
      "outputs": [
        {
          "output_type": "execute_result",
          "data": {
            "text/plain": [
              "0    1\n",
              "1    2\n",
              "2    3\n",
              "3    3\n",
              "4    2\n",
              "Name: education, dtype: int64"
            ]
          },
          "metadata": {},
          "execution_count": 16
        }
      ]
    },
    {
      "cell_type": "markdown",
      "source": [
        "### Default (has credit or not)"
      ],
      "metadata": {
        "id": "LXltbJ484Ty3"
      }
    },
    {
      "cell_type": "code",
      "source": [
        "data1['default'].unique()"
      ],
      "metadata": {
        "colab": {
          "base_uri": "https://localhost:8080/"
        },
        "id": "_SIseZVB4W_H",
        "outputId": "4e2cc54d-fd5e-46a5-ed6b-a06ccd8307ba"
      },
      "execution_count": null,
      "outputs": [
        {
          "output_type": "execute_result",
          "data": {
            "text/plain": [
              "array(['no', 'yes'], dtype=object)"
            ]
          },
          "metadata": {},
          "execution_count": 17
        }
      ]
    },
    {
      "cell_type": "code",
      "source": [
        "default_dict = {'no': 0, 'yes': 1}\n",
        "data1['default'] = data1['default'].map(default_dict)"
      ],
      "metadata": {
        "id": "Fe3WxqyI4YuP"
      },
      "execution_count": null,
      "outputs": []
    },
    {
      "cell_type": "code",
      "source": [
        "data1['default'].head()"
      ],
      "metadata": {
        "colab": {
          "base_uri": "https://localhost:8080/"
        },
        "id": "rhFqOyvP4ggM",
        "outputId": "5b4c18d0-38a3-4ed1-fc94-7035c34122eb"
      },
      "execution_count": null,
      "outputs": [
        {
          "output_type": "execute_result",
          "data": {
            "text/plain": [
              "0    0\n",
              "1    0\n",
              "2    0\n",
              "3    0\n",
              "4    0\n",
              "Name: default, dtype: int64"
            ]
          },
          "metadata": {},
          "execution_count": 19
        }
      ]
    },
    {
      "cell_type": "markdown",
      "source": [
        "### Housing"
      ],
      "metadata": {
        "id": "hKD-HUn_3q83"
      }
    },
    {
      "cell_type": "code",
      "source": [
        "data1['housing'].unique()"
      ],
      "metadata": {
        "colab": {
          "base_uri": "https://localhost:8080/"
        },
        "id": "UCPFXOvj4BKt",
        "outputId": "d7e99b80-fe9f-40c5-9245-4ce840c0f787"
      },
      "execution_count": null,
      "outputs": [
        {
          "output_type": "execute_result",
          "data": {
            "text/plain": [
              "array(['no', 'yes'], dtype=object)"
            ]
          },
          "metadata": {},
          "execution_count": 20
        }
      ]
    },
    {
      "cell_type": "code",
      "source": [
        "housing_dict = {'yes': 1, 'no': 0}\n",
        "data1['housing'] = data1['housing'].map(housing_dict)"
      ],
      "metadata": {
        "id": "mX9aB4jv4JHD"
      },
      "execution_count": null,
      "outputs": []
    },
    {
      "cell_type": "code",
      "source": [
        "data1['housing'].head()"
      ],
      "metadata": {
        "colab": {
          "base_uri": "https://localhost:8080/"
        },
        "id": "IMRfn85N4Q-s",
        "outputId": "e551173a-a4b4-43ce-a466-7253514f4bb8"
      },
      "execution_count": null,
      "outputs": [
        {
          "output_type": "execute_result",
          "data": {
            "text/plain": [
              "0    0\n",
              "1    1\n",
              "2    1\n",
              "3    1\n",
              "4    1\n",
              "Name: housing, dtype: int64"
            ]
          },
          "metadata": {},
          "execution_count": 22
        }
      ]
    },
    {
      "cell_type": "markdown",
      "source": [
        "### Loan"
      ],
      "metadata": {
        "id": "TRx91Pmi41yU"
      }
    },
    {
      "cell_type": "code",
      "source": [
        "data1['loan'].unique()"
      ],
      "metadata": {
        "colab": {
          "base_uri": "https://localhost:8080/"
        },
        "id": "GEVp86OC45Qd",
        "outputId": "7fc03329-8675-4a7d-f3b0-ec048789622e"
      },
      "execution_count": null,
      "outputs": [
        {
          "output_type": "execute_result",
          "data": {
            "text/plain": [
              "array(['no', 'yes'], dtype=object)"
            ]
          },
          "metadata": {},
          "execution_count": 23
        }
      ]
    },
    {
      "cell_type": "code",
      "source": [
        "loan_dict = {'no': 0, 'yes': 1}\n",
        "data1['loan'] = data1['loan'].map(loan_dict)"
      ],
      "metadata": {
        "id": "RaFWX14_5J02"
      },
      "execution_count": null,
      "outputs": []
    },
    {
      "cell_type": "code",
      "source": [
        "data1['loan'].head()"
      ],
      "metadata": {
        "colab": {
          "base_uri": "https://localhost:8080/"
        },
        "id": "e09tdrLy5Rwe",
        "outputId": "b36338f9-62d1-4c65-d865-83fdd46565dd"
      },
      "execution_count": null,
      "outputs": [
        {
          "output_type": "execute_result",
          "data": {
            "text/plain": [
              "0    0\n",
              "1    1\n",
              "2    0\n",
              "3    1\n",
              "4    0\n",
              "Name: loan, dtype: int64"
            ]
          },
          "metadata": {},
          "execution_count": 25
        }
      ]
    },
    {
      "cell_type": "markdown",
      "source": [
        "### Contact"
      ],
      "metadata": {
        "id": "GebUuSNA46An"
      }
    },
    {
      "cell_type": "code",
      "source": [
        "data1['contact'].unique()"
      ],
      "metadata": {
        "colab": {
          "base_uri": "https://localhost:8080/"
        },
        "id": "WHQDA2jX5DJA",
        "outputId": "e07490d5-7dbd-4c87-eb5a-b51eb0587c33"
      },
      "execution_count": null,
      "outputs": [
        {
          "output_type": "execute_result",
          "data": {
            "text/plain": [
              "array(['cellular', 'unknown', 'telephone'], dtype=object)"
            ]
          },
          "metadata": {},
          "execution_count": 26
        }
      ]
    },
    {
      "cell_type": "code",
      "source": [
        "contact_dict = {'unknown': 0, 'cellular': 1, 'telephone': 2}\n",
        "data1['contact'] = data1['contact'].map(contact_dict)"
      ],
      "metadata": {
        "id": "5e0_9WTp5gdq"
      },
      "execution_count": null,
      "outputs": []
    },
    {
      "cell_type": "code",
      "source": [
        "data1['contact'].head()"
      ],
      "metadata": {
        "colab": {
          "base_uri": "https://localhost:8080/"
        },
        "id": "2nTKvdk25tF3",
        "outputId": "a8f524cd-a96d-4225-86ab-d569cc43e130"
      },
      "execution_count": null,
      "outputs": [
        {
          "output_type": "execute_result",
          "data": {
            "text/plain": [
              "0    1\n",
              "1    1\n",
              "2    1\n",
              "3    0\n",
              "4    0\n",
              "Name: contact, dtype: int64"
            ]
          },
          "metadata": {},
          "execution_count": 28
        }
      ]
    },
    {
      "cell_type": "markdown",
      "source": [
        "### Month"
      ],
      "metadata": {
        "id": "bgods2ht47Jh"
      }
    },
    {
      "cell_type": "code",
      "source": [
        "data1['month'].unique()"
      ],
      "metadata": {
        "colab": {
          "base_uri": "https://localhost:8080/"
        },
        "id": "Yw656PSc5CwQ",
        "outputId": "b819e06b-0a78-45ee-bf71-01f991639e49"
      },
      "execution_count": null,
      "outputs": [
        {
          "output_type": "execute_result",
          "data": {
            "text/plain": [
              "array(['oct', 'may', 'apr', 'jun', 'feb', 'aug', 'jan', 'jul', 'nov',\n",
              "       'sep', 'mar', 'dec'], dtype=object)"
            ]
          },
          "metadata": {},
          "execution_count": 29
        }
      ]
    },
    {
      "cell_type": "code",
      "source": [
        "month_dict = {\n",
        "    'jan': 1,\n",
        "    'feb': 2,\n",
        "    'mar': 3,\n",
        "    'apr': 4,\n",
        "    'may': 5,\n",
        "    'jun': 6,\n",
        "    'jul': 7,\n",
        "    'aug': 8,\n",
        "    'sep': 9,\n",
        "    'oct': 10,\n",
        "    'nov': 11,\n",
        "    'dec': 12\n",
        "}\n",
        "\n",
        "data1['month'] = data1['month'].map(month_dict)"
      ],
      "metadata": {
        "id": "IJpvSixN5yeu"
      },
      "execution_count": null,
      "outputs": []
    },
    {
      "cell_type": "code",
      "source": [
        "data1['month'].head()"
      ],
      "metadata": {
        "colab": {
          "base_uri": "https://localhost:8080/"
        },
        "id": "1dBmyJpYCTUN",
        "outputId": "115be9d9-58e7-46d5-985b-1db5d41e15b0"
      },
      "execution_count": null,
      "outputs": [
        {
          "output_type": "execute_result",
          "data": {
            "text/plain": [
              "0    10\n",
              "1     5\n",
              "2     4\n",
              "3     6\n",
              "4     5\n",
              "Name: month, dtype: int64"
            ]
          },
          "metadata": {},
          "execution_count": 31
        }
      ]
    },
    {
      "cell_type": "markdown",
      "source": [
        "### Poutcome"
      ],
      "metadata": {
        "id": "DtUbQ38R49_C"
      }
    },
    {
      "cell_type": "code",
      "source": [
        "data1['poutcome'].unique()"
      ],
      "metadata": {
        "colab": {
          "base_uri": "https://localhost:8080/"
        },
        "id": "ri3xaqSn5CSE",
        "outputId": "fcffafd9-5b4d-42b4-8014-10ff6bbe2b87"
      },
      "execution_count": null,
      "outputs": [
        {
          "output_type": "execute_result",
          "data": {
            "text/plain": [
              "array(['unknown', 'failure', 'other', 'success'], dtype=object)"
            ]
          },
          "metadata": {},
          "execution_count": 32
        }
      ]
    },
    {
      "cell_type": "code",
      "source": [
        "poutcome_dict = {'unknown': 0, 'success': 1, 'failure': 2, 'other': 3}\n",
        "data1['poutcome'] = data1['poutcome'].map(poutcome_dict)"
      ],
      "metadata": {
        "id": "Au849x9rCYoF"
      },
      "execution_count": null,
      "outputs": []
    },
    {
      "cell_type": "code",
      "source": [
        "data1['poutcome'].head()"
      ],
      "metadata": {
        "colab": {
          "base_uri": "https://localhost:8080/"
        },
        "id": "lbHn_QHcCxH2",
        "outputId": "866c82d6-3988-4395-d50e-1eafa12af139"
      },
      "execution_count": null,
      "outputs": [
        {
          "output_type": "execute_result",
          "data": {
            "text/plain": [
              "0    0\n",
              "1    2\n",
              "2    2\n",
              "3    0\n",
              "4    0\n",
              "Name: poutcome, dtype: int64"
            ]
          },
          "metadata": {},
          "execution_count": 34
        }
      ]
    },
    {
      "cell_type": "markdown",
      "source": [
        "## Add Target based on attribute y"
      ],
      "metadata": {
        "id": "tnGZqoLT3mXG"
      }
    },
    {
      "cell_type": "code",
      "source": [
        "binary_class = {'no':0,'yes':1}\n",
        "data1['Target'] = data1['y'].map(binary_class)"
      ],
      "metadata": {
        "id": "v_JIF8T9oKYT"
      },
      "execution_count": null,
      "outputs": []
    },
    {
      "cell_type": "code",
      "source": [
        "data1[['y', 'Target']].head(15)"
      ],
      "metadata": {
        "colab": {
          "base_uri": "https://localhost:8080/",
          "height": 520
        },
        "id": "DKt4hfrWu-Bv",
        "outputId": "dcad85ad-9de4-4c8d-92e0-fe429e9da508"
      },
      "execution_count": null,
      "outputs": [
        {
          "output_type": "execute_result",
          "data": {
            "text/plain": [
              "      y  Target\n",
              "0    no       0\n",
              "1    no       0\n",
              "2    no       0\n",
              "3    no       0\n",
              "4    no       0\n",
              "5    no       0\n",
              "6    no       0\n",
              "7    no       0\n",
              "8    no       0\n",
              "9    no       0\n",
              "10   no       0\n",
              "11   no       0\n",
              "12   no       0\n",
              "13  yes       1\n",
              "14   no       0"
            ],
            "text/html": [
              "\n",
              "  <div id=\"df-8153ca7c-1716-495d-8c75-d0625c32ab63\" class=\"colab-df-container\">\n",
              "    <div>\n",
              "<style scoped>\n",
              "    .dataframe tbody tr th:only-of-type {\n",
              "        vertical-align: middle;\n",
              "    }\n",
              "\n",
              "    .dataframe tbody tr th {\n",
              "        vertical-align: top;\n",
              "    }\n",
              "\n",
              "    .dataframe thead th {\n",
              "        text-align: right;\n",
              "    }\n",
              "</style>\n",
              "<table border=\"1\" class=\"dataframe\">\n",
              "  <thead>\n",
              "    <tr style=\"text-align: right;\">\n",
              "      <th></th>\n",
              "      <th>y</th>\n",
              "      <th>Target</th>\n",
              "    </tr>\n",
              "  </thead>\n",
              "  <tbody>\n",
              "    <tr>\n",
              "      <th>0</th>\n",
              "      <td>no</td>\n",
              "      <td>0</td>\n",
              "    </tr>\n",
              "    <tr>\n",
              "      <th>1</th>\n",
              "      <td>no</td>\n",
              "      <td>0</td>\n",
              "    </tr>\n",
              "    <tr>\n",
              "      <th>2</th>\n",
              "      <td>no</td>\n",
              "      <td>0</td>\n",
              "    </tr>\n",
              "    <tr>\n",
              "      <th>3</th>\n",
              "      <td>no</td>\n",
              "      <td>0</td>\n",
              "    </tr>\n",
              "    <tr>\n",
              "      <th>4</th>\n",
              "      <td>no</td>\n",
              "      <td>0</td>\n",
              "    </tr>\n",
              "    <tr>\n",
              "      <th>5</th>\n",
              "      <td>no</td>\n",
              "      <td>0</td>\n",
              "    </tr>\n",
              "    <tr>\n",
              "      <th>6</th>\n",
              "      <td>no</td>\n",
              "      <td>0</td>\n",
              "    </tr>\n",
              "    <tr>\n",
              "      <th>7</th>\n",
              "      <td>no</td>\n",
              "      <td>0</td>\n",
              "    </tr>\n",
              "    <tr>\n",
              "      <th>8</th>\n",
              "      <td>no</td>\n",
              "      <td>0</td>\n",
              "    </tr>\n",
              "    <tr>\n",
              "      <th>9</th>\n",
              "      <td>no</td>\n",
              "      <td>0</td>\n",
              "    </tr>\n",
              "    <tr>\n",
              "      <th>10</th>\n",
              "      <td>no</td>\n",
              "      <td>0</td>\n",
              "    </tr>\n",
              "    <tr>\n",
              "      <th>11</th>\n",
              "      <td>no</td>\n",
              "      <td>0</td>\n",
              "    </tr>\n",
              "    <tr>\n",
              "      <th>12</th>\n",
              "      <td>no</td>\n",
              "      <td>0</td>\n",
              "    </tr>\n",
              "    <tr>\n",
              "      <th>13</th>\n",
              "      <td>yes</td>\n",
              "      <td>1</td>\n",
              "    </tr>\n",
              "    <tr>\n",
              "      <th>14</th>\n",
              "      <td>no</td>\n",
              "      <td>0</td>\n",
              "    </tr>\n",
              "  </tbody>\n",
              "</table>\n",
              "</div>\n",
              "    <div class=\"colab-df-buttons\">\n",
              "\n",
              "  <div class=\"colab-df-container\">\n",
              "    <button class=\"colab-df-convert\" onclick=\"convertToInteractive('df-8153ca7c-1716-495d-8c75-d0625c32ab63')\"\n",
              "            title=\"Convert this dataframe to an interactive table.\"\n",
              "            style=\"display:none;\">\n",
              "\n",
              "  <svg xmlns=\"http://www.w3.org/2000/svg\" height=\"24px\" viewBox=\"0 -960 960 960\">\n",
              "    <path d=\"M120-120v-720h720v720H120Zm60-500h600v-160H180v160Zm220 220h160v-160H400v160Zm0 220h160v-160H400v160ZM180-400h160v-160H180v160Zm440 0h160v-160H620v160ZM180-180h160v-160H180v160Zm440 0h160v-160H620v160Z\"/>\n",
              "  </svg>\n",
              "    </button>\n",
              "\n",
              "  <style>\n",
              "    .colab-df-container {\n",
              "      display:flex;\n",
              "      gap: 12px;\n",
              "    }\n",
              "\n",
              "    .colab-df-convert {\n",
              "      background-color: #E8F0FE;\n",
              "      border: none;\n",
              "      border-radius: 50%;\n",
              "      cursor: pointer;\n",
              "      display: none;\n",
              "      fill: #1967D2;\n",
              "      height: 32px;\n",
              "      padding: 0 0 0 0;\n",
              "      width: 32px;\n",
              "    }\n",
              "\n",
              "    .colab-df-convert:hover {\n",
              "      background-color: #E2EBFA;\n",
              "      box-shadow: 0px 1px 2px rgba(60, 64, 67, 0.3), 0px 1px 3px 1px rgba(60, 64, 67, 0.15);\n",
              "      fill: #174EA6;\n",
              "    }\n",
              "\n",
              "    .colab-df-buttons div {\n",
              "      margin-bottom: 4px;\n",
              "    }\n",
              "\n",
              "    [theme=dark] .colab-df-convert {\n",
              "      background-color: #3B4455;\n",
              "      fill: #D2E3FC;\n",
              "    }\n",
              "\n",
              "    [theme=dark] .colab-df-convert:hover {\n",
              "      background-color: #434B5C;\n",
              "      box-shadow: 0px 1px 3px 1px rgba(0, 0, 0, 0.15);\n",
              "      filter: drop-shadow(0px 1px 2px rgba(0, 0, 0, 0.3));\n",
              "      fill: #FFFFFF;\n",
              "    }\n",
              "  </style>\n",
              "\n",
              "    <script>\n",
              "      const buttonEl =\n",
              "        document.querySelector('#df-8153ca7c-1716-495d-8c75-d0625c32ab63 button.colab-df-convert');\n",
              "      buttonEl.style.display =\n",
              "        google.colab.kernel.accessAllowed ? 'block' : 'none';\n",
              "\n",
              "      async function convertToInteractive(key) {\n",
              "        const element = document.querySelector('#df-8153ca7c-1716-495d-8c75-d0625c32ab63');\n",
              "        const dataTable =\n",
              "          await google.colab.kernel.invokeFunction('convertToInteractive',\n",
              "                                                    [key], {});\n",
              "        if (!dataTable) return;\n",
              "\n",
              "        const docLinkHtml = 'Like what you see? Visit the ' +\n",
              "          '<a target=\"_blank\" href=https://colab.research.google.com/notebooks/data_table.ipynb>data table notebook</a>'\n",
              "          + ' to learn more about interactive tables.';\n",
              "        element.innerHTML = '';\n",
              "        dataTable['output_type'] = 'display_data';\n",
              "        await google.colab.output.renderOutput(dataTable, element);\n",
              "        const docLink = document.createElement('div');\n",
              "        docLink.innerHTML = docLinkHtml;\n",
              "        element.appendChild(docLink);\n",
              "      }\n",
              "    </script>\n",
              "  </div>\n",
              "\n",
              "\n",
              "<div id=\"df-f92341ba-b7b5-49f5-b7fe-6d444bc18304\">\n",
              "  <button class=\"colab-df-quickchart\" onclick=\"quickchart('df-f92341ba-b7b5-49f5-b7fe-6d444bc18304')\"\n",
              "            title=\"Suggest charts.\"\n",
              "            style=\"display:none;\">\n",
              "\n",
              "<svg xmlns=\"http://www.w3.org/2000/svg\" height=\"24px\"viewBox=\"0 0 24 24\"\n",
              "     width=\"24px\">\n",
              "    <g>\n",
              "        <path d=\"M19 3H5c-1.1 0-2 .9-2 2v14c0 1.1.9 2 2 2h14c1.1 0 2-.9 2-2V5c0-1.1-.9-2-2-2zM9 17H7v-7h2v7zm4 0h-2V7h2v10zm4 0h-2v-4h2v4z\"/>\n",
              "    </g>\n",
              "</svg>\n",
              "  </button>\n",
              "\n",
              "<style>\n",
              "  .colab-df-quickchart {\n",
              "      --bg-color: #E8F0FE;\n",
              "      --fill-color: #1967D2;\n",
              "      --hover-bg-color: #E2EBFA;\n",
              "      --hover-fill-color: #174EA6;\n",
              "      --disabled-fill-color: #AAA;\n",
              "      --disabled-bg-color: #DDD;\n",
              "  }\n",
              "\n",
              "  [theme=dark] .colab-df-quickchart {\n",
              "      --bg-color: #3B4455;\n",
              "      --fill-color: #D2E3FC;\n",
              "      --hover-bg-color: #434B5C;\n",
              "      --hover-fill-color: #FFFFFF;\n",
              "      --disabled-bg-color: #3B4455;\n",
              "      --disabled-fill-color: #666;\n",
              "  }\n",
              "\n",
              "  .colab-df-quickchart {\n",
              "    background-color: var(--bg-color);\n",
              "    border: none;\n",
              "    border-radius: 50%;\n",
              "    cursor: pointer;\n",
              "    display: none;\n",
              "    fill: var(--fill-color);\n",
              "    height: 32px;\n",
              "    padding: 0;\n",
              "    width: 32px;\n",
              "  }\n",
              "\n",
              "  .colab-df-quickchart:hover {\n",
              "    background-color: var(--hover-bg-color);\n",
              "    box-shadow: 0 1px 2px rgba(60, 64, 67, 0.3), 0 1px 3px 1px rgba(60, 64, 67, 0.15);\n",
              "    fill: var(--button-hover-fill-color);\n",
              "  }\n",
              "\n",
              "  .colab-df-quickchart-complete:disabled,\n",
              "  .colab-df-quickchart-complete:disabled:hover {\n",
              "    background-color: var(--disabled-bg-color);\n",
              "    fill: var(--disabled-fill-color);\n",
              "    box-shadow: none;\n",
              "  }\n",
              "\n",
              "  .colab-df-spinner {\n",
              "    border: 2px solid var(--fill-color);\n",
              "    border-color: transparent;\n",
              "    border-bottom-color: var(--fill-color);\n",
              "    animation:\n",
              "      spin 1s steps(1) infinite;\n",
              "  }\n",
              "\n",
              "  @keyframes spin {\n",
              "    0% {\n",
              "      border-color: transparent;\n",
              "      border-bottom-color: var(--fill-color);\n",
              "      border-left-color: var(--fill-color);\n",
              "    }\n",
              "    20% {\n",
              "      border-color: transparent;\n",
              "      border-left-color: var(--fill-color);\n",
              "      border-top-color: var(--fill-color);\n",
              "    }\n",
              "    30% {\n",
              "      border-color: transparent;\n",
              "      border-left-color: var(--fill-color);\n",
              "      border-top-color: var(--fill-color);\n",
              "      border-right-color: var(--fill-color);\n",
              "    }\n",
              "    40% {\n",
              "      border-color: transparent;\n",
              "      border-right-color: var(--fill-color);\n",
              "      border-top-color: var(--fill-color);\n",
              "    }\n",
              "    60% {\n",
              "      border-color: transparent;\n",
              "      border-right-color: var(--fill-color);\n",
              "    }\n",
              "    80% {\n",
              "      border-color: transparent;\n",
              "      border-right-color: var(--fill-color);\n",
              "      border-bottom-color: var(--fill-color);\n",
              "    }\n",
              "    90% {\n",
              "      border-color: transparent;\n",
              "      border-bottom-color: var(--fill-color);\n",
              "    }\n",
              "  }\n",
              "</style>\n",
              "\n",
              "  <script>\n",
              "    async function quickchart(key) {\n",
              "      const quickchartButtonEl =\n",
              "        document.querySelector('#' + key + ' button');\n",
              "      quickchartButtonEl.disabled = true;  // To prevent multiple clicks.\n",
              "      quickchartButtonEl.classList.add('colab-df-spinner');\n",
              "      try {\n",
              "        const charts = await google.colab.kernel.invokeFunction(\n",
              "            'suggestCharts', [key], {});\n",
              "      } catch (error) {\n",
              "        console.error('Error during call to suggestCharts:', error);\n",
              "      }\n",
              "      quickchartButtonEl.classList.remove('colab-df-spinner');\n",
              "      quickchartButtonEl.classList.add('colab-df-quickchart-complete');\n",
              "    }\n",
              "    (() => {\n",
              "      let quickchartButtonEl =\n",
              "        document.querySelector('#df-f92341ba-b7b5-49f5-b7fe-6d444bc18304 button');\n",
              "      quickchartButtonEl.style.display =\n",
              "        google.colab.kernel.accessAllowed ? 'block' : 'none';\n",
              "    })();\n",
              "  </script>\n",
              "</div>\n",
              "    </div>\n",
              "  </div>\n"
            ]
          },
          "metadata": {},
          "execution_count": 36
        }
      ]
    },
    {
      "cell_type": "code",
      "source": [
        "data1['Target'].value_counts()"
      ],
      "metadata": {
        "colab": {
          "base_uri": "https://localhost:8080/"
        },
        "id": "lf5m2anPvMYx",
        "outputId": "2e46fe17-20ec-409d-ecfc-51cc4db087e0"
      },
      "execution_count": null,
      "outputs": [
        {
          "output_type": "execute_result",
          "data": {
            "text/plain": [
              "0    4000\n",
              "1     521\n",
              "Name: Target, dtype: int64"
            ]
          },
          "metadata": {},
          "execution_count": 37
        }
      ]
    },
    {
      "cell_type": "markdown",
      "source": [
        "## Divide data into X and y"
      ],
      "metadata": {
        "id": "0W4yFPRgvnZd"
      }
    },
    {
      "cell_type": "code",
      "source": [
        "X = data1.drop(['y', 'Target'], axis=1)\n",
        "y = data1['Target']"
      ],
      "metadata": {
        "id": "V2OOLXCJvV39"
      },
      "execution_count": null,
      "outputs": []
    },
    {
      "cell_type": "markdown",
      "source": [
        "## Split data to train, test, and validation"
      ],
      "metadata": {
        "id": "nLchz3shwJ5h"
      }
    },
    {
      "cell_type": "code",
      "source": [
        "X_train, X_test, y_train, y_test = train_test_split(X, y , test_size=0.25, random_state=0)"
      ],
      "metadata": {
        "id": "2EHQcZnBvv5t"
      },
      "execution_count": null,
      "outputs": []
    },
    {
      "cell_type": "code",
      "source": [
        "X_train, X_val, y_train, y_val = train_test_split(X_train, y_train, stratify=y_train, test_size = 0.2, random_state = 0)"
      ],
      "metadata": {
        "id": "VwHi3H9RIrVP"
      },
      "execution_count": null,
      "outputs": []
    },
    {
      "cell_type": "markdown",
      "source": [
        "## Normalize data"
      ],
      "metadata": {
        "id": "PX81zpEHwNc2"
      }
    },
    {
      "cell_type": "code",
      "source": [
        "ss_train = StandardScaler()\n",
        "X_train = ss_train.fit_transform(X_train)"
      ],
      "metadata": {
        "id": "HWiwKL6LwMFd"
      },
      "execution_count": null,
      "outputs": []
    },
    {
      "cell_type": "code",
      "source": [
        "ss_test = StandardScaler()\n",
        "X_test = ss_test.fit_transform(X_test)"
      ],
      "metadata": {
        "id": "yaZx2L3KwcDy"
      },
      "execution_count": null,
      "outputs": []
    },
    {
      "cell_type": "markdown",
      "source": [
        "## Train Model"
      ],
      "metadata": {
        "id": "8RUkkk50GK88"
      }
    },
    {
      "cell_type": "code",
      "source": [
        "model = LogisticRegression(C=0.02)\n",
        "model.fit(X_train, y_train)"
      ],
      "metadata": {
        "colab": {
          "base_uri": "https://localhost:8080/",
          "height": 75
        },
        "id": "7EDGZV70C3hp",
        "outputId": "dc40a8ca-26e1-4850-af60-d1a2d4acb33c"
      },
      "execution_count": null,
      "outputs": [
        {
          "output_type": "execute_result",
          "data": {
            "text/plain": [
              "LogisticRegression(C=0.02)"
            ],
            "text/html": [
              "<style>#sk-container-id-1 {color: black;background-color: white;}#sk-container-id-1 pre{padding: 0;}#sk-container-id-1 div.sk-toggleable {background-color: white;}#sk-container-id-1 label.sk-toggleable__label {cursor: pointer;display: block;width: 100%;margin-bottom: 0;padding: 0.3em;box-sizing: border-box;text-align: center;}#sk-container-id-1 label.sk-toggleable__label-arrow:before {content: \"▸\";float: left;margin-right: 0.25em;color: #696969;}#sk-container-id-1 label.sk-toggleable__label-arrow:hover:before {color: black;}#sk-container-id-1 div.sk-estimator:hover label.sk-toggleable__label-arrow:before {color: black;}#sk-container-id-1 div.sk-toggleable__content {max-height: 0;max-width: 0;overflow: hidden;text-align: left;background-color: #f0f8ff;}#sk-container-id-1 div.sk-toggleable__content pre {margin: 0.2em;color: black;border-radius: 0.25em;background-color: #f0f8ff;}#sk-container-id-1 input.sk-toggleable__control:checked~div.sk-toggleable__content {max-height: 200px;max-width: 100%;overflow: auto;}#sk-container-id-1 input.sk-toggleable__control:checked~label.sk-toggleable__label-arrow:before {content: \"▾\";}#sk-container-id-1 div.sk-estimator input.sk-toggleable__control:checked~label.sk-toggleable__label {background-color: #d4ebff;}#sk-container-id-1 div.sk-label input.sk-toggleable__control:checked~label.sk-toggleable__label {background-color: #d4ebff;}#sk-container-id-1 input.sk-hidden--visually {border: 0;clip: rect(1px 1px 1px 1px);clip: rect(1px, 1px, 1px, 1px);height: 1px;margin: -1px;overflow: hidden;padding: 0;position: absolute;width: 1px;}#sk-container-id-1 div.sk-estimator {font-family: monospace;background-color: #f0f8ff;border: 1px dotted black;border-radius: 0.25em;box-sizing: border-box;margin-bottom: 0.5em;}#sk-container-id-1 div.sk-estimator:hover {background-color: #d4ebff;}#sk-container-id-1 div.sk-parallel-item::after {content: \"\";width: 100%;border-bottom: 1px solid gray;flex-grow: 1;}#sk-container-id-1 div.sk-label:hover label.sk-toggleable__label {background-color: #d4ebff;}#sk-container-id-1 div.sk-serial::before {content: \"\";position: absolute;border-left: 1px solid gray;box-sizing: border-box;top: 0;bottom: 0;left: 50%;z-index: 0;}#sk-container-id-1 div.sk-serial {display: flex;flex-direction: column;align-items: center;background-color: white;padding-right: 0.2em;padding-left: 0.2em;position: relative;}#sk-container-id-1 div.sk-item {position: relative;z-index: 1;}#sk-container-id-1 div.sk-parallel {display: flex;align-items: stretch;justify-content: center;background-color: white;position: relative;}#sk-container-id-1 div.sk-item::before, #sk-container-id-1 div.sk-parallel-item::before {content: \"\";position: absolute;border-left: 1px solid gray;box-sizing: border-box;top: 0;bottom: 0;left: 50%;z-index: -1;}#sk-container-id-1 div.sk-parallel-item {display: flex;flex-direction: column;z-index: 1;position: relative;background-color: white;}#sk-container-id-1 div.sk-parallel-item:first-child::after {align-self: flex-end;width: 50%;}#sk-container-id-1 div.sk-parallel-item:last-child::after {align-self: flex-start;width: 50%;}#sk-container-id-1 div.sk-parallel-item:only-child::after {width: 0;}#sk-container-id-1 div.sk-dashed-wrapped {border: 1px dashed gray;margin: 0 0.4em 0.5em 0.4em;box-sizing: border-box;padding-bottom: 0.4em;background-color: white;}#sk-container-id-1 div.sk-label label {font-family: monospace;font-weight: bold;display: inline-block;line-height: 1.2em;}#sk-container-id-1 div.sk-label-container {text-align: center;}#sk-container-id-1 div.sk-container {/* jupyter's `normalize.less` sets `[hidden] { display: none; }` but bootstrap.min.css set `[hidden] { display: none !important; }` so we also need the `!important` here to be able to override the default hidden behavior on the sphinx rendered scikit-learn.org. See: https://github.com/scikit-learn/scikit-learn/issues/21755 */display: inline-block !important;position: relative;}#sk-container-id-1 div.sk-text-repr-fallback {display: none;}</style><div id=\"sk-container-id-1\" class=\"sk-top-container\"><div class=\"sk-text-repr-fallback\"><pre>LogisticRegression(C=0.02)</pre><b>In a Jupyter environment, please rerun this cell to show the HTML representation or trust the notebook. <br />On GitHub, the HTML representation is unable to render, please try loading this page with nbviewer.org.</b></div><div class=\"sk-container\" hidden><div class=\"sk-item\"><div class=\"sk-estimator sk-toggleable\"><input class=\"sk-toggleable__control sk-hidden--visually\" id=\"sk-estimator-id-1\" type=\"checkbox\" checked><label for=\"sk-estimator-id-1\" class=\"sk-toggleable__label sk-toggleable__label-arrow\">LogisticRegression</label><div class=\"sk-toggleable__content\"><pre>LogisticRegression(C=0.02)</pre></div></div></div></div></div>"
            ]
          },
          "metadata": {},
          "execution_count": 43
        }
      ]
    },
    {
      "cell_type": "code",
      "source": [
        "y_prediction = model.predict(X_test)"
      ],
      "metadata": {
        "id": "RIfwDd2dHcD3"
      },
      "execution_count": null,
      "outputs": []
    },
    {
      "cell_type": "code",
      "source": [
        "recall = recall_score(y_test, y_prediction, average='weighted')\n",
        "precision = precision_score(y_test, y_prediction, average='weighted')\n",
        "weighted_accuracy = accuracy_score(y_test, y_prediction)\n",
        "auc = roc_auc_score(y_test, y_prediction)\n",
        "\n",
        "print(f\"Recall: {recall:.2f}\")\n",
        "print(f\"Precision: {precision:.2f}\")\n",
        "print(f\"Weighted Accuracy: {weighted_accuracy:.2f}\")\n",
        "print(f\"AUC: {auc:.2f}\")"
      ],
      "metadata": {
        "colab": {
          "base_uri": "https://localhost:8080/"
        },
        "id": "widnLS_zHf7D",
        "outputId": "fbb5d264-fffd-4a86-b1d3-8d23f2b559ed"
      },
      "execution_count": null,
      "outputs": [
        {
          "output_type": "stream",
          "name": "stdout",
          "text": [
            "Recall: 0.88\n",
            "Precision: 0.85\n",
            "Weighted Accuracy: 0.88\n",
            "AUC: 0.56\n"
          ]
        }
      ]
    },
    {
      "cell_type": "markdown",
      "source": [
        "## TensorFlow"
      ],
      "metadata": {
        "id": "DqjScUlAIUVW"
      }
    },
    {
      "cell_type": "code",
      "source": [
        "binary_model = tf.keras.Sequential([\n",
        "    tf.keras.layers.Dense(5,activation='relu',input_dim=16),\n",
        "    tf.keras.layers.Dense(1, activation='sigmoid')\n",
        "])"
      ],
      "metadata": {
        "id": "uJ7Jnz69IFRA"
      },
      "execution_count": null,
      "outputs": []
    },
    {
      "cell_type": "code",
      "source": [
        "binary_model.summary()"
      ],
      "metadata": {
        "colab": {
          "base_uri": "https://localhost:8080/"
        },
        "id": "6MFuZKQDIhNf",
        "outputId": "625973ce-2616-4198-e463-82965c2afad8"
      },
      "execution_count": null,
      "outputs": [
        {
          "output_type": "stream",
          "name": "stdout",
          "text": [
            "Model: \"sequential\"\n",
            "_________________________________________________________________\n",
            " Layer (type)                Output Shape              Param #   \n",
            "=================================================================\n",
            " dense (Dense)               (None, 5)                 85        \n",
            "                                                                 \n",
            " dense_1 (Dense)             (None, 1)                 6         \n",
            "                                                                 \n",
            "=================================================================\n",
            "Total params: 91 (364.00 Byte)\n",
            "Trainable params: 91 (364.00 Byte)\n",
            "Non-trainable params: 0 (0.00 Byte)\n",
            "_________________________________________________________________\n"
          ]
        }
      ]
    },
    {
      "cell_type": "code",
      "source": [
        "binary_model.compile(loss='binary_crossentropy',\n",
        "                     optimizer='adam',\n",
        "                      metrics='accuracy')"
      ],
      "metadata": {
        "id": "Gr6DS-9hIiTj"
      },
      "execution_count": null,
      "outputs": []
    },
    {
      "cell_type": "code",
      "source": [
        "binary_model_history = binary_model.fit(X_train, y_train,\n",
        "                      validation_data=(X_val,y_val),\n",
        "                      batch_size=100, epochs=4)"
      ],
      "metadata": {
        "colab": {
          "base_uri": "https://localhost:8080/"
        },
        "id": "KR_6rP8nIlMJ",
        "outputId": "fcfb7300-329f-4338-dea4-2c7dc19049cb"
      },
      "execution_count": null,
      "outputs": [
        {
          "output_type": "stream",
          "name": "stdout",
          "text": [
            "Epoch 1/4\n",
            "28/28 [==============================] - 1s 10ms/step - loss: 0.5836 - accuracy: 0.7021 - val_loss: 31.9887 - val_accuracy: 0.8260\n",
            "Epoch 2/4\n",
            "28/28 [==============================] - 0s 4ms/step - loss: 0.5282 - accuracy: 0.7504 - val_loss: 31.1740 - val_accuracy: 0.8245\n",
            "Epoch 3/4\n",
            "28/28 [==============================] - 0s 3ms/step - loss: 0.4849 - accuracy: 0.7872 - val_loss: 30.3685 - val_accuracy: 0.8230\n",
            "Epoch 4/4\n",
            "28/28 [==============================] - 0s 3ms/step - loss: 0.4501 - accuracy: 0.8215 - val_loss: 29.1835 - val_accuracy: 0.8215\n"
          ]
        }
      ]
    },
    {
      "cell_type": "code",
      "source": [
        "y_prob = binary_model.predict(X_test)\n",
        "y_pred = (y_prob > 0.5).astype(int)\n",
        "\n",
        "recall = recall_score(y_test, y_pred, average='weighted')\n",
        "precision = precision_score(y_test, y_pred, average='weighted')\n",
        "weighted_accuracy = accuracy_score(y_test, y_pred)\n",
        "auc = roc_auc_score(y_test, y_prob)\n",
        "\n",
        "print(f\"Recall: {recall:.2f}\")\n",
        "print(f\"Precision: {precision:.2f}\")\n",
        "print(f\"Weighted Accuracy: {weighted_accuracy:.2f}\")\n",
        "print(f\"AUC: {auc:.2f}\")"
      ],
      "metadata": {
        "id": "2SWCoPonIme9",
        "colab": {
          "base_uri": "https://localhost:8080/"
        },
        "outputId": "cffcea03-ee65-49d2-f095-8ffbd8980d36"
      },
      "execution_count": null,
      "outputs": [
        {
          "output_type": "stream",
          "name": "stdout",
          "text": [
            "36/36 [==============================] - 0s 1ms/step\n",
            "Recall: 0.84\n",
            "Precision: 0.80\n",
            "Weighted Accuracy: 0.84\n",
            "AUC: 0.67\n"
          ]
        }
      ]
    },
    {
      "cell_type": "code",
      "source": [
        "acc = binary_model_history.history['accuracy']\n",
        "val_acc = binary_model_history.history['val_accuracy']\n",
        "epochs = range(1,len(acc)+1)\n",
        "\n",
        "plt.title('Accuracy')\n",
        "plt.plot(epochs,acc,label='Train')\n",
        "plt.plot(epochs,val_acc,color='red',label='Validation')\n",
        "plt.xlabel('Epochs')\n",
        "plt.ylabel('Accuracy')\n",
        "plt.legend()\n",
        "plt.show()"
      ],
      "metadata": {
        "colab": {
          "base_uri": "https://localhost:8080/",
          "height": 472
        },
        "id": "qr0JE5X-vY7q",
        "outputId": "4a9295af-40cf-4082-fc28-b6d4c28fe6c6"
      },
      "execution_count": null,
      "outputs": [
        {
          "output_type": "display_data",
          "data": {
            "text/plain": [
              "<Figure size 640x480 with 1 Axes>"
            ],
            "image/png": "[encoded data removed]"
          },
          "metadata": {}
        }
      ]
    },
    {
      "cell_type": "code",
      "source": [
        "loss_function = binary_model_history.history['loss']\n",
        "val_loss_function = binary_model_history.history['val_loss']\n",
        "epochs = range(1,len(loss_function)+1)\n",
        "\n",
        "plt.title('Loss')\n",
        "plt.plot(epochs,loss_function,label='Train')\n",
        "plt.plot(epochs,val_loss_function,color='red',label='Validation')\n",
        "plt.xlabel('Epochs')\n",
        "plt.ylabel('Loss function')\n",
        "plt.legend()\n",
        "plt.show()"
      ],
      "metadata": {
        "colab": {
          "base_uri": "https://localhost:8080/",
          "height": 472
        },
        "id": "cXmhaGT0vQej",
        "outputId": "06795c9e-675b-41fb-95d8-ec8e5ecfd405"
      },
      "execution_count": null,
      "outputs": [
        {
          "output_type": "display_data",
          "data": {
            "text/plain": [
              "<Figure size 640x480 with 1 Axes>"
            ],
            "image/png": "[encoded data removed]"
          },
          "metadata": {}
        }
      ]
    },
    {
      "cell_type": "markdown",
      "source": [
        "# Многоклассовый классификатор"
      ],
      "metadata": {
        "id": "3xoPvmq36JmH"
      }
    },
    {
      "cell_type": "code",
      "source": [
        "data2 = pd.read_csv(file2_name)\n",
        "data2.head(10)"
      ],
      "metadata": {
        "colab": {
          "base_uri": "https://localhost:8080/",
          "height": 430
        },
        "id": "HgJxJU5b6NhT",
        "outputId": "687c16b5-3868-446e-dfdb-b10e1a37b7cc"
      },
      "execution_count": null,
      "outputs": [
        {
          "output_type": "execute_result",
          "data": {
            "text/plain": [
              "   baseline value  accelerations  fetal_movement  uterine_contractions  \\\n",
              "0           120.0          0.000             0.0                 0.000   \n",
              "1           132.0          0.006             0.0                 0.006   \n",
              "2           133.0          0.003             0.0                 0.008   \n",
              "3           134.0          0.003             0.0                 0.008   \n",
              "4           132.0          0.007             0.0                 0.008   \n",
              "5           134.0          0.001             0.0                 0.010   \n",
              "6           134.0          0.001             0.0                 0.013   \n",
              "7           122.0          0.000             0.0                 0.000   \n",
              "8           122.0          0.000             0.0                 0.002   \n",
              "9           122.0          0.000             0.0                 0.003   \n",
              "\n",
              "   light_decelerations  severe_decelerations  prolongued_decelerations  \\\n",
              "0                0.000                   0.0                     0.000   \n",
              "1                0.003                   0.0                     0.000   \n",
              "2                0.003                   0.0                     0.000   \n",
              "3                0.003                   0.0                     0.000   \n",
              "4                0.000                   0.0                     0.000   \n",
              "5                0.009                   0.0                     0.002   \n",
              "6                0.008                   0.0                     0.003   \n",
              "7                0.000                   0.0                     0.000   \n",
              "8                0.000                   0.0                     0.000   \n",
              "9                0.000                   0.0                     0.000   \n",
              "\n",
              "   abnormal_short_term_variability  mean_value_of_short_term_variability  \\\n",
              "0                             73.0                                   0.5   \n",
              "1                             17.0                                   2.1   \n",
              "2                             16.0                                   2.1   \n",
              "3                             16.0                                   2.4   \n",
              "4                             16.0                                   2.4   \n",
              "5                             26.0                                   5.9   \n",
              "6                             29.0                                   6.3   \n",
              "7                             83.0                                   0.5   \n",
              "8                             84.0                                   0.5   \n",
              "9                             86.0                                   0.3   \n",
              "\n",
              "   percentage_of_time_with_abnormal_long_term_variability  ...  histogram_min  \\\n",
              "0                                               43.0       ...           62.0   \n",
              "1                                                0.0       ...           68.0   \n",
              "2                                                0.0       ...           68.0   \n",
              "3                                                0.0       ...           53.0   \n",
              "4                                                0.0       ...           53.0   \n",
              "5                                                0.0       ...           50.0   \n",
              "6                                                0.0       ...           50.0   \n",
              "7                                                6.0       ...           62.0   \n",
              "8                                                5.0       ...           62.0   \n",
              "9                                                6.0       ...           62.0   \n",
              "\n",
              "   histogram_max  histogram_number_of_peaks  histogram_number_of_zeroes  \\\n",
              "0          126.0                        2.0                         0.0   \n",
              "1          198.0                        6.0                         1.0   \n",
              "2          198.0                        5.0                         1.0   \n",
              "3          170.0                       11.0                         0.0   \n",
              "4          170.0                        9.0                         0.0   \n",
              "5          200.0                        5.0                         3.0   \n",
              "6          200.0                        6.0                         3.0   \n",
              "7          130.0                        0.0                         0.0   \n",
              "8          130.0                        0.0                         0.0   \n",
              "9          130.0                        1.0                         0.0   \n",
              "\n",
              "   histogram_mode  histogram_mean  histogram_median  histogram_variance  \\\n",
              "0           120.0           137.0             121.0                73.0   \n",
              "1           141.0           136.0             140.0                12.0   \n",
              "2           141.0           135.0             138.0                13.0   \n",
              "3           137.0           134.0             137.0                13.0   \n",
              "4           137.0           136.0             138.0                11.0   \n",
              "5            76.0           107.0             107.0               170.0   \n",
              "6            71.0           107.0             106.0               215.0   \n",
              "7           122.0           122.0             123.0                 3.0   \n",
              "8           122.0           122.0             123.0                 3.0   \n",
              "9           122.0           122.0             123.0                 1.0   \n",
              "\n",
              "   histogram_tendency  fetal_health  \n",
              "0                 1.0           2.0  \n",
              "1                 0.0           1.0  \n",
              "2                 0.0           1.0  \n",
              "3                 1.0           1.0  \n",
              "4                 1.0           1.0  \n",
              "5                 0.0           3.0  \n",
              "6                 0.0           3.0  \n",
              "7                 1.0           3.0  \n",
              "8                 1.0           3.0  \n",
              "9                 1.0           3.0  \n",
              "\n",
              "[10 rows x 22 columns]"
            ],
            "text/html": [
              "\n",
              "  <div id=\"df-a2cf37dc-b90c-4545-8088-8b18dea85262\" class=\"colab-df-container\">\n",
              "    <div>\n",
              "<style scoped>\n",
              "    .dataframe tbody tr th:only-of-type {\n",
              "        vertical-align: middle;\n",
              "    }\n",
              "\n",
              "    .dataframe tbody tr th {\n",
              "        vertical-align: top;\n",
              "    }\n",
              "\n",
              "    .dataframe thead th {\n",
              "        text-align: right;\n",
              "    }\n",
              "</style>\n",
              "<table border=\"1\" class=\"dataframe\">\n",
              "  <thead>\n",
              "    <tr style=\"text-align: right;\">\n",
              "      <th></th>\n",
              "      <th>baseline value</th>\n",
              "      <th>accelerations</th>\n",
              "      <th>fetal_movement</th>\n",
              "      <th>uterine_contractions</th>\n",
              "      <th>light_decelerations</th>\n",
              "      <th>severe_decelerations</th>\n",
              "      <th>prolongued_decelerations</th>\n",
              "      <th>abnormal_short_term_variability</th>\n",
              "      <th>mean_value_of_short_term_variability</th>\n",
              "      <th>percentage_of_time_with_abnormal_long_term_variability</th>\n",
              "      <th>...</th>\n",
              "      <th>histogram_min</th>\n",
              "      <th>histogram_max</th>\n",
              "      <th>histogram_number_of_peaks</th>\n",
              "      <th>histogram_number_of_zeroes</th>\n",
              "      <th>histogram_mode</th>\n",
              "      <th>histogram_mean</th>\n",
              "      <th>histogram_median</th>\n",
              "      <th>histogram_variance</th>\n",
              "      <th>histogram_tendency</th>\n",
              "      <th>fetal_health</th>\n",
              "    </tr>\n",
              "  </thead>\n",
              "  <tbody>\n",
              "    <tr>\n",
              "      <th>0</th>\n",
              "      <td>120.0</td>\n",
              "      <td>0.000</td>\n",
              "      <td>0.0</td>\n",
              "      <td>0.000</td>\n",
              "      <td>0.000</td>\n",
              "      <td>0.0</td>\n",
              "      <td>0.000</td>\n",
              "      <td>73.0</td>\n",
              "      <td>0.5</td>\n",
              "      <td>43.0</td>\n",
              "      <td>...</td>\n",
              "      <td>62.0</td>\n",
              "      <td>126.0</td>\n",
              "      <td>2.0</td>\n",
              "      <td>0.0</td>\n",
              "      <td>120.0</td>\n",
              "      <td>137.0</td>\n",
              "      <td>121.0</td>\n",
              "      <td>73.0</td>\n",
              "      <td>1.0</td>\n",
              "      <td>2.0</td>\n",
              "    </tr>\n",
              "    <tr>\n",
              "      <th>1</th>\n",
              "      <td>132.0</td>\n",
              "      <td>0.006</td>\n",
              "      <td>0.0</td>\n",
              "      <td>0.006</td>\n",
              "      <td>0.003</td>\n",
              "      <td>0.0</td>\n",
              "      <td>0.000</td>\n",
              "      <td>17.0</td>\n",
              "      <td>2.1</td>\n",
              "      <td>0.0</td>\n",
              "      <td>...</td>\n",
              "      <td>68.0</td>\n",
              "      <td>198.0</td>\n",
              "      <td>6.0</td>\n",
              "      <td>1.0</td>\n",
              "      <td>141.0</td>\n",
              "      <td>136.0</td>\n",
              "      <td>140.0</td>\n",
              "      <td>12.0</td>\n",
              "      <td>0.0</td>\n",
              "      <td>1.0</td>\n",
              "    </tr>\n",
              "    <tr>\n",
              "      <th>2</th>\n",
              "      <td>133.0</td>\n",
              "      <td>0.003</td>\n",
              "      <td>0.0</td>\n",
              "      <td>0.008</td>\n",
              "      <td>0.003</td>\n",
              "      <td>0.0</td>\n",
              "      <td>0.000</td>\n",
              "      <td>16.0</td>\n",
              "      <td>2.1</td>\n",
              "      <td>0.0</td>\n",
              "      <td>...</td>\n",
              "      <td>68.0</td>\n",
              "      <td>198.0</td>\n",
              "      <td>5.0</td>\n",
              "      <td>1.0</td>\n",
              "      <td>141.0</td>\n",
              "      <td>135.0</td>\n",
              "      <td>138.0</td>\n",
              "      <td>13.0</td>\n",
              "      <td>0.0</td>\n",
              "      <td>1.0</td>\n",
              "    </tr>\n",
              "    <tr>\n",
              "      <th>3</th>\n",
              "      <td>134.0</td>\n",
              "      <td>0.003</td>\n",
              "      <td>0.0</td>\n",
              "      <td>0.008</td>\n",
              "      <td>0.003</td>\n",
              "      <td>0.0</td>\n",
              "      <td>0.000</td>\n",
              "      <td>16.0</td>\n",
              "      <td>2.4</td>\n",
              "      <td>0.0</td>\n",
              "      <td>...</td>\n",
              "      <td>53.0</td>\n",
              "      <td>170.0</td>\n",
              "      <td>11.0</td>\n",
              "      <td>0.0</td>\n",
              "      <td>137.0</td>\n",
              "      <td>134.0</td>\n",
              "      <td>137.0</td>\n",
              "      <td>13.0</td>\n",
              "      <td>1.0</td>\n",
              "      <td>1.0</td>\n",
              "    </tr>\n",
              "    <tr>\n",
              "      <th>4</th>\n",
              "      <td>132.0</td>\n",
              "      <td>0.007</td>\n",
              "      <td>0.0</td>\n",
              "      <td>0.008</td>\n",
              "      <td>0.000</td>\n",
              "      <td>0.0</td>\n",
              "      <td>0.000</td>\n",
              "      <td>16.0</td>\n",
              "      <td>2.4</td>\n",
              "      <td>0.0</td>\n",
              "      <td>...</td>\n",
              "      <td>53.0</td>\n",
              "      <td>170.0</td>\n",
              "      <td>9.0</td>\n",
              "      <td>0.0</td>\n",
              "      <td>137.0</td>\n",
              "      <td>136.0</td>\n",
              "      <td>138.0</td>\n",
              "      <td>11.0</td>\n",
              "      <td>1.0</td>\n",
              "      <td>1.0</td>\n",
              "    </tr>\n",
              "    <tr>\n",
              "      <th>5</th>\n",
              "      <td>134.0</td>\n",
              "      <td>0.001</td>\n",
              "      <td>0.0</td>\n",
              "      <td>0.010</td>\n",
              "      <td>0.009</td>\n",
              "      <td>0.0</td>\n",
              "      <td>0.002</td>\n",
              "      <td>26.0</td>\n",
              "      <td>5.9</td>\n",
              "      <td>0.0</td>\n",
              "      <td>...</td>\n",
              "      <td>50.0</td>\n",
              "      <td>200.0</td>\n",
              "      <td>5.0</td>\n",
              "      <td>3.0</td>\n",
              "      <td>76.0</td>\n",
              "      <td>107.0</td>\n",
              "      <td>107.0</td>\n",
              "      <td>170.0</td>\n",
              "      <td>0.0</td>\n",
              "      <td>3.0</td>\n",
              "    </tr>\n",
              "    <tr>\n",
              "      <th>6</th>\n",
              "      <td>134.0</td>\n",
              "      <td>0.001</td>\n",
              "      <td>0.0</td>\n",
              "      <td>0.013</td>\n",
              "      <td>0.008</td>\n",
              "      <td>0.0</td>\n",
              "      <td>0.003</td>\n",
              "      <td>29.0</td>\n",
              "      <td>6.3</td>\n",
              "      <td>0.0</td>\n",
              "      <td>...</td>\n",
              "      <td>50.0</td>\n",
              "      <td>200.0</td>\n",
              "      <td>6.0</td>\n",
              "      <td>3.0</td>\n",
              "      <td>71.0</td>\n",
              "      <td>107.0</td>\n",
              "      <td>106.0</td>\n",
              "      <td>215.0</td>\n",
              "      <td>0.0</td>\n",
              "      <td>3.0</td>\n",
              "    </tr>\n",
              "    <tr>\n",
              "      <th>7</th>\n",
              "      <td>122.0</td>\n",
              "      <td>0.000</td>\n",
              "      <td>0.0</td>\n",
              "      <td>0.000</td>\n",
              "      <td>0.000</td>\n",
              "      <td>0.0</td>\n",
              "      <td>0.000</td>\n",
              "      <td>83.0</td>\n",
              "      <td>0.5</td>\n",
              "      <td>6.0</td>\n",
              "      <td>...</td>\n",
              "      <td>62.0</td>\n",
              "      <td>130.0</td>\n",
              "      <td>0.0</td>\n",
              "      <td>0.0</td>\n",
              "      <td>122.0</td>\n",
              "      <td>122.0</td>\n",
              "      <td>123.0</td>\n",
              "      <td>3.0</td>\n",
              "      <td>1.0</td>\n",
              "      <td>3.0</td>\n",
              "    </tr>\n",
              "    <tr>\n",
              "      <th>8</th>\n",
              "      <td>122.0</td>\n",
              "      <td>0.000</td>\n",
              "      <td>0.0</td>\n",
              "      <td>0.002</td>\n",
              "      <td>0.000</td>\n",
              "      <td>0.0</td>\n",
              "      <td>0.000</td>\n",
              "      <td>84.0</td>\n",
              "      <td>0.5</td>\n",
              "      <td>5.0</td>\n",
              "      <td>...</td>\n",
              "      <td>62.0</td>\n",
              "      <td>130.0</td>\n",
              "      <td>0.0</td>\n",
              "      <td>0.0</td>\n",
              "      <td>122.0</td>\n",
              "      <td>122.0</td>\n",
              "      <td>123.0</td>\n",
              "      <td>3.0</td>\n",
              "      <td>1.0</td>\n",
              "      <td>3.0</td>\n",
              "    </tr>\n",
              "    <tr>\n",
              "      <th>9</th>\n",
              "      <td>122.0</td>\n",
              "      <td>0.000</td>\n",
              "      <td>0.0</td>\n",
              "      <td>0.003</td>\n",
              "      <td>0.000</td>\n",
              "      <td>0.0</td>\n",
              "      <td>0.000</td>\n",
              "      <td>86.0</td>\n",
              "      <td>0.3</td>\n",
              "      <td>6.0</td>\n",
              "      <td>...</td>\n",
              "      <td>62.0</td>\n",
              "      <td>130.0</td>\n",
              "      <td>1.0</td>\n",
              "      <td>0.0</td>\n",
              "      <td>122.0</td>\n",
              "      <td>122.0</td>\n",
              "      <td>123.0</td>\n",
              "      <td>1.0</td>\n",
              "      <td>1.0</td>\n",
              "      <td>3.0</td>\n",
              "    </tr>\n",
              "  </tbody>\n",
              "</table>\n",
              "<p>10 rows × 22 columns</p>\n",
              "</div>\n",
              "    <div class=\"colab-df-buttons\">\n",
              "\n",
              "  <div class=\"colab-df-container\">\n",
              "    <button class=\"colab-df-convert\" onclick=\"convertToInteractive('df-a2cf37dc-b90c-4545-8088-8b18dea85262')\"\n",
              "            title=\"Convert this dataframe to an interactive table.\"\n",
              "            style=\"display:none;\">\n",
              "\n",
              "  <svg xmlns=\"http://www.w3.org/2000/svg\" height=\"24px\" viewBox=\"0 -960 960 960\">\n",
              "    <path d=\"M120-120v-720h720v720H120Zm60-500h600v-160H180v160Zm220 220h160v-160H400v160Zm0 220h160v-160H400v160ZM180-400h160v-160H180v160Zm440 0h160v-160H620v160ZM180-180h160v-160H180v160Zm440 0h160v-160H620v160Z\"/>\n",
              "  </svg>\n",
              "    </button>\n",
              "\n",
              "  <style>\n",
              "    .colab-df-container {\n",
              "      display:flex;\n",
              "      gap: 12px;\n",
              "    }\n",
              "\n",
              "    .colab-df-convert {\n",
              "      background-color: #E8F0FE;\n",
              "      border: none;\n",
              "      border-radius: 50%;\n",
              "      cursor: pointer;\n",
              "      display: none;\n",
              "      fill: #1967D2;\n",
              "      height: 32px;\n",
              "      padding: 0 0 0 0;\n",
              "      width: 32px;\n",
              "    }\n",
              "\n",
              "    .colab-df-convert:hover {\n",
              "      background-color: #E2EBFA;\n",
              "      box-shadow: 0px 1px 2px rgba(60, 64, 67, 0.3), 0px 1px 3px 1px rgba(60, 64, 67, 0.15);\n",
              "      fill: #174EA6;\n",
              "    }\n",
              "\n",
              "    .colab-df-buttons div {\n",
              "      margin-bottom: 4px;\n",
              "    }\n",
              "\n",
              "    [theme=dark] .colab-df-convert {\n",
              "      background-color: #3B4455;\n",
              "      fill: #D2E3FC;\n",
              "    }\n",
              "\n",
              "    [theme=dark] .colab-df-convert:hover {\n",
              "      background-color: #434B5C;\n",
              "      box-shadow: 0px 1px 3px 1px rgba(0, 0, 0, 0.15);\n",
              "      filter: drop-shadow(0px 1px 2px rgba(0, 0, 0, 0.3));\n",
              "      fill: #FFFFFF;\n",
              "    }\n",
              "  </style>\n",
              "\n",
              "    <script>\n",
              "      const buttonEl =\n",
              "        document.querySelector('#df-a2cf37dc-b90c-4545-8088-8b18dea85262 button.colab-df-convert');\n",
              "      buttonEl.style.display =\n",
              "        google.colab.kernel.accessAllowed ? 'block' : 'none';\n",
              "\n",
              "      async function convertToInteractive(key) {\n",
              "        const element = document.querySelector('#df-a2cf37dc-b90c-4545-8088-8b18dea85262');\n",
              "        const dataTable =\n",
              "          await google.colab.kernel.invokeFunction('convertToInteractive',\n",
              "                                                    [key], {});\n",
              "        if (!dataTable) return;\n",
              "\n",
              "        const docLinkHtml = 'Like what you see? Visit the ' +\n",
              "          '<a target=\"_blank\" href=https://colab.research.google.com/notebooks/data_table.ipynb>data table notebook</a>'\n",
              "          + ' to learn more about interactive tables.';\n",
              "        element.innerHTML = '';\n",
              "        dataTable['output_type'] = 'display_data';\n",
              "        await google.colab.output.renderOutput(dataTable, element);\n",
              "        const docLink = document.createElement('div');\n",
              "        docLink.innerHTML = docLinkHtml;\n",
              "        element.appendChild(docLink);\n",
              "      }\n",
              "    </script>\n",
              "  </div>\n",
              "\n",
              "\n",
              "<div id=\"df-d93d56f9-1b13-4721-88e8-909e30a234fe\">\n",
              "  <button class=\"colab-df-quickchart\" onclick=\"quickchart('df-d93d56f9-1b13-4721-88e8-909e30a234fe')\"\n",
              "            title=\"Suggest charts.\"\n",
              "            style=\"display:none;\">\n",
              "\n",
              "<svg xmlns=\"http://www.w3.org/2000/svg\" height=\"24px\"viewBox=\"0 0 24 24\"\n",
              "     width=\"24px\">\n",
              "    <g>\n",
              "        <path d=\"M19 3H5c-1.1 0-2 .9-2 2v14c0 1.1.9 2 2 2h14c1.1 0 2-.9 2-2V5c0-1.1-.9-2-2-2zM9 17H7v-7h2v7zm4 0h-2V7h2v10zm4 0h-2v-4h2v4z\"/>\n",
              "    </g>\n",
              "</svg>\n",
              "  </button>\n",
              "\n",
              "<style>\n",
              "  .colab-df-quickchart {\n",
              "      --bg-color: #E8F0FE;\n",
              "      --fill-color: #1967D2;\n",
              "      --hover-bg-color: #E2EBFA;\n",
              "      --hover-fill-color: #174EA6;\n",
              "      --disabled-fill-color: #AAA;\n",
              "      --disabled-bg-color: #DDD;\n",
              "  }\n",
              "\n",
              "  [theme=dark] .colab-df-quickchart {\n",
              "      --bg-color: #3B4455;\n",
              "      --fill-color: #D2E3FC;\n",
              "      --hover-bg-color: #434B5C;\n",
              "      --hover-fill-color: #FFFFFF;\n",
              "      --disabled-bg-color: #3B4455;\n",
              "      --disabled-fill-color: #666;\n",
              "  }\n",
              "\n",
              "  .colab-df-quickchart {\n",
              "    background-color: var(--bg-color);\n",
              "    border: none;\n",
              "    border-radius: 50%;\n",
              "    cursor: pointer;\n",
              "    display: none;\n",
              "    fill: var(--fill-color);\n",
              "    height: 32px;\n",
              "    padding: 0;\n",
              "    width: 32px;\n",
              "  }\n",
              "\n",
              "  .colab-df-quickchart:hover {\n",
              "    background-color: var(--hover-bg-color);\n",
              "    box-shadow: 0 1px 2px rgba(60, 64, 67, 0.3), 0 1px 3px 1px rgba(60, 64, 67, 0.15);\n",
              "    fill: var(--button-hover-fill-color);\n",
              "  }\n",
              "\n",
              "  .colab-df-quickchart-complete:disabled,\n",
              "  .colab-df-quickchart-complete:disabled:hover {\n",
              "    background-color: var(--disabled-bg-color);\n",
              "    fill: var(--disabled-fill-color);\n",
              "    box-shadow: none;\n",
              "  }\n",
              "\n",
              "  .colab-df-spinner {\n",
              "    border: 2px solid var(--fill-color);\n",
              "    border-color: transparent;\n",
              "    border-bottom-color: var(--fill-color);\n",
              "    animation:\n",
              "      spin 1s steps(1) infinite;\n",
              "  }\n",
              "\n",
              "  @keyframes spin {\n",
              "    0% {\n",
              "      border-color: transparent;\n",
              "      border-bottom-color: var(--fill-color);\n",
              "      border-left-color: var(--fill-color);\n",
              "    }\n",
              "    20% {\n",
              "      border-color: transparent;\n",
              "      border-left-color: var(--fill-color);\n",
              "      border-top-color: var(--fill-color);\n",
              "    }\n",
              "    30% {\n",
              "      border-color: transparent;\n",
              "      border-left-color: var(--fill-color);\n",
              "      border-top-color: var(--fill-color);\n",
              "      border-right-color: var(--fill-color);\n",
              "    }\n",
              "    40% {\n",
              "      border-color: transparent;\n",
              "      border-right-color: var(--fill-color);\n",
              "      border-top-color: var(--fill-color);\n",
              "    }\n",
              "    60% {\n",
              "      border-color: transparent;\n",
              "      border-right-color: var(--fill-color);\n",
              "    }\n",
              "    80% {\n",
              "      border-color: transparent;\n",
              "      border-right-color: var(--fill-color);\n",
              "      border-bottom-color: var(--fill-color);\n",
              "    }\n",
              "    90% {\n",
              "      border-color: transparent;\n",
              "      border-bottom-color: var(--fill-color);\n",
              "    }\n",
              "  }\n",
              "</style>\n",
              "\n",
              "  <script>\n",
              "    async function quickchart(key) {\n",
              "      const quickchartButtonEl =\n",
              "        document.querySelector('#' + key + ' button');\n",
              "      quickchartButtonEl.disabled = true;  // To prevent multiple clicks.\n",
              "      quickchartButtonEl.classList.add('colab-df-spinner');\n",
              "      try {\n",
              "        const charts = await google.colab.kernel.invokeFunction(\n",
              "            'suggestCharts', [key], {});\n",
              "      } catch (error) {\n",
              "        console.error('Error during call to suggestCharts:', error);\n",
              "      }\n",
              "      quickchartButtonEl.classList.remove('colab-df-spinner');\n",
              "      quickchartButtonEl.classList.add('colab-df-quickchart-complete');\n",
              "    }\n",
              "    (() => {\n",
              "      let quickchartButtonEl =\n",
              "        document.querySelector('#df-d93d56f9-1b13-4721-88e8-909e30a234fe button');\n",
              "      quickchartButtonEl.style.display =\n",
              "        google.colab.kernel.accessAllowed ? 'block' : 'none';\n",
              "    })();\n",
              "  </script>\n",
              "</div>\n",
              "    </div>\n",
              "  </div>\n"
            ]
          },
          "metadata": {},
          "execution_count": 5
        }
      ]
    },
    {
      "cell_type": "code",
      "source": [
        "data2.describe()"
      ],
      "metadata": {
        "colab": {
          "base_uri": "https://localhost:8080/",
          "height": 367
        },
        "id": "KB3XTo9R6Y8e",
        "outputId": "85c1da94-7f35-4476-827e-8eda7b980778"
      },
      "execution_count": null,
      "outputs": [
        {
          "output_type": "execute_result",
          "data": {
            "text/plain": [
              "       baseline value  accelerations  fetal_movement  uterine_contractions  \\\n",
              "count     2126.000000    2126.000000     2126.000000           2126.000000   \n",
              "mean       133.303857       0.003178        0.009481              0.004366   \n",
              "std          9.840844       0.003866        0.046666              0.002946   \n",
              "min        106.000000       0.000000        0.000000              0.000000   \n",
              "25%        126.000000       0.000000        0.000000              0.002000   \n",
              "50%        133.000000       0.002000        0.000000              0.004000   \n",
              "75%        140.000000       0.006000        0.003000              0.007000   \n",
              "max        160.000000       0.019000        0.481000              0.015000   \n",
              "\n",
              "       light_decelerations  severe_decelerations  prolongued_decelerations  \\\n",
              "count          2126.000000           2126.000000               2126.000000   \n",
              "mean              0.001889              0.000003                  0.000159   \n",
              "std               0.002960              0.000057                  0.000590   \n",
              "min               0.000000              0.000000                  0.000000   \n",
              "25%               0.000000              0.000000                  0.000000   \n",
              "50%               0.000000              0.000000                  0.000000   \n",
              "75%               0.003000              0.000000                  0.000000   \n",
              "max               0.015000              0.001000                  0.005000   \n",
              "\n",
              "       abnormal_short_term_variability  mean_value_of_short_term_variability  \\\n",
              "count                      2126.000000                           2126.000000   \n",
              "mean                         46.990122                              1.332785   \n",
              "std                          17.192814                              0.883241   \n",
              "min                          12.000000                              0.200000   \n",
              "25%                          32.000000                              0.700000   \n",
              "50%                          49.000000                              1.200000   \n",
              "75%                          61.000000                              1.700000   \n",
              "max                          87.000000                              7.000000   \n",
              "\n",
              "       percentage_of_time_with_abnormal_long_term_variability  ...  \\\n",
              "count                                         2126.00000       ...   \n",
              "mean                                             9.84666       ...   \n",
              "std                                             18.39688       ...   \n",
              "min                                              0.00000       ...   \n",
              "25%                                              0.00000       ...   \n",
              "50%                                              0.00000       ...   \n",
              "75%                                             11.00000       ...   \n",
              "max                                             91.00000       ...   \n",
              "\n",
              "       histogram_min  histogram_max  histogram_number_of_peaks  \\\n",
              "count    2126.000000    2126.000000                2126.000000   \n",
              "mean       93.579492     164.025400                   4.068203   \n",
              "std        29.560212      17.944183                   2.949386   \n",
              "min        50.000000     122.000000                   0.000000   \n",
              "25%        67.000000     152.000000                   2.000000   \n",
              "50%        93.000000     162.000000                   3.000000   \n",
              "75%       120.000000     174.000000                   6.000000   \n",
              "max       159.000000     238.000000                  18.000000   \n",
              "\n",
              "       histogram_number_of_zeroes  histogram_mode  histogram_mean  \\\n",
              "count                 2126.000000     2126.000000     2126.000000   \n",
              "mean                     0.323612      137.452023      134.610536   \n",
              "std                      0.706059       16.381289       15.593596   \n",
              "min                      0.000000       60.000000       73.000000   \n",
              "25%                      0.000000      129.000000      125.000000   \n",
              "50%                      0.000000      139.000000      136.000000   \n",
              "75%                      0.000000      148.000000      145.000000   \n",
              "max                     10.000000      187.000000      182.000000   \n",
              "\n",
              "       histogram_median  histogram_variance  histogram_tendency  fetal_health  \n",
              "count       2126.000000         2126.000000         2126.000000   2126.000000  \n",
              "mean         138.090310           18.808090            0.320320      1.304327  \n",
              "std           14.466589           28.977636            0.610829      0.614377  \n",
              "min           77.000000            0.000000           -1.000000      1.000000  \n",
              "25%          129.000000            2.000000            0.000000      1.000000  \n",
              "50%          139.000000            7.000000            0.000000      1.000000  \n",
              "75%          148.000000           24.000000            1.000000      1.000000  \n",
              "max          186.000000          269.000000            1.000000      3.000000  \n",
              "\n",
              "[8 rows x 22 columns]"
            ],
            "text/html": [
              "\n",
              "  <div id=\"df-762021b8-4577-41e0-9002-9c67a560d75d\" class=\"colab-df-container\">\n",
              "    <div>\n",
              "<style scoped>\n",
              "    .dataframe tbody tr th:only-of-type {\n",
              "        vertical-align: middle;\n",
              "    }\n",
              "\n",
              "    .dataframe tbody tr th {\n",
              "        vertical-align: top;\n",
              "    }\n",
              "\n",
              "    .dataframe thead th {\n",
              "        text-align: right;\n",
              "    }\n",
              "</style>\n",
              "<table border=\"1\" class=\"dataframe\">\n",
              "  <thead>\n",
              "    <tr style=\"text-align: right;\">\n",
              "      <th></th>\n",
              "      <th>baseline value</th>\n",
              "      <th>accelerations</th>\n",
              "      <th>fetal_movement</th>\n",
              "      <th>uterine_contractions</th>\n",
              "      <th>light_decelerations</th>\n",
              "      <th>severe_decelerations</th>\n",
              "      <th>prolongued_decelerations</th>\n",
              "      <th>abnormal_short_term_variability</th>\n",
              "      <th>mean_value_of_short_term_variability</th>\n",
              "      <th>percentage_of_time_with_abnormal_long_term_variability</th>\n",
              "      <th>...</th>\n",
              "      <th>histogram_min</th>\n",
              "      <th>histogram_max</th>\n",
              "      <th>histogram_number_of_peaks</th>\n",
              "      <th>histogram_number_of_zeroes</th>\n",
              "      <th>histogram_mode</th>\n",
              "      <th>histogram_mean</th>\n",
              "      <th>histogram_median</th>\n",
              "      <th>histogram_variance</th>\n",
              "      <th>histogram_tendency</th>\n",
              "      <th>fetal_health</th>\n",
              "    </tr>\n",
              "  </thead>\n",
              "  <tbody>\n",
              "    <tr>\n",
              "      <th>count</th>\n",
              "      <td>2126.000000</td>\n",
              "      <td>2126.000000</td>\n",
              "      <td>2126.000000</td>\n",
              "      <td>2126.000000</td>\n",
              "      <td>2126.000000</td>\n",
              "      <td>2126.000000</td>\n",
              "      <td>2126.000000</td>\n",
              "      <td>2126.000000</td>\n",
              "      <td>2126.000000</td>\n",
              "      <td>2126.00000</td>\n",
              "      <td>...</td>\n",
              "      <td>2126.000000</td>\n",
              "      <td>2126.000000</td>\n",
              "      <td>2126.000000</td>\n",
              "      <td>2126.000000</td>\n",
              "      <td>2126.000000</td>\n",
              "      <td>2126.000000</td>\n",
              "      <td>2126.000000</td>\n",
              "      <td>2126.000000</td>\n",
              "      <td>2126.000000</td>\n",
              "      <td>2126.000000</td>\n",
              "    </tr>\n",
              "    <tr>\n",
              "      <th>mean</th>\n",
              "      <td>133.303857</td>\n",
              "      <td>0.003178</td>\n",
              "      <td>0.009481</td>\n",
              "      <td>0.004366</td>\n",
              "      <td>0.001889</td>\n",
              "      <td>0.000003</td>\n",
              "      <td>0.000159</td>\n",
              "      <td>46.990122</td>\n",
              "      <td>1.332785</td>\n",
              "      <td>9.84666</td>\n",
              "      <td>...</td>\n",
              "      <td>93.579492</td>\n",
              "      <td>164.025400</td>\n",
              "      <td>4.068203</td>\n",
              "      <td>0.323612</td>\n",
              "      <td>137.452023</td>\n",
              "      <td>134.610536</td>\n",
              "      <td>138.090310</td>\n",
              "      <td>18.808090</td>\n",
              "      <td>0.320320</td>\n",
              "      <td>1.304327</td>\n",
              "    </tr>\n",
              "    <tr>\n",
              "      <th>std</th>\n",
              "      <td>9.840844</td>\n",
              "      <td>0.003866</td>\n",
              "      <td>0.046666</td>\n",
              "      <td>0.002946</td>\n",
              "      <td>0.002960</td>\n",
              "      <td>0.000057</td>\n",
              "      <td>0.000590</td>\n",
              "      <td>17.192814</td>\n",
              "      <td>0.883241</td>\n",
              "      <td>18.39688</td>\n",
              "      <td>...</td>\n",
              "      <td>29.560212</td>\n",
              "      <td>17.944183</td>\n",
              "      <td>2.949386</td>\n",
              "      <td>0.706059</td>\n",
              "      <td>16.381289</td>\n",
              "      <td>15.593596</td>\n",
              "      <td>14.466589</td>\n",
              "      <td>28.977636</td>\n",
              "      <td>0.610829</td>\n",
              "      <td>0.614377</td>\n",
              "    </tr>\n",
              "    <tr>\n",
              "      <th>min</th>\n",
              "      <td>106.000000</td>\n",
              "      <td>0.000000</td>\n",
              "      <td>0.000000</td>\n",
              "      <td>0.000000</td>\n",
              "      <td>0.000000</td>\n",
              "      <td>0.000000</td>\n",
              "      <td>0.000000</td>\n",
              "      <td>12.000000</td>\n",
              "      <td>0.200000</td>\n",
              "      <td>0.00000</td>\n",
              "      <td>...</td>\n",
              "      <td>50.000000</td>\n",
              "      <td>122.000000</td>\n",
              "      <td>0.000000</td>\n",
              "      <td>0.000000</td>\n",
              "      <td>60.000000</td>\n",
              "      <td>73.000000</td>\n",
              "      <td>77.000000</td>\n",
              "      <td>0.000000</td>\n",
              "      <td>-1.000000</td>\n",
              "      <td>1.000000</td>\n",
              "    </tr>\n",
              "    <tr>\n",
              "      <th>25%</th>\n",
              "      <td>126.000000</td>\n",
              "      <td>0.000000</td>\n",
              "      <td>0.000000</td>\n",
              "      <td>0.002000</td>\n",
              "      <td>0.000000</td>\n",
              "      <td>0.000000</td>\n",
              "      <td>0.000000</td>\n",
              "      <td>32.000000</td>\n",
              "      <td>0.700000</td>\n",
              "      <td>0.00000</td>\n",
              "      <td>...</td>\n",
              "      <td>67.000000</td>\n",
              "      <td>152.000000</td>\n",
              "      <td>2.000000</td>\n",
              "      <td>0.000000</td>\n",
              "      <td>129.000000</td>\n",
              "      <td>125.000000</td>\n",
              "      <td>129.000000</td>\n",
              "      <td>2.000000</td>\n",
              "      <td>0.000000</td>\n",
              "      <td>1.000000</td>\n",
              "    </tr>\n",
              "    <tr>\n",
              "      <th>50%</th>\n",
              "      <td>133.000000</td>\n",
              "      <td>0.002000</td>\n",
              "      <td>0.000000</td>\n",
              "      <td>0.004000</td>\n",
              "      <td>0.000000</td>\n",
              "      <td>0.000000</td>\n",
              "      <td>0.000000</td>\n",
              "      <td>49.000000</td>\n",
              "      <td>1.200000</td>\n",
              "      <td>0.00000</td>\n",
              "      <td>...</td>\n",
              "      <td>93.000000</td>\n",
              "      <td>162.000000</td>\n",
              "      <td>3.000000</td>\n",
              "      <td>0.000000</td>\n",
              "      <td>139.000000</td>\n",
              "      <td>136.000000</td>\n",
              "      <td>139.000000</td>\n",
              "      <td>7.000000</td>\n",
              "      <td>0.000000</td>\n",
              "      <td>1.000000</td>\n",
              "    </tr>\n",
              "    <tr>\n",
              "      <th>75%</th>\n",
              "      <td>140.000000</td>\n",
              "      <td>0.006000</td>\n",
              "      <td>0.003000</td>\n",
              "      <td>0.007000</td>\n",
              "      <td>0.003000</td>\n",
              "      <td>0.000000</td>\n",
              "      <td>0.000000</td>\n",
              "      <td>61.000000</td>\n",
              "      <td>1.700000</td>\n",
              "      <td>11.00000</td>\n",
              "      <td>...</td>\n",
              "      <td>120.000000</td>\n",
              "      <td>174.000000</td>\n",
              "      <td>6.000000</td>\n",
              "      <td>0.000000</td>\n",
              "      <td>148.000000</td>\n",
              "      <td>145.000000</td>\n",
              "      <td>148.000000</td>\n",
              "      <td>24.000000</td>\n",
              "      <td>1.000000</td>\n",
              "      <td>1.000000</td>\n",
              "    </tr>\n",
              "    <tr>\n",
              "      <th>max</th>\n",
              "      <td>160.000000</td>\n",
              "      <td>0.019000</td>\n",
              "      <td>0.481000</td>\n",
              "      <td>0.015000</td>\n",
              "      <td>0.015000</td>\n",
              "      <td>0.001000</td>\n",
              "      <td>0.005000</td>\n",
              "      <td>87.000000</td>\n",
              "      <td>7.000000</td>\n",
              "      <td>91.00000</td>\n",
              "      <td>...</td>\n",
              "      <td>159.000000</td>\n",
              "      <td>238.000000</td>\n",
              "      <td>18.000000</td>\n",
              "      <td>10.000000</td>\n",
              "      <td>187.000000</td>\n",
              "      <td>182.000000</td>\n",
              "      <td>186.000000</td>\n",
              "      <td>269.000000</td>\n",
              "      <td>1.000000</td>\n",
              "      <td>3.000000</td>\n",
              "    </tr>\n",
              "  </tbody>\n",
              "</table>\n",
              "<p>8 rows × 22 columns</p>\n",
              "</div>\n",
              "    <div class=\"colab-df-buttons\">\n",
              "\n",
              "  <div class=\"colab-df-container\">\n",
              "    <button class=\"colab-df-convert\" onclick=\"convertToInteractive('df-762021b8-4577-41e0-9002-9c67a560d75d')\"\n",
              "            title=\"Convert this dataframe to an interactive table.\"\n",
              "            style=\"display:none;\">\n",
              "\n",
              "  <svg xmlns=\"http://www.w3.org/2000/svg\" height=\"24px\" viewBox=\"0 -960 960 960\">\n",
              "    <path d=\"M120-120v-720h720v720H120Zm60-500h600v-160H180v160Zm220 220h160v-160H400v160Zm0 220h160v-160H400v160ZM180-400h160v-160H180v160Zm440 0h160v-160H620v160ZM180-180h160v-160H180v160Zm440 0h160v-160H620v160Z\"/>\n",
              "  </svg>\n",
              "    </button>\n",
              "\n",
              "  <style>\n",
              "    .colab-df-container {\n",
              "      display:flex;\n",
              "      gap: 12px;\n",
              "    }\n",
              "\n",
              "    .colab-df-convert {\n",
              "      background-color: #E8F0FE;\n",
              "      border: none;\n",
              "      border-radius: 50%;\n",
              "      cursor: pointer;\n",
              "      display: none;\n",
              "      fill: #1967D2;\n",
              "      height: 32px;\n",
              "      padding: 0 0 0 0;\n",
              "      width: 32px;\n",
              "    }\n",
              "\n",
              "    .colab-df-convert:hover {\n",
              "      background-color: #E2EBFA;\n",
              "      box-shadow: 0px 1px 2px rgba(60, 64, 67, 0.3), 0px 1px 3px 1px rgba(60, 64, 67, 0.15);\n",
              "      fill: #174EA6;\n",
              "    }\n",
              "\n",
              "    .colab-df-buttons div {\n",
              "      margin-bottom: 4px;\n",
              "    }\n",
              "\n",
              "    [theme=dark] .colab-df-convert {\n",
              "      background-color: #3B4455;\n",
              "      fill: #D2E3FC;\n",
              "    }\n",
              "\n",
              "    [theme=dark] .colab-df-convert:hover {\n",
              "      background-color: #434B5C;\n",
              "      box-shadow: 0px 1px 3px 1px rgba(0, 0, 0, 0.15);\n",
              "      filter: drop-shadow(0px 1px 2px rgba(0, 0, 0, 0.3));\n",
              "      fill: #FFFFFF;\n",
              "    }\n",
              "  </style>\n",
              "\n",
              "    <script>\n",
              "      const buttonEl =\n",
              "        document.querySelector('#df-762021b8-4577-41e0-9002-9c67a560d75d button.colab-df-convert');\n",
              "      buttonEl.style.display =\n",
              "        google.colab.kernel.accessAllowed ? 'block' : 'none';\n",
              "\n",
              "      async function convertToInteractive(key) {\n",
              "        const element = document.querySelector('#df-762021b8-4577-41e0-9002-9c67a560d75d');\n",
              "        const dataTable =\n",
              "          await google.colab.kernel.invokeFunction('convertToInteractive',\n",
              "                                                    [key], {});\n",
              "        if (!dataTable) return;\n",
              "\n",
              "        const docLinkHtml = 'Like what you see? Visit the ' +\n",
              "          '<a target=\"_blank\" href=https://colab.research.google.com/notebooks/data_table.ipynb>data table notebook</a>'\n",
              "          + ' to learn more about interactive tables.';\n",
              "        element.innerHTML = '';\n",
              "        dataTable['output_type'] = 'display_data';\n",
              "        await google.colab.output.renderOutput(dataTable, element);\n",
              "        const docLink = document.createElement('div');\n",
              "        docLink.innerHTML = docLinkHtml;\n",
              "        element.appendChild(docLink);\n",
              "      }\n",
              "    </script>\n",
              "  </div>\n",
              "\n",
              "\n",
              "<div id=\"df-d286f15a-0e2b-42b7-841e-e6e2bf29aa6d\">\n",
              "  <button class=\"colab-df-quickchart\" onclick=\"quickchart('df-d286f15a-0e2b-42b7-841e-e6e2bf29aa6d')\"\n",
              "            title=\"Suggest charts.\"\n",
              "            style=\"display:none;\">\n",
              "\n",
              "<svg xmlns=\"http://www.w3.org/2000/svg\" height=\"24px\"viewBox=\"0 0 24 24\"\n",
              "     width=\"24px\">\n",
              "    <g>\n",
              "        <path d=\"M19 3H5c-1.1 0-2 .9-2 2v14c0 1.1.9 2 2 2h14c1.1 0 2-.9 2-2V5c0-1.1-.9-2-2-2zM9 17H7v-7h2v7zm4 0h-2V7h2v10zm4 0h-2v-4h2v4z\"/>\n",
              "    </g>\n",
              "</svg>\n",
              "  </button>\n",
              "\n",
              "<style>\n",
              "  .colab-df-quickchart {\n",
              "      --bg-color: #E8F0FE;\n",
              "      --fill-color: #1967D2;\n",
              "      --hover-bg-color: #E2EBFA;\n",
              "      --hover-fill-color: #174EA6;\n",
              "      --disabled-fill-color: #AAA;\n",
              "      --disabled-bg-color: #DDD;\n",
              "  }\n",
              "\n",
              "  [theme=dark] .colab-df-quickchart {\n",
              "      --bg-color: #3B4455;\n",
              "      --fill-color: #D2E3FC;\n",
              "      --hover-bg-color: #434B5C;\n",
              "      --hover-fill-color: #FFFFFF;\n",
              "      --disabled-bg-color: #3B4455;\n",
              "      --disabled-fill-color: #666;\n",
              "  }\n",
              "\n",
              "  .colab-df-quickchart {\n",
              "    background-color: var(--bg-color);\n",
              "    border: none;\n",
              "    border-radius: 50%;\n",
              "    cursor: pointer;\n",
              "    display: none;\n",
              "    fill: var(--fill-color);\n",
              "    height: 32px;\n",
              "    padding: 0;\n",
              "    width: 32px;\n",
              "  }\n",
              "\n",
              "  .colab-df-quickchart:hover {\n",
              "    background-color: var(--hover-bg-color);\n",
              "    box-shadow: 0 1px 2px rgba(60, 64, 67, 0.3), 0 1px 3px 1px rgba(60, 64, 67, 0.15);\n",
              "    fill: var(--button-hover-fill-color);\n",
              "  }\n",
              "\n",
              "  .colab-df-quickchart-complete:disabled,\n",
              "  .colab-df-quickchart-complete:disabled:hover {\n",
              "    background-color: var(--disabled-bg-color);\n",
              "    fill: var(--disabled-fill-color);\n",
              "    box-shadow: none;\n",
              "  }\n",
              "\n",
              "  .colab-df-spinner {\n",
              "    border: 2px solid var(--fill-color);\n",
              "    border-color: transparent;\n",
              "    border-bottom-color: var(--fill-color);\n",
              "    animation:\n",
              "      spin 1s steps(1) infinite;\n",
              "  }\n",
              "\n",
              "  @keyframes spin {\n",
              "    0% {\n",
              "      border-color: transparent;\n",
              "      border-bottom-color: var(--fill-color);\n",
              "      border-left-color: var(--fill-color);\n",
              "    }\n",
              "    20% {\n",
              "      border-color: transparent;\n",
              "      border-left-color: var(--fill-color);\n",
              "      border-top-color: var(--fill-color);\n",
              "    }\n",
              "    30% {\n",
              "      border-color: transparent;\n",
              "      border-left-color: var(--fill-color);\n",
              "      border-top-color: var(--fill-color);\n",
              "      border-right-color: var(--fill-color);\n",
              "    }\n",
              "    40% {\n",
              "      border-color: transparent;\n",
              "      border-right-color: var(--fill-color);\n",
              "      border-top-color: var(--fill-color);\n",
              "    }\n",
              "    60% {\n",
              "      border-color: transparent;\n",
              "      border-right-color: var(--fill-color);\n",
              "    }\n",
              "    80% {\n",
              "      border-color: transparent;\n",
              "      border-right-color: var(--fill-color);\n",
              "      border-bottom-color: var(--fill-color);\n",
              "    }\n",
              "    90% {\n",
              "      border-color: transparent;\n",
              "      border-bottom-color: var(--fill-color);\n",
              "    }\n",
              "  }\n",
              "</style>\n",
              "\n",
              "  <script>\n",
              "    async function quickchart(key) {\n",
              "      const quickchartButtonEl =\n",
              "        document.querySelector('#' + key + ' button');\n",
              "      quickchartButtonEl.disabled = true;  // To prevent multiple clicks.\n",
              "      quickchartButtonEl.classList.add('colab-df-spinner');\n",
              "      try {\n",
              "        const charts = await google.colab.kernel.invokeFunction(\n",
              "            'suggestCharts', [key], {});\n",
              "      } catch (error) {\n",
              "        console.error('Error during call to suggestCharts:', error);\n",
              "      }\n",
              "      quickchartButtonEl.classList.remove('colab-df-spinner');\n",
              "      quickchartButtonEl.classList.add('colab-df-quickchart-complete');\n",
              "    }\n",
              "    (() => {\n",
              "      let quickchartButtonEl =\n",
              "        document.querySelector('#df-d286f15a-0e2b-42b7-841e-e6e2bf29aa6d button');\n",
              "      quickchartButtonEl.style.display =\n",
              "        google.colab.kernel.accessAllowed ? 'block' : 'none';\n",
              "    })();\n",
              "  </script>\n",
              "</div>\n",
              "    </div>\n",
              "  </div>\n"
            ]
          },
          "metadata": {},
          "execution_count": 6
        }
      ]
    },
    {
      "cell_type": "code",
      "source": [
        "data2.info()"
      ],
      "metadata": {
        "colab": {
          "base_uri": "https://localhost:8080/"
        },
        "id": "h3QRFMtu6hMd",
        "outputId": "a25c115a-5966-4e61-bb94-cd4334cf117c"
      },
      "execution_count": null,
      "outputs": [
        {
          "output_type": "stream",
          "name": "stdout",
          "text": [
            "<class 'pandas.core.frame.DataFrame'>\n",
            "RangeIndex: 2126 entries, 0 to 2125\n",
            "Data columns (total 22 columns):\n",
            " #   Column                                                  Non-Null Count  Dtype  \n",
            "---  ------                                                  --------------  -----  \n",
            " 0   baseline value                                          2126 non-null   float64\n",
            " 1   accelerations                                           2126 non-null   float64\n",
            " 2   fetal_movement                                          2126 non-null   float64\n",
            " 3   uterine_contractions                                    2126 non-null   float64\n",
            " 4   light_decelerations                                     2126 non-null   float64\n",
            " 5   severe_decelerations                                    2126 non-null   float64\n",
            " 6   prolongued_decelerations                                2126 non-null   float64\n",
            " 7   abnormal_short_term_variability                         2126 non-null   float64\n",
            " 8   mean_value_of_short_term_variability                    2126 non-null   float64\n",
            " 9   percentage_of_time_with_abnormal_long_term_variability  2126 non-null   float64\n",
            " 10  mean_value_of_long_term_variability                     2126 non-null   float64\n",
            " 11  histogram_width                                         2126 non-null   float64\n",
            " 12  histogram_min                                           2126 non-null   float64\n",
            " 13  histogram_max                                           2126 non-null   float64\n",
            " 14  histogram_number_of_peaks                               2126 non-null   float64\n",
            " 15  histogram_number_of_zeroes                              2126 non-null   float64\n",
            " 16  histogram_mode                                          2126 non-null   float64\n",
            " 17  histogram_mean                                          2126 non-null   float64\n",
            " 18  histogram_median                                        2126 non-null   float64\n",
            " 19  histogram_variance                                      2126 non-null   float64\n",
            " 20  histogram_tendency                                      2126 non-null   float64\n",
            " 21  fetal_health                                            2126 non-null   float64\n",
            "dtypes: float64(22)\n",
            "memory usage: 365.5 KB\n"
          ]
        }
      ]
    },
    {
      "cell_type": "code",
      "source": [
        "X = data2.drop('fetal_health', axis=1)\n",
        "y = data2['fetal_health']"
      ],
      "metadata": {
        "id": "EXclqpce6mlH"
      },
      "execution_count": null,
      "outputs": []
    },
    {
      "cell_type": "markdown",
      "source": [
        "## Split data to train, test, and validation"
      ],
      "metadata": {
        "id": "L_uZs4PDd74E"
      }
    },
    {
      "cell_type": "code",
      "source": [
        "X_train, X_test, y_train, y_test = train_test_split(X, y, test_size=0.25, random_state=1)"
      ],
      "metadata": {
        "id": "x-V9rohJdTkY"
      },
      "execution_count": null,
      "outputs": []
    },
    {
      "cell_type": "code",
      "source": [
        "X_train, X_val, y_train, y_val = train_test_split(X_train, y_train, stratify=y_train, test_size = 0.2, random_state = 0)"
      ],
      "metadata": {
        "id": "Ka6j9BRCdxzk"
      },
      "execution_count": null,
      "outputs": []
    },
    {
      "cell_type": "markdown",
      "source": [
        "## Normalize data"
      ],
      "metadata": {
        "id": "a0YyP-eNd_4K"
      }
    },
    {
      "cell_type": "code",
      "source": [
        "ss_train = StandardScaler()\n",
        "X_train = ss_train.fit_transform(X_train)"
      ],
      "metadata": {
        "id": "Kwurm2cVd6El"
      },
      "execution_count": null,
      "outputs": []
    },
    {
      "cell_type": "code",
      "source": [
        "ss_test = StandardScaler()\n",
        "X_test = ss_train.fit_transform(X_test)"
      ],
      "metadata": {
        "id": "vNhQaWSjeJVG"
      },
      "execution_count": null,
      "outputs": []
    },
    {
      "cell_type": "code",
      "source": [
        "print(f'Размер исходного набора: X: {X.shape}; y: {y.shape}')\n",
        "print(f'Размер обучающего набора: X: {X_train.shape}; y: {y_train.shape}')\n",
        "print(f'Размер тестового набора: X: {X_test.shape}; y: {y_test.shape}')"
      ],
      "metadata": {
        "colab": {
          "base_uri": "https://localhost:8080/"
        },
        "id": "2VagRBFveacN",
        "outputId": "4dcfda46-f70c-4207-9743-081331e2c881"
      },
      "execution_count": null,
      "outputs": [
        {
          "output_type": "stream",
          "name": "stdout",
          "text": [
            "Размер исходного набора: X: (2126, 21); y: (2126,)\n",
            "Размер обучающего набора: X: (1275, 21); y: (1275,)\n",
            "Размер тестового набора: X: (532, 21); y: (532,)\n"
          ]
        }
      ]
    },
    {
      "cell_type": "markdown",
      "source": [
        "## Support Vector Machine"
      ],
      "metadata": {
        "id": "6ROxiHT9e5Ph"
      }
    },
    {
      "cell_type": "code",
      "source": [
        "model_svm = SVC(kernel='linear', C=1.0, probability = True, decision_function_shape='ovr')\n",
        "model_svm.fit(X_train, y_train)"
      ],
      "metadata": {
        "colab": {
          "base_uri": "https://localhost:8080/",
          "height": 75
        },
        "id": "2bJ_9kg2eOx2",
        "outputId": "e56218dd-f31c-4c25-c0cc-f4d445c28d31"
      },
      "execution_count": null,
      "outputs": [
        {
          "output_type": "execute_result",
          "data": {
            "text/plain": [
              "SVC(kernel='linear', probability=True)"
            ],
            "text/html": [
              "<style>#sk-container-id-1 {color: black;}#sk-container-id-1 pre{padding: 0;}#sk-container-id-1 div.sk-toggleable {background-color: white;}#sk-container-id-1 label.sk-toggleable__label {cursor: pointer;display: block;width: 100%;margin-bottom: 0;padding: 0.3em;box-sizing: border-box;text-align: center;}#sk-container-id-1 label.sk-toggleable__label-arrow:before {content: \"▸\";float: left;margin-right: 0.25em;color: #696969;}#sk-container-id-1 label.sk-toggleable__label-arrow:hover:before {color: black;}#sk-container-id-1 div.sk-estimator:hover label.sk-toggleable__label-arrow:before {color: black;}#sk-container-id-1 div.sk-toggleable__content {max-height: 0;max-width: 0;overflow: hidden;text-align: left;background-color: #f0f8ff;}#sk-container-id-1 div.sk-toggleable__content pre {margin: 0.2em;color: black;border-radius: 0.25em;background-color: #f0f8ff;}#sk-container-id-1 input.sk-toggleable__control:checked~div.sk-toggleable__content {max-height: 200px;max-width: 100%;overflow: auto;}#sk-container-id-1 input.sk-toggleable__control:checked~label.sk-toggleable__label-arrow:before {content: \"▾\";}#sk-container-id-1 div.sk-estimator input.sk-toggleable__control:checked~label.sk-toggleable__label {background-color: #d4ebff;}#sk-container-id-1 div.sk-label input.sk-toggleable__control:checked~label.sk-toggleable__label {background-color: #d4ebff;}#sk-container-id-1 input.sk-hidden--visually {border: 0;clip: rect(1px 1px 1px 1px);clip: rect(1px, 1px, 1px, 1px);height: 1px;margin: -1px;overflow: hidden;padding: 0;position: absolute;width: 1px;}#sk-container-id-1 div.sk-estimator {font-family: monospace;background-color: #f0f8ff;border: 1px dotted black;border-radius: 0.25em;box-sizing: border-box;margin-bottom: 0.5em;}#sk-container-id-1 div.sk-estimator:hover {background-color: #d4ebff;}#sk-container-id-1 div.sk-parallel-item::after {content: \"\";width: 100%;border-bottom: 1px solid gray;flex-grow: 1;}#sk-container-id-1 div.sk-label:hover label.sk-toggleable__label {background-color: #d4ebff;}#sk-container-id-1 div.sk-serial::before {content: \"\";position: absolute;border-left: 1px solid gray;box-sizing: border-box;top: 0;bottom: 0;left: 50%;z-index: 0;}#sk-container-id-1 div.sk-serial {display: flex;flex-direction: column;align-items: center;background-color: white;padding-right: 0.2em;padding-left: 0.2em;position: relative;}#sk-container-id-1 div.sk-item {position: relative;z-index: 1;}#sk-container-id-1 div.sk-parallel {display: flex;align-items: stretch;justify-content: center;background-color: white;position: relative;}#sk-container-id-1 div.sk-item::before, #sk-container-id-1 div.sk-parallel-item::before {content: \"\";position: absolute;border-left: 1px solid gray;box-sizing: border-box;top: 0;bottom: 0;left: 50%;z-index: -1;}#sk-container-id-1 div.sk-parallel-item {display: flex;flex-direction: column;z-index: 1;position: relative;background-color: white;}#sk-container-id-1 div.sk-parallel-item:first-child::after {align-self: flex-end;width: 50%;}#sk-container-id-1 div.sk-parallel-item:last-child::after {align-self: flex-start;width: 50%;}#sk-container-id-1 div.sk-parallel-item:only-child::after {width: 0;}#sk-container-id-1 div.sk-dashed-wrapped {border: 1px dashed gray;margin: 0 0.4em 0.5em 0.4em;box-sizing: border-box;padding-bottom: 0.4em;background-color: white;}#sk-container-id-1 div.sk-label label {font-family: monospace;font-weight: bold;display: inline-block;line-height: 1.2em;}#sk-container-id-1 div.sk-label-container {text-align: center;}#sk-container-id-1 div.sk-container {/* jupyter's `normalize.less` sets `[hidden] { display: none; }` but bootstrap.min.css set `[hidden] { display: none !important; }` so we also need the `!important` here to be able to override the default hidden behavior on the sphinx rendered scikit-learn.org. See: https://github.com/scikit-learn/scikit-learn/issues/21755 */display: inline-block !important;position: relative;}#sk-container-id-1 div.sk-text-repr-fallback {display: none;}</style><div id=\"sk-container-id-1\" class=\"sk-top-container\"><div class=\"sk-text-repr-fallback\"><pre>SVC(kernel=&#x27;linear&#x27;, probability=True)</pre><b>In a Jupyter environment, please rerun this cell to show the HTML representation or trust the notebook. <br />On GitHub, the HTML representation is unable to render, please try loading this page with nbviewer.org.</b></div><div class=\"sk-container\" hidden><div class=\"sk-item\"><div class=\"sk-estimator sk-toggleable\"><input class=\"sk-toggleable__control sk-hidden--visually\" id=\"sk-estimator-id-1\" type=\"checkbox\" checked><label for=\"sk-estimator-id-1\" class=\"sk-toggleable__label sk-toggleable__label-arrow\">SVC</label><div class=\"sk-toggleable__content\"><pre>SVC(kernel=&#x27;linear&#x27;, probability=True)</pre></div></div></div></div></div>"
            ]
          },
          "metadata": {},
          "execution_count": 14
        }
      ]
    },
    {
      "cell_type": "code",
      "source": [
        "y_prediction = model_svm.predict(X_test)"
      ],
      "metadata": {
        "id": "eqiXVyBDeSua"
      },
      "execution_count": null,
      "outputs": []
    },
    {
      "cell_type": "markdown",
      "source": [
        "### Recall, Precision, Weighted accuracy"
      ],
      "metadata": {
        "id": "2Lm40A8qe7aL"
      }
    },
    {
      "cell_type": "code",
      "source": [
        "recall = recall_score(y_test, y_prediction, average='weighted')\n",
        "precision = precision_score(y_test, y_prediction, average='weighted')\n",
        "weighted_accuracy = accuracy_score(y_test, y_prediction)\n",
        "\n",
        "print(f\"Recall: {recall:.2f}\")\n",
        "print(f\"Precision: {precision:.2f}\")\n",
        "print(f\"Weighted Accuracy: {weighted_accuracy:.2f}\")"
      ],
      "metadata": {
        "colab": {
          "base_uri": "https://localhost:8080/"
        },
        "id": "6HYpr4VSfAOg",
        "outputId": "ad8a61e4-d7da-41eb-e134-86864d7219d4"
      },
      "execution_count": null,
      "outputs": [
        {
          "output_type": "stream",
          "name": "stdout",
          "text": [
            "Recall: 0.89\n",
            "Precision: 0.89\n",
            "Weighted Accuracy: 0.89\n"
          ]
        }
      ]
    },
    {
      "cell_type": "markdown",
      "source": [
        "### AUC Score"
      ],
      "metadata": {
        "id": "dEuIiC9PkprG"
      }
    },
    {
      "cell_type": "code",
      "source": [
        "label_binarizer = LabelBinarizer().fit(y_train)\n",
        "y_onehot_test = label_binarizer.transform(y_test)\n",
        "y_onehot_test.shape"
      ],
      "metadata": {
        "colab": {
          "base_uri": "https://localhost:8080/"
        },
        "id": "dTEfsLH9iXIf",
        "outputId": "ab7b8297-1c2d-4fdb-974d-e082307ec291"
      },
      "execution_count": null,
      "outputs": [
        {
          "output_type": "execute_result",
          "data": {
            "text/plain": [
              "(532, 3)"
            ]
          },
          "metadata": {},
          "execution_count": 17
        }
      ]
    },
    {
      "cell_type": "code",
      "source": [
        "label_encoder = LabelEncoder()\n",
        "y_prediction_encoded = label_encoder.fit_transform(y_prediction)"
      ],
      "metadata": {
        "id": "UHS0H5mAiZOq"
      },
      "execution_count": null,
      "outputs": []
    },
    {
      "cell_type": "markdown",
      "source": [
        "#### AUC for Normal (1)"
      ],
      "metadata": {
        "id": "UGObBgwWieeY"
      }
    },
    {
      "cell_type": "code",
      "source": [
        "label_binarizer.transform([1])"
      ],
      "metadata": {
        "colab": {
          "base_uri": "https://localhost:8080/"
        },
        "id": "zE-tbHBfiyVF",
        "outputId": "c08eea10-c2cd-471c-96fb-cfbff54eecfb"
      },
      "execution_count": null,
      "outputs": [
        {
          "output_type": "execute_result",
          "data": {
            "text/plain": [
              "array([[1, 0, 0]])"
            ]
          },
          "metadata": {},
          "execution_count": 19
        }
      ]
    },
    {
      "cell_type": "code",
      "source": [
        "health_of_interest = 1\n",
        "health_id = np.flatnonzero(label_binarizer.classes_ == health_of_interest)[0]\n",
        "health_id"
      ],
      "metadata": {
        "colab": {
          "base_uri": "https://localhost:8080/"
        },
        "id": "-mQn457AidhN",
        "outputId": "7e3ae9d5-a557-4ffc-d6c4-5ef9cb31ef87"
      },
      "execution_count": null,
      "outputs": [
        {
          "output_type": "execute_result",
          "data": {
            "text/plain": [
              "0"
            ]
          },
          "metadata": {},
          "execution_count": 20
        }
      ]
    },
    {
      "cell_type": "code",
      "source": [
        "auc_score_1 = roc_auc_score(y_onehot_test[:, health_id], y_prediction_encoded)"
      ],
      "metadata": {
        "id": "zVy4EF4aibD2"
      },
      "execution_count": null,
      "outputs": []
    },
    {
      "cell_type": "code",
      "source": [
        "print(f\"AUC for Normal (1): {auc_score_1:.2f}\")"
      ],
      "metadata": {
        "colab": {
          "base_uri": "https://localhost:8080/"
        },
        "id": "g72YosxijN83",
        "outputId": "281ae9d2-7caf-4a89-cfae-dcf3cbcaf020"
      },
      "execution_count": null,
      "outputs": [
        {
          "output_type": "stream",
          "name": "stdout",
          "text": [
            "AUC for Normal (1): 0.12\n"
          ]
        }
      ]
    },
    {
      "cell_type": "markdown",
      "source": [
        "#### AUC for Suspect (2)"
      ],
      "metadata": {
        "id": "8HuvsjyRjVy_"
      }
    },
    {
      "cell_type": "code",
      "source": [
        "label_binarizer.transform([2])"
      ],
      "metadata": {
        "colab": {
          "base_uri": "https://localhost:8080/"
        },
        "id": "jn3XpBdfjVK0",
        "outputId": "594be230-8b1e-448f-de58-ca9c15aef1d7"
      },
      "execution_count": null,
      "outputs": [
        {
          "output_type": "execute_result",
          "data": {
            "text/plain": [
              "array([[0, 1, 0]])"
            ]
          },
          "metadata": {},
          "execution_count": 23
        }
      ]
    },
    {
      "cell_type": "code",
      "source": [
        "health_of_interest = 2\n",
        "health_id = np.flatnonzero(label_binarizer.classes_ == health_of_interest)[0]\n",
        "health_id"
      ],
      "metadata": {
        "colab": {
          "base_uri": "https://localhost:8080/"
        },
        "id": "AF-kWGcSjaEL",
        "outputId": "a54b73c4-39fd-4be4-c839-525ce995090d"
      },
      "execution_count": null,
      "outputs": [
        {
          "output_type": "execute_result",
          "data": {
            "text/plain": [
              "1"
            ]
          },
          "metadata": {},
          "execution_count": 24
        }
      ]
    },
    {
      "cell_type": "code",
      "source": [
        "auc_score_2 = roc_auc_score(y_onehot_test[:, health_id], y_prediction_encoded)"
      ],
      "metadata": {
        "id": "9AJvt3Iajciw"
      },
      "execution_count": null,
      "outputs": []
    },
    {
      "cell_type": "code",
      "source": [
        "print(f\"AUC for Suspect (2): {auc_score_2:.2f}\")"
      ],
      "metadata": {
        "colab": {
          "base_uri": "https://localhost:8080/"
        },
        "id": "uyzitvwFjnax",
        "outputId": "bf5368ca-6484-4499-8f9b-68d34b74ed60"
      },
      "execution_count": null,
      "outputs": [
        {
          "output_type": "stream",
          "name": "stdout",
          "text": [
            "AUC for Suspect (2): 0.78\n"
          ]
        }
      ]
    },
    {
      "cell_type": "markdown",
      "source": [
        "#### AUC for Pathological (3)"
      ],
      "metadata": {
        "id": "dYQXCvHOj5gf"
      }
    },
    {
      "cell_type": "code",
      "source": [
        "label_binarizer.transform([3])"
      ],
      "metadata": {
        "colab": {
          "base_uri": "https://localhost:8080/"
        },
        "id": "w3XI9SNAj7Az",
        "outputId": "f88a41a7-e2f8-4e93-814d-888934eee2b9"
      },
      "execution_count": null,
      "outputs": [
        {
          "output_type": "execute_result",
          "data": {
            "text/plain": [
              "array([[0, 0, 1]])"
            ]
          },
          "metadata": {},
          "execution_count": 27
        }
      ]
    },
    {
      "cell_type": "code",
      "source": [
        "health_of_interest = 3\n",
        "health_id = np.flatnonzero(label_binarizer.classes_ == health_of_interest)[0]\n",
        "health_id"
      ],
      "metadata": {
        "colab": {
          "base_uri": "https://localhost:8080/"
        },
        "id": "zXRlKo3Oj8xP",
        "outputId": "db54c19c-c348-4c2c-b614-ca8fa3e1ea68"
      },
      "execution_count": null,
      "outputs": [
        {
          "output_type": "execute_result",
          "data": {
            "text/plain": [
              "2"
            ]
          },
          "metadata": {},
          "execution_count": 28
        }
      ]
    },
    {
      "cell_type": "code",
      "source": [
        "auc_score_3 = roc_auc_score(y_onehot_test[:, health_id], y_prediction_encoded)"
      ],
      "metadata": {
        "id": "MNL0sCWKj-ne"
      },
      "execution_count": null,
      "outputs": []
    },
    {
      "cell_type": "code",
      "source": [
        "print(f\"AUC for Pathological (3): {auc_score_3:.2f}\")"
      ],
      "metadata": {
        "colab": {
          "base_uri": "https://localhost:8080/"
        },
        "id": "jMUbxe6VkAgH",
        "outputId": "2fb74228-e667-47de-8bd0-5bbf5e84c560"
      },
      "execution_count": null,
      "outputs": [
        {
          "output_type": "stream",
          "name": "stdout",
          "text": [
            "AUC for Pathological (3): 0.93\n"
          ]
        }
      ]
    },
    {
      "cell_type": "markdown",
      "source": [
        "#### Summary AUC score"
      ],
      "metadata": {
        "id": "PAI_PyEtkJ_q"
      }
    },
    {
      "cell_type": "code",
      "source": [
        "print(f\"AUC for Normal (1): {auc_score_1:.2f}\")\n",
        "print(f\"AUC for Suspect (2): {auc_score_2:.2f}\")\n",
        "print(f\"AUC for Pathological (3): {auc_score_3:.2f}\")"
      ],
      "metadata": {
        "colab": {
          "base_uri": "https://localhost:8080/"
        },
        "id": "xTik24R_kLeW",
        "outputId": "fe215c45-fb18-48b2-fd56-21fdf89b33d0"
      },
      "execution_count": null,
      "outputs": [
        {
          "output_type": "stream",
          "name": "stdout",
          "text": [
            "AUC for Normal (1): 0.12\n",
            "AUC for Suspect (2): 0.78\n",
            "AUC for Pathological (3): 0.93\n"
          ]
        }
      ]
    },
    {
      "cell_type": "markdown",
      "source": [
        "## Random Forest Classifier"
      ],
      "metadata": {
        "id": "ZWAbrQxzkVSM"
      }
    },
    {
      "cell_type": "code",
      "source": [
        "model_rf = RandomForestClassifier(n_estimators=100, random_state=42)\n",
        "model_rf.fit(X_train, y_train)"
      ],
      "metadata": {
        "colab": {
          "base_uri": "https://localhost:8080/",
          "height": 75
        },
        "id": "ijh64vgykWu-",
        "outputId": "7c9af8c2-b5c2-441e-8074-21c668fafe5e"
      },
      "execution_count": null,
      "outputs": [
        {
          "output_type": "execute_result",
          "data": {
            "text/plain": [
              "RandomForestClassifier(random_state=42)"
            ],
            "text/html": [
              "<style>#sk-container-id-2 {color: black;}#sk-container-id-2 pre{padding: 0;}#sk-container-id-2 div.sk-toggleable {background-color: white;}#sk-container-id-2 label.sk-toggleable__label {cursor: pointer;display: block;width: 100%;margin-bottom: 0;padding: 0.3em;box-sizing: border-box;text-align: center;}#sk-container-id-2 label.sk-toggleable__label-arrow:before {content: \"▸\";float: left;margin-right: 0.25em;color: #696969;}#sk-container-id-2 label.sk-toggleable__label-arrow:hover:before {color: black;}#sk-container-id-2 div.sk-estimator:hover label.sk-toggleable__label-arrow:before {color: black;}#sk-container-id-2 div.sk-toggleable__content {max-height: 0;max-width: 0;overflow: hidden;text-align: left;background-color: #f0f8ff;}#sk-container-id-2 div.sk-toggleable__content pre {margin: 0.2em;color: black;border-radius: 0.25em;background-color: #f0f8ff;}#sk-container-id-2 input.sk-toggleable__control:checked~div.sk-toggleable__content {max-height: 200px;max-width: 100%;overflow: auto;}#sk-container-id-2 input.sk-toggleable__control:checked~label.sk-toggleable__label-arrow:before {content: \"▾\";}#sk-container-id-2 div.sk-estimator input.sk-toggleable__control:checked~label.sk-toggleable__label {background-color: #d4ebff;}#sk-container-id-2 div.sk-label input.sk-toggleable__control:checked~label.sk-toggleable__label {background-color: #d4ebff;}#sk-container-id-2 input.sk-hidden--visually {border: 0;clip: rect(1px 1px 1px 1px);clip: rect(1px, 1px, 1px, 1px);height: 1px;margin: -1px;overflow: hidden;padding: 0;position: absolute;width: 1px;}#sk-container-id-2 div.sk-estimator {font-family: monospace;background-color: #f0f8ff;border: 1px dotted black;border-radius: 0.25em;box-sizing: border-box;margin-bottom: 0.5em;}#sk-container-id-2 div.sk-estimator:hover {background-color: #d4ebff;}#sk-container-id-2 div.sk-parallel-item::after {content: \"\";width: 100%;border-bottom: 1px solid gray;flex-grow: 1;}#sk-container-id-2 div.sk-label:hover label.sk-toggleable__label {background-color: #d4ebff;}#sk-container-id-2 div.sk-serial::before {content: \"\";position: absolute;border-left: 1px solid gray;box-sizing: border-box;top: 0;bottom: 0;left: 50%;z-index: 0;}#sk-container-id-2 div.sk-serial {display: flex;flex-direction: column;align-items: center;background-color: white;padding-right: 0.2em;padding-left: 0.2em;position: relative;}#sk-container-id-2 div.sk-item {position: relative;z-index: 1;}#sk-container-id-2 div.sk-parallel {display: flex;align-items: stretch;justify-content: center;background-color: white;position: relative;}#sk-container-id-2 div.sk-item::before, #sk-container-id-2 div.sk-parallel-item::before {content: \"\";position: absolute;border-left: 1px solid gray;box-sizing: border-box;top: 0;bottom: 0;left: 50%;z-index: -1;}#sk-container-id-2 div.sk-parallel-item {display: flex;flex-direction: column;z-index: 1;position: relative;background-color: white;}#sk-container-id-2 div.sk-parallel-item:first-child::after {align-self: flex-end;width: 50%;}#sk-container-id-2 div.sk-parallel-item:last-child::after {align-self: flex-start;width: 50%;}#sk-container-id-2 div.sk-parallel-item:only-child::after {width: 0;}#sk-container-id-2 div.sk-dashed-wrapped {border: 1px dashed gray;margin: 0 0.4em 0.5em 0.4em;box-sizing: border-box;padding-bottom: 0.4em;background-color: white;}#sk-container-id-2 div.sk-label label {font-family: monospace;font-weight: bold;display: inline-block;line-height: 1.2em;}#sk-container-id-2 div.sk-label-container {text-align: center;}#sk-container-id-2 div.sk-container {/* jupyter's `normalize.less` sets `[hidden] { display: none; }` but bootstrap.min.css set `[hidden] { display: none !important; }` so we also need the `!important` here to be able to override the default hidden behavior on the sphinx rendered scikit-learn.org. See: https://github.com/scikit-learn/scikit-learn/issues/21755 */display: inline-block !important;position: relative;}#sk-container-id-2 div.sk-text-repr-fallback {display: none;}</style><div id=\"sk-container-id-2\" class=\"sk-top-container\"><div class=\"sk-text-repr-fallback\"><pre>RandomForestClassifier(random_state=42)</pre><b>In a Jupyter environment, please rerun this cell to show the HTML representation or trust the notebook. <br />On GitHub, the HTML representation is unable to render, please try loading this page with nbviewer.org.</b></div><div class=\"sk-container\" hidden><div class=\"sk-item\"><div class=\"sk-estimator sk-toggleable\"><input class=\"sk-toggleable__control sk-hidden--visually\" id=\"sk-estimator-id-2\" type=\"checkbox\" checked><label for=\"sk-estimator-id-2\" class=\"sk-toggleable__label sk-toggleable__label-arrow\">RandomForestClassifier</label><div class=\"sk-toggleable__content\"><pre>RandomForestClassifier(random_state=42)</pre></div></div></div></div></div>"
            ]
          },
          "metadata": {},
          "execution_count": 32
        }
      ]
    },
    {
      "cell_type": "code",
      "source": [
        "y_prediction = model_rf.predict(X_test)"
      ],
      "metadata": {
        "id": "eziU3oD1kcOl"
      },
      "execution_count": null,
      "outputs": []
    },
    {
      "cell_type": "markdown",
      "source": [
        "### Recall, Precission, Weighted Accuracy"
      ],
      "metadata": {
        "id": "stmdc-PlSu4U"
      }
    },
    {
      "cell_type": "code",
      "source": [
        "recall = recall_score(y_test, y_prediction, average='weighted')\n",
        "precision = precision_score(y_test, y_prediction, average='weighted')\n",
        "weighted_accuracy = accuracy_score(y_test, y_prediction)\n",
        "\n",
        "print(f\"Recall: {recall:.2f}\")\n",
        "print(f\"Precision: {precision:.2f}\")\n",
        "print(f\"Weighted Accuracy: {weighted_accuracy:.2f}\")"
      ],
      "metadata": {
        "colab": {
          "base_uri": "https://localhost:8080/"
        },
        "id": "VcmY6-MIkde3",
        "outputId": "e3e303a5-61ec-4db9-c45f-30f35d4902cc"
      },
      "execution_count": null,
      "outputs": [
        {
          "output_type": "stream",
          "name": "stdout",
          "text": [
            "Recall: 0.93\n",
            "Precision: 0.92\n",
            "Weighted Accuracy: 0.93\n"
          ]
        }
      ]
    },
    {
      "cell_type": "markdown",
      "source": [
        "### AUC ROC Score"
      ],
      "metadata": {
        "id": "BEwV88v1k1iY"
      }
    },
    {
      "cell_type": "code",
      "source": [
        "label_binarizer = LabelBinarizer().fit(y_train)\n",
        "y_onehot_test = label_binarizer.transform(y_test)\n",
        "y_onehot_test.shape"
      ],
      "metadata": {
        "colab": {
          "base_uri": "https://localhost:8080/"
        },
        "outputId": "9c244f82-b79c-467e-d068-11f76a7be02d",
        "id": "ubXPYXFzk1ij"
      },
      "execution_count": null,
      "outputs": [
        {
          "output_type": "execute_result",
          "data": {
            "text/plain": [
              "(532, 3)"
            ]
          },
          "metadata": {},
          "execution_count": 57
        }
      ]
    },
    {
      "cell_type": "code",
      "source": [
        "label_encoder = LabelEncoder()\n",
        "y_prediction_encoded = label_encoder.fit_transform(y_prediction)"
      ],
      "metadata": {
        "id": "XlEuzupik1ij"
      },
      "execution_count": null,
      "outputs": []
    },
    {
      "cell_type": "markdown",
      "source": [
        "#### AUC ROC for Normal (1)"
      ],
      "metadata": {
        "id": "Rj-PSGhMk1ij"
      }
    },
    {
      "cell_type": "markdown",
      "source": [
        "##### AUC"
      ],
      "metadata": {
        "id": "Q71pyItKlMvu"
      }
    },
    {
      "cell_type": "code",
      "source": [
        "label_binarizer.transform([1])"
      ],
      "metadata": {
        "colab": {
          "base_uri": "https://localhost:8080/"
        },
        "outputId": "23668cce-b951-40dc-981a-bd6d11619281",
        "id": "a7k5T0dsk1ij"
      },
      "execution_count": null,
      "outputs": [
        {
          "output_type": "execute_result",
          "data": {
            "text/plain": [
              "array([[1, 0, 0]])"
            ]
          },
          "metadata": {},
          "execution_count": 59
        }
      ]
    },
    {
      "cell_type": "code",
      "source": [
        "health_of_interest = 1\n",
        "health_id = np.flatnonzero(label_binarizer.classes_ == health_of_interest)[0]\n",
        "health_id"
      ],
      "metadata": {
        "colab": {
          "base_uri": "https://localhost:8080/"
        },
        "outputId": "7c81e5df-0ed4-42d0-886a-9d5ca5f48335",
        "id": "XNcZpygGk1ik"
      },
      "execution_count": null,
      "outputs": [
        {
          "output_type": "execute_result",
          "data": {
            "text/plain": [
              "0"
            ]
          },
          "metadata": {},
          "execution_count": 60
        }
      ]
    },
    {
      "cell_type": "code",
      "source": [
        "auc_score_1 = roc_auc_score(y_onehot_test[:, health_id], y_prediction_encoded)"
      ],
      "metadata": {
        "id": "73emXWnyk1ik"
      },
      "execution_count": null,
      "outputs": []
    },
    {
      "cell_type": "code",
      "source": [
        "print(f\"AUC for Normal (1): {auc_score_1:.2f}\")"
      ],
      "metadata": {
        "colab": {
          "base_uri": "https://localhost:8080/"
        },
        "outputId": "e038a99d-a500-4ef2-879e-317f12404b2c",
        "id": "orf_OWR-k1ik"
      },
      "execution_count": null,
      "outputs": [
        {
          "output_type": "stream",
          "name": "stdout",
          "text": [
            "AUC for Normal (1): 0.11\n"
          ]
        }
      ]
    },
    {
      "cell_type": "markdown",
      "source": [
        "##### ROC"
      ],
      "metadata": {
        "id": "yNA4HdKalQFu"
      }
    },
    {
      "cell_type": "code",
      "source": [
        "roc_display_1 = RocCurveDisplay.from_predictions(\n",
        "    y_onehot_test[:, health_id],\n",
        "    y_prediction_encoded,\n",
        "    name=f\"{health_of_interest} vs the rest\",\n",
        "    color=\"darkorange\",\n",
        "    plot_chance_level=True,\n",
        ")\n",
        "\n",
        "plt.axis(\"square\")\n",
        "plt.xlabel(\"False Positive Rate\")\n",
        "plt.ylabel(\"True Positive Rate\")\n",
        "plt.title(\"One-vs-Rest ROC curves:\\n1 vs (2 & 3)\")\n",
        "plt.legend()\n",
        "plt.show()"
      ],
      "metadata": {
        "colab": {
          "base_uri": "https://localhost:8080/",
          "height": 493
        },
        "id": "dpxQmtw9lSjZ",
        "outputId": "1c3f5ad2-97c6-4108-96a6-a8bb60f6c6c1"
      },
      "execution_count": null,
      "outputs": [
        {
          "output_type": "display_data",
          "data": {
            "text/plain": [
              "<Figure size 640x480 with 1 Axes>"
            ],
            "image/png": "[encoded data removed]"
          },
          "metadata": {}
        }
      ]
    },
    {
      "cell_type": "markdown",
      "source": [
        "#### AUC ROC for Suspect (2)"
      ],
      "metadata": {
        "id": "8zCAEjRUk1ik"
      }
    },
    {
      "cell_type": "markdown",
      "source": [
        "##### AUC"
      ],
      "metadata": {
        "id": "D3pq7YnMQ61T"
      }
    },
    {
      "cell_type": "code",
      "source": [
        "label_binarizer.transform([2])"
      ],
      "metadata": {
        "colab": {
          "base_uri": "https://localhost:8080/"
        },
        "outputId": "cc169186-cc16-4e3b-f226-57c9c02d543b",
        "id": "1wv542j4k1ik"
      },
      "execution_count": null,
      "outputs": [
        {
          "output_type": "execute_result",
          "data": {
            "text/plain": [
              "array([[0, 1, 0]])"
            ]
          },
          "metadata": {},
          "execution_count": 64
        }
      ]
    },
    {
      "cell_type": "code",
      "source": [
        "health_of_interest = 2\n",
        "health_id = np.flatnonzero(label_binarizer.classes_ == health_of_interest)[0]\n",
        "health_id"
      ],
      "metadata": {
        "colab": {
          "base_uri": "https://localhost:8080/"
        },
        "outputId": "f3b8d8fc-4edb-4dd2-ff79-95d95a386aa4",
        "id": "7VRmv9Nmk1ik"
      },
      "execution_count": null,
      "outputs": [
        {
          "output_type": "execute_result",
          "data": {
            "text/plain": [
              "1"
            ]
          },
          "metadata": {},
          "execution_count": 65
        }
      ]
    },
    {
      "cell_type": "code",
      "source": [
        "auc_score_2 = roc_auc_score(y_onehot_test[:, health_id], y_prediction_encoded)"
      ],
      "metadata": {
        "id": "ph2ASx47k1ik"
      },
      "execution_count": null,
      "outputs": []
    },
    {
      "cell_type": "code",
      "source": [
        "print(f\"AUC for Suspect (2): {auc_score_2:.2f}\")"
      ],
      "metadata": {
        "colab": {
          "base_uri": "https://localhost:8080/"
        },
        "outputId": "41ac7604-3437-479a-9b52-ae3a868203a2",
        "id": "ACmsawsfk1ik"
      },
      "execution_count": null,
      "outputs": [
        {
          "output_type": "stream",
          "name": "stdout",
          "text": [
            "AUC for Suspect (2): 0.78\n"
          ]
        }
      ]
    },
    {
      "cell_type": "markdown",
      "source": [
        "##### ROC"
      ],
      "metadata": {
        "id": "nzdTcUPQQ9gH"
      }
    },
    {
      "cell_type": "code",
      "source": [
        "roc_display_2 = RocCurveDisplay.from_predictions(\n",
        "    y_onehot_test[:, health_id],\n",
        "    y_prediction_encoded,\n",
        "    name=f\"{health_of_interest} vs the rest\",\n",
        "    color=\"darkorange\",\n",
        "    plot_chance_level=True,\n",
        ")\n",
        "\n",
        "plt.axis(\"square\")\n",
        "plt.xlabel(\"False Positive Rate\")\n",
        "plt.ylabel(\"True Positive Rate\")\n",
        "plt.title(\"One-vs-Rest ROC curves:\\n2 vs (1 & 3)\")\n",
        "plt.legend()\n",
        "plt.show()"
      ],
      "metadata": {
        "colab": {
          "base_uri": "https://localhost:8080/",
          "height": 493
        },
        "id": "l1rjusRTRAaZ",
        "outputId": "7e2f6665-d8f6-4e24-af4d-324d265f3238"
      },
      "execution_count": null,
      "outputs": [
        {
          "output_type": "display_data",
          "data": {
            "text/plain": [
              "<Figure size 640x480 with 1 Axes>"
            ],
            "image/png": "[encoded data removed]"
          },
          "metadata": {}
        }
      ]
    },
    {
      "cell_type": "markdown",
      "source": [
        "#### AUC ROC for Pathological (3)"
      ],
      "metadata": {
        "id": "v5epUW3kRxXq"
      }
    },
    {
      "cell_type": "markdown",
      "source": [
        "##### AUC"
      ],
      "metadata": {
        "id": "dVRQQUEfk1ik"
      }
    },
    {
      "cell_type": "code",
      "source": [
        "label_binarizer.transform([3])"
      ],
      "metadata": {
        "colab": {
          "base_uri": "https://localhost:8080/"
        },
        "outputId": "28df5d0f-f74e-4048-b228-503fab901f09",
        "id": "DuSGsFbrk1ik"
      },
      "execution_count": null,
      "outputs": [
        {
          "output_type": "execute_result",
          "data": {
            "text/plain": [
              "array([[0, 0, 1]])"
            ]
          },
          "metadata": {},
          "execution_count": 69
        }
      ]
    },
    {
      "cell_type": "code",
      "source": [
        "health_of_interest = 3\n",
        "health_id = np.flatnonzero(label_binarizer.classes_ == health_of_interest)[0]\n",
        "health_id"
      ],
      "metadata": {
        "colab": {
          "base_uri": "https://localhost:8080/"
        },
        "outputId": "bcf593d0-9fc9-45c1-bd38-09896ebe36c4",
        "id": "mb_UhxK7k1ik"
      },
      "execution_count": null,
      "outputs": [
        {
          "output_type": "execute_result",
          "data": {
            "text/plain": [
              "2"
            ]
          },
          "metadata": {},
          "execution_count": 70
        }
      ]
    },
    {
      "cell_type": "code",
      "source": [
        "auc_score_3 = roc_auc_score(y_onehot_test[:, health_id], y_prediction_encoded)"
      ],
      "metadata": {
        "id": "SwTCvsJek1il"
      },
      "execution_count": null,
      "outputs": []
    },
    {
      "cell_type": "code",
      "source": [
        "print(f\"AUC for Pathological (3): {auc_score_3:.2f}\")"
      ],
      "metadata": {
        "colab": {
          "base_uri": "https://localhost:8080/"
        },
        "outputId": "b25394d9-f7d4-46e1-8154-08383d6e95e9",
        "id": "XYluRvPUk1il"
      },
      "execution_count": null,
      "outputs": [
        {
          "output_type": "stream",
          "name": "stdout",
          "text": [
            "AUC for Pathological (3): 0.96\n"
          ]
        }
      ]
    },
    {
      "cell_type": "markdown",
      "source": [
        "##### ROC"
      ],
      "metadata": {
        "id": "BMMsiuxARswu"
      }
    },
    {
      "cell_type": "code",
      "source": [
        "roc_display_3 = RocCurveDisplay.from_predictions(\n",
        "    y_onehot_test[:, health_id],\n",
        "    y_prediction_encoded,\n",
        "    name=f\"{health_of_interest} vs the rest\",\n",
        "    color=\"darkorange\",\n",
        "    plot_chance_level=True,\n",
        ")\n",
        "\n",
        "plt.axis(\"square\")\n",
        "plt.xlabel(\"False Positive Rate\")\n",
        "plt.ylabel(\"True Positive Rate\")\n",
        "plt.title(\"One-vs-Rest ROC curves:\\n3 vs (1 & 2)\")\n",
        "plt.legend()\n",
        "plt.show()"
      ],
      "metadata": {
        "colab": {
          "base_uri": "https://localhost:8080/",
          "height": 493
        },
        "id": "TNijYQzPR2mm",
        "outputId": "a119abf0-0ac3-4579-e56c-036a21be3dda"
      },
      "execution_count": null,
      "outputs": [
        {
          "output_type": "display_data",
          "data": {
            "text/plain": [
              "<Figure size 640x480 with 1 Axes>"
            ],
            "image/png": "[encoded data removed]"
          },
          "metadata": {}
        }
      ]
    },
    {
      "cell_type": "markdown",
      "source": [
        "#### Summary AUC score"
      ],
      "metadata": {
        "id": "D-Dw0rrAk1il"
      }
    },
    {
      "cell_type": "code",
      "source": [
        "print(f\"AUC for Normal (1): {auc_score_1:.2f}\")\n",
        "print(f\"AUC for Suspect (2): {auc_score_2:.2f}\")\n",
        "print(f\"AUC for Pathological (3): {auc_score_3:.2f}\")"
      ],
      "metadata": {
        "colab": {
          "base_uri": "https://localhost:8080/"
        },
        "outputId": "8364a81e-ecda-471b-b33c-c5712de8fbf9",
        "id": "enK0tcQ9k1il"
      },
      "execution_count": null,
      "outputs": [
        {
          "output_type": "stream",
          "name": "stdout",
          "text": [
            "AUC for Normal (1): 0.11\n",
            "AUC for Suspect (2): 0.78\n",
            "AUC for Pathological (3): 0.96\n"
          ]
        }
      ]
    },
    {
      "cell_type": "markdown",
      "source": [
        "## Decision Tree Classifier"
      ],
      "metadata": {
        "id": "WEZuVEmtS2R6"
      }
    },
    {
      "cell_type": "code",
      "source": [
        "model_dt = DecisionTreeClassifier(max_depth=6)\n",
        "model_dt.fit(X_train,y_train)"
      ],
      "metadata": {
        "colab": {
          "base_uri": "https://localhost:8080/",
          "height": 75
        },
        "id": "IVOMdoEoS6VN",
        "outputId": "f29a4f1b-89d2-4fac-ca34-b0955cb33566"
      },
      "execution_count": null,
      "outputs": [
        {
          "output_type": "execute_result",
          "data": {
            "text/plain": [
              "DecisionTreeClassifier(max_depth=6)"
            ],
            "text/html": [
              "<style>#sk-container-id-3 {color: black;}#sk-container-id-3 pre{padding: 0;}#sk-container-id-3 div.sk-toggleable {background-color: white;}#sk-container-id-3 label.sk-toggleable__label {cursor: pointer;display: block;width: 100%;margin-bottom: 0;padding: 0.3em;box-sizing: border-box;text-align: center;}#sk-container-id-3 label.sk-toggleable__label-arrow:before {content: \"▸\";float: left;margin-right: 0.25em;color: #696969;}#sk-container-id-3 label.sk-toggleable__label-arrow:hover:before {color: black;}#sk-container-id-3 div.sk-estimator:hover label.sk-toggleable__label-arrow:before {color: black;}#sk-container-id-3 div.sk-toggleable__content {max-height: 0;max-width: 0;overflow: hidden;text-align: left;background-color: #f0f8ff;}#sk-container-id-3 div.sk-toggleable__content pre {margin: 0.2em;color: black;border-radius: 0.25em;background-color: #f0f8ff;}#sk-container-id-3 input.sk-toggleable__control:checked~div.sk-toggleable__content {max-height: 200px;max-width: 100%;overflow: auto;}#sk-container-id-3 input.sk-toggleable__control:checked~label.sk-toggleable__label-arrow:before {content: \"▾\";}#sk-container-id-3 div.sk-estimator input.sk-toggleable__control:checked~label.sk-toggleable__label {background-color: #d4ebff;}#sk-container-id-3 div.sk-label input.sk-toggleable__control:checked~label.sk-toggleable__label {background-color: #d4ebff;}#sk-container-id-3 input.sk-hidden--visually {border: 0;clip: rect(1px 1px 1px 1px);clip: rect(1px, 1px, 1px, 1px);height: 1px;margin: -1px;overflow: hidden;padding: 0;position: absolute;width: 1px;}#sk-container-id-3 div.sk-estimator {font-family: monospace;background-color: #f0f8ff;border: 1px dotted black;border-radius: 0.25em;box-sizing: border-box;margin-bottom: 0.5em;}#sk-container-id-3 div.sk-estimator:hover {background-color: #d4ebff;}#sk-container-id-3 div.sk-parallel-item::after {content: \"\";width: 100%;border-bottom: 1px solid gray;flex-grow: 1;}#sk-container-id-3 div.sk-label:hover label.sk-toggleable__label {background-color: #d4ebff;}#sk-container-id-3 div.sk-serial::before {content: \"\";position: absolute;border-left: 1px solid gray;box-sizing: border-box;top: 0;bottom: 0;left: 50%;z-index: 0;}#sk-container-id-3 div.sk-serial {display: flex;flex-direction: column;align-items: center;background-color: white;padding-right: 0.2em;padding-left: 0.2em;position: relative;}#sk-container-id-3 div.sk-item {position: relative;z-index: 1;}#sk-container-id-3 div.sk-parallel {display: flex;align-items: stretch;justify-content: center;background-color: white;position: relative;}#sk-container-id-3 div.sk-item::before, #sk-container-id-3 div.sk-parallel-item::before {content: \"\";position: absolute;border-left: 1px solid gray;box-sizing: border-box;top: 0;bottom: 0;left: 50%;z-index: -1;}#sk-container-id-3 div.sk-parallel-item {display: flex;flex-direction: column;z-index: 1;position: relative;background-color: white;}#sk-container-id-3 div.sk-parallel-item:first-child::after {align-self: flex-end;width: 50%;}#sk-container-id-3 div.sk-parallel-item:last-child::after {align-self: flex-start;width: 50%;}#sk-container-id-3 div.sk-parallel-item:only-child::after {width: 0;}#sk-container-id-3 div.sk-dashed-wrapped {border: 1px dashed gray;margin: 0 0.4em 0.5em 0.4em;box-sizing: border-box;padding-bottom: 0.4em;background-color: white;}#sk-container-id-3 div.sk-label label {font-family: monospace;font-weight: bold;display: inline-block;line-height: 1.2em;}#sk-container-id-3 div.sk-label-container {text-align: center;}#sk-container-id-3 div.sk-container {/* jupyter's `normalize.less` sets `[hidden] { display: none; }` but bootstrap.min.css set `[hidden] { display: none !important; }` so we also need the `!important` here to be able to override the default hidden behavior on the sphinx rendered scikit-learn.org. See: https://github.com/scikit-learn/scikit-learn/issues/21755 */display: inline-block !important;position: relative;}#sk-container-id-3 div.sk-text-repr-fallback {display: none;}</style><div id=\"sk-container-id-3\" class=\"sk-top-container\"><div class=\"sk-text-repr-fallback\"><pre>DecisionTreeClassifier(max_depth=6)</pre><b>In a Jupyter environment, please rerun this cell to show the HTML representation or trust the notebook. <br />On GitHub, the HTML representation is unable to render, please try loading this page with nbviewer.org.</b></div><div class=\"sk-container\" hidden><div class=\"sk-item\"><div class=\"sk-estimator sk-toggleable\"><input class=\"sk-toggleable__control sk-hidden--visually\" id=\"sk-estimator-id-3\" type=\"checkbox\" checked><label for=\"sk-estimator-id-3\" class=\"sk-toggleable__label sk-toggleable__label-arrow\">DecisionTreeClassifier</label><div class=\"sk-toggleable__content\"><pre>DecisionTreeClassifier(max_depth=6)</pre></div></div></div></div></div>"
            ]
          },
          "metadata": {},
          "execution_count": 76
        }
      ]
    },
    {
      "cell_type": "code",
      "source": [
        "y_prediction = model_dt.predict(X_test)"
      ],
      "metadata": {
        "id": "EGaXlssMTEhB"
      },
      "execution_count": null,
      "outputs": []
    },
    {
      "cell_type": "markdown",
      "source": [
        "### Recall, Precision, Weighted Accuracy"
      ],
      "metadata": {
        "id": "B_PGF8OrTN37"
      }
    },
    {
      "cell_type": "code",
      "source": [
        "recall = recall_score(y_test, y_prediction, average='weighted')\n",
        "precision = precision_score(y_test, y_prediction, average='weighted')\n",
        "weighted_accuracy = accuracy_score(y_test, y_prediction)\n",
        "\n",
        "print(f\"Recall: {recall:.2f}\")\n",
        "print(f\"Precision: {precision:.2f}\")\n",
        "print(f\"Weighted Accuracy: {weighted_accuracy:.2f}\")"
      ],
      "metadata": {
        "colab": {
          "base_uri": "https://localhost:8080/"
        },
        "id": "3v1Y_f75TGOI",
        "outputId": "bc649941-08d3-49a9-f18a-6c2f0995be9a"
      },
      "execution_count": null,
      "outputs": [
        {
          "output_type": "stream",
          "name": "stdout",
          "text": [
            "Recall: 0.90\n",
            "Precision: 0.89\n",
            "Weighted Accuracy: 0.90\n"
          ]
        }
      ]
    },
    {
      "cell_type": "markdown",
      "source": [
        "### AUC Score"
      ],
      "metadata": {
        "id": "Tm-JeG5uTKzg"
      }
    },
    {
      "cell_type": "code",
      "source": [
        "label_binarizer = LabelBinarizer().fit(y_train)\n",
        "y_onehot_test = label_binarizer.transform(y_test)\n",
        "y_onehot_test.shape"
      ],
      "metadata": {
        "colab": {
          "base_uri": "https://localhost:8080/"
        },
        "id": "1xCq8UIwTUYK",
        "outputId": "471cd5a4-4bab-462c-9789-384ad88139d3"
      },
      "execution_count": null,
      "outputs": [
        {
          "output_type": "execute_result",
          "data": {
            "text/plain": [
              "(532, 3)"
            ]
          },
          "metadata": {},
          "execution_count": 79
        }
      ]
    },
    {
      "cell_type": "code",
      "source": [
        "label_encoder = LabelEncoder()\n",
        "y_prediction_encoded = label_encoder.fit_transform(y_prediction)"
      ],
      "metadata": {
        "id": "l0fTuPBnTVla"
      },
      "execution_count": null,
      "outputs": []
    },
    {
      "cell_type": "markdown",
      "source": [
        "#### AUC for Normal (1)"
      ],
      "metadata": {
        "id": "A6TbeWp3TRLh"
      }
    },
    {
      "cell_type": "code",
      "source": [
        "label_binarizer.transform([1])"
      ],
      "metadata": {
        "colab": {
          "base_uri": "https://localhost:8080/"
        },
        "id": "5AVqJn6bTMrp",
        "outputId": "cf267c84-63bd-4ead-9415-8dc4a51118e4"
      },
      "execution_count": null,
      "outputs": [
        {
          "output_type": "execute_result",
          "data": {
            "text/plain": [
              "array([[1, 0, 0]])"
            ]
          },
          "metadata": {},
          "execution_count": 81
        }
      ]
    },
    {
      "cell_type": "code",
      "source": [
        "health_of_interest = 1\n",
        "health_id = np.flatnonzero(label_binarizer.classes_ == health_of_interest)[0]\n",
        "health_id"
      ],
      "metadata": {
        "colab": {
          "base_uri": "https://localhost:8080/"
        },
        "id": "pek-NgLXT-g4",
        "outputId": "8019277f-e6cf-4001-bf33-b9c638dfa7bb"
      },
      "execution_count": null,
      "outputs": [
        {
          "output_type": "execute_result",
          "data": {
            "text/plain": [
              "0"
            ]
          },
          "metadata": {},
          "execution_count": 82
        }
      ]
    },
    {
      "cell_type": "code",
      "source": [
        "auc_score_1 = roc_auc_score(y_onehot_test[:, health_id], y_prediction_encoded)"
      ],
      "metadata": {
        "id": "bHmjSrHNUAqL"
      },
      "execution_count": null,
      "outputs": []
    },
    {
      "cell_type": "code",
      "source": [
        "print(f\"AUC for Normal (1): {auc_score_1:.2f}\")"
      ],
      "metadata": {
        "colab": {
          "base_uri": "https://localhost:8080/"
        },
        "id": "M-c0DrglUC_j",
        "outputId": "04d8b9ca-eccc-4075-8123-b3e26efaf063"
      },
      "execution_count": null,
      "outputs": [
        {
          "output_type": "stream",
          "name": "stdout",
          "text": [
            "AUC for Normal (1): 0.14\n"
          ]
        }
      ]
    },
    {
      "cell_type": "markdown",
      "source": [
        "#### AUC for Suspect (2)"
      ],
      "metadata": {
        "id": "1ufFWnMWTcUk"
      }
    },
    {
      "cell_type": "code",
      "source": [
        "label_binarizer.transform([2])"
      ],
      "metadata": {
        "colab": {
          "base_uri": "https://localhost:8080/"
        },
        "outputId": "1be0744a-cdb8-490d-f830-aaf4fa897acd",
        "id": "ULGBZuezUGeR"
      },
      "execution_count": null,
      "outputs": [
        {
          "output_type": "execute_result",
          "data": {
            "text/plain": [
              "array([[0, 1, 0]])"
            ]
          },
          "metadata": {},
          "execution_count": 85
        }
      ]
    },
    {
      "cell_type": "code",
      "source": [
        "health_of_interest = 2\n",
        "health_id = np.flatnonzero(label_binarizer.classes_ == health_of_interest)[0]\n",
        "health_id"
      ],
      "metadata": {
        "colab": {
          "base_uri": "https://localhost:8080/"
        },
        "outputId": "7e2bb813-cffc-457a-f90e-37eeb969ddcb",
        "id": "9mxOWU45UGea"
      },
      "execution_count": null,
      "outputs": [
        {
          "output_type": "execute_result",
          "data": {
            "text/plain": [
              "1"
            ]
          },
          "metadata": {},
          "execution_count": 86
        }
      ]
    },
    {
      "cell_type": "code",
      "source": [
        "auc_score_2 = roc_auc_score(y_onehot_test[:, health_id], y_prediction_encoded)"
      ],
      "metadata": {
        "id": "ZTZtOYClUGeb"
      },
      "execution_count": null,
      "outputs": []
    },
    {
      "cell_type": "code",
      "source": [
        "print(f\"AUC for Suspect (2): {auc_score_2:.2f}\")"
      ],
      "metadata": {
        "outputId": "57b58cfc-0c87-4a79-dca5-2a8e8b27dc53",
        "colab": {
          "base_uri": "https://localhost:8080/"
        },
        "id": "RPjJGWmzUGeb"
      },
      "execution_count": null,
      "outputs": [
        {
          "output_type": "stream",
          "name": "stdout",
          "text": [
            "AUC for Suspect (2): 0.75\n"
          ]
        }
      ]
    },
    {
      "cell_type": "markdown",
      "source": [
        "#### AUC for Pathological (3)"
      ],
      "metadata": {
        "id": "A0XON0KVThad"
      }
    },
    {
      "cell_type": "code",
      "source": [
        "label_binarizer.transform([3])"
      ],
      "metadata": {
        "colab": {
          "base_uri": "https://localhost:8080/"
        },
        "outputId": "d32da9ca-9147-4e46-bcfc-147d8e35eac4",
        "id": "HqYk-3wiUIX5"
      },
      "execution_count": null,
      "outputs": [
        {
          "output_type": "execute_result",
          "data": {
            "text/plain": [
              "array([[0, 0, 1]])"
            ]
          },
          "metadata": {},
          "execution_count": 90
        }
      ]
    },
    {
      "cell_type": "code",
      "source": [
        "health_of_interest = 3\n",
        "health_id = np.flatnonzero(label_binarizer.classes_ == health_of_interest)[0]\n",
        "health_id"
      ],
      "metadata": {
        "colab": {
          "base_uri": "https://localhost:8080/"
        },
        "outputId": "0200f673-a8f8-4d66-f3af-3bc2171bafda",
        "id": "2wlKrY15UIX_"
      },
      "execution_count": null,
      "outputs": [
        {
          "output_type": "execute_result",
          "data": {
            "text/plain": [
              "2"
            ]
          },
          "metadata": {},
          "execution_count": 91
        }
      ]
    },
    {
      "cell_type": "code",
      "source": [
        "auc_score_3 = roc_auc_score(y_onehot_test[:, health_id], y_prediction_encoded)"
      ],
      "metadata": {
        "id": "fg-azysPUIX_"
      },
      "execution_count": null,
      "outputs": []
    },
    {
      "cell_type": "code",
      "source": [
        "print(f\"AUC for Pathological (3): {auc_score_3:.2f}\")"
      ],
      "metadata": {
        "outputId": "d72c7992-f09a-41b8-c1cf-f08998f741df",
        "colab": {
          "base_uri": "https://localhost:8080/"
        },
        "id": "zWNzCahfUIX_"
      },
      "execution_count": null,
      "outputs": [
        {
          "output_type": "stream",
          "name": "stdout",
          "text": [
            "AUC for Pathological (3): 0.94\n"
          ]
        }
      ]
    },
    {
      "cell_type": "markdown",
      "source": [
        "#### Summary AUC Score"
      ],
      "metadata": {
        "id": "OoWTXLlxUazP"
      }
    },
    {
      "cell_type": "code",
      "source": [
        "print(f\"AUC for Normal (1): {auc_score_1:.2f}\")\n",
        "print(f\"AUC for Suspect (2): {auc_score_2:.2f}\")\n",
        "print(f\"AUC for Pathological (3): {auc_score_3:.2f}\")"
      ],
      "metadata": {
        "colab": {
          "base_uri": "https://localhost:8080/"
        },
        "id": "2miEPgI5Uc6A",
        "outputId": "7c211724-2a35-43e6-8779-976628885e23"
      },
      "execution_count": null,
      "outputs": [
        {
          "output_type": "stream",
          "name": "stdout",
          "text": [
            "AUC for Normal (1): 0.14\n",
            "AUC for Suspect (2): 0.75\n",
            "AUC for Pathological (3): 0.94\n"
          ]
        }
      ]
    },
    {
      "cell_type": "markdown",
      "source": [
        "## TensorFlow"
      ],
      "metadata": {
        "id": "2BCx55rQTASa"
      }
    },
    {
      "cell_type": "code",
      "source": [
        "y_train_c = to_categorical(y_train)\n",
        "y_val_c = to_categorical(y_val)\n",
        "y_test_c = to_categorical(y_test)"
      ],
      "metadata": {
        "id": "FaQuEitATBao"
      },
      "execution_count": null,
      "outputs": []
    },
    {
      "cell_type": "code",
      "source": [
        "X_train.shape"
      ],
      "metadata": {
        "colab": {
          "base_uri": "https://localhost:8080/"
        },
        "id": "znle0vpdU2E4",
        "outputId": "03cb1b4b-8d66-4807-fddf-90977fcd39bc"
      },
      "execution_count": null,
      "outputs": [
        {
          "output_type": "execute_result",
          "data": {
            "text/plain": [
              "(1275, 21)"
            ]
          },
          "metadata": {},
          "execution_count": 15
        }
      ]
    },
    {
      "cell_type": "code",
      "source": [
        "multi_class_model = tf.keras.Sequential([\n",
        "    tf.keras.layers.Dense(11,activation='relu',input_dim=21),\n",
        "    tf.keras.layers.Dense(4, activation='softmax')\n",
        "])"
      ],
      "metadata": {
        "id": "iMKxcaH8UxrF"
      },
      "execution_count": null,
      "outputs": []
    },
    {
      "cell_type": "code",
      "source": [
        "multi_class_model.summary()"
      ],
      "metadata": {
        "colab": {
          "base_uri": "https://localhost:8080/"
        },
        "id": "tT0bNY6GU52U",
        "outputId": "2544ad98-da90-46cb-b751-8abc6a539e0c"
      },
      "execution_count": null,
      "outputs": [
        {
          "output_type": "stream",
          "name": "stdout",
          "text": [
            "Model: \"sequential_13\"\n",
            "_________________________________________________________________\n",
            " Layer (type)                Output Shape              Param #   \n",
            "=================================================================\n",
            " dense_31 (Dense)            (None, 11)                242       \n",
            "                                                                 \n",
            " dense_32 (Dense)            (None, 4)                 48        \n",
            "                                                                 \n",
            "=================================================================\n",
            "Total params: 290 (1.13 KB)\n",
            "Trainable params: 290 (1.13 KB)\n",
            "Non-trainable params: 0 (0.00 Byte)\n",
            "_________________________________________________________________\n"
          ]
        }
      ]
    },
    {
      "cell_type": "code",
      "source": [
        "learning_rate = 0.001  # You can adjust the learning rate as needed\n",
        "optimizer = tf.keras.optimizers.Adagrad(learning_rate=learning_rate)"
      ],
      "metadata": {
        "id": "jb1aBcYPkzSa"
      },
      "execution_count": null,
      "outputs": []
    },
    {
      "cell_type": "code",
      "source": [
        "multi_class_model.compile(loss='categorical_crossentropy',\n",
        "                     optimizer=optimizer,\n",
        "                      metrics='accuracy')"
      ],
      "metadata": {
        "id": "gvfxiiTGU6_z"
      },
      "execution_count": null,
      "outputs": []
    },
    {
      "cell_type": "code",
      "source": [
        "multi_class_model_history = multi_class_model.fit(X_train, y_train_c,\n",
        "                      validation_data=(X_val,y_val_c),\n",
        "                      epochs=90)"
      ],
      "metadata": {
        "colab": {
          "base_uri": "https://localhost:8080/"
        },
        "id": "prrGVodJU7-l",
        "outputId": "47f9be03-928e-47fc-a3ff-911f9d967f00"
      },
      "execution_count": null,
      "outputs": [
        {
          "output_type": "stream",
          "name": "stdout",
          "text": [
            "Epoch 1/90\n",
            "40/40 [==============================] - 1s 8ms/step - loss: 2.0894 - accuracy: 0.0549 - val_loss: 92.0129 - val_accuracy: 0.0564\n",
            "Epoch 2/90\n",
            "40/40 [==============================] - 0s 4ms/step - loss: 2.0071 - accuracy: 0.0596 - val_loss: 85.8079 - val_accuracy: 0.0564\n",
            "Epoch 3/90\n",
            "40/40 [==============================] - 0s 3ms/step - loss: 1.9521 - accuracy: 0.0659 - val_loss: 81.0012 - val_accuracy: 0.0564\n",
            "Epoch 4/90\n",
            "40/40 [==============================] - 0s 3ms/step - loss: 1.9084 - accuracy: 0.0722 - val_loss: 76.9891 - val_accuracy: 0.0564\n",
            "Epoch 5/90\n",
            "40/40 [==============================] - 0s 3ms/step - loss: 1.8715 - accuracy: 0.0753 - val_loss: 73.4840 - val_accuracy: 0.0596\n",
            "Epoch 6/90\n",
            "40/40 [==============================] - 0s 3ms/step - loss: 1.8392 - accuracy: 0.0800 - val_loss: 70.3538 - val_accuracy: 0.0596\n",
            "Epoch 7/90\n",
            "40/40 [==============================] - 0s 3ms/step - loss: 1.8104 - accuracy: 0.0847 - val_loss: 67.5184 - val_accuracy: 0.0596\n",
            "Epoch 8/90\n",
            "40/40 [==============================] - 0s 4ms/step - loss: 1.7842 - accuracy: 0.0863 - val_loss: 64.9178 - val_accuracy: 0.0596\n",
            "Epoch 9/90\n",
            "40/40 [==============================] - 0s 3ms/step - loss: 1.7603 - accuracy: 0.0878 - val_loss: 62.5032 - val_accuracy: 0.0596\n",
            "Epoch 10/90\n",
            "40/40 [==============================] - 0s 4ms/step - loss: 1.7380 - accuracy: 0.0894 - val_loss: 60.2462 - val_accuracy: 0.0627\n",
            "Epoch 11/90\n",
            "40/40 [==============================] - 0s 5ms/step - loss: 1.7172 - accuracy: 0.0949 - val_loss: 58.1272 - val_accuracy: 0.0627\n",
            "Epoch 12/90\n",
            "40/40 [==============================] - 0s 5ms/step - loss: 1.6978 - accuracy: 0.0973 - val_loss: 56.1228 - val_accuracy: 0.0627\n",
            "Epoch 13/90\n",
            "40/40 [==============================] - 0s 4ms/step - loss: 1.6794 - accuracy: 0.1012 - val_loss: 54.2184 - val_accuracy: 0.0627\n",
            "Epoch 14/90\n",
            "40/40 [==============================] - 0s 5ms/step - loss: 1.6620 - accuracy: 0.1043 - val_loss: 52.4181 - val_accuracy: 0.0627\n",
            "Epoch 15/90\n",
            "40/40 [==============================] - 0s 4ms/step - loss: 1.6455 - accuracy: 0.1090 - val_loss: 50.6958 - val_accuracy: 0.0627\n",
            "Epoch 16/90\n",
            "40/40 [==============================] - 0s 4ms/step - loss: 1.6298 - accuracy: 0.1129 - val_loss: 49.0484 - val_accuracy: 0.0627\n",
            "Epoch 17/90\n",
            "40/40 [==============================] - 0s 4ms/step - loss: 1.6147 - accuracy: 0.1161 - val_loss: 47.4538 - val_accuracy: 0.0627\n",
            "Epoch 18/90\n",
            "40/40 [==============================] - 0s 4ms/step - loss: 1.6003 - accuracy: 0.1200 - val_loss: 45.9305 - val_accuracy: 0.0658\n",
            "Epoch 19/90\n",
            "40/40 [==============================] - 0s 5ms/step - loss: 1.5864 - accuracy: 0.1231 - val_loss: 44.4589 - val_accuracy: 0.0658\n",
            "Epoch 20/90\n",
            "40/40 [==============================] - 0s 6ms/step - loss: 1.5731 - accuracy: 0.1224 - val_loss: 43.0404 - val_accuracy: 0.0658\n",
            "Epoch 21/90\n",
            "40/40 [==============================] - 0s 4ms/step - loss: 1.5603 - accuracy: 0.1263 - val_loss: 41.6761 - val_accuracy: 0.0690\n",
            "Epoch 22/90\n",
            "40/40 [==============================] - 0s 5ms/step - loss: 1.5479 - accuracy: 0.1318 - val_loss: 40.3580 - val_accuracy: 0.0721\n",
            "Epoch 23/90\n",
            "40/40 [==============================] - 0s 5ms/step - loss: 1.5359 - accuracy: 0.1357 - val_loss: 39.0795 - val_accuracy: 0.0721\n",
            "Epoch 24/90\n",
            "40/40 [==============================] - 0s 5ms/step - loss: 1.5243 - accuracy: 0.1396 - val_loss: 37.8447 - val_accuracy: 0.0721\n",
            "Epoch 25/90\n",
            "40/40 [==============================] - 0s 6ms/step - loss: 1.5131 - accuracy: 0.1412 - val_loss: 36.6431 - val_accuracy: 0.0721\n",
            "Epoch 26/90\n",
            "40/40 [==============================] - 0s 6ms/step - loss: 1.5022 - accuracy: 0.1490 - val_loss: 35.4802 - val_accuracy: 0.0721\n",
            "Epoch 27/90\n",
            "40/40 [==============================] - 0s 4ms/step - loss: 1.4917 - accuracy: 0.1569 - val_loss: 34.3441 - val_accuracy: 0.0752\n",
            "Epoch 28/90\n",
            "40/40 [==============================] - 0s 5ms/step - loss: 1.4814 - accuracy: 0.1655 - val_loss: 33.2382 - val_accuracy: 0.0752\n",
            "Epoch 29/90\n",
            "40/40 [==============================] - 0s 5ms/step - loss: 1.4714 - accuracy: 0.1757 - val_loss: 32.1672 - val_accuracy: 0.0752\n",
            "Epoch 30/90\n",
            "40/40 [==============================] - 0s 6ms/step - loss: 1.4616 - accuracy: 0.1796 - val_loss: 31.1219 - val_accuracy: 0.0752\n",
            "Epoch 31/90\n",
            "40/40 [==============================] - 0s 6ms/step - loss: 1.4521 - accuracy: 0.1835 - val_loss: 30.1062 - val_accuracy: 0.0752\n",
            "Epoch 32/90\n",
            "40/40 [==============================] - 0s 5ms/step - loss: 1.4429 - accuracy: 0.1890 - val_loss: 29.1147 - val_accuracy: 0.0752\n",
            "Epoch 33/90\n",
            "40/40 [==============================] - 0s 6ms/step - loss: 1.4339 - accuracy: 0.1945 - val_loss: 28.1471 - val_accuracy: 0.0752\n",
            "Epoch 34/90\n",
            "40/40 [==============================] - 0s 5ms/step - loss: 1.4251 - accuracy: 0.2024 - val_loss: 27.2033 - val_accuracy: 0.0721\n",
            "Epoch 35/90\n",
            "40/40 [==============================] - 0s 4ms/step - loss: 1.4165 - accuracy: 0.2094 - val_loss: 26.2819 - val_accuracy: 0.0690\n",
            "Epoch 36/90\n",
            "40/40 [==============================] - 0s 3ms/step - loss: 1.4081 - accuracy: 0.2133 - val_loss: 25.3857 - val_accuracy: 0.0690\n",
            "Epoch 37/90\n",
            "40/40 [==============================] - 0s 3ms/step - loss: 1.3999 - accuracy: 0.2180 - val_loss: 24.5114 - val_accuracy: 0.0721\n",
            "Epoch 38/90\n",
            "40/40 [==============================] - 0s 3ms/step - loss: 1.3919 - accuracy: 0.2243 - val_loss: 23.6642 - val_accuracy: 0.0721\n",
            "Epoch 39/90\n",
            "40/40 [==============================] - 0s 3ms/step - loss: 1.3840 - accuracy: 0.2345 - val_loss: 22.8417 - val_accuracy: 0.0752\n",
            "Epoch 40/90\n",
            "40/40 [==============================] - 0s 3ms/step - loss: 1.3763 - accuracy: 0.2416 - val_loss: 22.0474 - val_accuracy: 0.0784\n",
            "Epoch 41/90\n",
            "40/40 [==============================] - 0s 4ms/step - loss: 1.3688 - accuracy: 0.2518 - val_loss: 21.2808 - val_accuracy: 0.0784\n",
            "Epoch 42/90\n",
            "40/40 [==============================] - 0s 3ms/step - loss: 1.3614 - accuracy: 0.2620 - val_loss: 20.5431 - val_accuracy: 0.0752\n",
            "Epoch 43/90\n",
            "40/40 [==============================] - 0s 3ms/step - loss: 1.3541 - accuracy: 0.2706 - val_loss: 19.8371 - val_accuracy: 0.0752\n",
            "Epoch 44/90\n",
            "40/40 [==============================] - 0s 4ms/step - loss: 1.3470 - accuracy: 0.2761 - val_loss: 19.1609 - val_accuracy: 0.0752\n",
            "Epoch 45/90\n",
            "40/40 [==============================] - 0s 3ms/step - loss: 1.3401 - accuracy: 0.2878 - val_loss: 18.5166 - val_accuracy: 0.0752\n",
            "Epoch 46/90\n",
            "40/40 [==============================] - 0s 3ms/step - loss: 1.3332 - accuracy: 0.2957 - val_loss: 17.9016 - val_accuracy: 0.0784\n",
            "Epoch 47/90\n",
            "40/40 [==============================] - 0s 3ms/step - loss: 1.3265 - accuracy: 0.3027 - val_loss: 17.3150 - val_accuracy: 0.1003\n",
            "Epoch 48/90\n",
            "40/40 [==============================] - 0s 3ms/step - loss: 1.3199 - accuracy: 0.3106 - val_loss: 16.7617 - val_accuracy: 0.1129\n",
            "Epoch 49/90\n",
            "40/40 [==============================] - 0s 4ms/step - loss: 1.3134 - accuracy: 0.3208 - val_loss: 16.2400 - val_accuracy: 0.1285\n",
            "Epoch 50/90\n",
            "40/40 [==============================] - 0s 4ms/step - loss: 1.3070 - accuracy: 0.3333 - val_loss: 15.7539 - val_accuracy: 0.1599\n",
            "Epoch 51/90\n",
            "40/40 [==============================] - 0s 3ms/step - loss: 1.3008 - accuracy: 0.3357 - val_loss: 15.3020 - val_accuracy: 0.1850\n",
            "Epoch 52/90\n",
            "40/40 [==============================] - 0s 3ms/step - loss: 1.2946 - accuracy: 0.3435 - val_loss: 14.8831 - val_accuracy: 0.2069\n",
            "Epoch 53/90\n",
            "40/40 [==============================] - 0s 3ms/step - loss: 1.2885 - accuracy: 0.3561 - val_loss: 14.5002 - val_accuracy: 0.2476\n",
            "Epoch 54/90\n",
            "40/40 [==============================] - 0s 3ms/step - loss: 1.2826 - accuracy: 0.3616 - val_loss: 14.1533 - val_accuracy: 0.2821\n",
            "Epoch 55/90\n",
            "40/40 [==============================] - 0s 4ms/step - loss: 1.2767 - accuracy: 0.3694 - val_loss: 13.8429 - val_accuracy: 0.3166\n",
            "Epoch 56/90\n",
            "40/40 [==============================] - 0s 4ms/step - loss: 1.2709 - accuracy: 0.3757 - val_loss: 13.5673 - val_accuracy: 0.3605\n",
            "Epoch 57/90\n",
            "40/40 [==============================] - 0s 4ms/step - loss: 1.2653 - accuracy: 0.3827 - val_loss: 13.3297 - val_accuracy: 0.3918\n",
            "Epoch 58/90\n",
            "40/40 [==============================] - 0s 4ms/step - loss: 1.2597 - accuracy: 0.3937 - val_loss: 13.1291 - val_accuracy: 0.4326\n",
            "Epoch 59/90\n",
            "40/40 [==============================] - 0s 4ms/step - loss: 1.2541 - accuracy: 0.4047 - val_loss: 12.9654 - val_accuracy: 0.4859\n",
            "Epoch 60/90\n",
            "40/40 [==============================] - 0s 4ms/step - loss: 1.2487 - accuracy: 0.4149 - val_loss: 12.8401 - val_accuracy: 0.5392\n",
            "Epoch 61/90\n",
            "40/40 [==============================] - 0s 4ms/step - loss: 1.2433 - accuracy: 0.4235 - val_loss: 12.7509 - val_accuracy: 0.5768\n",
            "Epoch 62/90\n",
            "40/40 [==============================] - 0s 4ms/step - loss: 1.2380 - accuracy: 0.4290 - val_loss: 12.6939 - val_accuracy: 0.6144\n",
            "Epoch 63/90\n",
            "40/40 [==============================] - 0s 4ms/step - loss: 1.2328 - accuracy: 0.4369 - val_loss: 12.6668 - val_accuracy: 0.6489\n",
            "Epoch 64/90\n",
            "40/40 [==============================] - 0s 3ms/step - loss: 1.2277 - accuracy: 0.4471 - val_loss: 12.6649 - val_accuracy: 0.6834\n",
            "Epoch 65/90\n",
            "40/40 [==============================] - 0s 3ms/step - loss: 1.2226 - accuracy: 0.4541 - val_loss: 12.6848 - val_accuracy: 0.6959\n",
            "Epoch 66/90\n",
            "40/40 [==============================] - 0s 4ms/step - loss: 1.2176 - accuracy: 0.4635 - val_loss: 12.7227 - val_accuracy: 0.7241\n",
            "Epoch 67/90\n",
            "40/40 [==============================] - 0s 4ms/step - loss: 1.2127 - accuracy: 0.4769 - val_loss: 12.7758 - val_accuracy: 0.7461\n",
            "Epoch 68/90\n",
            "40/40 [==============================] - 0s 4ms/step - loss: 1.2078 - accuracy: 0.4831 - val_loss: 12.8403 - val_accuracy: 0.7524\n",
            "Epoch 69/90\n",
            "40/40 [==============================] - 0s 4ms/step - loss: 1.2030 - accuracy: 0.4886 - val_loss: 12.9133 - val_accuracy: 0.7618\n",
            "Epoch 70/90\n",
            "40/40 [==============================] - 0s 5ms/step - loss: 1.1983 - accuracy: 0.4996 - val_loss: 12.9920 - val_accuracy: 0.7680\n",
            "Epoch 71/90\n",
            "40/40 [==============================] - 0s 3ms/step - loss: 1.1936 - accuracy: 0.5027 - val_loss: 13.0747 - val_accuracy: 0.7743\n",
            "Epoch 72/90\n",
            "40/40 [==============================] - 0s 4ms/step - loss: 1.1890 - accuracy: 0.5075 - val_loss: 13.1616 - val_accuracy: 0.7774\n",
            "Epoch 73/90\n",
            "40/40 [==============================] - 0s 4ms/step - loss: 1.1844 - accuracy: 0.5145 - val_loss: 13.2503 - val_accuracy: 0.7774\n",
            "Epoch 74/90\n",
            "40/40 [==============================] - 0s 4ms/step - loss: 1.1799 - accuracy: 0.5224 - val_loss: 13.3394 - val_accuracy: 0.7774\n",
            "Epoch 75/90\n",
            "40/40 [==============================] - 0s 4ms/step - loss: 1.1754 - accuracy: 0.5294 - val_loss: 13.4281 - val_accuracy: 0.7774\n",
            "Epoch 76/90\n",
            "40/40 [==============================] - 0s 4ms/step - loss: 1.1710 - accuracy: 0.5333 - val_loss: 13.5167 - val_accuracy: 0.7774\n",
            "Epoch 77/90\n",
            "40/40 [==============================] - 0s 3ms/step - loss: 1.1666 - accuracy: 0.5412 - val_loss: 13.6051 - val_accuracy: 0.7774\n",
            "Epoch 78/90\n",
            "40/40 [==============================] - 0s 3ms/step - loss: 1.1623 - accuracy: 0.5529 - val_loss: 13.6928 - val_accuracy: 0.7806\n",
            "Epoch 79/90\n",
            "40/40 [==============================] - 0s 3ms/step - loss: 1.1580 - accuracy: 0.5616 - val_loss: 13.7805 - val_accuracy: 0.7806\n",
            "Epoch 80/90\n",
            "40/40 [==============================] - 0s 4ms/step - loss: 1.1538 - accuracy: 0.5725 - val_loss: 13.8677 - val_accuracy: 0.7806\n",
            "Epoch 81/90\n",
            "40/40 [==============================] - 0s 3ms/step - loss: 1.1497 - accuracy: 0.5812 - val_loss: 13.9556 - val_accuracy: 0.7806\n",
            "Epoch 82/90\n",
            "40/40 [==============================] - 0s 4ms/step - loss: 1.1455 - accuracy: 0.5859 - val_loss: 14.0440 - val_accuracy: 0.7806\n",
            "Epoch 83/90\n",
            "40/40 [==============================] - 0s 3ms/step - loss: 1.1415 - accuracy: 0.5922 - val_loss: 14.1311 - val_accuracy: 0.7806\n",
            "Epoch 84/90\n",
            "40/40 [==============================] - 0s 3ms/step - loss: 1.1375 - accuracy: 0.6008 - val_loss: 14.2186 - val_accuracy: 0.7806\n",
            "Epoch 85/90\n",
            "40/40 [==============================] - 0s 3ms/step - loss: 1.1335 - accuracy: 0.6063 - val_loss: 14.3045 - val_accuracy: 0.7806\n",
            "Epoch 86/90\n",
            "40/40 [==============================] - 0s 3ms/step - loss: 1.1296 - accuracy: 0.6078 - val_loss: 14.3908 - val_accuracy: 0.7806\n",
            "Epoch 87/90\n",
            "40/40 [==============================] - 0s 3ms/step - loss: 1.1257 - accuracy: 0.6125 - val_loss: 14.4762 - val_accuracy: 0.7806\n",
            "Epoch 88/90\n",
            "40/40 [==============================] - 0s 3ms/step - loss: 1.1218 - accuracy: 0.6188 - val_loss: 14.5611 - val_accuracy: 0.7806\n",
            "Epoch 89/90\n",
            "40/40 [==============================] - 0s 3ms/step - loss: 1.1180 - accuracy: 0.6290 - val_loss: 14.6452 - val_accuracy: 0.7806\n",
            "Epoch 90/90\n",
            "40/40 [==============================] - 0s 3ms/step - loss: 1.1143 - accuracy: 0.6376 - val_loss: 14.7291 - val_accuracy: 0.7806\n"
          ]
        }
      ]
    },
    {
      "cell_type": "code",
      "source": [
        "acc = multi_class_model_history.history['accuracy']\n",
        "val_acc = multi_class_model_history.history['val_accuracy']\n",
        "epochs = range(1,len(acc)+1)\n",
        "\n",
        "plt.title('Accuracy')\n",
        "plt.plot(epochs,acc,label='Train')\n",
        "plt.plot(epochs,val_acc,color='red',label='Validation')\n",
        "plt.xlabel('Epochs')\n",
        "plt.ylabel('Accuracy')\n",
        "plt.legend()\n",
        "plt.show()"
      ],
      "metadata": {
        "colab": {
          "base_uri": "https://localhost:8080/",
          "height": 472
        },
        "id": "kZTkL4OdV7Cn",
        "outputId": "816c8412-33d5-4953-d212-1dcdae25f218"
      },
      "execution_count": null,
      "outputs": [
        {
          "output_type": "display_data",
          "data": {
            "text/plain": [
              "<Figure size 640x480 with 1 Axes>"
            ],
            "image/png": "[encoded data removed]"
          },
          "metadata": {}
        }
      ]
    },
    {
      "cell_type": "code",
      "source": [
        "loss_function = multi_class_model_history.history['loss']\n",
        "val_loss_function = multi_class_model_history.history['val_loss']\n",
        "epochs = range(1,len(loss_function)+1)\n",
        "\n",
        "plt.title('Loss')\n",
        "plt.plot(epochs,loss_function,label='Train')\n",
        "plt.plot(epochs,val_loss_function,color='red',label='Validation')\n",
        "plt.xlabel('Epochs')\n",
        "plt.ylabel('Loss function')\n",
        "plt.legend()\n",
        "plt.show()"
      ],
      "metadata": {
        "colab": {
          "base_uri": "https://localhost:8080/",
          "height": 472
        },
        "id": "FPA3QQM4V9VO",
        "outputId": "ceefda54-8a9e-4819-dceb-43bba0e08439"
      },
      "execution_count": null,
      "outputs": [
        {
          "output_type": "display_data",
          "data": {
            "text/plain": [
              "<Figure size 640x480 with 1 Axes>"
            ],
            "image/png": "[encoded data removed]"
          },
          "metadata": {}
        }
      ]
    },
    {
      "cell_type": "markdown",
      "source": [
        "# Регрессор"
      ],
      "metadata": {
        "id": "MWZTZZSDqbe1"
      }
    },
    {
      "cell_type": "code",
      "source": [
        "data3 = pd.read_csv(file3_name)\n",
        "data3.head(10).style"
      ],
      "metadata": {
        "colab": {
          "base_uri": "https://localhost:8080/",
          "height": 419
        },
        "id": "5jE3gemuqctQ",
        "outputId": "68a72379-8b13-40ac-e63b-6d6d7b303375"
      },
      "execution_count": 11,
      "outputs": [
        {
          "output_type": "stream",
          "name": "stderr",
          "text": [
            "<ipython-input-11-c8396cc9d27e>:1: DtypeWarning: Columns (30,56,96,114) have mixed types. Specify dtype option on import or set low_memory=False.\n",
            "  data3 = pd.read_csv(file3_name)\n"
          ]
        },
        {
          "output_type": "execute_result",
          "data": {
            "text/plain": [
              "<pandas.io.formats.style.Styler at 0x7b916fe11e70>"
            ],
            "text/html": [
              "<style type=\"text/css\">\n",
              "</style>\n",
              "<table id=\"T_8e860\" class=\"dataframe\">\n",
              "  <thead>\n",
              "    <tr>\n",
              "      <th class=\"blank level0\" >&nbsp;</th>\n",
              "      <th id=\"T_8e860_level0_col0\" class=\"col_heading level0 col0\" >Climate_Region_Pub</th>\n",
              "      <th id=\"T_8e860_level0_col1\" class=\"col_heading level0 col1\" >DIVISION</th>\n",
              "      <th id=\"T_8e860_level0_col2\" class=\"col_heading level0 col2\" >REPORTABLE_DOMAIN</th>\n",
              "      <th id=\"T_8e860_level0_col3\" class=\"col_heading level0 col3\" >DOLELCOL</th>\n",
              "      <th id=\"T_8e860_level0_col4\" class=\"col_heading level0 col4\" >TOTALDOLCOL</th>\n",
              "      <th id=\"T_8e860_level0_col5\" class=\"col_heading level0 col5\" >KWHCOL</th>\n",
              "      <th id=\"T_8e860_level0_col6\" class=\"col_heading level0 col6\" >BTUELCOL</th>\n",
              "      <th id=\"T_8e860_level0_col7\" class=\"col_heading level0 col7\" >TOTALBTUCOL</th>\n",
              "      <th id=\"T_8e860_level0_col8\" class=\"col_heading level0 col8\" >TOTALDOLSPH</th>\n",
              "      <th id=\"T_8e860_level0_col9\" class=\"col_heading level0 col9\" >TOTALBTUSPH</th>\n",
              "      <th id=\"T_8e860_level0_col10\" class=\"col_heading level0 col10\" >CELLAR</th>\n",
              "      <th id=\"T_8e860_level0_col11\" class=\"col_heading level0 col11\" >NWEIGHT</th>\n",
              "      <th id=\"T_8e860_level0_col12\" class=\"col_heading level0 col12\" >TOTHSQFT</th>\n",
              "      <th id=\"T_8e860_level0_col13\" class=\"col_heading level0 col13\" >HEATHOME</th>\n",
              "      <th id=\"T_8e860_level0_col14\" class=\"col_heading level0 col14\" >NUMPC</th>\n",
              "      <th id=\"T_8e860_level0_col15\" class=\"col_heading level0 col15\" >DOLLAREL</th>\n",
              "      <th id=\"T_8e860_level0_col16\" class=\"col_heading level0 col16\" >DOLELOTH</th>\n",
              "      <th id=\"T_8e860_level0_col17\" class=\"col_heading level0 col17\" >CUFEETNGSPH</th>\n",
              "      <th id=\"T_8e860_level0_col18\" class=\"col_heading level0 col18\" >BTUNGSPH</th>\n",
              "      <th id=\"T_8e860_level0_col19\" class=\"col_heading level0 col19\" >DOLNGSPH</th>\n",
              "      <th id=\"T_8e860_level0_col20\" class=\"col_heading level0 col20\" >TEMPHOME</th>\n",
              "      <th id=\"T_8e860_level0_col21\" class=\"col_heading level0 col21\" >TOTCSQFT</th>\n",
              "      <th id=\"T_8e860_level0_col22\" class=\"col_heading level0 col22\" >BTUFOSPH</th>\n",
              "      <th id=\"T_8e860_level0_col23\" class=\"col_heading level0 col23\" >AIRCOND</th>\n",
              "      <th id=\"T_8e860_level0_col24\" class=\"col_heading level0 col24\" >ELCOOL</th>\n",
              "      <th id=\"T_8e860_level0_col25\" class=\"col_heading level0 col25\" >GALLONFOSPH</th>\n",
              "      <th id=\"T_8e860_level0_col26\" class=\"col_heading level0 col26\" >WALLTYPE</th>\n",
              "      <th id=\"T_8e860_level0_col27\" class=\"col_heading level0 col27\" >TOTALDOLOTH</th>\n",
              "      <th id=\"T_8e860_level0_col28\" class=\"col_heading level0 col28\" >BTUFO</th>\n",
              "      <th id=\"T_8e860_level0_col29\" class=\"col_heading level0 col29\" >GALLONFO</th>\n",
              "      <th id=\"T_8e860_level0_col30\" class=\"col_heading level0 col30\" >DOLFOSPH</th>\n",
              "      <th id=\"T_8e860_level0_col31\" class=\"col_heading level0 col31\" >DOLLARFO</th>\n",
              "      <th id=\"T_8e860_level0_col32\" class=\"col_heading level0 col32\" >KWHSPH</th>\n",
              "      <th id=\"T_8e860_level0_col33\" class=\"col_heading level0 col33\" >BTUELSPH</th>\n",
              "      <th id=\"T_8e860_level0_col34\" class=\"col_heading level0 col34\" >FOWARM</th>\n",
              "      <th id=\"T_8e860_level0_col35\" class=\"col_heading level0 col35\" >USEFO</th>\n",
              "      <th id=\"T_8e860_level0_col36\" class=\"col_heading level0 col36\" >TOTUSQFT</th>\n",
              "      <th id=\"T_8e860_level0_col37\" class=\"col_heading level0 col37\" >TOTALDOL</th>\n",
              "      <th id=\"T_8e860_level0_col38\" class=\"col_heading level0 col38\" >NUMTHERM</th>\n",
              "      <th id=\"T_8e860_level0_col39\" class=\"col_heading level0 col39\" >DOLELSPH</th>\n",
              "      <th id=\"T_8e860_level0_col40\" class=\"col_heading level0 col40\" >CONCRETE</th>\n",
              "      <th id=\"T_8e860_level0_col41\" class=\"col_heading level0 col41\" >CUFEETNG</th>\n",
              "      <th id=\"T_8e860_level0_col42\" class=\"col_heading level0 col42\" >BTUNG</th>\n",
              "      <th id=\"T_8e860_level0_col43\" class=\"col_heading level0 col43\" >GALLONFOOTH</th>\n",
              "      <th id=\"T_8e860_level0_col44\" class=\"col_heading level0 col44\" >BTUFOOTH</th>\n",
              "      <th id=\"T_8e860_level0_col45\" class=\"col_heading level0 col45\" >BEDROOMS</th>\n",
              "      <th id=\"T_8e860_level0_col46\" class=\"col_heading level0 col46\" >FOWATER</th>\n",
              "      <th id=\"T_8e860_level0_col47\" class=\"col_heading level0 col47\" >GALLONFOWTH</th>\n",
              "      <th id=\"T_8e860_level0_col48\" class=\"col_heading level0 col48\" >BTUFOWTH</th>\n",
              "      <th id=\"T_8e860_level0_col49\" class=\"col_heading level0 col49\" >DOLFOWTH</th>\n",
              "      <th id=\"T_8e860_level0_col50\" class=\"col_heading level0 col50\" >GALLONKEROTH</th>\n",
              "      <th id=\"T_8e860_level0_col51\" class=\"col_heading level0 col51\" >BTUKEROTH</th>\n",
              "      <th id=\"T_8e860_level0_col52\" class=\"col_heading level0 col52\" >DOLKEROTH</th>\n",
              "      <th id=\"T_8e860_level0_col53\" class=\"col_heading level0 col53\" >TOTUCSQFT</th>\n",
              "      <th id=\"T_8e860_level0_col54\" class=\"col_heading level0 col54\" >TOTSQFT</th>\n",
              "      <th id=\"T_8e860_level0_col55\" class=\"col_heading level0 col55\" >TOTSQFT_EN</th>\n",
              "      <th id=\"T_8e860_level0_col56\" class=\"col_heading level0 col56\" >DOLNGWTH</th>\n",
              "      <th id=\"T_8e860_level0_col57\" class=\"col_heading level0 col57\" >DOLFOOTH</th>\n",
              "      <th id=\"T_8e860_level0_col58\" class=\"col_heading level0 col58\" >ELOTHER</th>\n",
              "      <th id=\"T_8e860_level0_col59\" class=\"col_heading level0 col59\" >DOLLARNG</th>\n",
              "      <th id=\"T_8e860_level0_col60\" class=\"col_heading level0 col60\" >FUELHEAT</th>\n",
              "      <th id=\"T_8e860_level0_col61\" class=\"col_heading level0 col61\" >NOTMOIST</th>\n",
              "      <th id=\"T_8e860_level0_col62\" class=\"col_heading level0 col62\" >GALLONKER</th>\n",
              "      <th id=\"T_8e860_level0_col63\" class=\"col_heading level0 col63\" >BTUKER</th>\n",
              "      <th id=\"T_8e860_level0_col64\" class=\"col_heading level0 col64\" >NUMCFAN</th>\n",
              "      <th id=\"T_8e860_level0_col65\" class=\"col_heading level0 col65\" >FOILAUX</th>\n",
              "      <th id=\"T_8e860_level0_col66\" class=\"col_heading level0 col66\" >TOTALBTU</th>\n",
              "      <th id=\"T_8e860_level0_col67\" class=\"col_heading level0 col67\" >COOLTYPE</th>\n",
              "      <th id=\"T_8e860_level0_col68\" class=\"col_heading level0 col68\" >DOOR1SUM</th>\n",
              "      <th id=\"T_8e860_level0_col69\" class=\"col_heading level0 col69\" >DOLLARKER</th>\n",
              "      <th id=\"T_8e860_level0_col70\" class=\"col_heading level0 col70\" >DOLLPOTH</th>\n",
              "      <th id=\"T_8e860_level0_col71\" class=\"col_heading level0 col71\" >DOLELWTH</th>\n",
              "      <th id=\"T_8e860_level0_col72\" class=\"col_heading level0 col72\" >KWHWTH</th>\n",
              "      <th id=\"T_8e860_level0_col73\" class=\"col_heading level0 col73\" >BTUELWTH</th>\n",
              "      <th id=\"T_8e860_level0_col74\" class=\"col_heading level0 col74\" >TOTROOMS</th>\n",
              "      <th id=\"T_8e860_level0_col75\" class=\"col_heading level0 col75\" >ELWATER</th>\n",
              "      <th id=\"T_8e860_level0_col76\" class=\"col_heading level0 col76\" >GALLONKERSPH</th>\n",
              "      <th id=\"T_8e860_level0_col77\" class=\"col_heading level0 col77\" >BTUKERSPH</th>\n",
              "      <th id=\"T_8e860_level0_col78\" class=\"col_heading level0 col78\" >TOTALBTUOTH</th>\n",
              "      <th id=\"T_8e860_level0_col79\" class=\"col_heading level0 col79\" >GALLONLPSPH</th>\n",
              "      <th id=\"T_8e860_level0_col80\" class=\"col_heading level0 col80\" >BTULPSPH</th>\n",
              "      <th id=\"T_8e860_level0_col81\" class=\"col_heading level0 col81\" >NCOMBATH</th>\n",
              "      <th id=\"T_8e860_level0_col82\" class=\"col_heading level0 col82\" >OVEN</th>\n",
              "      <th id=\"T_8e860_level0_col83\" class=\"col_heading level0 col83\" >EQUIPM</th>\n",
              "      <th id=\"T_8e860_level0_col84\" class=\"col_heading level0 col84\" >STORIES</th>\n",
              "      <th id=\"T_8e860_level0_col85\" class=\"col_heading level0 col85\" >GALLONLP</th>\n",
              "      <th id=\"T_8e860_level0_col86\" class=\"col_heading level0 col86\" >BTULP</th>\n",
              "      <th id=\"T_8e860_level0_col87\" class=\"col_heading level0 col87\" >LGT1</th>\n",
              "      <th id=\"T_8e860_level0_col88\" class=\"col_heading level0 col88\" >SOLWARM</th>\n",
              "      <th id=\"T_8e860_level0_col89\" class=\"col_heading level0 col89\" >FUELH2O</th>\n",
              "      <th id=\"T_8e860_level0_col90\" class=\"col_heading level0 col90\" >GALLONLPOTH</th>\n",
              "      <th id=\"T_8e860_level0_col91\" class=\"col_heading level0 col91\" >BTULPOTH</th>\n",
              "      <th id=\"T_8e860_level0_col92\" class=\"col_heading level0 col92\" >TVCOLOR</th>\n",
              "      <th id=\"T_8e860_level0_col93\" class=\"col_heading level0 col93\" >SOLARAUX</th>\n",
              "      <th id=\"T_8e860_level0_col94\" class=\"col_heading level0 col94\" >CUFEETNGOTH</th>\n",
              "      <th id=\"T_8e860_level0_col95\" class=\"col_heading level0 col95\" >BTUNGOTH</th>\n",
              "      <th id=\"T_8e860_level0_col96\" class=\"col_heading level0 col96\" >KWHOTH</th>\n",
              "      <th id=\"T_8e860_level0_col97\" class=\"col_heading level0 col97\" >DOLKERSPH</th>\n",
              "      <th id=\"T_8e860_level0_col98\" class=\"col_heading level0 col98\" >TOTALDOLWTH</th>\n",
              "      <th id=\"T_8e860_level0_col99\" class=\"col_heading level0 col99\" >DOLLPSPH</th>\n",
              "      <th id=\"T_8e860_level0_col100\" class=\"col_heading level0 col100\" >USENG</th>\n",
              "      <th id=\"T_8e860_level0_col101\" class=\"col_heading level0 col101\" >YEARMADE</th>\n",
              "      <th id=\"T_8e860_level0_col102\" class=\"col_heading level0 col102\" >BTUELOTH</th>\n",
              "      <th id=\"T_8e860_level0_col103\" class=\"col_heading level0 col103\" >KWH</th>\n",
              "      <th id=\"T_8e860_level0_col104\" class=\"col_heading level0 col104\" >BTUEL</th>\n",
              "      <th id=\"T_8e860_level0_col105\" class=\"col_heading level0 col105\" >DOLLARLP</th>\n",
              "      <th id=\"T_8e860_level0_col106\" class=\"col_heading level0 col106\" >CUFEETNGWTH</th>\n",
              "      <th id=\"T_8e860_level0_col107\" class=\"col_heading level0 col107\" >BTUNGWTH</th>\n",
              "      <th id=\"T_8e860_level0_col108\" class=\"col_heading level0 col108\" >UGWATER</th>\n",
              "      <th id=\"T_8e860_level0_col109\" class=\"col_heading level0 col109\" >SDESCENT</th>\n",
              "      <th id=\"T_8e860_level0_col110\" class=\"col_heading level0 col110\" >TEMPGONE</th>\n",
              "      <th id=\"T_8e860_level0_col111\" class=\"col_heading level0 col111\" >LGT1EE</th>\n",
              "      <th id=\"T_8e860_level0_col112\" class=\"col_heading level0 col112\" >TOTALBTUWTH</th>\n",
              "      <th id=\"T_8e860_level0_col113\" class=\"col_heading level0 col113\" >ROOFTYPE</th>\n",
              "      <th id=\"T_8e860_level0_col114\" class=\"col_heading level0 col114\" >DOLELRFG</th>\n",
              "      <th id=\"T_8e860_level0_col115\" class=\"col_heading level0 col115\" >TOTALDOLRFG</th>\n",
              "      <th id=\"T_8e860_level0_col116\" class=\"col_heading level0 col116\" >HEATROOM</th>\n",
              "      <th id=\"T_8e860_level0_col117\" class=\"col_heading level0 col117\" >WDWATER</th>\n",
              "      <th id=\"T_8e860_level0_col118\" class=\"col_heading level0 col118\" >UGWARM</th>\n",
              "      <th id=\"T_8e860_level0_col119\" class=\"col_heading level0 col119\" >DRYRFUEL</th>\n",
              "      <th id=\"T_8e860_level0_col120\" class=\"col_heading level0 col120\" >KWHRFG</th>\n",
              "    </tr>\n",
              "  </thead>\n",
              "  <tbody>\n",
              "    <tr>\n",
              "      <th id=\"T_8e860_level0_row0\" class=\"row_heading level0 row0\" >0</th>\n",
              "      <td id=\"T_8e860_row0_col0\" class=\"data row0 col0\" >5</td>\n",
              "      <td id=\"T_8e860_row0_col1\" class=\"data row0 col1\" >10</td>\n",
              "      <td id=\"T_8e860_row0_col2\" class=\"data row0 col2\" >26</td>\n",
              "      <td id=\"T_8e860_row0_col3\" class=\"data row0 col3\" >16.793</td>\n",
              "      <td id=\"T_8e860_row0_col4\" class=\"data row0 col4\" >17</td>\n",
              "      <td id=\"T_8e860_row0_col5\" class=\"data row0 col5\" >181.998000</td>\n",
              "      <td id=\"T_8e860_row0_col6\" class=\"data row0 col6\" >620.979000</td>\n",
              "      <td id=\"T_8e860_row0_col7\" class=\"data row0 col7\" >621</td>\n",
              "      <td id=\"T_8e860_row0_col8\" class=\"data row0 col8\" >368</td>\n",
              "      <td id=\"T_8e860_row0_col9\" class=\"data row0 col9\" >38606</td>\n",
              "      <td id=\"T_8e860_row0_col10\" class=\"data row0 col10\" >0</td>\n",
              "      <td id=\"T_8e860_row0_col11\" class=\"data row0 col11\" >8599.172010</td>\n",
              "      <td id=\"T_8e860_row0_col12\" class=\"data row0 col12\" >2736</td>\n",
              "      <td id=\"T_8e860_row0_col13\" class=\"data row0 col13\" >1</td>\n",
              "      <td id=\"T_8e860_row0_col14\" class=\"data row0 col14\" >2</td>\n",
              "      <td id=\"T_8e860_row0_col15\" class=\"data row0 col15\" >475</td>\n",
              "      <td id=\"T_8e860_row0_col16\" class=\"data row0 col16\" >337.315000</td>\n",
              "      <td id=\"T_8e860_row0_col17\" class=\"data row0 col17\" >376.643000</td>\n",
              "      <td id=\"T_8e860_row0_col18\" class=\"data row0 col18\" >38605.955000</td>\n",
              "      <td id=\"T_8e860_row0_col19\" class=\"data row0 col19\" >367.654000</td>\n",
              "      <td id=\"T_8e860_row0_col20\" class=\"data row0 col20\" >70</td>\n",
              "      <td id=\"T_8e860_row0_col21\" class=\"data row0 col21\" >2736</td>\n",
              "      <td id=\"T_8e860_row0_col22\" class=\"data row0 col22\" >0.000000</td>\n",
              "      <td id=\"T_8e860_row0_col23\" class=\"data row0 col23\" >1</td>\n",
              "      <td id=\"T_8e860_row0_col24\" class=\"data row0 col24\" >1</td>\n",
              "      <td id=\"T_8e860_row0_col25\" class=\"data row0 col25\" >0.000000</td>\n",
              "      <td id=\"T_8e860_row0_col26\" class=\"data row0 col26\" >2</td>\n",
              "      <td id=\"T_8e860_row0_col27\" class=\"data row0 col27\" >501</td>\n",
              "      <td id=\"T_8e860_row0_col28\" class=\"data row0 col28\" >0</td>\n",
              "      <td id=\"T_8e860_row0_col29\" class=\"data row0 col29\" >0</td>\n",
              "      <td id=\"T_8e860_row0_col30\" class=\"data row0 col30\" >0.000000</td>\n",
              "      <td id=\"T_8e860_row0_col31\" class=\"data row0 col31\" >0</td>\n",
              "      <td id=\"T_8e860_row0_col32\" class=\"data row0 col32\" >0.000000</td>\n",
              "      <td id=\"T_8e860_row0_col33\" class=\"data row0 col33\" >0.000000</td>\n",
              "      <td id=\"T_8e860_row0_col34\" class=\"data row0 col34\" >0</td>\n",
              "      <td id=\"T_8e860_row0_col35\" class=\"data row0 col35\" >0</td>\n",
              "      <td id=\"T_8e860_row0_col36\" class=\"data row0 col36\" >400</td>\n",
              "      <td id=\"T_8e860_row0_col37\" class=\"data row0 col37\" >1293</td>\n",
              "      <td id=\"T_8e860_row0_col38\" class=\"data row0 col38\" >1</td>\n",
              "      <td id=\"T_8e860_row0_col39\" class=\"data row0 col39\" >0</td>\n",
              "      <td id=\"T_8e860_row0_col40\" class=\"data row0 col40\" >0</td>\n",
              "      <td id=\"T_8e860_row0_col41\" class=\"data row0 col41\" >838</td>\n",
              "      <td id=\"T_8e860_row0_col42\" class=\"data row0 col42\" >85895</td>\n",
              "      <td id=\"T_8e860_row0_col43\" class=\"data row0 col43\" >0.000000</td>\n",
              "      <td id=\"T_8e860_row0_col44\" class=\"data row0 col44\" >0.000000</td>\n",
              "      <td id=\"T_8e860_row0_col45\" class=\"data row0 col45\" >3</td>\n",
              "      <td id=\"T_8e860_row0_col46\" class=\"data row0 col46\" >0</td>\n",
              "      <td id=\"T_8e860_row0_col47\" class=\"data row0 col47\" >0.000000</td>\n",
              "      <td id=\"T_8e860_row0_col48\" class=\"data row0 col48\" >0.000000</td>\n",
              "      <td id=\"T_8e860_row0_col49\" class=\"data row0 col49\" >0.000000</td>\n",
              "      <td id=\"T_8e860_row0_col50\" class=\"data row0 col50\" >0</td>\n",
              "      <td id=\"T_8e860_row0_col51\" class=\"data row0 col51\" >0.000000</td>\n",
              "      <td id=\"T_8e860_row0_col52\" class=\"data row0 col52\" >0.000000</td>\n",
              "      <td id=\"T_8e860_row0_col53\" class=\"data row0 col53\" >400</td>\n",
              "      <td id=\"T_8e860_row0_col54\" class=\"data row0 col54\" >3136</td>\n",
              "      <td id=\"T_8e860_row0_col55\" class=\"data row0 col55\" >2736</td>\n",
              "      <td id=\"T_8e860_row0_col56\" class=\"data row0 col56\" >286.745000</td>\n",
              "      <td id=\"T_8e860_row0_col57\" class=\"data row0 col57\" >0.000000</td>\n",
              "      <td id=\"T_8e860_row0_col58\" class=\"data row0 col58\" >1</td>\n",
              "      <td id=\"T_8e860_row0_col59\" class=\"data row0 col59\" >818</td>\n",
              "      <td id=\"T_8e860_row0_col60\" class=\"data row0 col60\" >1</td>\n",
              "      <td id=\"T_8e860_row0_col61\" class=\"data row0 col61\" >0</td>\n",
              "      <td id=\"T_8e860_row0_col62\" class=\"data row0 col62\" >0</td>\n",
              "      <td id=\"T_8e860_row0_col63\" class=\"data row0 col63\" >0</td>\n",
              "      <td id=\"T_8e860_row0_col64\" class=\"data row0 col64\" >0</td>\n",
              "      <td id=\"T_8e860_row0_col65\" class=\"data row0 col65\" >0</td>\n",
              "      <td id=\"T_8e860_row0_col66\" class=\"data row0 col66\" >103460</td>\n",
              "      <td id=\"T_8e860_row0_col67\" class=\"data row0 col67\" >1</td>\n",
              "      <td id=\"T_8e860_row0_col68\" class=\"data row0 col68\" >0</td>\n",
              "      <td id=\"T_8e860_row0_col69\" class=\"data row0 col69\" >0</td>\n",
              "      <td id=\"T_8e860_row0_col70\" class=\"data row0 col70\" >0.000000</td>\n",
              "      <td id=\"T_8e860_row0_col71\" class=\"data row0 col71\" >0.000000</td>\n",
              "      <td id=\"T_8e860_row0_col72\" class=\"data row0 col72\" >0.000000</td>\n",
              "      <td id=\"T_8e860_row0_col73\" class=\"data row0 col73\" >0.000000</td>\n",
              "      <td id=\"T_8e860_row0_col74\" class=\"data row0 col74\" >4</td>\n",
              "      <td id=\"T_8e860_row0_col75\" class=\"data row0 col75\" >0</td>\n",
              "      <td id=\"T_8e860_row0_col76\" class=\"data row0 col76\" >0</td>\n",
              "      <td id=\"T_8e860_row0_col77\" class=\"data row0 col77\" >0.000000</td>\n",
              "      <td id=\"T_8e860_row0_col78\" class=\"data row0 col78\" >29653</td>\n",
              "      <td id=\"T_8e860_row0_col79\" class=\"data row0 col79\" >0.000000</td>\n",
              "      <td id=\"T_8e860_row0_col80\" class=\"data row0 col80\" >0.000000</td>\n",
              "      <td id=\"T_8e860_row0_col81\" class=\"data row0 col81\" >2</td>\n",
              "      <td id=\"T_8e860_row0_col82\" class=\"data row0 col82\" >0</td>\n",
              "      <td id=\"T_8e860_row0_col83\" class=\"data row0 col83\" >3</td>\n",
              "      <td id=\"T_8e860_row0_col84\" class=\"data row0 col84\" >31</td>\n",
              "      <td id=\"T_8e860_row0_col85\" class=\"data row0 col85\" >0</td>\n",
              "      <td id=\"T_8e860_row0_col86\" class=\"data row0 col86\" >0</td>\n",
              "      <td id=\"T_8e860_row0_col87\" class=\"data row0 col87\" >0</td>\n",
              "      <td id=\"T_8e860_row0_col88\" class=\"data row0 col88\" >0</td>\n",
              "      <td id=\"T_8e860_row0_col89\" class=\"data row0 col89\" >1</td>\n",
              "      <td id=\"T_8e860_row0_col90\" class=\"data row0 col90\" >0.000000</td>\n",
              "      <td id=\"T_8e860_row0_col91\" class=\"data row0 col91\" >0.000000</td>\n",
              "      <td id=\"T_8e860_row0_col92\" class=\"data row0 col92\" >2</td>\n",
              "      <td id=\"T_8e860_row0_col93\" class=\"data row0 col93\" >0</td>\n",
              "      <td id=\"T_8e860_row0_col94\" class=\"data row0 col94\" >167.601</td>\n",
              "      <td id=\"T_8e860_row0_col95\" class=\"data row0 col95\" >17179.073000</td>\n",
              "      <td id=\"T_8e860_row0_col96\" class=\"data row0 col96\" >3655.782000</td>\n",
              "      <td id=\"T_8e860_row0_col97\" class=\"data row0 col97\" >0.000000</td>\n",
              "      <td id=\"T_8e860_row0_col98\" class=\"data row0 col98\" >287</td>\n",
              "      <td id=\"T_8e860_row0_col99\" class=\"data row0 col99\" >0.000000</td>\n",
              "      <td id=\"T_8e860_row0_col100\" class=\"data row0 col100\" >1</td>\n",
              "      <td id=\"T_8e860_row0_col101\" class=\"data row0 col101\" >1998</td>\n",
              "      <td id=\"T_8e860_row0_col102\" class=\"data row0 col102\" >12473.544000</td>\n",
              "      <td id=\"T_8e860_row0_col103\" class=\"data row0 col103\" >5148</td>\n",
              "      <td id=\"T_8e860_row0_col104\" class=\"data row0 col104\" >17565</td>\n",
              "      <td id=\"T_8e860_row0_col105\" class=\"data row0 col105\" >0</td>\n",
              "      <td id=\"T_8e860_row0_col106\" class=\"data row0 col106\" >293.756</td>\n",
              "      <td id=\"T_8e860_row0_col107\" class=\"data row0 col107\" >30109.973000</td>\n",
              "      <td id=\"T_8e860_row0_col108\" class=\"data row0 col108\" >1</td>\n",
              "      <td id=\"T_8e860_row0_col109\" class=\"data row0 col109\" >0</td>\n",
              "      <td id=\"T_8e860_row0_col110\" class=\"data row0 col110\" >70</td>\n",
              "      <td id=\"T_8e860_row0_col111\" class=\"data row0 col111\" >-2</td>\n",
              "      <td id=\"T_8e860_row0_col112\" class=\"data row0 col112\" >30110</td>\n",
              "      <td id=\"T_8e860_row0_col113\" class=\"data row0 col113\" >2</td>\n",
              "      <td id=\"T_8e860_row0_col114\" class=\"data row0 col114\" >120.893</td>\n",
              "      <td id=\"T_8e860_row0_col115\" class=\"data row0 col115\" >121</td>\n",
              "      <td id=\"T_8e860_row0_col116\" class=\"data row0 col116\" >4</td>\n",
              "      <td id=\"T_8e860_row0_col117\" class=\"data row0 col117\" >0</td>\n",
              "      <td id=\"T_8e860_row0_col118\" class=\"data row0 col118\" >1</td>\n",
              "      <td id=\"T_8e860_row0_col119\" class=\"data row0 col119\" >1</td>\n",
              "      <td id=\"T_8e860_row0_col120\" class=\"data row0 col120\" >1310.220000</td>\n",
              "    </tr>\n",
              "    <tr>\n",
              "      <th id=\"T_8e860_level0_row1\" class=\"row_heading level0 row1\" >1</th>\n",
              "      <td id=\"T_8e860_row1_col0\" class=\"data row1 col0\" >1</td>\n",
              "      <td id=\"T_8e860_row1_col1\" class=\"data row1 col1\" >1</td>\n",
              "      <td id=\"T_8e860_row1_col2\" class=\"data row1 col2\" >1</td>\n",
              "      <td id=\"T_8e860_row1_col3\" class=\"data row1 col3\" >48.901</td>\n",
              "      <td id=\"T_8e860_row1_col4\" class=\"data row1 col4\" >49</td>\n",
              "      <td id=\"T_8e860_row1_col5\" class=\"data row1 col5\" >184.459000</td>\n",
              "      <td id=\"T_8e860_row1_col6\" class=\"data row1 col6\" >629.389000</td>\n",
              "      <td id=\"T_8e860_row1_col7\" class=\"data row1 col7\" >629</td>\n",
              "      <td id=\"T_8e860_row1_col8\" class=\"data row1 col8\" >582</td>\n",
              "      <td id=\"T_8e860_row1_col9\" class=\"data row1 col9\" >40248</td>\n",
              "      <td id=\"T_8e860_row1_col10\" class=\"data row1 col10\" >-2</td>\n",
              "      <td id=\"T_8e860_row1_col11\" class=\"data row1 col11\" >8969.915921</td>\n",
              "      <td id=\"T_8e860_row1_col12\" class=\"data row1 col12\" >528</td>\n",
              "      <td id=\"T_8e860_row1_col13\" class=\"data row1 col13\" >1</td>\n",
              "      <td id=\"T_8e860_row1_col14\" class=\"data row1 col14\" >1</td>\n",
              "      <td id=\"T_8e860_row1_col15\" class=\"data row1 col15\" >588</td>\n",
              "      <td id=\"T_8e860_row1_col16\" class=\"data row1 col16\" >296.353000</td>\n",
              "      <td id=\"T_8e860_row1_col17\" class=\"data row1 col17\" >392.662000</td>\n",
              "      <td id=\"T_8e860_row1_col18\" class=\"data row1 col18\" >40248.226000</td>\n",
              "      <td id=\"T_8e860_row1_col19\" class=\"data row1 col19\" >581.517000</td>\n",
              "      <td id=\"T_8e860_row1_col20\" class=\"data row1 col20\" >68</td>\n",
              "      <td id=\"T_8e860_row1_col21\" class=\"data row1 col21\" >264</td>\n",
              "      <td id=\"T_8e860_row1_col22\" class=\"data row1 col22\" >0.000000</td>\n",
              "      <td id=\"T_8e860_row1_col23\" class=\"data row1 col23\" >1</td>\n",
              "      <td id=\"T_8e860_row1_col24\" class=\"data row1 col24\" >1</td>\n",
              "      <td id=\"T_8e860_row1_col25\" class=\"data row1 col25\" >0.000000</td>\n",
              "      <td id=\"T_8e860_row1_col26\" class=\"data row1 col26\" >1</td>\n",
              "      <td id=\"T_8e860_row1_col27\" class=\"data row1 col27\" >339</td>\n",
              "      <td id=\"T_8e860_row1_col28\" class=\"data row1 col28\" >0</td>\n",
              "      <td id=\"T_8e860_row1_col29\" class=\"data row1 col29\" >0</td>\n",
              "      <td id=\"T_8e860_row1_col30\" class=\"data row1 col30\" >0.000000</td>\n",
              "      <td id=\"T_8e860_row1_col31\" class=\"data row1 col31\" >0</td>\n",
              "      <td id=\"T_8e860_row1_col32\" class=\"data row1 col32\" >0.000000</td>\n",
              "      <td id=\"T_8e860_row1_col33\" class=\"data row1 col33\" >0.000000</td>\n",
              "      <td id=\"T_8e860_row1_col34\" class=\"data row1 col34\" >0</td>\n",
              "      <td id=\"T_8e860_row1_col35\" class=\"data row1 col35\" >0</td>\n",
              "      <td id=\"T_8e860_row1_col36\" class=\"data row1 col36\" >0</td>\n",
              "      <td id=\"T_8e860_row1_col37\" class=\"data row1 col37\" >1327</td>\n",
              "      <td id=\"T_8e860_row1_col38\" class=\"data row1 col38\" >1</td>\n",
              "      <td id=\"T_8e860_row1_col39\" class=\"data row1 col39\" >0</td>\n",
              "      <td id=\"T_8e860_row1_col40\" class=\"data row1 col40\" >-2</td>\n",
              "      <td id=\"T_8e860_row1_col41\" class=\"data row1 col41\" >499</td>\n",
              "      <td id=\"T_8e860_row1_col42\" class=\"data row1 col42\" >51148</td>\n",
              "      <td id=\"T_8e860_row1_col43\" class=\"data row1 col43\" >0.000000</td>\n",
              "      <td id=\"T_8e860_row1_col44\" class=\"data row1 col44\" >0.000000</td>\n",
              "      <td id=\"T_8e860_row1_col45\" class=\"data row1 col45\" >1</td>\n",
              "      <td id=\"T_8e860_row1_col46\" class=\"data row1 col46\" >0</td>\n",
              "      <td id=\"T_8e860_row1_col47\" class=\"data row1 col47\" >0.000000</td>\n",
              "      <td id=\"T_8e860_row1_col48\" class=\"data row1 col48\" >0.000000</td>\n",
              "      <td id=\"T_8e860_row1_col49\" class=\"data row1 col49\" >0.000000</td>\n",
              "      <td id=\"T_8e860_row1_col50\" class=\"data row1 col50\" >0</td>\n",
              "      <td id=\"T_8e860_row1_col51\" class=\"data row1 col51\" >0.000000</td>\n",
              "      <td id=\"T_8e860_row1_col52\" class=\"data row1 col52\" >0.000000</td>\n",
              "      <td id=\"T_8e860_row1_col53\" class=\"data row1 col53\" >264</td>\n",
              "      <td id=\"T_8e860_row1_col54\" class=\"data row1 col54\" >528</td>\n",
              "      <td id=\"T_8e860_row1_col55\" class=\"data row1 col55\" >528</td>\n",
              "      <td id=\"T_8e860_row1_col56\" class=\"data row1 col56\" >114.618000</td>\n",
              "      <td id=\"T_8e860_row1_col57\" class=\"data row1 col57\" >0.000000</td>\n",
              "      <td id=\"T_8e860_row1_col58\" class=\"data row1 col58\" >1</td>\n",
              "      <td id=\"T_8e860_row1_col59\" class=\"data row1 col59\" >739</td>\n",
              "      <td id=\"T_8e860_row1_col60\" class=\"data row1 col60\" >1</td>\n",
              "      <td id=\"T_8e860_row1_col61\" class=\"data row1 col61\" >0</td>\n",
              "      <td id=\"T_8e860_row1_col62\" class=\"data row1 col62\" >0</td>\n",
              "      <td id=\"T_8e860_row1_col63\" class=\"data row1 col63\" >0</td>\n",
              "      <td id=\"T_8e860_row1_col64\" class=\"data row1 col64\" >1</td>\n",
              "      <td id=\"T_8e860_row1_col65\" class=\"data row1 col65\" >0</td>\n",
              "      <td id=\"T_8e860_row1_col66\" class=\"data row1 col66\" >58716</td>\n",
              "      <td id=\"T_8e860_row1_col67\" class=\"data row1 col67\" >2</td>\n",
              "      <td id=\"T_8e860_row1_col68\" class=\"data row1 col68\" >0</td>\n",
              "      <td id=\"T_8e860_row1_col69\" class=\"data row1 col69\" >0</td>\n",
              "      <td id=\"T_8e860_row1_col70\" class=\"data row1 col70\" >0.000000</td>\n",
              "      <td id=\"T_8e860_row1_col71\" class=\"data row1 col71\" >0.000000</td>\n",
              "      <td id=\"T_8e860_row1_col72\" class=\"data row1 col72\" >0.000000</td>\n",
              "      <td id=\"T_8e860_row1_col73\" class=\"data row1 col73\" >0.000000</td>\n",
              "      <td id=\"T_8e860_row1_col74\" class=\"data row1 col74\" >2</td>\n",
              "      <td id=\"T_8e860_row1_col75\" class=\"data row1 col75\" >0</td>\n",
              "      <td id=\"T_8e860_row1_col76\" class=\"data row1 col76\" >0</td>\n",
              "      <td id=\"T_8e860_row1_col77\" class=\"data row1 col77\" >0.000000</td>\n",
              "      <td id=\"T_8e860_row1_col78\" class=\"data row1 col78\" >6781</td>\n",
              "      <td id=\"T_8e860_row1_col79\" class=\"data row1 col79\" >0.000000</td>\n",
              "      <td id=\"T_8e860_row1_col80\" class=\"data row1 col80\" >0.000000</td>\n",
              "      <td id=\"T_8e860_row1_col81\" class=\"data row1 col81\" >1</td>\n",
              "      <td id=\"T_8e860_row1_col82\" class=\"data row1 col82\" >0</td>\n",
              "      <td id=\"T_8e860_row1_col83\" class=\"data row1 col83\" >2</td>\n",
              "      <td id=\"T_8e860_row1_col84\" class=\"data row1 col84\" >-2</td>\n",
              "      <td id=\"T_8e860_row1_col85\" class=\"data row1 col85\" >0</td>\n",
              "      <td id=\"T_8e860_row1_col86\" class=\"data row1 col86\" >0</td>\n",
              "      <td id=\"T_8e860_row1_col87\" class=\"data row1 col87\" >2</td>\n",
              "      <td id=\"T_8e860_row1_col88\" class=\"data row1 col88\" >0</td>\n",
              "      <td id=\"T_8e860_row1_col89\" class=\"data row1 col89\" >1</td>\n",
              "      <td id=\"T_8e860_row1_col90\" class=\"data row1 col90\" >0.000000</td>\n",
              "      <td id=\"T_8e860_row1_col91\" class=\"data row1 col91\" >0.000000</td>\n",
              "      <td id=\"T_8e860_row1_col92\" class=\"data row1 col92\" >1</td>\n",
              "      <td id=\"T_8e860_row1_col93\" class=\"data row1 col93\" >0</td>\n",
              "      <td id=\"T_8e860_row1_col94\" class=\"data row1 col94\" >28.944</td>\n",
              "      <td id=\"T_8e860_row1_col95\" class=\"data row1 col95\" >2966.796000</td>\n",
              "      <td id=\"T_8e860_row1_col96\" class=\"data row1 col96\" >1117.878000</td>\n",
              "      <td id=\"T_8e860_row1_col97\" class=\"data row1 col97\" >0.000000</td>\n",
              "      <td id=\"T_8e860_row1_col98\" class=\"data row1 col98\" >115</td>\n",
              "      <td id=\"T_8e860_row1_col99\" class=\"data row1 col99\" >0.000000</td>\n",
              "      <td id=\"T_8e860_row1_col100\" class=\"data row1 col100\" >1</td>\n",
              "      <td id=\"T_8e860_row1_col101\" class=\"data row1 col101\" >1965</td>\n",
              "      <td id=\"T_8e860_row1_col102\" class=\"data row1 col102\" >3814.291000</td>\n",
              "      <td id=\"T_8e860_row1_col103\" class=\"data row1 col103\" >2218</td>\n",
              "      <td id=\"T_8e860_row1_col104\" class=\"data row1 col104\" >7568</td>\n",
              "      <td id=\"T_8e860_row1_col105\" class=\"data row1 col105\" >0</td>\n",
              "      <td id=\"T_8e860_row1_col106\" class=\"data row1 col106\" >77.394</td>\n",
              "      <td id=\"T_8e860_row1_col107\" class=\"data row1 col107\" >7932.978000</td>\n",
              "      <td id=\"T_8e860_row1_col108\" class=\"data row1 col108\" >1</td>\n",
              "      <td id=\"T_8e860_row1_col109\" class=\"data row1 col109\" >0</td>\n",
              "      <td id=\"T_8e860_row1_col110\" class=\"data row1 col110\" >60</td>\n",
              "      <td id=\"T_8e860_row1_col111\" class=\"data row1 col111\" >2</td>\n",
              "      <td id=\"T_8e860_row1_col112\" class=\"data row1 col112\" >7933</td>\n",
              "      <td id=\"T_8e860_row1_col113\" class=\"data row1 col113\" >-2</td>\n",
              "      <td id=\"T_8e860_row1_col114\" class=\"data row1 col114\" >242.746</td>\n",
              "      <td id=\"T_8e860_row1_col115\" class=\"data row1 col115\" >243</td>\n",
              "      <td id=\"T_8e860_row1_col116\" class=\"data row1 col116\" >2</td>\n",
              "      <td id=\"T_8e860_row1_col117\" class=\"data row1 col117\" >0</td>\n",
              "      <td id=\"T_8e860_row1_col118\" class=\"data row1 col118\" >1</td>\n",
              "      <td id=\"T_8e860_row1_col119\" class=\"data row1 col119\" >-2</td>\n",
              "      <td id=\"T_8e860_row1_col120\" class=\"data row1 col120\" >915.664000</td>\n",
              "    </tr>\n",
              "    <tr>\n",
              "      <th id=\"T_8e860_level0_row2\" class=\"row_heading level0 row2\" >2</th>\n",
              "      <td id=\"T_8e860_row2_col0\" class=\"data row2 col0\" >1</td>\n",
              "      <td id=\"T_8e860_row2_col1\" class=\"data row2 col1\" >3</td>\n",
              "      <td id=\"T_8e860_row2_col2\" class=\"data row2 col2\" >7</td>\n",
              "      <td id=\"T_8e860_row2_col3\" class=\"data row2 col3\" >101.048</td>\n",
              "      <td id=\"T_8e860_row2_col4\" class=\"data row2 col4\" >101</td>\n",
              "      <td id=\"T_8e860_row2_col5\" class=\"data row2 col5\" >1063.022000</td>\n",
              "      <td id=\"T_8e860_row2_col6\" class=\"data row2 col6\" >3627.013000</td>\n",
              "      <td id=\"T_8e860_row2_col7\" class=\"data row2 col7\" >3627</td>\n",
              "      <td id=\"T_8e860_row2_col8\" class=\"data row2 col8\" >425</td>\n",
              "      <td id=\"T_8e860_row2_col9\" class=\"data row2 col9\" >40196</td>\n",
              "      <td id=\"T_8e860_row2_col10\" class=\"data row2 col10\" >0</td>\n",
              "      <td id=\"T_8e860_row2_col11\" class=\"data row2 col11\" >18003.639600</td>\n",
              "      <td id=\"T_8e860_row2_col12\" class=\"data row2 col12\" >1623</td>\n",
              "      <td id=\"T_8e860_row2_col13\" class=\"data row2 col13\" >1</td>\n",
              "      <td id=\"T_8e860_row2_col14\" class=\"data row2 col14\" >2</td>\n",
              "      <td id=\"T_8e860_row2_col15\" class=\"data row2 col15\" >952</td>\n",
              "      <td id=\"T_8e860_row2_col16\" class=\"data row2 col16\" >512.731000</td>\n",
              "      <td id=\"T_8e860_row2_col17\" class=\"data row2 col17\" >392.152000</td>\n",
              "      <td id=\"T_8e860_row2_col18\" class=\"data row2 col18\" >40195.580000</td>\n",
              "      <td id=\"T_8e860_row2_col19\" class=\"data row2 col19\" >424.514000</td>\n",
              "      <td id=\"T_8e860_row2_col20\" class=\"data row2 col20\" >55</td>\n",
              "      <td id=\"T_8e860_row2_col21\" class=\"data row2 col21\" >1623</td>\n",
              "      <td id=\"T_8e860_row2_col22\" class=\"data row2 col22\" >0.000000</td>\n",
              "      <td id=\"T_8e860_row2_col23\" class=\"data row2 col23\" >1</td>\n",
              "      <td id=\"T_8e860_row2_col24\" class=\"data row2 col24\" >1</td>\n",
              "      <td id=\"T_8e860_row2_col25\" class=\"data row2 col25\" >0.000000</td>\n",
              "      <td id=\"T_8e860_row2_col26\" class=\"data row2 col26\" >6</td>\n",
              "      <td id=\"T_8e860_row2_col27\" class=\"data row2 col27\" >534</td>\n",
              "      <td id=\"T_8e860_row2_col28\" class=\"data row2 col28\" >0</td>\n",
              "      <td id=\"T_8e860_row2_col29\" class=\"data row2 col29\" >0</td>\n",
              "      <td id=\"T_8e860_row2_col30\" class=\"data row2 col30\" >0.000000</td>\n",
              "      <td id=\"T_8e860_row2_col31\" class=\"data row2 col31\" >0</td>\n",
              "      <td id=\"T_8e860_row2_col32\" class=\"data row2 col32\" >0.000000</td>\n",
              "      <td id=\"T_8e860_row2_col33\" class=\"data row2 col33\" >0.000000</td>\n",
              "      <td id=\"T_8e860_row2_col34\" class=\"data row2 col34\" >0</td>\n",
              "      <td id=\"T_8e860_row2_col35\" class=\"data row2 col35\" >0</td>\n",
              "      <td id=\"T_8e860_row2_col36\" class=\"data row2 col36\" >400</td>\n",
              "      <td id=\"T_8e860_row2_col37\" class=\"data row2 col37\" >1398</td>\n",
              "      <td id=\"T_8e860_row2_col38\" class=\"data row2 col38\" >1</td>\n",
              "      <td id=\"T_8e860_row2_col39\" class=\"data row2 col39\" >0</td>\n",
              "      <td id=\"T_8e860_row2_col40\" class=\"data row2 col40\" >0</td>\n",
              "      <td id=\"T_8e860_row2_col41\" class=\"data row2 col41\" >412</td>\n",
              "      <td id=\"T_8e860_row2_col42\" class=\"data row2 col42\" >42230</td>\n",
              "      <td id=\"T_8e860_row2_col43\" class=\"data row2 col43\" >0.000000</td>\n",
              "      <td id=\"T_8e860_row2_col44\" class=\"data row2 col44\" >0.000000</td>\n",
              "      <td id=\"T_8e860_row2_col45\" class=\"data row2 col45\" >3</td>\n",
              "      <td id=\"T_8e860_row2_col46\" class=\"data row2 col46\" >0</td>\n",
              "      <td id=\"T_8e860_row2_col47\" class=\"data row2 col47\" >0.000000</td>\n",
              "      <td id=\"T_8e860_row2_col48\" class=\"data row2 col48\" >0.000000</td>\n",
              "      <td id=\"T_8e860_row2_col49\" class=\"data row2 col49\" >0.000000</td>\n",
              "      <td id=\"T_8e860_row2_col50\" class=\"data row2 col50\" >0</td>\n",
              "      <td id=\"T_8e860_row2_col51\" class=\"data row2 col51\" >0.000000</td>\n",
              "      <td id=\"T_8e860_row2_col52\" class=\"data row2 col52\" >0.000000</td>\n",
              "      <td id=\"T_8e860_row2_col53\" class=\"data row2 col53\" >400</td>\n",
              "      <td id=\"T_8e860_row2_col54\" class=\"data row2 col54\" >2023</td>\n",
              "      <td id=\"T_8e860_row2_col55\" class=\"data row2 col55\" >1623</td>\n",
              "      <td id=\"T_8e860_row2_col56\" class=\"data row2 col56\" >0.000000</td>\n",
              "      <td id=\"T_8e860_row2_col57\" class=\"data row2 col57\" >0.000000</td>\n",
              "      <td id=\"T_8e860_row2_col58\" class=\"data row2 col58\" >1</td>\n",
              "      <td id=\"T_8e860_row2_col59\" class=\"data row2 col59\" >446</td>\n",
              "      <td id=\"T_8e860_row2_col60\" class=\"data row2 col60\" >1</td>\n",
              "      <td id=\"T_8e860_row2_col61\" class=\"data row2 col61\" >0</td>\n",
              "      <td id=\"T_8e860_row2_col62\" class=\"data row2 col62\" >0</td>\n",
              "      <td id=\"T_8e860_row2_col63\" class=\"data row2 col63\" >0</td>\n",
              "      <td id=\"T_8e860_row2_col64\" class=\"data row2 col64\" >1</td>\n",
              "      <td id=\"T_8e860_row2_col65\" class=\"data row2 col65\" >0</td>\n",
              "      <td id=\"T_8e860_row2_col66\" class=\"data row2 col66\" >76401</td>\n",
              "      <td id=\"T_8e860_row2_col67\" class=\"data row2 col67\" >1</td>\n",
              "      <td id=\"T_8e860_row2_col68\" class=\"data row2 col68\" >2</td>\n",
              "      <td id=\"T_8e860_row2_col69\" class=\"data row2 col69\" >0</td>\n",
              "      <td id=\"T_8e860_row2_col70\" class=\"data row2 col70\" >0.000000</td>\n",
              "      <td id=\"T_8e860_row2_col71\" class=\"data row2 col71\" >179.424000</td>\n",
              "      <td id=\"T_8e860_row2_col72\" class=\"data row2 col72\" >1887.531000</td>\n",
              "      <td id=\"T_8e860_row2_col73\" class=\"data row2 col73\" >6440.221000</td>\n",
              "      <td id=\"T_8e860_row2_col74\" class=\"data row2 col74\" >7</td>\n",
              "      <td id=\"T_8e860_row2_col75\" class=\"data row2 col75\" >1</td>\n",
              "      <td id=\"T_8e860_row2_col76\" class=\"data row2 col76\" >0</td>\n",
              "      <td id=\"T_8e860_row2_col77\" class=\"data row2 col77\" >0.000000</td>\n",
              "      <td id=\"T_8e860_row2_col78\" class=\"data row2 col78\" >20438</td>\n",
              "      <td id=\"T_8e860_row2_col79\" class=\"data row2 col79\" >0.000000</td>\n",
              "      <td id=\"T_8e860_row2_col80\" class=\"data row2 col80\" >0.000000</td>\n",
              "      <td id=\"T_8e860_row2_col81\" class=\"data row2 col81\" >2</td>\n",
              "      <td id=\"T_8e860_row2_col82\" class=\"data row2 col82\" >1</td>\n",
              "      <td id=\"T_8e860_row2_col83\" class=\"data row2 col83\" >3</td>\n",
              "      <td id=\"T_8e860_row2_col84\" class=\"data row2 col84\" >10</td>\n",
              "      <td id=\"T_8e860_row2_col85\" class=\"data row2 col85\" >0</td>\n",
              "      <td id=\"T_8e860_row2_col86\" class=\"data row2 col86\" >0</td>\n",
              "      <td id=\"T_8e860_row2_col87\" class=\"data row2 col87\" >0</td>\n",
              "      <td id=\"T_8e860_row2_col88\" class=\"data row2 col88\" >0</td>\n",
              "      <td id=\"T_8e860_row2_col89\" class=\"data row2 col89\" >5</td>\n",
              "      <td id=\"T_8e860_row2_col90\" class=\"data row2 col90\" >0.000000</td>\n",
              "      <td id=\"T_8e860_row2_col91\" class=\"data row2 col91\" >0.000000</td>\n",
              "      <td id=\"T_8e860_row2_col92\" class=\"data row2 col92\" >5</td>\n",
              "      <td id=\"T_8e860_row2_col93\" class=\"data row2 col93\" >0</td>\n",
              "      <td id=\"T_8e860_row2_col94\" class=\"data row2 col94\" >19.848</td>\n",
              "      <td id=\"T_8e860_row2_col95\" class=\"data row2 col95\" >2034.420000</td>\n",
              "      <td id=\"T_8e860_row2_col96\" class=\"data row2 col96\" >5393.913000</td>\n",
              "      <td id=\"T_8e860_row2_col97\" class=\"data row2 col97\" >0.000000</td>\n",
              "      <td id=\"T_8e860_row2_col98\" class=\"data row2 col98\" >179</td>\n",
              "      <td id=\"T_8e860_row2_col99\" class=\"data row2 col99\" >0.000000</td>\n",
              "      <td id=\"T_8e860_row2_col100\" class=\"data row2 col100\" >1</td>\n",
              "      <td id=\"T_8e860_row2_col101\" class=\"data row2 col101\" >1985</td>\n",
              "      <td id=\"T_8e860_row2_col102\" class=\"data row2 col102\" >18403.933000</td>\n",
              "      <td id=\"T_8e860_row2_col103\" class=\"data row2 col103\" >10015</td>\n",
              "      <td id=\"T_8e860_row2_col104\" class=\"data row2 col104\" >34171</td>\n",
              "      <td id=\"T_8e860_row2_col105\" class=\"data row2 col105\" >0</td>\n",
              "      <td id=\"T_8e860_row2_col106\" class=\"data row2 col106\" >0</td>\n",
              "      <td id=\"T_8e860_row2_col107\" class=\"data row2 col107\" >0.000000</td>\n",
              "      <td id=\"T_8e860_row2_col108\" class=\"data row2 col108\" >0</td>\n",
              "      <td id=\"T_8e860_row2_col109\" class=\"data row2 col109\" >0</td>\n",
              "      <td id=\"T_8e860_row2_col110\" class=\"data row2 col110\" >55</td>\n",
              "      <td id=\"T_8e860_row2_col111\" class=\"data row2 col111\" >-2</td>\n",
              "      <td id=\"T_8e860_row2_col112\" class=\"data row2 col112\" >6440</td>\n",
              "      <td id=\"T_8e860_row2_col113\" class=\"data row2 col113\" >5</td>\n",
              "      <td id=\"T_8e860_row2_col114\" class=\"data row2 col114\" >158.797</td>\n",
              "      <td id=\"T_8e860_row2_col115\" class=\"data row2 col115\" >159</td>\n",
              "      <td id=\"T_8e860_row2_col116\" class=\"data row2 col116\" >7</td>\n",
              "      <td id=\"T_8e860_row2_col117\" class=\"data row2 col117\" >0</td>\n",
              "      <td id=\"T_8e860_row2_col118\" class=\"data row2 col118\" >1</td>\n",
              "      <td id=\"T_8e860_row2_col119\" class=\"data row2 col119\" >5</td>\n",
              "      <td id=\"T_8e860_row2_col120\" class=\"data row2 col120\" >1670.534000</td>\n",
              "    </tr>\n",
              "    <tr>\n",
              "      <th id=\"T_8e860_level0_row3\" class=\"row_heading level0 row3\" >3</th>\n",
              "      <td id=\"T_8e860_row3_col0\" class=\"data row3 col0\" >1</td>\n",
              "      <td id=\"T_8e860_row3_col1\" class=\"data row3 col1\" >1</td>\n",
              "      <td id=\"T_8e860_row3_col2\" class=\"data row3 col2\" >1</td>\n",
              "      <td id=\"T_8e860_row3_col3\" class=\"data row3 col3\" >0</td>\n",
              "      <td id=\"T_8e860_row3_col4\" class=\"data row3 col4\" >0</td>\n",
              "      <td id=\"T_8e860_row3_col5\" class=\"data row3 col5\" >0.000000</td>\n",
              "      <td id=\"T_8e860_row3_col6\" class=\"data row3 col6\" >0.000000</td>\n",
              "      <td id=\"T_8e860_row3_col7\" class=\"data row3 col7\" >0</td>\n",
              "      <td id=\"T_8e860_row3_col8\" class=\"data row3 col8\" >616</td>\n",
              "      <td id=\"T_8e860_row3_col9\" class=\"data row3 col9\" >36136</td>\n",
              "      <td id=\"T_8e860_row3_col10\" class=\"data row3 col10\" >1</td>\n",
              "      <td id=\"T_8e860_row3_col11\" class=\"data row3 col11\" >5999.605242</td>\n",
              "      <td id=\"T_8e860_row3_col12\" class=\"data row3 col12\" >1274</td>\n",
              "      <td id=\"T_8e860_row3_col13\" class=\"data row3 col13\" >1</td>\n",
              "      <td id=\"T_8e860_row3_col14\" class=\"data row3 col14\" >2</td>\n",
              "      <td id=\"T_8e860_row3_col15\" class=\"data row3 col15\" >705</td>\n",
              "      <td id=\"T_8e860_row3_col16\" class=\"data row3 col16\" >619.862000</td>\n",
              "      <td id=\"T_8e860_row3_col17\" class=\"data row3 col17\" >352.549000</td>\n",
              "      <td id=\"T_8e860_row3_col18\" class=\"data row3 col18\" >36136.283000</td>\n",
              "      <td id=\"T_8e860_row3_col19\" class=\"data row3 col19\" >616.238000</td>\n",
              "      <td id=\"T_8e860_row3_col20\" class=\"data row3 col20\" >70</td>\n",
              "      <td id=\"T_8e860_row3_col21\" class=\"data row3 col21\" >0</td>\n",
              "      <td id=\"T_8e860_row3_col22\" class=\"data row3 col22\" >0.000000</td>\n",
              "      <td id=\"T_8e860_row3_col23\" class=\"data row3 col23\" >0</td>\n",
              "      <td id=\"T_8e860_row3_col24\" class=\"data row3 col24\" >0</td>\n",
              "      <td id=\"T_8e860_row3_col25\" class=\"data row3 col25\" >0.000000</td>\n",
              "      <td id=\"T_8e860_row3_col26\" class=\"data row3 col26\" >2</td>\n",
              "      <td id=\"T_8e860_row3_col27\" class=\"data row3 col27\" >620</td>\n",
              "      <td id=\"T_8e860_row3_col28\" class=\"data row3 col28\" >0</td>\n",
              "      <td id=\"T_8e860_row3_col29\" class=\"data row3 col29\" >0</td>\n",
              "      <td id=\"T_8e860_row3_col30\" class=\"data row3 col30\" >0.000000</td>\n",
              "      <td id=\"T_8e860_row3_col31\" class=\"data row3 col31\" >0</td>\n",
              "      <td id=\"T_8e860_row3_col32\" class=\"data row3 col32\" >0.000000</td>\n",
              "      <td id=\"T_8e860_row3_col33\" class=\"data row3 col33\" >0.000000</td>\n",
              "      <td id=\"T_8e860_row3_col34\" class=\"data row3 col34\" >0</td>\n",
              "      <td id=\"T_8e860_row3_col35\" class=\"data row3 col35\" >0</td>\n",
              "      <td id=\"T_8e860_row3_col36\" class=\"data row3 col36\" >637</td>\n",
              "      <td id=\"T_8e860_row3_col37\" class=\"data row3 col37\" >1558</td>\n",
              "      <td id=\"T_8e860_row3_col38\" class=\"data row3 col38\" >1</td>\n",
              "      <td id=\"T_8e860_row3_col39\" class=\"data row3 col39\" >0</td>\n",
              "      <td id=\"T_8e860_row3_col40\" class=\"data row3 col40\" >0</td>\n",
              "      <td id=\"T_8e860_row3_col41\" class=\"data row3 col41\" >488</td>\n",
              "      <td id=\"T_8e860_row3_col42\" class=\"data row3 col42\" >50020</td>\n",
              "      <td id=\"T_8e860_row3_col43\" class=\"data row3 col43\" >0.000000</td>\n",
              "      <td id=\"T_8e860_row3_col44\" class=\"data row3 col44\" >0.000000</td>\n",
              "      <td id=\"T_8e860_row3_col45\" class=\"data row3 col45\" >2</td>\n",
              "      <td id=\"T_8e860_row3_col46\" class=\"data row3 col46\" >0</td>\n",
              "      <td id=\"T_8e860_row3_col47\" class=\"data row3 col47\" >0.000000</td>\n",
              "      <td id=\"T_8e860_row3_col48\" class=\"data row3 col48\" >0.000000</td>\n",
              "      <td id=\"T_8e860_row3_col49\" class=\"data row3 col49\" >0.000000</td>\n",
              "      <td id=\"T_8e860_row3_col50\" class=\"data row3 col50\" >0</td>\n",
              "      <td id=\"T_8e860_row3_col51\" class=\"data row3 col51\" >0.000000</td>\n",
              "      <td id=\"T_8e860_row3_col52\" class=\"data row3 col52\" >0.000000</td>\n",
              "      <td id=\"T_8e860_row3_col53\" class=\"data row3 col53\" >1912</td>\n",
              "      <td id=\"T_8e860_row3_col54\" class=\"data row3 col54\" >1912</td>\n",
              "      <td id=\"T_8e860_row3_col55\" class=\"data row3 col55\" >1912</td>\n",
              "      <td id=\"T_8e860_row3_col56\" class=\"data row3 col56\" >236.762000</td>\n",
              "      <td id=\"T_8e860_row3_col57\" class=\"data row3 col57\" >0.000000</td>\n",
              "      <td id=\"T_8e860_row3_col58\" class=\"data row3 col58\" >1</td>\n",
              "      <td id=\"T_8e860_row3_col59\" class=\"data row3 col59\" >853</td>\n",
              "      <td id=\"T_8e860_row3_col60\" class=\"data row3 col60\" >1</td>\n",
              "      <td id=\"T_8e860_row3_col61\" class=\"data row3 col61\" >0</td>\n",
              "      <td id=\"T_8e860_row3_col62\" class=\"data row3 col62\" >0</td>\n",
              "      <td id=\"T_8e860_row3_col63\" class=\"data row3 col63\" >0</td>\n",
              "      <td id=\"T_8e860_row3_col64\" class=\"data row3 col64\" >0</td>\n",
              "      <td id=\"T_8e860_row3_col65\" class=\"data row3 col65\" >0</td>\n",
              "      <td id=\"T_8e860_row3_col66\" class=\"data row3 col66\" >59809</td>\n",
              "      <td id=\"T_8e860_row3_col67\" class=\"data row3 col67\" >-2</td>\n",
              "      <td id=\"T_8e860_row3_col68\" class=\"data row3 col68\" >1</td>\n",
              "      <td id=\"T_8e860_row3_col69\" class=\"data row3 col69\" >0</td>\n",
              "      <td id=\"T_8e860_row3_col70\" class=\"data row3 col70\" >0.000000</td>\n",
              "      <td id=\"T_8e860_row3_col71\" class=\"data row3 col71\" >0.000000</td>\n",
              "      <td id=\"T_8e860_row3_col72\" class=\"data row3 col72\" >0.000000</td>\n",
              "      <td id=\"T_8e860_row3_col73\" class=\"data row3 col73\" >0.000000</td>\n",
              "      <td id=\"T_8e860_row3_col74\" class=\"data row3 col74\" >5</td>\n",
              "      <td id=\"T_8e860_row3_col75\" class=\"data row3 col75\" >0</td>\n",
              "      <td id=\"T_8e860_row3_col76\" class=\"data row3 col76\" >0</td>\n",
              "      <td id=\"T_8e860_row3_col77\" class=\"data row3 col77\" >0.000000</td>\n",
              "      <td id=\"T_8e860_row3_col78\" class=\"data row3 col78\" >8607</td>\n",
              "      <td id=\"T_8e860_row3_col79\" class=\"data row3 col79\" >0.000000</td>\n",
              "      <td id=\"T_8e860_row3_col80\" class=\"data row3 col80\" >0.000000</td>\n",
              "      <td id=\"T_8e860_row3_col81\" class=\"data row3 col81\" >1</td>\n",
              "      <td id=\"T_8e860_row3_col82\" class=\"data row3 col82\" >0</td>\n",
              "      <td id=\"T_8e860_row3_col83\" class=\"data row3 col83\" >3</td>\n",
              "      <td id=\"T_8e860_row3_col84\" class=\"data row3 col84\" >20</td>\n",
              "      <td id=\"T_8e860_row3_col85\" class=\"data row3 col85\" >0</td>\n",
              "      <td id=\"T_8e860_row3_col86\" class=\"data row3 col86\" >0</td>\n",
              "      <td id=\"T_8e860_row3_col87\" class=\"data row3 col87\" >2</td>\n",
              "      <td id=\"T_8e860_row3_col88\" class=\"data row3 col88\" >0</td>\n",
              "      <td id=\"T_8e860_row3_col89\" class=\"data row3 col89\" >1</td>\n",
              "      <td id=\"T_8e860_row3_col90\" class=\"data row3 col90\" >0.000000</td>\n",
              "      <td id=\"T_8e860_row3_col91\" class=\"data row3 col91\" >0.000000</td>\n",
              "      <td id=\"T_8e860_row3_col92\" class=\"data row3 col92\" >2</td>\n",
              "      <td id=\"T_8e860_row3_col93\" class=\"data row3 col93\" >0</td>\n",
              "      <td id=\"T_8e860_row3_col94\" class=\"data row3 col94\" >0</td>\n",
              "      <td id=\"T_8e860_row3_col95\" class=\"data row3 col95\" >0.000000</td>\n",
              "      <td id=\"T_8e860_row3_col96\" class=\"data row3 col96\" >2522.532000</td>\n",
              "      <td id=\"T_8e860_row3_col97\" class=\"data row3 col97\" >0.000000</td>\n",
              "      <td id=\"T_8e860_row3_col98\" class=\"data row3 col98\" >237</td>\n",
              "      <td id=\"T_8e860_row3_col99\" class=\"data row3 col99\" >0.000000</td>\n",
              "      <td id=\"T_8e860_row3_col100\" class=\"data row3 col100\" >1</td>\n",
              "      <td id=\"T_8e860_row3_col101\" class=\"data row3 col101\" >1983</td>\n",
              "      <td id=\"T_8e860_row3_col102\" class=\"data row3 col102\" >8606.856000</td>\n",
              "      <td id=\"T_8e860_row3_col103\" class=\"data row3 col103\" >2869</td>\n",
              "      <td id=\"T_8e860_row3_col104\" class=\"data row3 col104\" >9789</td>\n",
              "      <td id=\"T_8e860_row3_col105\" class=\"data row3 col105\" >0</td>\n",
              "      <td id=\"T_8e860_row3_col106\" class=\"data row3 col106\" >135.451</td>\n",
              "      <td id=\"T_8e860_row3_col107\" class=\"data row3 col107\" >13883.717000</td>\n",
              "      <td id=\"T_8e860_row3_col108\" class=\"data row3 col108\" >1</td>\n",
              "      <td id=\"T_8e860_row3_col109\" class=\"data row3 col109\" >0</td>\n",
              "      <td id=\"T_8e860_row3_col110\" class=\"data row3 col110\" >70</td>\n",
              "      <td id=\"T_8e860_row3_col111\" class=\"data row3 col111\" >2</td>\n",
              "      <td id=\"T_8e860_row3_col112\" class=\"data row3 col112\" >13884</td>\n",
              "      <td id=\"T_8e860_row3_col113\" class=\"data row3 col113\" >5</td>\n",
              "      <td id=\"T_8e860_row3_col114\" class=\"data row3 col114\" >85.138</td>\n",
              "      <td id=\"T_8e860_row3_col115\" class=\"data row3 col115\" >85</td>\n",
              "      <td id=\"T_8e860_row3_col116\" class=\"data row3 col116\" >5</td>\n",
              "      <td id=\"T_8e860_row3_col117\" class=\"data row3 col117\" >0</td>\n",
              "      <td id=\"T_8e860_row3_col118\" class=\"data row3 col118\" >1</td>\n",
              "      <td id=\"T_8e860_row3_col119\" class=\"data row3 col119\" >5</td>\n",
              "      <td id=\"T_8e860_row3_col120\" class=\"data row3 col120\" >346.468000</td>\n",
              "    </tr>\n",
              "    <tr>\n",
              "      <th id=\"T_8e860_level0_row4\" class=\"row_heading level0 row4\" >4</th>\n",
              "      <td id=\"T_8e860_row4_col0\" class=\"data row4 col0\" >1</td>\n",
              "      <td id=\"T_8e860_row4_col1\" class=\"data row4 col1\" >4</td>\n",
              "      <td id=\"T_8e860_row4_col2\" class=\"data row4 col2\" >10</td>\n",
              "      <td id=\"T_8e860_row4_col3\" class=\"data row4 col3\" >45.132</td>\n",
              "      <td id=\"T_8e860_row4_col4\" class=\"data row4 col4\" >45</td>\n",
              "      <td id=\"T_8e860_row4_col5\" class=\"data row4 col5\" >274.530000</td>\n",
              "      <td id=\"T_8e860_row4_col6\" class=\"data row4 col6\" >936.677000</td>\n",
              "      <td id=\"T_8e860_row4_col7\" class=\"data row4 col7\" >937</td>\n",
              "      <td id=\"T_8e860_row4_col8\" class=\"data row4 col8\" >685</td>\n",
              "      <td id=\"T_8e860_row4_col9\" class=\"data row4 col9\" >74100</td>\n",
              "      <td id=\"T_8e860_row4_col10\" class=\"data row4 col10\" >1</td>\n",
              "      <td id=\"T_8e860_row4_col11\" class=\"data row4 col11\" >4232.486778</td>\n",
              "      <td id=\"T_8e860_row4_col12\" class=\"data row4 col12\" >3485</td>\n",
              "      <td id=\"T_8e860_row4_col13\" class=\"data row4 col13\" >1</td>\n",
              "      <td id=\"T_8e860_row4_col14\" class=\"data row4 col14\" >2</td>\n",
              "      <td id=\"T_8e860_row4_col15\" class=\"data row4 col15\" >1050</td>\n",
              "      <td id=\"T_8e860_row4_col16\" class=\"data row4 col16\" >853.549000</td>\n",
              "      <td id=\"T_8e860_row4_col17\" class=\"data row4 col17\" >722.927000</td>\n",
              "      <td id=\"T_8e860_row4_col18\" class=\"data row4 col18\" >74100.451000</td>\n",
              "      <td id=\"T_8e860_row4_col19\" class=\"data row4 col19\" >685.300000</td>\n",
              "      <td id=\"T_8e860_row4_col20\" class=\"data row4 col20\" >66</td>\n",
              "      <td id=\"T_8e860_row4_col21\" class=\"data row4 col21\" >1538</td>\n",
              "      <td id=\"T_8e860_row4_col22\" class=\"data row4 col22\" >0.000000</td>\n",
              "      <td id=\"T_8e860_row4_col23\" class=\"data row4 col23\" >1</td>\n",
              "      <td id=\"T_8e860_row4_col24\" class=\"data row4 col24\" >1</td>\n",
              "      <td id=\"T_8e860_row4_col25\" class=\"data row4 col25\" >0.000000</td>\n",
              "      <td id=\"T_8e860_row4_col26\" class=\"data row4 col26\" >4</td>\n",
              "      <td id=\"T_8e860_row4_col27\" class=\"data row4 col27\" >893</td>\n",
              "      <td id=\"T_8e860_row4_col28\" class=\"data row4 col28\" >0</td>\n",
              "      <td id=\"T_8e860_row4_col29\" class=\"data row4 col29\" >0</td>\n",
              "      <td id=\"T_8e860_row4_col30\" class=\"data row4 col30\" >0.000000</td>\n",
              "      <td id=\"T_8e860_row4_col31\" class=\"data row4 col31\" >0</td>\n",
              "      <td id=\"T_8e860_row4_col32\" class=\"data row4 col32\" >0.000000</td>\n",
              "      <td id=\"T_8e860_row4_col33\" class=\"data row4 col33\" >0.000000</td>\n",
              "      <td id=\"T_8e860_row4_col34\" class=\"data row4 col34\" >0</td>\n",
              "      <td id=\"T_8e860_row4_col35\" class=\"data row4 col35\" >0</td>\n",
              "      <td id=\"T_8e860_row4_col36\" class=\"data row4 col36\" >0</td>\n",
              "      <td id=\"T_8e860_row4_col37\" class=\"data row4 col37\" >1906</td>\n",
              "      <td id=\"T_8e860_row4_col38\" class=\"data row4 col38\" >1</td>\n",
              "      <td id=\"T_8e860_row4_col39\" class=\"data row4 col39\" >0</td>\n",
              "      <td id=\"T_8e860_row4_col40\" class=\"data row4 col40\" >0</td>\n",
              "      <td id=\"T_8e860_row4_col41\" class=\"data row4 col41\" >903</td>\n",
              "      <td id=\"T_8e860_row4_col42\" class=\"data row4 col42\" >92558</td>\n",
              "      <td id=\"T_8e860_row4_col43\" class=\"data row4 col43\" >0.000000</td>\n",
              "      <td id=\"T_8e860_row4_col44\" class=\"data row4 col44\" >0.000000</td>\n",
              "      <td id=\"T_8e860_row4_col45\" class=\"data row4 col45\" >3</td>\n",
              "      <td id=\"T_8e860_row4_col46\" class=\"data row4 col46\" >0</td>\n",
              "      <td id=\"T_8e860_row4_col47\" class=\"data row4 col47\" >0.000000</td>\n",
              "      <td id=\"T_8e860_row4_col48\" class=\"data row4 col48\" >0.000000</td>\n",
              "      <td id=\"T_8e860_row4_col49\" class=\"data row4 col49\" >0.000000</td>\n",
              "      <td id=\"T_8e860_row4_col50\" class=\"data row4 col50\" >0</td>\n",
              "      <td id=\"T_8e860_row4_col51\" class=\"data row4 col51\" >0.000000</td>\n",
              "      <td id=\"T_8e860_row4_col52\" class=\"data row4 col52\" >0.000000</td>\n",
              "      <td id=\"T_8e860_row4_col53\" class=\"data row4 col53\" >1946</td>\n",
              "      <td id=\"T_8e860_row4_col54\" class=\"data row4 col54\" >3485</td>\n",
              "      <td id=\"T_8e860_row4_col55\" class=\"data row4 col55\" >3485</td>\n",
              "      <td id=\"T_8e860_row4_col56\" class=\"data row4 col56\" >131.362000</td>\n",
              "      <td id=\"T_8e860_row4_col57\" class=\"data row4 col57\" >0.000000</td>\n",
              "      <td id=\"T_8e860_row4_col58\" class=\"data row4 col58\" >1</td>\n",
              "      <td id=\"T_8e860_row4_col59\" class=\"data row4 col59\" >856</td>\n",
              "      <td id=\"T_8e860_row4_col60\" class=\"data row4 col60\" >1</td>\n",
              "      <td id=\"T_8e860_row4_col61\" class=\"data row4 col61\" >0</td>\n",
              "      <td id=\"T_8e860_row4_col62\" class=\"data row4 col62\" >0</td>\n",
              "      <td id=\"T_8e860_row4_col63\" class=\"data row4 col63\" >0</td>\n",
              "      <td id=\"T_8e860_row4_col64\" class=\"data row4 col64\" >1</td>\n",
              "      <td id=\"T_8e860_row4_col65\" class=\"data row4 col65\" >0</td>\n",
              "      <td id=\"T_8e860_row4_col66\" class=\"data row4 col66\" >114350</td>\n",
              "      <td id=\"T_8e860_row4_col67\" class=\"data row4 col67\" >1</td>\n",
              "      <td id=\"T_8e860_row4_col68\" class=\"data row4 col68\" >0</td>\n",
              "      <td id=\"T_8e860_row4_col69\" class=\"data row4 col69\" >0</td>\n",
              "      <td id=\"T_8e860_row4_col70\" class=\"data row4 col70\" >0.000000</td>\n",
              "      <td id=\"T_8e860_row4_col71\" class=\"data row4 col71\" >0.000000</td>\n",
              "      <td id=\"T_8e860_row4_col72\" class=\"data row4 col72\" >0.000000</td>\n",
              "      <td id=\"T_8e860_row4_col73\" class=\"data row4 col73\" >0.000000</td>\n",
              "      <td id=\"T_8e860_row4_col74\" class=\"data row4 col74\" >6</td>\n",
              "      <td id=\"T_8e860_row4_col75\" class=\"data row4 col75\" >0</td>\n",
              "      <td id=\"T_8e860_row4_col76\" class=\"data row4 col76\" >0</td>\n",
              "      <td id=\"T_8e860_row4_col77\" class=\"data row4 col77\" >0.000000</td>\n",
              "      <td id=\"T_8e860_row4_col78\" class=\"data row4 col78\" >21968</td>\n",
              "      <td id=\"T_8e860_row4_col79\" class=\"data row4 col79\" >0.000000</td>\n",
              "      <td id=\"T_8e860_row4_col80\" class=\"data row4 col80\" >0.000000</td>\n",
              "      <td id=\"T_8e860_row4_col81\" class=\"data row4 col81\" >1</td>\n",
              "      <td id=\"T_8e860_row4_col82\" class=\"data row4 col82\" >0</td>\n",
              "      <td id=\"T_8e860_row4_col83\" class=\"data row4 col83\" >3</td>\n",
              "      <td id=\"T_8e860_row4_col84\" class=\"data row4 col84\" >20</td>\n",
              "      <td id=\"T_8e860_row4_col85\" class=\"data row4 col85\" >0</td>\n",
              "      <td id=\"T_8e860_row4_col86\" class=\"data row4 col86\" >0</td>\n",
              "      <td id=\"T_8e860_row4_col87\" class=\"data row4 col87\" >3</td>\n",
              "      <td id=\"T_8e860_row4_col88\" class=\"data row4 col88\" >0</td>\n",
              "      <td id=\"T_8e860_row4_col89\" class=\"data row4 col89\" >1</td>\n",
              "      <td id=\"T_8e860_row4_col90\" class=\"data row4 col90\" >0.000000</td>\n",
              "      <td id=\"T_8e860_row4_col91\" class=\"data row4 col91\" >0.000000</td>\n",
              "      <td id=\"T_8e860_row4_col92\" class=\"data row4 col92\" >1</td>\n",
              "      <td id=\"T_8e860_row4_col93\" class=\"data row4 col93\" >0</td>\n",
              "      <td id=\"T_8e860_row4_col94\" class=\"data row4 col94\" >41.498</td>\n",
              "      <td id=\"T_8e860_row4_col95\" class=\"data row4 col95\" >4253.615000</td>\n",
              "      <td id=\"T_8e860_row4_col96\" class=\"data row4 col96\" >5192.016000</td>\n",
              "      <td id=\"T_8e860_row4_col97\" class=\"data row4 col97\" >0.000000</td>\n",
              "      <td id=\"T_8e860_row4_col98\" class=\"data row4 col98\" >131</td>\n",
              "      <td id=\"T_8e860_row4_col99\" class=\"data row4 col99\" >0.000000</td>\n",
              "      <td id=\"T_8e860_row4_col100\" class=\"data row4 col100\" >1</td>\n",
              "      <td id=\"T_8e860_row4_col101\" class=\"data row4 col101\" >1920</td>\n",
              "      <td id=\"T_8e860_row4_col102\" class=\"data row4 col102\" >17714.799000</td>\n",
              "      <td id=\"T_8e860_row4_col103\" class=\"data row4 col103\" >6387</td>\n",
              "      <td id=\"T_8e860_row4_col104\" class=\"data row4 col104\" >21792</td>\n",
              "      <td id=\"T_8e860_row4_col105\" class=\"data row4 col105\" >0</td>\n",
              "      <td id=\"T_8e860_row4_col106\" class=\"data row4 col106\" >138.574</td>\n",
              "      <td id=\"T_8e860_row4_col107\" class=\"data row4 col107\" >14203.934000</td>\n",
              "      <td id=\"T_8e860_row4_col108\" class=\"data row4 col108\" >1</td>\n",
              "      <td id=\"T_8e860_row4_col109\" class=\"data row4 col109\" >0</td>\n",
              "      <td id=\"T_8e860_row4_col110\" class=\"data row4 col110\" >66</td>\n",
              "      <td id=\"T_8e860_row4_col111\" class=\"data row4 col111\" >3</td>\n",
              "      <td id=\"T_8e860_row4_col112\" class=\"data row4 col112\" >14204</td>\n",
              "      <td id=\"T_8e860_row4_col113\" class=\"data row4 col113\" >6</td>\n",
              "      <td id=\"T_8e860_row4_col114\" class=\"data row4 col114\" >151.319</td>\n",
              "      <td id=\"T_8e860_row4_col115\" class=\"data row4 col115\" >151</td>\n",
              "      <td id=\"T_8e860_row4_col116\" class=\"data row4 col116\" >6</td>\n",
              "      <td id=\"T_8e860_row4_col117\" class=\"data row4 col117\" >0</td>\n",
              "      <td id=\"T_8e860_row4_col118\" class=\"data row4 col118\" >1</td>\n",
              "      <td id=\"T_8e860_row4_col119\" class=\"data row4 col119\" >5</td>\n",
              "      <td id=\"T_8e860_row4_col120\" class=\"data row4 col120\" >920.454000</td>\n",
              "    </tr>\n",
              "    <tr>\n",
              "      <th id=\"T_8e860_level0_row5\" class=\"row_heading level0 row5\" >5</th>\n",
              "      <td id=\"T_8e860_row5_col0\" class=\"data row5 col0\" >4</td>\n",
              "      <td id=\"T_8e860_row5_col1\" class=\"data row5 col1\" >2</td>\n",
              "      <td id=\"T_8e860_row5_col2\" class=\"data row5 col2\" >3</td>\n",
              "      <td id=\"T_8e860_row5_col3\" class=\"data row5 col3\" >253.21</td>\n",
              "      <td id=\"T_8e860_row5_col4\" class=\"data row5 col4\" >253</td>\n",
              "      <td id=\"T_8e860_row5_col5\" class=\"data row5 col5\" >1224.714000</td>\n",
              "      <td id=\"T_8e860_row5_col6\" class=\"data row5 col6\" >4178.697000</td>\n",
              "      <td id=\"T_8e860_row5_col7\" class=\"data row5 col7\" >4179</td>\n",
              "      <td id=\"T_8e860_row5_col8\" class=\"data row5 col8\" >1251</td>\n",
              "      <td id=\"T_8e860_row5_col9\" class=\"data row5 col9\" >70109</td>\n",
              "      <td id=\"T_8e860_row5_col10\" class=\"data row5 col10\" >1</td>\n",
              "      <td id=\"T_8e860_row5_col11\" class=\"data row5 col11\" >7862.341967</td>\n",
              "      <td id=\"T_8e860_row5_col12\" class=\"data row5 col12\" >2296</td>\n",
              "      <td id=\"T_8e860_row5_col13\" class=\"data row5 col13\" >1</td>\n",
              "      <td id=\"T_8e860_row5_col14\" class=\"data row5 col14\" >2</td>\n",
              "      <td id=\"T_8e860_row5_col15\" class=\"data row5 col15\" >2444</td>\n",
              "      <td id=\"T_8e860_row5_col16\" class=\"data row5 col16\" >1762.032000</td>\n",
              "      <td id=\"T_8e860_row5_col17\" class=\"data row5 col17\" >668.382000</td>\n",
              "      <td id=\"T_8e860_row5_col18\" class=\"data row5 col18\" >68509.444000</td>\n",
              "      <td id=\"T_8e860_row5_col19\" class=\"data row5 col19\" >1154.308000</td>\n",
              "      <td id=\"T_8e860_row5_col20\" class=\"data row5 col20\" >67</td>\n",
              "      <td id=\"T_8e860_row5_col21\" class=\"data row5 col21\" >1938</td>\n",
              "      <td id=\"T_8e860_row5_col22\" class=\"data row5 col22\" >0.000000</td>\n",
              "      <td id=\"T_8e860_row5_col23\" class=\"data row5 col23\" >1</td>\n",
              "      <td id=\"T_8e860_row5_col24\" class=\"data row5 col24\" >1</td>\n",
              "      <td id=\"T_8e860_row5_col25\" class=\"data row5 col25\" >0.000000</td>\n",
              "      <td id=\"T_8e860_row5_col26\" class=\"data row5 col26\" >3</td>\n",
              "      <td id=\"T_8e860_row5_col27\" class=\"data row5 col27\" >2077</td>\n",
              "      <td id=\"T_8e860_row5_col28\" class=\"data row5 col28\" >0</td>\n",
              "      <td id=\"T_8e860_row5_col29\" class=\"data row5 col29\" >0</td>\n",
              "      <td id=\"T_8e860_row5_col30\" class=\"data row5 col30\" >0.000000</td>\n",
              "      <td id=\"T_8e860_row5_col31\" class=\"data row5 col31\" >0</td>\n",
              "      <td id=\"T_8e860_row5_col32\" class=\"data row5 col32\" >468.774000</td>\n",
              "      <td id=\"T_8e860_row5_col33\" class=\"data row5 col33\" >1599.447000</td>\n",
              "      <td id=\"T_8e860_row5_col34\" class=\"data row5 col34\" >0</td>\n",
              "      <td id=\"T_8e860_row5_col35\" class=\"data row5 col35\" >0</td>\n",
              "      <td id=\"T_8e860_row5_col36\" class=\"data row5 col36\" >358</td>\n",
              "      <td id=\"T_8e860_row5_col37\" class=\"data row5 col37\" >4304</td>\n",
              "      <td id=\"T_8e860_row5_col38\" class=\"data row5 col38\" >3</td>\n",
              "      <td id=\"T_8e860_row5_col39\" class=\"data row5 col39\" >96.919</td>\n",
              "      <td id=\"T_8e860_row5_col40\" class=\"data row5 col40\" >0</td>\n",
              "      <td id=\"T_8e860_row5_col41\" class=\"data row5 col41\" >1077</td>\n",
              "      <td id=\"T_8e860_row5_col42\" class=\"data row5 col42\" >110393</td>\n",
              "      <td id=\"T_8e860_row5_col43\" class=\"data row5 col43\" >0.000000</td>\n",
              "      <td id=\"T_8e860_row5_col44\" class=\"data row5 col44\" >0.000000</td>\n",
              "      <td id=\"T_8e860_row5_col45\" class=\"data row5 col45\" >4</td>\n",
              "      <td id=\"T_8e860_row5_col46\" class=\"data row5 col46\" >0</td>\n",
              "      <td id=\"T_8e860_row5_col47\" class=\"data row5 col47\" >0.000000</td>\n",
              "      <td id=\"T_8e860_row5_col48\" class=\"data row5 col48\" >0.000000</td>\n",
              "      <td id=\"T_8e860_row5_col49\" class=\"data row5 col49\" >0.000000</td>\n",
              "      <td id=\"T_8e860_row5_col50\" class=\"data row5 col50\" >0</td>\n",
              "      <td id=\"T_8e860_row5_col51\" class=\"data row5 col51\" >0.000000</td>\n",
              "      <td id=\"T_8e860_row5_col52\" class=\"data row5 col52\" >0.000000</td>\n",
              "      <td id=\"T_8e860_row5_col53\" class=\"data row5 col53\" >716</td>\n",
              "      <td id=\"T_8e860_row5_col54\" class=\"data row5 col54\" >2654</td>\n",
              "      <td id=\"T_8e860_row5_col55\" class=\"data row5 col55\" >2654</td>\n",
              "      <td id=\"T_8e860_row5_col56\" class=\"data row5 col56\" >390.550000</td>\n",
              "      <td id=\"T_8e860_row5_col57\" class=\"data row5 col57\" >0.000000</td>\n",
              "      <td id=\"T_8e860_row5_col58\" class=\"data row5 col58\" >1</td>\n",
              "      <td id=\"T_8e860_row5_col59\" class=\"data row5 col59\" >1860</td>\n",
              "      <td id=\"T_8e860_row5_col60\" class=\"data row5 col60\" >1</td>\n",
              "      <td id=\"T_8e860_row5_col61\" class=\"data row5 col61\" >1</td>\n",
              "      <td id=\"T_8e860_row5_col62\" class=\"data row5 col62\" >0</td>\n",
              "      <td id=\"T_8e860_row5_col63\" class=\"data row5 col63\" >0</td>\n",
              "      <td id=\"T_8e860_row5_col64\" class=\"data row5 col64\" >5</td>\n",
              "      <td id=\"T_8e860_row5_col65\" class=\"data row5 col65\" >0</td>\n",
              "      <td id=\"T_8e860_row5_col66\" class=\"data row5 col66\" >150726</td>\n",
              "      <td id=\"T_8e860_row5_col67\" class=\"data row5 col67\" >1</td>\n",
              "      <td id=\"T_8e860_row5_col68\" class=\"data row5 col68\" >1</td>\n",
              "      <td id=\"T_8e860_row5_col69\" class=\"data row5 col69\" >0</td>\n",
              "      <td id=\"T_8e860_row5_col70\" class=\"data row5 col70\" >0.000000</td>\n",
              "      <td id=\"T_8e860_row5_col71\" class=\"data row5 col71\" >0.000000</td>\n",
              "      <td id=\"T_8e860_row5_col72\" class=\"data row5 col72\" >0.000000</td>\n",
              "      <td id=\"T_8e860_row5_col73\" class=\"data row5 col73\" >0.000000</td>\n",
              "      <td id=\"T_8e860_row5_col74\" class=\"data row5 col74\" >7</td>\n",
              "      <td id=\"T_8e860_row5_col75\" class=\"data row5 col75\" >0</td>\n",
              "      <td id=\"T_8e860_row5_col76\" class=\"data row5 col76\" >0</td>\n",
              "      <td id=\"T_8e860_row5_col77\" class=\"data row5 col77\" >0.000000</td>\n",
              "      <td id=\"T_8e860_row5_col78\" class=\"data row5 col78\" >47783</td>\n",
              "      <td id=\"T_8e860_row5_col79\" class=\"data row5 col79\" >0.000000</td>\n",
              "      <td id=\"T_8e860_row5_col80\" class=\"data row5 col80\" >0.000000</td>\n",
              "      <td id=\"T_8e860_row5_col81\" class=\"data row5 col81\" >2</td>\n",
              "      <td id=\"T_8e860_row5_col82\" class=\"data row5 col82\" >0</td>\n",
              "      <td id=\"T_8e860_row5_col83\" class=\"data row5 col83\" >2</td>\n",
              "      <td id=\"T_8e860_row5_col84\" class=\"data row5 col84\" >20</td>\n",
              "      <td id=\"T_8e860_row5_col85\" class=\"data row5 col85\" >0</td>\n",
              "      <td id=\"T_8e860_row5_col86\" class=\"data row5 col86\" >0</td>\n",
              "      <td id=\"T_8e860_row5_col87\" class=\"data row5 col87\" >3</td>\n",
              "      <td id=\"T_8e860_row5_col88\" class=\"data row5 col88\" >0</td>\n",
              "      <td id=\"T_8e860_row5_col89\" class=\"data row5 col89\" >1</td>\n",
              "      <td id=\"T_8e860_row5_col90\" class=\"data row5 col90\" >0.000000</td>\n",
              "      <td id=\"T_8e860_row5_col91\" class=\"data row5 col91\" >0.000000</td>\n",
              "      <td id=\"T_8e860_row5_col92\" class=\"data row5 col92\" >4</td>\n",
              "      <td id=\"T_8e860_row5_col93\" class=\"data row5 col93\" >0</td>\n",
              "      <td id=\"T_8e860_row5_col94\" class=\"data row5 col94\" >182.477</td>\n",
              "      <td id=\"T_8e860_row5_col95\" class=\"data row5 col95\" >18703.986000</td>\n",
              "      <td id=\"T_8e860_row5_col96\" class=\"data row5 col96\" >8522.497000</td>\n",
              "      <td id=\"T_8e860_row5_col97\" class=\"data row5 col97\" >0.000000</td>\n",
              "      <td id=\"T_8e860_row5_col98\" class=\"data row5 col98\" >391</td>\n",
              "      <td id=\"T_8e860_row5_col99\" class=\"data row5 col99\" >0.000000</td>\n",
              "      <td id=\"T_8e860_row5_col100\" class=\"data row5 col100\" >1</td>\n",
              "      <td id=\"T_8e860_row5_col101\" class=\"data row5 col101\" >1922</td>\n",
              "      <td id=\"T_8e860_row5_col102\" class=\"data row5 col102\" >29078.579000</td>\n",
              "      <td id=\"T_8e860_row5_col103\" class=\"data row5 col103\" >11821</td>\n",
              "      <td id=\"T_8e860_row5_col104\" class=\"data row5 col104\" >40333</td>\n",
              "      <td id=\"T_8e860_row5_col105\" class=\"data row5 col105\" >0</td>\n",
              "      <td id=\"T_8e860_row5_col106\" class=\"data row5 col106\" >226.141</td>\n",
              "      <td id=\"T_8e860_row5_col107\" class=\"data row5 col107\" >23179.570000</td>\n",
              "      <td id=\"T_8e860_row5_col108\" class=\"data row5 col108\" >1</td>\n",
              "      <td id=\"T_8e860_row5_col109\" class=\"data row5 col109\" >0</td>\n",
              "      <td id=\"T_8e860_row5_col110\" class=\"data row5 col110\" >62</td>\n",
              "      <td id=\"T_8e860_row5_col111\" class=\"data row5 col111\" >2</td>\n",
              "      <td id=\"T_8e860_row5_col112\" class=\"data row5 col112\" >23180</td>\n",
              "      <td id=\"T_8e860_row5_col113\" class=\"data row5 col113\" >6</td>\n",
              "      <td id=\"T_8e860_row5_col114\" class=\"data row5 col114\" >331.838</td>\n",
              "      <td id=\"T_8e860_row5_col115\" class=\"data row5 col115\" >332</td>\n",
              "      <td id=\"T_8e860_row5_col116\" class=\"data row5 col116\" >7</td>\n",
              "      <td id=\"T_8e860_row5_col117\" class=\"data row5 col117\" >0</td>\n",
              "      <td id=\"T_8e860_row5_col118\" class=\"data row5 col118\" >1</td>\n",
              "      <td id=\"T_8e860_row5_col119\" class=\"data row5 col119\" >1</td>\n",
              "      <td id=\"T_8e860_row5_col120\" class=\"data row5 col120\" >1605.015000</td>\n",
              "    </tr>\n",
              "    <tr>\n",
              "      <th id=\"T_8e860_level0_row6\" class=\"row_heading level0 row6\" >6</th>\n",
              "      <td id=\"T_8e860_row6_col0\" class=\"data row6 col0\" >3</td>\n",
              "      <td id=\"T_8e860_row6_col1\" class=\"data row6 col1\" >5</td>\n",
              "      <td id=\"T_8e860_row6_col2\" class=\"data row6 col2\" >17</td>\n",
              "      <td id=\"T_8e860_row6_col3\" class=\"data row6 col3\" >700.88</td>\n",
              "      <td id=\"T_8e860_row6_col4\" class=\"data row6 col4\" >701</td>\n",
              "      <td id=\"T_8e860_row6_col5\" class=\"data row6 col5\" >6129.163000</td>\n",
              "      <td id=\"T_8e860_row6_col6\" class=\"data row6 col6\" >20912.581000</td>\n",
              "      <td id=\"T_8e860_row6_col7\" class=\"data row6 col7\" >20913</td>\n",
              "      <td id=\"T_8e860_row6_col8\" class=\"data row6 col8\" >190</td>\n",
              "      <td id=\"T_8e860_row6_col9\" class=\"data row6 col9\" >5668</td>\n",
              "      <td id=\"T_8e860_row6_col10\" class=\"data row6 col10\" >0</td>\n",
              "      <td id=\"T_8e860_row6_col11\" class=\"data row6 col11\" >6297.038285</td>\n",
              "      <td id=\"T_8e860_row6_col12\" class=\"data row6 col12\" >1952</td>\n",
              "      <td id=\"T_8e860_row6_col13\" class=\"data row6 col13\" >1</td>\n",
              "      <td id=\"T_8e860_row6_col14\" class=\"data row6 col14\" >2</td>\n",
              "      <td id=\"T_8e860_row6_col15\" class=\"data row6 col15\" >2622</td>\n",
              "      <td id=\"T_8e860_row6_col16\" class=\"data row6 col16\" >1128.303000</td>\n",
              "      <td id=\"T_8e860_row6_col17\" class=\"data row6 col17\" >0.000000</td>\n",
              "      <td id=\"T_8e860_row6_col18\" class=\"data row6 col18\" >0.000000</td>\n",
              "      <td id=\"T_8e860_row6_col19\" class=\"data row6 col19\" >0.000000</td>\n",
              "      <td id=\"T_8e860_row6_col20\" class=\"data row6 col20\" >77</td>\n",
              "      <td id=\"T_8e860_row6_col21\" class=\"data row6 col21\" >1952</td>\n",
              "      <td id=\"T_8e860_row6_col22\" class=\"data row6 col22\" >0.000000</td>\n",
              "      <td id=\"T_8e860_row6_col23\" class=\"data row6 col23\" >1</td>\n",
              "      <td id=\"T_8e860_row6_col24\" class=\"data row6 col24\" >1</td>\n",
              "      <td id=\"T_8e860_row6_col25\" class=\"data row6 col25\" >0.000000</td>\n",
              "      <td id=\"T_8e860_row6_col26\" class=\"data row6 col26\" >7</td>\n",
              "      <td id=\"T_8e860_row6_col27\" class=\"data row6 col27\" >1128</td>\n",
              "      <td id=\"T_8e860_row6_col28\" class=\"data row6 col28\" >0</td>\n",
              "      <td id=\"T_8e860_row6_col29\" class=\"data row6 col29\" >0</td>\n",
              "      <td id=\"T_8e860_row6_col30\" class=\"data row6 col30\" >0.000000</td>\n",
              "      <td id=\"T_8e860_row6_col31\" class=\"data row6 col31\" >0</td>\n",
              "      <td id=\"T_8e860_row6_col32\" class=\"data row6 col32\" >1661.212000</td>\n",
              "      <td id=\"T_8e860_row6_col33\" class=\"data row6 col33\" >5668.025000</td>\n",
              "      <td id=\"T_8e860_row6_col34\" class=\"data row6 col34\" >0</td>\n",
              "      <td id=\"T_8e860_row6_col35\" class=\"data row6 col35\" >0</td>\n",
              "      <td id=\"T_8e860_row6_col36\" class=\"data row6 col36\" >400</td>\n",
              "      <td id=\"T_8e860_row6_col37\" class=\"data row6 col37\" >2622</td>\n",
              "      <td id=\"T_8e860_row6_col38\" class=\"data row6 col38\" >1</td>\n",
              "      <td id=\"T_8e860_row6_col39\" class=\"data row6 col39\" >189.962</td>\n",
              "      <td id=\"T_8e860_row6_col40\" class=\"data row6 col40\" >1</td>\n",
              "      <td id=\"T_8e860_row6_col41\" class=\"data row6 col41\" >0</td>\n",
              "      <td id=\"T_8e860_row6_col42\" class=\"data row6 col42\" >0</td>\n",
              "      <td id=\"T_8e860_row6_col43\" class=\"data row6 col43\" >0.000000</td>\n",
              "      <td id=\"T_8e860_row6_col44\" class=\"data row6 col44\" >0.000000</td>\n",
              "      <td id=\"T_8e860_row6_col45\" class=\"data row6 col45\" >3</td>\n",
              "      <td id=\"T_8e860_row6_col46\" class=\"data row6 col46\" >0</td>\n",
              "      <td id=\"T_8e860_row6_col47\" class=\"data row6 col47\" >0.000000</td>\n",
              "      <td id=\"T_8e860_row6_col48\" class=\"data row6 col48\" >0.000000</td>\n",
              "      <td id=\"T_8e860_row6_col49\" class=\"data row6 col49\" >0.000000</td>\n",
              "      <td id=\"T_8e860_row6_col50\" class=\"data row6 col50\" >0</td>\n",
              "      <td id=\"T_8e860_row6_col51\" class=\"data row6 col51\" >0.000000</td>\n",
              "      <td id=\"T_8e860_row6_col52\" class=\"data row6 col52\" >0.000000</td>\n",
              "      <td id=\"T_8e860_row6_col53\" class=\"data row6 col53\" >400</td>\n",
              "      <td id=\"T_8e860_row6_col54\" class=\"data row6 col54\" >2352</td>\n",
              "      <td id=\"T_8e860_row6_col55\" class=\"data row6 col55\" >1952</td>\n",
              "      <td id=\"T_8e860_row6_col56\" class=\"data row6 col56\" >0.000000</td>\n",
              "      <td id=\"T_8e860_row6_col57\" class=\"data row6 col57\" >0.000000</td>\n",
              "      <td id=\"T_8e860_row6_col58\" class=\"data row6 col58\" >1</td>\n",
              "      <td id=\"T_8e860_row6_col59\" class=\"data row6 col59\" >0</td>\n",
              "      <td id=\"T_8e860_row6_col60\" class=\"data row6 col60\" >5</td>\n",
              "      <td id=\"T_8e860_row6_col61\" class=\"data row6 col61\" >0</td>\n",
              "      <td id=\"T_8e860_row6_col62\" class=\"data row6 col62\" >0</td>\n",
              "      <td id=\"T_8e860_row6_col63\" class=\"data row6 col63\" >0</td>\n",
              "      <td id=\"T_8e860_row6_col64\" class=\"data row6 col64\" >5</td>\n",
              "      <td id=\"T_8e860_row6_col65\" class=\"data row6 col65\" >0</td>\n",
              "      <td id=\"T_8e860_row6_col66\" class=\"data row6 col66\" >78230</td>\n",
              "      <td id=\"T_8e860_row6_col67\" class=\"data row6 col67\" >1</td>\n",
              "      <td id=\"T_8e860_row6_col68\" class=\"data row6 col68\" >5</td>\n",
              "      <td id=\"T_8e860_row6_col69\" class=\"data row6 col69\" >0</td>\n",
              "      <td id=\"T_8e860_row6_col70\" class=\"data row6 col70\" >0.000000</td>\n",
              "      <td id=\"T_8e860_row6_col71\" class=\"data row6 col71\" >517.721000</td>\n",
              "      <td id=\"T_8e860_row6_col72\" class=\"data row6 col72\" >4527.442000</td>\n",
              "      <td id=\"T_8e860_row6_col73\" class=\"data row6 col73\" >15447.543000</td>\n",
              "      <td id=\"T_8e860_row6_col74\" class=\"data row6 col74\" >6</td>\n",
              "      <td id=\"T_8e860_row6_col75\" class=\"data row6 col75\" >1</td>\n",
              "      <td id=\"T_8e860_row6_col76\" class=\"data row6 col76\" >0</td>\n",
              "      <td id=\"T_8e860_row6_col77\" class=\"data row6 col77\" >0.000000</td>\n",
              "      <td id=\"T_8e860_row6_col78\" class=\"data row6 col78\" >33666</td>\n",
              "      <td id=\"T_8e860_row6_col79\" class=\"data row6 col79\" >0.000000</td>\n",
              "      <td id=\"T_8e860_row6_col80\" class=\"data row6 col80\" >0.000000</td>\n",
              "      <td id=\"T_8e860_row6_col81\" class=\"data row6 col81\" >2</td>\n",
              "      <td id=\"T_8e860_row6_col82\" class=\"data row6 col82\" >0</td>\n",
              "      <td id=\"T_8e860_row6_col83\" class=\"data row6 col83\" >4</td>\n",
              "      <td id=\"T_8e860_row6_col84\" class=\"data row6 col84\" >10</td>\n",
              "      <td id=\"T_8e860_row6_col85\" class=\"data row6 col85\" >0</td>\n",
              "      <td id=\"T_8e860_row6_col86\" class=\"data row6 col86\" >0</td>\n",
              "      <td id=\"T_8e860_row6_col87\" class=\"data row6 col87\" >1</td>\n",
              "      <td id=\"T_8e860_row6_col88\" class=\"data row6 col88\" >0</td>\n",
              "      <td id=\"T_8e860_row6_col89\" class=\"data row6 col89\" >5</td>\n",
              "      <td id=\"T_8e860_row6_col90\" class=\"data row6 col90\" >0.000000</td>\n",
              "      <td id=\"T_8e860_row6_col91\" class=\"data row6 col91\" >0.000000</td>\n",
              "      <td id=\"T_8e860_row6_col92\" class=\"data row6 col92\" >2</td>\n",
              "      <td id=\"T_8e860_row6_col93\" class=\"data row6 col93\" >0</td>\n",
              "      <td id=\"T_8e860_row6_col94\" class=\"data row6 col94\" >0</td>\n",
              "      <td id=\"T_8e860_row6_col95\" class=\"data row6 col95\" >0.000000</td>\n",
              "      <td id=\"T_8e860_row6_col96\" class=\"data row6 col96\" >9866.955000</td>\n",
              "      <td id=\"T_8e860_row6_col97\" class=\"data row6 col97\" >0.000000</td>\n",
              "      <td id=\"T_8e860_row6_col98\" class=\"data row6 col98\" >518</td>\n",
              "      <td id=\"T_8e860_row6_col99\" class=\"data row6 col99\" >0.000000</td>\n",
              "      <td id=\"T_8e860_row6_col100\" class=\"data row6 col100\" >0</td>\n",
              "      <td id=\"T_8e860_row6_col101\" class=\"data row6 col101\" >1975</td>\n",
              "      <td id=\"T_8e860_row6_col102\" class=\"data row6 col102\" >33665.852000</td>\n",
              "      <td id=\"T_8e860_row6_col103\" class=\"data row6 col103\" >22928</td>\n",
              "      <td id=\"T_8e860_row6_col104\" class=\"data row6 col104\" >78230</td>\n",
              "      <td id=\"T_8e860_row6_col105\" class=\"data row6 col105\" >0</td>\n",
              "      <td id=\"T_8e860_row6_col106\" class=\"data row6 col106\" >0</td>\n",
              "      <td id=\"T_8e860_row6_col107\" class=\"data row6 col107\" >0.000000</td>\n",
              "      <td id=\"T_8e860_row6_col108\" class=\"data row6 col108\" >0</td>\n",
              "      <td id=\"T_8e860_row6_col109\" class=\"data row6 col109\" >1</td>\n",
              "      <td id=\"T_8e860_row6_col110\" class=\"data row6 col110\" >65</td>\n",
              "      <td id=\"T_8e860_row6_col111\" class=\"data row6 col111\" >0</td>\n",
              "      <td id=\"T_8e860_row6_col112\" class=\"data row6 col112\" >15448</td>\n",
              "      <td id=\"T_8e860_row6_col113\" class=\"data row6 col113\" >6</td>\n",
              "      <td id=\"T_8e860_row6_col114\" class=\"data row6 col114\" >84.99</td>\n",
              "      <td id=\"T_8e860_row6_col115\" class=\"data row6 col115\" >85</td>\n",
              "      <td id=\"T_8e860_row6_col116\" class=\"data row6 col116\" >6</td>\n",
              "      <td id=\"T_8e860_row6_col117\" class=\"data row6 col117\" >0</td>\n",
              "      <td id=\"T_8e860_row6_col118\" class=\"data row6 col118\" >0</td>\n",
              "      <td id=\"T_8e860_row6_col119\" class=\"data row6 col119\" >5</td>\n",
              "      <td id=\"T_8e860_row6_col120\" class=\"data row6 col120\" >743.228000</td>\n",
              "    </tr>\n",
              "    <tr>\n",
              "      <th id=\"T_8e860_level0_row7\" class=\"row_heading level0 row7\" >7</th>\n",
              "      <td id=\"T_8e860_row7_col0\" class=\"data row7 col0\" >4</td>\n",
              "      <td id=\"T_8e860_row7_col1\" class=\"data row7 col1\" >2</td>\n",
              "      <td id=\"T_8e860_row7_col2\" class=\"data row7 col2\" >5</td>\n",
              "      <td id=\"T_8e860_row7_col3\" class=\"data row7 col3\" >54.482</td>\n",
              "      <td id=\"T_8e860_row7_col4\" class=\"data row7 col4\" >54</td>\n",
              "      <td id=\"T_8e860_row7_col5\" class=\"data row7 col5\" >401.146000</td>\n",
              "      <td id=\"T_8e860_row7_col6\" class=\"data row7 col6\" >1368.730000</td>\n",
              "      <td id=\"T_8e860_row7_col7\" class=\"data row7 col7\" >1369</td>\n",
              "      <td id=\"T_8e860_row7_col8\" class=\"data row7 col8\" >777</td>\n",
              "      <td id=\"T_8e860_row7_col9\" class=\"data row7 col9\" >29747</td>\n",
              "      <td id=\"T_8e860_row7_col10\" class=\"data row7 col10\" >1</td>\n",
              "      <td id=\"T_8e860_row7_col11\" class=\"data row7 col11\" >12156.721510</td>\n",
              "      <td id=\"T_8e860_row7_col12\" class=\"data row7 col12\" >1117</td>\n",
              "      <td id=\"T_8e860_row7_col13\" class=\"data row7 col13\" >1</td>\n",
              "      <td id=\"T_8e860_row7_col14\" class=\"data row7 col14\" >0</td>\n",
              "      <td id=\"T_8e860_row7_col15\" class=\"data row7 col15\" >1240</td>\n",
              "      <td id=\"T_8e860_row7_col16\" class=\"data row7 col16\" >348.027000</td>\n",
              "      <td id=\"T_8e860_row7_col17\" class=\"data row7 col17\" >183.514000</td>\n",
              "      <td id=\"T_8e860_row7_col18\" class=\"data row7 col18\" >18810.150000</td>\n",
              "      <td id=\"T_8e860_row7_col19\" class=\"data row7 col19\" >341.685000</td>\n",
              "      <td id=\"T_8e860_row7_col20\" class=\"data row7 col20\" >68</td>\n",
              "      <td id=\"T_8e860_row7_col21\" class=\"data row7 col21\" >1117</td>\n",
              "      <td id=\"T_8e860_row7_col22\" class=\"data row7 col22\" >0.000000</td>\n",
              "      <td id=\"T_8e860_row7_col23\" class=\"data row7 col23\" >1</td>\n",
              "      <td id=\"T_8e860_row7_col24\" class=\"data row7 col24\" >1</td>\n",
              "      <td id=\"T_8e860_row7_col25\" class=\"data row7 col25\" >0.000000</td>\n",
              "      <td id=\"T_8e860_row7_col26\" class=\"data row7 col26\" >2</td>\n",
              "      <td id=\"T_8e860_row7_col27\" class=\"data row7 col27\" >397</td>\n",
              "      <td id=\"T_8e860_row7_col28\" class=\"data row7 col28\" >0</td>\n",
              "      <td id=\"T_8e860_row7_col29\" class=\"data row7 col29\" >0</td>\n",
              "      <td id=\"T_8e860_row7_col30\" class=\"data row7 col30\" >0.000000</td>\n",
              "      <td id=\"T_8e860_row7_col31\" class=\"data row7 col31\" >0</td>\n",
              "      <td id=\"T_8e860_row7_col32\" class=\"data row7 col32\" >3205.462000</td>\n",
              "      <td id=\"T_8e860_row7_col33\" class=\"data row7 col33\" >10937.191000</td>\n",
              "      <td id=\"T_8e860_row7_col34\" class=\"data row7 col34\" >0</td>\n",
              "      <td id=\"T_8e860_row7_col35\" class=\"data row7 col35\" >0</td>\n",
              "      <td id=\"T_8e860_row7_col36\" class=\"data row7 col36\" >518</td>\n",
              "      <td id=\"T_8e860_row7_col37\" class=\"data row7 col37\" >1631</td>\n",
              "      <td id=\"T_8e860_row7_col38\" class=\"data row7 col38\" >1</td>\n",
              "      <td id=\"T_8e860_row7_col39\" class=\"data row7 col39\" >435.353</td>\n",
              "      <td id=\"T_8e860_row7_col40\" class=\"data row7 col40\" >0</td>\n",
              "      <td id=\"T_8e860_row7_col41\" class=\"data row7 col41\" >210</td>\n",
              "      <td id=\"T_8e860_row7_col42\" class=\"data row7 col42\" >21525</td>\n",
              "      <td id=\"T_8e860_row7_col43\" class=\"data row7 col43\" >0.000000</td>\n",
              "      <td id=\"T_8e860_row7_col44\" class=\"data row7 col44\" >0.000000</td>\n",
              "      <td id=\"T_8e860_row7_col45\" class=\"data row7 col45\" >3</td>\n",
              "      <td id=\"T_8e860_row7_col46\" class=\"data row7 col46\" >0</td>\n",
              "      <td id=\"T_8e860_row7_col47\" class=\"data row7 col47\" >0.000000</td>\n",
              "      <td id=\"T_8e860_row7_col48\" class=\"data row7 col48\" >0.000000</td>\n",
              "      <td id=\"T_8e860_row7_col49\" class=\"data row7 col49\" >0.000000</td>\n",
              "      <td id=\"T_8e860_row7_col50\" class=\"data row7 col50\" >0</td>\n",
              "      <td id=\"T_8e860_row7_col51\" class=\"data row7 col51\" >0.000000</td>\n",
              "      <td id=\"T_8e860_row7_col52\" class=\"data row7 col52\" >0.000000</td>\n",
              "      <td id=\"T_8e860_row7_col53\" class=\"data row7 col53\" >518</td>\n",
              "      <td id=\"T_8e860_row7_col54\" class=\"data row7 col54\" >1635</td>\n",
              "      <td id=\"T_8e860_row7_col55\" class=\"data row7 col55\" >1635</td>\n",
              "      <td id=\"T_8e860_row7_col56\" class=\"data row7 col56\" >0.000000</td>\n",
              "      <td id=\"T_8e860_row7_col57\" class=\"data row7 col57\" >0.000000</td>\n",
              "      <td id=\"T_8e860_row7_col58\" class=\"data row7 col58\" >1</td>\n",
              "      <td id=\"T_8e860_row7_col59\" class=\"data row7 col59\" >391</td>\n",
              "      <td id=\"T_8e860_row7_col60\" class=\"data row7 col60\" >5</td>\n",
              "      <td id=\"T_8e860_row7_col61\" class=\"data row7 col61\" >0</td>\n",
              "      <td id=\"T_8e860_row7_col62\" class=\"data row7 col62\" >0</td>\n",
              "      <td id=\"T_8e860_row7_col63\" class=\"data row7 col63\" >0</td>\n",
              "      <td id=\"T_8e860_row7_col64\" class=\"data row7 col64\" >0</td>\n",
              "      <td id=\"T_8e860_row7_col65\" class=\"data row7 col65\" >0</td>\n",
              "      <td id=\"T_8e860_row7_col66\" class=\"data row7 col66\" >52677</td>\n",
              "      <td id=\"T_8e860_row7_col67\" class=\"data row7 col67\" >1</td>\n",
              "      <td id=\"T_8e860_row7_col68\" class=\"data row7 col68\" >0</td>\n",
              "      <td id=\"T_8e860_row7_col69\" class=\"data row7 col69\" >0</td>\n",
              "      <td id=\"T_8e860_row7_col70\" class=\"data row7 col70\" >0.000000</td>\n",
              "      <td id=\"T_8e860_row7_col71\" class=\"data row7 col71\" >189.749000</td>\n",
              "      <td id=\"T_8e860_row7_col72\" class=\"data row7 col72\" >1397.102000</td>\n",
              "      <td id=\"T_8e860_row7_col73\" class=\"data row7 col73\" >4766.980000</td>\n",
              "      <td id=\"T_8e860_row7_col74\" class=\"data row7 col74\" >7</td>\n",
              "      <td id=\"T_8e860_row7_col75\" class=\"data row7 col75\" >1</td>\n",
              "      <td id=\"T_8e860_row7_col76\" class=\"data row7 col76\" >0</td>\n",
              "      <td id=\"T_8e860_row7_col77\" class=\"data row7 col77\" >0.000000</td>\n",
              "      <td id=\"T_8e860_row7_col78\" class=\"data row7 col78\" >11458</td>\n",
              "      <td id=\"T_8e860_row7_col79\" class=\"data row7 col79\" >0.000000</td>\n",
              "      <td id=\"T_8e860_row7_col80\" class=\"data row7 col80\" >0.000000</td>\n",
              "      <td id=\"T_8e860_row7_col81\" class=\"data row7 col81\" >1</td>\n",
              "      <td id=\"T_8e860_row7_col82\" class=\"data row7 col82\" >0</td>\n",
              "      <td id=\"T_8e860_row7_col83\" class=\"data row7 col83\" >4</td>\n",
              "      <td id=\"T_8e860_row7_col84\" class=\"data row7 col84\" >20</td>\n",
              "      <td id=\"T_8e860_row7_col85\" class=\"data row7 col85\" >0</td>\n",
              "      <td id=\"T_8e860_row7_col86\" class=\"data row7 col86\" >0</td>\n",
              "      <td id=\"T_8e860_row7_col87\" class=\"data row7 col87\" >0</td>\n",
              "      <td id=\"T_8e860_row7_col88\" class=\"data row7 col88\" >0</td>\n",
              "      <td id=\"T_8e860_row7_col89\" class=\"data row7 col89\" >5</td>\n",
              "      <td id=\"T_8e860_row7_col90\" class=\"data row7 col90\" >0.000000</td>\n",
              "      <td id=\"T_8e860_row7_col91\" class=\"data row7 col91\" >0.000000</td>\n",
              "      <td id=\"T_8e860_row7_col92\" class=\"data row7 col92\" >2</td>\n",
              "      <td id=\"T_8e860_row7_col93\" class=\"data row7 col93\" >0</td>\n",
              "      <td id=\"T_8e860_row7_col94\" class=\"data row7 col94\" >26.486</td>\n",
              "      <td id=\"T_8e860_row7_col95\" class=\"data row7 col95\" >2714.850000</td>\n",
              "      <td id=\"T_8e860_row7_col96\" class=\"data row7 col96\" >2562.490000</td>\n",
              "      <td id=\"T_8e860_row7_col97\" class=\"data row7 col97\" >0.000000</td>\n",
              "      <td id=\"T_8e860_row7_col98\" class=\"data row7 col98\" >190</td>\n",
              "      <td id=\"T_8e860_row7_col99\" class=\"data row7 col99\" >0.000000</td>\n",
              "      <td id=\"T_8e860_row7_col100\" class=\"data row7 col100\" >1</td>\n",
              "      <td id=\"T_8e860_row7_col101\" class=\"data row7 col101\" >1920</td>\n",
              "      <td id=\"T_8e860_row7_col102\" class=\"data row7 col102\" >8743.340000</td>\n",
              "      <td id=\"T_8e860_row7_col103\" class=\"data row7 col103\" >9130</td>\n",
              "      <td id=\"T_8e860_row7_col104\" class=\"data row7 col104\" >31152</td>\n",
              "      <td id=\"T_8e860_row7_col105\" class=\"data row7 col105\" >0</td>\n",
              "      <td id=\"T_8e860_row7_col106\" class=\"data row7 col106\" >0</td>\n",
              "      <td id=\"T_8e860_row7_col107\" class=\"data row7 col107\" >0.000000</td>\n",
              "      <td id=\"T_8e860_row7_col108\" class=\"data row7 col108\" >0</td>\n",
              "      <td id=\"T_8e860_row7_col109\" class=\"data row7 col109\" >0</td>\n",
              "      <td id=\"T_8e860_row7_col110\" class=\"data row7 col110\" >68</td>\n",
              "      <td id=\"T_8e860_row7_col111\" class=\"data row7 col111\" >-2</td>\n",
              "      <td id=\"T_8e860_row7_col112\" class=\"data row7 col112\" >4767</td>\n",
              "      <td id=\"T_8e860_row7_col113\" class=\"data row7 col113\" >5</td>\n",
              "      <td id=\"T_8e860_row7_col114\" class=\"data row7 col114\" >212.389</td>\n",
              "      <td id=\"T_8e860_row7_col115\" class=\"data row7 col115\" >212</td>\n",
              "      <td id=\"T_8e860_row7_col116\" class=\"data row7 col116\" >7</td>\n",
              "      <td id=\"T_8e860_row7_col117\" class=\"data row7 col117\" >0</td>\n",
              "      <td id=\"T_8e860_row7_col118\" class=\"data row7 col118\" >1</td>\n",
              "      <td id=\"T_8e860_row7_col119\" class=\"data row7 col119\" >5</td>\n",
              "      <td id=\"T_8e860_row7_col120\" class=\"data row7 col120\" >1563.800000</td>\n",
              "    </tr>\n",
              "    <tr>\n",
              "      <th id=\"T_8e860_level0_row8\" class=\"row_heading level0 row8\" >8</th>\n",
              "      <td id=\"T_8e860_row8_col0\" class=\"data row8 col0\" >4</td>\n",
              "      <td id=\"T_8e860_row8_col1\" class=\"data row8 col1\" >4</td>\n",
              "      <td id=\"T_8e860_row8_col2\" class=\"data row8 col2\" >12</td>\n",
              "      <td id=\"T_8e860_row8_col3\" class=\"data row8 col3\" >94.694</td>\n",
              "      <td id=\"T_8e860_row8_col4\" class=\"data row8 col4\" >95</td>\n",
              "      <td id=\"T_8e860_row8_col5\" class=\"data row8 col5\" >1080.527000</td>\n",
              "      <td id=\"T_8e860_row8_col6\" class=\"data row8 col6\" >3686.717000</td>\n",
              "      <td id=\"T_8e860_row8_col7\" class=\"data row8 col7\" >3687</td>\n",
              "      <td id=\"T_8e860_row8_col8\" class=\"data row8 col8\" >588</td>\n",
              "      <td id=\"T_8e860_row8_col9\" class=\"data row8 col9\" >34072</td>\n",
              "      <td id=\"T_8e860_row8_col10\" class=\"data row8 col10\" >1</td>\n",
              "      <td id=\"T_8e860_row8_col11\" class=\"data row8 col11\" >3242.224473</td>\n",
              "      <td id=\"T_8e860_row8_col12\" class=\"data row8 col12\" >1365</td>\n",
              "      <td id=\"T_8e860_row8_col13\" class=\"data row8 col13\" >1</td>\n",
              "      <td id=\"T_8e860_row8_col14\" class=\"data row8 col14\" >1</td>\n",
              "      <td id=\"T_8e860_row8_col15\" class=\"data row8 col15\" >655</td>\n",
              "      <td id=\"T_8e860_row8_col16\" class=\"data row8 col16\" >433.394000</td>\n",
              "      <td id=\"T_8e860_row8_col17\" class=\"data row8 col17\" >315.052000</td>\n",
              "      <td id=\"T_8e860_row8_col18\" class=\"data row8 col18\" >32292.802000</td>\n",
              "      <td id=\"T_8e860_row8_col19\" class=\"data row8 col19\" >542.096000</td>\n",
              "      <td id=\"T_8e860_row8_col20\" class=\"data row8 col20\" >68</td>\n",
              "      <td id=\"T_8e860_row8_col21\" class=\"data row8 col21\" >1170</td>\n",
              "      <td id=\"T_8e860_row8_col22\" class=\"data row8 col22\" >0.000000</td>\n",
              "      <td id=\"T_8e860_row8_col23\" class=\"data row8 col23\" >1</td>\n",
              "      <td id=\"T_8e860_row8_col24\" class=\"data row8 col24\" >1</td>\n",
              "      <td id=\"T_8e860_row8_col25\" class=\"data row8 col25\" >0.000000</td>\n",
              "      <td id=\"T_8e860_row8_col26\" class=\"data row8 col26\" >3</td>\n",
              "      <td id=\"T_8e860_row8_col27\" class=\"data row8 col27\" >433</td>\n",
              "      <td id=\"T_8e860_row8_col28\" class=\"data row8 col28\" >0</td>\n",
              "      <td id=\"T_8e860_row8_col29\" class=\"data row8 col29\" >0</td>\n",
              "      <td id=\"T_8e860_row8_col30\" class=\"data row8 col30\" >0.000000</td>\n",
              "      <td id=\"T_8e860_row8_col31\" class=\"data row8 col31\" >0</td>\n",
              "      <td id=\"T_8e860_row8_col32\" class=\"data row8 col32\" >521.531000</td>\n",
              "      <td id=\"T_8e860_row8_col33\" class=\"data row8 col33\" >1779.443000</td>\n",
              "      <td id=\"T_8e860_row8_col34\" class=\"data row8 col34\" >0</td>\n",
              "      <td id=\"T_8e860_row8_col35\" class=\"data row8 col35\" >0</td>\n",
              "      <td id=\"T_8e860_row8_col36\" class=\"data row8 col36\" >1025</td>\n",
              "      <td id=\"T_8e860_row8_col37\" class=\"data row8 col37\" >1388</td>\n",
              "      <td id=\"T_8e860_row8_col38\" class=\"data row8 col38\" >1</td>\n",
              "      <td id=\"T_8e860_row8_col39\" class=\"data row8 col39\" >45.705</td>\n",
              "      <td id=\"T_8e860_row8_col40\" class=\"data row8 col40\" >0</td>\n",
              "      <td id=\"T_8e860_row8_col41\" class=\"data row8 col41\" >426</td>\n",
              "      <td id=\"T_8e860_row8_col42\" class=\"data row8 col42\" >43665</td>\n",
              "      <td id=\"T_8e860_row8_col43\" class=\"data row8 col43\" >0.000000</td>\n",
              "      <td id=\"T_8e860_row8_col44\" class=\"data row8 col44\" >0.000000</td>\n",
              "      <td id=\"T_8e860_row8_col45\" class=\"data row8 col45\" >3</td>\n",
              "      <td id=\"T_8e860_row8_col46\" class=\"data row8 col46\" >0</td>\n",
              "      <td id=\"T_8e860_row8_col47\" class=\"data row8 col47\" >0.000000</td>\n",
              "      <td id=\"T_8e860_row8_col48\" class=\"data row8 col48\" >0.000000</td>\n",
              "      <td id=\"T_8e860_row8_col49\" class=\"data row8 col49\" >0.000000</td>\n",
              "      <td id=\"T_8e860_row8_col50\" class=\"data row8 col50\" >0</td>\n",
              "      <td id=\"T_8e860_row8_col51\" class=\"data row8 col51\" >0.000000</td>\n",
              "      <td id=\"T_8e860_row8_col52\" class=\"data row8 col52\" >0.000000</td>\n",
              "      <td id=\"T_8e860_row8_col53\" class=\"data row8 col53\" >1220</td>\n",
              "      <td id=\"T_8e860_row8_col54\" class=\"data row8 col54\" >2390</td>\n",
              "      <td id=\"T_8e860_row8_col55\" class=\"data row8 col55\" >2390</td>\n",
              "      <td id=\"T_8e860_row8_col56\" class=\"data row8 col56\" >190.904000</td>\n",
              "      <td id=\"T_8e860_row8_col57\" class=\"data row8 col57\" >0.000000</td>\n",
              "      <td id=\"T_8e860_row8_col58\" class=\"data row8 col58\" >1</td>\n",
              "      <td id=\"T_8e860_row8_col59\" class=\"data row8 col59\" >733</td>\n",
              "      <td id=\"T_8e860_row8_col60\" class=\"data row8 col60\" >1</td>\n",
              "      <td id=\"T_8e860_row8_col61\" class=\"data row8 col61\" >0</td>\n",
              "      <td id=\"T_8e860_row8_col62\" class=\"data row8 col62\" >0</td>\n",
              "      <td id=\"T_8e860_row8_col63\" class=\"data row8 col63\" >0</td>\n",
              "      <td id=\"T_8e860_row8_col64\" class=\"data row8 col64\" >6</td>\n",
              "      <td id=\"T_8e860_row8_col65\" class=\"data row8 col65\" >0</td>\n",
              "      <td id=\"T_8e860_row8_col66\" class=\"data row8 col66\" >69166</td>\n",
              "      <td id=\"T_8e860_row8_col67\" class=\"data row8 col67\" >1</td>\n",
              "      <td id=\"T_8e860_row8_col68\" class=\"data row8 col68\" >0</td>\n",
              "      <td id=\"T_8e860_row8_col69\" class=\"data row8 col69\" >0</td>\n",
              "      <td id=\"T_8e860_row8_col70\" class=\"data row8 col70\" >0.000000</td>\n",
              "      <td id=\"T_8e860_row8_col71\" class=\"data row8 col71\" >0.000000</td>\n",
              "      <td id=\"T_8e860_row8_col72\" class=\"data row8 col72\" >0.000000</td>\n",
              "      <td id=\"T_8e860_row8_col73\" class=\"data row8 col73\" >0.000000</td>\n",
              "      <td id=\"T_8e860_row8_col74\" class=\"data row8 col74\" >7</td>\n",
              "      <td id=\"T_8e860_row8_col75\" class=\"data row8 col75\" >0</td>\n",
              "      <td id=\"T_8e860_row8_col76\" class=\"data row8 col76\" >0</td>\n",
              "      <td id=\"T_8e860_row8_col77\" class=\"data row8 col77\" >0.000000</td>\n",
              "      <td id=\"T_8e860_row8_col78\" class=\"data row8 col78\" >16873</td>\n",
              "      <td id=\"T_8e860_row8_col79\" class=\"data row8 col79\" >0.000000</td>\n",
              "      <td id=\"T_8e860_row8_col80\" class=\"data row8 col80\" >0.000000</td>\n",
              "      <td id=\"T_8e860_row8_col81\" class=\"data row8 col81\" >1</td>\n",
              "      <td id=\"T_8e860_row8_col82\" class=\"data row8 col82\" >0</td>\n",
              "      <td id=\"T_8e860_row8_col83\" class=\"data row8 col83\" >3</td>\n",
              "      <td id=\"T_8e860_row8_col84\" class=\"data row8 col84\" >10</td>\n",
              "      <td id=\"T_8e860_row8_col85\" class=\"data row8 col85\" >0</td>\n",
              "      <td id=\"T_8e860_row8_col86\" class=\"data row8 col86\" >0</td>\n",
              "      <td id=\"T_8e860_row8_col87\" class=\"data row8 col87\" >2</td>\n",
              "      <td id=\"T_8e860_row8_col88\" class=\"data row8 col88\" >0</td>\n",
              "      <td id=\"T_8e860_row8_col89\" class=\"data row8 col89\" >1</td>\n",
              "      <td id=\"T_8e860_row8_col90\" class=\"data row8 col90\" >0.000000</td>\n",
              "      <td id=\"T_8e860_row8_col91\" class=\"data row8 col91\" >0.000000</td>\n",
              "      <td id=\"T_8e860_row8_col92\" class=\"data row8 col92\" >2</td>\n",
              "      <td id=\"T_8e860_row8_col93\" class=\"data row8 col93\" >0</td>\n",
              "      <td id=\"T_8e860_row8_col94\" class=\"data row8 col94\" >0</td>\n",
              "      <td id=\"T_8e860_row8_col95\" class=\"data row8 col95\" >0.000000</td>\n",
              "      <td id=\"T_8e860_row8_col96\" class=\"data row8 col96\" >4945.323000</td>\n",
              "      <td id=\"T_8e860_row8_col97\" class=\"data row8 col97\" >0.000000</td>\n",
              "      <td id=\"T_8e860_row8_col98\" class=\"data row8 col98\" >191</td>\n",
              "      <td id=\"T_8e860_row8_col99\" class=\"data row8 col99\" >0.000000</td>\n",
              "      <td id=\"T_8e860_row8_col100\" class=\"data row8 col100\" >1</td>\n",
              "      <td id=\"T_8e860_row8_col101\" class=\"data row8 col101\" >1955</td>\n",
              "      <td id=\"T_8e860_row8_col102\" class=\"data row8 col102\" >16873.250000</td>\n",
              "      <td id=\"T_8e860_row8_col103\" class=\"data row8 col103\" >7474</td>\n",
              "      <td id=\"T_8e860_row8_col104\" class=\"data row8 col104\" >25501</td>\n",
              "      <td id=\"T_8e860_row8_col105\" class=\"data row8 col105\" >0</td>\n",
              "      <td id=\"T_8e860_row8_col106\" class=\"data row8 col106\" >110.948</td>\n",
              "      <td id=\"T_8e860_row8_col107\" class=\"data row8 col107\" >11372.198000</td>\n",
              "      <td id=\"T_8e860_row8_col108\" class=\"data row8 col108\" >1</td>\n",
              "      <td id=\"T_8e860_row8_col109\" class=\"data row8 col109\" >0</td>\n",
              "      <td id=\"T_8e860_row8_col110\" class=\"data row8 col110\" >62</td>\n",
              "      <td id=\"T_8e860_row8_col111\" class=\"data row8 col111\" >2</td>\n",
              "      <td id=\"T_8e860_row8_col112\" class=\"data row8 col112\" >11372</td>\n",
              "      <td id=\"T_8e860_row8_col113\" class=\"data row8 col113\" >6</td>\n",
              "      <td id=\"T_8e860_row8_col114\" class=\"data row8 col114\" >81.206</td>\n",
              "      <td id=\"T_8e860_row8_col115\" class=\"data row8 col115\" >81</td>\n",
              "      <td id=\"T_8e860_row8_col116\" class=\"data row8 col116\" >7</td>\n",
              "      <td id=\"T_8e860_row8_col117\" class=\"data row8 col117\" >0</td>\n",
              "      <td id=\"T_8e860_row8_col118\" class=\"data row8 col118\" >1</td>\n",
              "      <td id=\"T_8e860_row8_col119\" class=\"data row8 col119\" >5</td>\n",
              "      <td id=\"T_8e860_row8_col120\" class=\"data row8 col120\" >926.619000</td>\n",
              "    </tr>\n",
              "    <tr>\n",
              "      <th id=\"T_8e860_level0_row9\" class=\"row_heading level0 row9\" >9</th>\n",
              "      <td id=\"T_8e860_row9_col0\" class=\"data row9 col0\" >2</td>\n",
              "      <td id=\"T_8e860_row9_col1\" class=\"data row9 col1\" >10</td>\n",
              "      <td id=\"T_8e860_row9_col2\" class=\"data row9 col2\" >26</td>\n",
              "      <td id=\"T_8e860_row9_col3\" class=\"data row9 col3\" >0</td>\n",
              "      <td id=\"T_8e860_row9_col4\" class=\"data row9 col4\" >0</td>\n",
              "      <td id=\"T_8e860_row9_col5\" class=\"data row9 col5\" >0.000000</td>\n",
              "      <td id=\"T_8e860_row9_col6\" class=\"data row9 col6\" >0.000000</td>\n",
              "      <td id=\"T_8e860_row9_col7\" class=\"data row9 col7\" >0</td>\n",
              "      <td id=\"T_8e860_row9_col8\" class=\"data row9 col8\" >215</td>\n",
              "      <td id=\"T_8e860_row9_col9\" class=\"data row9 col9\" >20773</td>\n",
              "      <td id=\"T_8e860_row9_col10\" class=\"data row9 col10\" >0</td>\n",
              "      <td id=\"T_8e860_row9_col11\" class=\"data row9 col11\" >8812.434127</td>\n",
              "      <td id=\"T_8e860_row9_col12\" class=\"data row9 col12\" >244</td>\n",
              "      <td id=\"T_8e860_row9_col13\" class=\"data row9 col13\" >1</td>\n",
              "      <td id=\"T_8e860_row9_col14\" class=\"data row9 col14\" >0</td>\n",
              "      <td id=\"T_8e860_row9_col15\" class=\"data row9 col15\" >373</td>\n",
              "      <td id=\"T_8e860_row9_col16\" class=\"data row9 col16\" >194.909000</td>\n",
              "      <td id=\"T_8e860_row9_col17\" class=\"data row9 col17\" >202.657000</td>\n",
              "      <td id=\"T_8e860_row9_col18\" class=\"data row9 col18\" >20772.582000</td>\n",
              "      <td id=\"T_8e860_row9_col19\" class=\"data row9 col19\" >215.427000</td>\n",
              "      <td id=\"T_8e860_row9_col20\" class=\"data row9 col20\" >70</td>\n",
              "      <td id=\"T_8e860_row9_col21\" class=\"data row9 col21\" >0</td>\n",
              "      <td id=\"T_8e860_row9_col22\" class=\"data row9 col22\" >0.000000</td>\n",
              "      <td id=\"T_8e860_row9_col23\" class=\"data row9 col23\" >0</td>\n",
              "      <td id=\"T_8e860_row9_col24\" class=\"data row9 col24\" >0</td>\n",
              "      <td id=\"T_8e860_row9_col25\" class=\"data row9 col25\" >0.000000</td>\n",
              "      <td id=\"T_8e860_row9_col26\" class=\"data row9 col26\" >1</td>\n",
              "      <td id=\"T_8e860_row9_col27\" class=\"data row9 col27\" >232</td>\n",
              "      <td id=\"T_8e860_row9_col28\" class=\"data row9 col28\" >0</td>\n",
              "      <td id=\"T_8e860_row9_col29\" class=\"data row9 col29\" >0</td>\n",
              "      <td id=\"T_8e860_row9_col30\" class=\"data row9 col30\" >0.000000</td>\n",
              "      <td id=\"T_8e860_row9_col31\" class=\"data row9 col31\" >0</td>\n",
              "      <td id=\"T_8e860_row9_col32\" class=\"data row9 col32\" >0.000000</td>\n",
              "      <td id=\"T_8e860_row9_col33\" class=\"data row9 col33\" >0.000000</td>\n",
              "      <td id=\"T_8e860_row9_col34\" class=\"data row9 col34\" >0</td>\n",
              "      <td id=\"T_8e860_row9_col35\" class=\"data row9 col35\" >0</td>\n",
              "      <td id=\"T_8e860_row9_col36\" class=\"data row9 col36\" >487</td>\n",
              "      <td id=\"T_8e860_row9_col37\" class=\"data row9 col37\" >761</td>\n",
              "      <td id=\"T_8e860_row9_col38\" class=\"data row9 col38\" >1</td>\n",
              "      <td id=\"T_8e860_row9_col39\" class=\"data row9 col39\" >0</td>\n",
              "      <td id=\"T_8e860_row9_col40\" class=\"data row9 col40\" >0</td>\n",
              "      <td id=\"T_8e860_row9_col41\" class=\"data row9 col41\" >365</td>\n",
              "      <td id=\"T_8e860_row9_col42\" class=\"data row9 col42\" >37413</td>\n",
              "      <td id=\"T_8e860_row9_col43\" class=\"data row9 col43\" >0.000000</td>\n",
              "      <td id=\"T_8e860_row9_col44\" class=\"data row9 col44\" >0.000000</td>\n",
              "      <td id=\"T_8e860_row9_col45\" class=\"data row9 col45\" >2</td>\n",
              "      <td id=\"T_8e860_row9_col46\" class=\"data row9 col46\" >0</td>\n",
              "      <td id=\"T_8e860_row9_col47\" class=\"data row9 col47\" >0.000000</td>\n",
              "      <td id=\"T_8e860_row9_col48\" class=\"data row9 col48\" >0.000000</td>\n",
              "      <td id=\"T_8e860_row9_col49\" class=\"data row9 col49\" >0.000000</td>\n",
              "      <td id=\"T_8e860_row9_col50\" class=\"data row9 col50\" >0</td>\n",
              "      <td id=\"T_8e860_row9_col51\" class=\"data row9 col51\" >0.000000</td>\n",
              "      <td id=\"T_8e860_row9_col52\" class=\"data row9 col52\" >0.000000</td>\n",
              "      <td id=\"T_8e860_row9_col53\" class=\"data row9 col53\" >731</td>\n",
              "      <td id=\"T_8e860_row9_col54\" class=\"data row9 col54\" >731</td>\n",
              "      <td id=\"T_8e860_row9_col55\" class=\"data row9 col55\" >731</td>\n",
              "      <td id=\"T_8e860_row9_col56\" class=\"data row9 col56\" >135.357000</td>\n",
              "      <td id=\"T_8e860_row9_col57\" class=\"data row9 col57\" >0.000000</td>\n",
              "      <td id=\"T_8e860_row9_col58\" class=\"data row9 col58\" >1</td>\n",
              "      <td id=\"T_8e860_row9_col59\" class=\"data row9 col59\" >388</td>\n",
              "      <td id=\"T_8e860_row9_col60\" class=\"data row9 col60\" >1</td>\n",
              "      <td id=\"T_8e860_row9_col61\" class=\"data row9 col61\" >0</td>\n",
              "      <td id=\"T_8e860_row9_col62\" class=\"data row9 col62\" >0</td>\n",
              "      <td id=\"T_8e860_row9_col63\" class=\"data row9 col63\" >0</td>\n",
              "      <td id=\"T_8e860_row9_col64\" class=\"data row9 col64\" >1</td>\n",
              "      <td id=\"T_8e860_row9_col65\" class=\"data row9 col65\" >0</td>\n",
              "      <td id=\"T_8e860_row9_col66\" class=\"data row9 col66\" >46796</td>\n",
              "      <td id=\"T_8e860_row9_col67\" class=\"data row9 col67\" >-2</td>\n",
              "      <td id=\"T_8e860_row9_col68\" class=\"data row9 col68\" >0</td>\n",
              "      <td id=\"T_8e860_row9_col69\" class=\"data row9 col69\" >0</td>\n",
              "      <td id=\"T_8e860_row9_col70\" class=\"data row9 col70\" >0.000000</td>\n",
              "      <td id=\"T_8e860_row9_col71\" class=\"data row9 col71\" >0.000000</td>\n",
              "      <td id=\"T_8e860_row9_col72\" class=\"data row9 col72\" >0.000000</td>\n",
              "      <td id=\"T_8e860_row9_col73\" class=\"data row9 col73\" >0.000000</td>\n",
              "      <td id=\"T_8e860_row9_col74\" class=\"data row9 col74\" >3</td>\n",
              "      <td id=\"T_8e860_row9_col75\" class=\"data row9 col75\" >0</td>\n",
              "      <td id=\"T_8e860_row9_col76\" class=\"data row9 col76\" >0</td>\n",
              "      <td id=\"T_8e860_row9_col77\" class=\"data row9 col77\" >0.000000</td>\n",
              "      <td id=\"T_8e860_row9_col78\" class=\"data row9 col78\" >8492</td>\n",
              "      <td id=\"T_8e860_row9_col79\" class=\"data row9 col79\" >0.000000</td>\n",
              "      <td id=\"T_8e860_row9_col80\" class=\"data row9 col80\" >0.000000</td>\n",
              "      <td id=\"T_8e860_row9_col81\" class=\"data row9 col81\" >1</td>\n",
              "      <td id=\"T_8e860_row9_col82\" class=\"data row9 col82\" >0</td>\n",
              "      <td id=\"T_8e860_row9_col83\" class=\"data row9 col83\" >7</td>\n",
              "      <td id=\"T_8e860_row9_col84\" class=\"data row9 col84\" >-2</td>\n",
              "      <td id=\"T_8e860_row9_col85\" class=\"data row9 col85\" >0</td>\n",
              "      <td id=\"T_8e860_row9_col86\" class=\"data row9 col86\" >0</td>\n",
              "      <td id=\"T_8e860_row9_col87\" class=\"data row9 col87\" >2</td>\n",
              "      <td id=\"T_8e860_row9_col88\" class=\"data row9 col88\" >0</td>\n",
              "      <td id=\"T_8e860_row9_col89\" class=\"data row9 col89\" >1</td>\n",
              "      <td id=\"T_8e860_row9_col90\" class=\"data row9 col90\" >0.000000</td>\n",
              "      <td id=\"T_8e860_row9_col91\" class=\"data row9 col91\" >0.000000</td>\n",
              "      <td id=\"T_8e860_row9_col92\" class=\"data row9 col92\" >1</td>\n",
              "      <td id=\"T_8e860_row9_col93\" class=\"data row9 col93\" >0</td>\n",
              "      <td id=\"T_8e860_row9_col94\" class=\"data row9 col94\" >35.01</td>\n",
              "      <td id=\"T_8e860_row9_col95\" class=\"data row9 col95\" >3588.613000</td>\n",
              "      <td id=\"T_8e860_row9_col96\" class=\"data row9 col96\" >1436.995000</td>\n",
              "      <td id=\"T_8e860_row9_col97\" class=\"data row9 col97\" >0.000000</td>\n",
              "      <td id=\"T_8e860_row9_col98\" class=\"data row9 col98\" >135</td>\n",
              "      <td id=\"T_8e860_row9_col99\" class=\"data row9 col99\" >0.000000</td>\n",
              "      <td id=\"T_8e860_row9_col100\" class=\"data row9 col100\" >1</td>\n",
              "      <td id=\"T_8e860_row9_col101\" class=\"data row9 col101\" >1950</td>\n",
              "      <td id=\"T_8e860_row9_col102\" class=\"data row9 col102\" >4903.026000</td>\n",
              "      <td id=\"T_8e860_row9_col103\" class=\"data row9 col103\" >2750</td>\n",
              "      <td id=\"T_8e860_row9_col104\" class=\"data row9 col104\" >9383</td>\n",
              "      <td id=\"T_8e860_row9_col105\" class=\"data row9 col105\" >0</td>\n",
              "      <td id=\"T_8e860_row9_col106\" class=\"data row9 col106\" >127.333</td>\n",
              "      <td id=\"T_8e860_row9_col107\" class=\"data row9 col107\" >13051.805000</td>\n",
              "      <td id=\"T_8e860_row9_col108\" class=\"data row9 col108\" >1</td>\n",
              "      <td id=\"T_8e860_row9_col109\" class=\"data row9 col109\" >0</td>\n",
              "      <td id=\"T_8e860_row9_col110\" class=\"data row9 col110\" >70</td>\n",
              "      <td id=\"T_8e860_row9_col111\" class=\"data row9 col111\" >2</td>\n",
              "      <td id=\"T_8e860_row9_col112\" class=\"data row9 col112\" >13052</td>\n",
              "      <td id=\"T_8e860_row9_col113\" class=\"data row9 col113\" >1</td>\n",
              "      <td id=\"T_8e860_row9_col114\" class=\"data row9 col114\" >178.091</td>\n",
              "      <td id=\"T_8e860_row9_col115\" class=\"data row9 col115\" >178</td>\n",
              "      <td id=\"T_8e860_row9_col116\" class=\"data row9 col116\" >1</td>\n",
              "      <td id=\"T_8e860_row9_col117\" class=\"data row9 col117\" >0</td>\n",
              "      <td id=\"T_8e860_row9_col118\" class=\"data row9 col118\" >1</td>\n",
              "      <td id=\"T_8e860_row9_col119\" class=\"data row9 col119\" >-2</td>\n",
              "      <td id=\"T_8e860_row9_col120\" class=\"data row9 col120\" >1313.005000</td>\n",
              "    </tr>\n",
              "  </tbody>\n",
              "</table>\n"
            ]
          },
          "metadata": {},
          "execution_count": 11
        }
      ]
    },
    {
      "cell_type": "code",
      "source": [
        "data3.describe().style"
      ],
      "metadata": {
        "colab": {
          "base_uri": "https://localhost:8080/",
          "height": 320
        },
        "id": "r1s-92T4DVNQ",
        "outputId": "5b37eb45-193d-48a9-a924-ae2fabba76ab"
      },
      "execution_count": 13,
      "outputs": [
        {
          "output_type": "execute_result",
          "data": {
            "text/plain": [
              "<pandas.io.formats.style.Styler at 0x7b91cf83ace0>"
            ],
            "text/html": [
              "<style type=\"text/css\">\n",
              "</style>\n",
              "<table id=\"T_22934\" class=\"dataframe\">\n",
              "  <thead>\n",
              "    <tr>\n",
              "      <th class=\"blank level0\" >&nbsp;</th>\n",
              "      <th id=\"T_22934_level0_col0\" class=\"col_heading level0 col0\" >Climate_Region_Pub</th>\n",
              "      <th id=\"T_22934_level0_col1\" class=\"col_heading level0 col1\" >DIVISION</th>\n",
              "      <th id=\"T_22934_level0_col2\" class=\"col_heading level0 col2\" >REPORTABLE_DOMAIN</th>\n",
              "      <th id=\"T_22934_level0_col3\" class=\"col_heading level0 col3\" >TOTALDOLCOL</th>\n",
              "      <th id=\"T_22934_level0_col4\" class=\"col_heading level0 col4\" >KWHCOL</th>\n",
              "      <th id=\"T_22934_level0_col5\" class=\"col_heading level0 col5\" >BTUELCOL</th>\n",
              "      <th id=\"T_22934_level0_col6\" class=\"col_heading level0 col6\" >TOTALBTUCOL</th>\n",
              "      <th id=\"T_22934_level0_col7\" class=\"col_heading level0 col7\" >TOTALDOLSPH</th>\n",
              "      <th id=\"T_22934_level0_col8\" class=\"col_heading level0 col8\" >TOTALBTUSPH</th>\n",
              "      <th id=\"T_22934_level0_col9\" class=\"col_heading level0 col9\" >CELLAR</th>\n",
              "      <th id=\"T_22934_level0_col10\" class=\"col_heading level0 col10\" >NWEIGHT</th>\n",
              "      <th id=\"T_22934_level0_col11\" class=\"col_heading level0 col11\" >TOTHSQFT</th>\n",
              "      <th id=\"T_22934_level0_col12\" class=\"col_heading level0 col12\" >HEATHOME</th>\n",
              "      <th id=\"T_22934_level0_col13\" class=\"col_heading level0 col13\" >NUMPC</th>\n",
              "      <th id=\"T_22934_level0_col14\" class=\"col_heading level0 col14\" >DOLLAREL</th>\n",
              "      <th id=\"T_22934_level0_col15\" class=\"col_heading level0 col15\" >DOLELOTH</th>\n",
              "      <th id=\"T_22934_level0_col16\" class=\"col_heading level0 col16\" >CUFEETNGSPH</th>\n",
              "      <th id=\"T_22934_level0_col17\" class=\"col_heading level0 col17\" >BTUNGSPH</th>\n",
              "      <th id=\"T_22934_level0_col18\" class=\"col_heading level0 col18\" >DOLNGSPH</th>\n",
              "      <th id=\"T_22934_level0_col19\" class=\"col_heading level0 col19\" >TEMPHOME</th>\n",
              "      <th id=\"T_22934_level0_col20\" class=\"col_heading level0 col20\" >TOTCSQFT</th>\n",
              "      <th id=\"T_22934_level0_col21\" class=\"col_heading level0 col21\" >BTUFOSPH</th>\n",
              "      <th id=\"T_22934_level0_col22\" class=\"col_heading level0 col22\" >AIRCOND</th>\n",
              "      <th id=\"T_22934_level0_col23\" class=\"col_heading level0 col23\" >ELCOOL</th>\n",
              "      <th id=\"T_22934_level0_col24\" class=\"col_heading level0 col24\" >GALLONFOSPH</th>\n",
              "      <th id=\"T_22934_level0_col25\" class=\"col_heading level0 col25\" >WALLTYPE</th>\n",
              "      <th id=\"T_22934_level0_col26\" class=\"col_heading level0 col26\" >TOTALDOLOTH</th>\n",
              "      <th id=\"T_22934_level0_col27\" class=\"col_heading level0 col27\" >BTUFO</th>\n",
              "      <th id=\"T_22934_level0_col28\" class=\"col_heading level0 col28\" >GALLONFO</th>\n",
              "      <th id=\"T_22934_level0_col29\" class=\"col_heading level0 col29\" >DOLLARFO</th>\n",
              "      <th id=\"T_22934_level0_col30\" class=\"col_heading level0 col30\" >KWHSPH</th>\n",
              "      <th id=\"T_22934_level0_col31\" class=\"col_heading level0 col31\" >BTUELSPH</th>\n",
              "      <th id=\"T_22934_level0_col32\" class=\"col_heading level0 col32\" >FOWARM</th>\n",
              "      <th id=\"T_22934_level0_col33\" class=\"col_heading level0 col33\" >USEFO</th>\n",
              "      <th id=\"T_22934_level0_col34\" class=\"col_heading level0 col34\" >TOTUSQFT</th>\n",
              "      <th id=\"T_22934_level0_col35\" class=\"col_heading level0 col35\" >TOTALDOL</th>\n",
              "      <th id=\"T_22934_level0_col36\" class=\"col_heading level0 col36\" >NUMTHERM</th>\n",
              "      <th id=\"T_22934_level0_col37\" class=\"col_heading level0 col37\" >CONCRETE</th>\n",
              "      <th id=\"T_22934_level0_col38\" class=\"col_heading level0 col38\" >CUFEETNG</th>\n",
              "      <th id=\"T_22934_level0_col39\" class=\"col_heading level0 col39\" >BTUNG</th>\n",
              "      <th id=\"T_22934_level0_col40\" class=\"col_heading level0 col40\" >GALLONFOOTH</th>\n",
              "      <th id=\"T_22934_level0_col41\" class=\"col_heading level0 col41\" >BTUFOOTH</th>\n",
              "      <th id=\"T_22934_level0_col42\" class=\"col_heading level0 col42\" >BEDROOMS</th>\n",
              "      <th id=\"T_22934_level0_col43\" class=\"col_heading level0 col43\" >FOWATER</th>\n",
              "      <th id=\"T_22934_level0_col44\" class=\"col_heading level0 col44\" >GALLONFOWTH</th>\n",
              "      <th id=\"T_22934_level0_col45\" class=\"col_heading level0 col45\" >BTUFOWTH</th>\n",
              "      <th id=\"T_22934_level0_col46\" class=\"col_heading level0 col46\" >DOLFOWTH</th>\n",
              "      <th id=\"T_22934_level0_col47\" class=\"col_heading level0 col47\" >GALLONKEROTH</th>\n",
              "      <th id=\"T_22934_level0_col48\" class=\"col_heading level0 col48\" >BTUKEROTH</th>\n",
              "      <th id=\"T_22934_level0_col49\" class=\"col_heading level0 col49\" >DOLKEROTH</th>\n",
              "      <th id=\"T_22934_level0_col50\" class=\"col_heading level0 col50\" >TOTUCSQFT</th>\n",
              "      <th id=\"T_22934_level0_col51\" class=\"col_heading level0 col51\" >TOTSQFT</th>\n",
              "      <th id=\"T_22934_level0_col52\" class=\"col_heading level0 col52\" >TOTSQFT_EN</th>\n",
              "      <th id=\"T_22934_level0_col53\" class=\"col_heading level0 col53\" >DOLFOOTH</th>\n",
              "      <th id=\"T_22934_level0_col54\" class=\"col_heading level0 col54\" >ELOTHER</th>\n",
              "      <th id=\"T_22934_level0_col55\" class=\"col_heading level0 col55\" >DOLLARNG</th>\n",
              "      <th id=\"T_22934_level0_col56\" class=\"col_heading level0 col56\" >FUELHEAT</th>\n",
              "      <th id=\"T_22934_level0_col57\" class=\"col_heading level0 col57\" >NOTMOIST</th>\n",
              "      <th id=\"T_22934_level0_col58\" class=\"col_heading level0 col58\" >GALLONKER</th>\n",
              "      <th id=\"T_22934_level0_col59\" class=\"col_heading level0 col59\" >BTUKER</th>\n",
              "      <th id=\"T_22934_level0_col60\" class=\"col_heading level0 col60\" >NUMCFAN</th>\n",
              "      <th id=\"T_22934_level0_col61\" class=\"col_heading level0 col61\" >FOILAUX</th>\n",
              "      <th id=\"T_22934_level0_col62\" class=\"col_heading level0 col62\" >TOTALBTU</th>\n",
              "      <th id=\"T_22934_level0_col63\" class=\"col_heading level0 col63\" >COOLTYPE</th>\n",
              "      <th id=\"T_22934_level0_col64\" class=\"col_heading level0 col64\" >DOOR1SUM</th>\n",
              "      <th id=\"T_22934_level0_col65\" class=\"col_heading level0 col65\" >DOLLARKER</th>\n",
              "      <th id=\"T_22934_level0_col66\" class=\"col_heading level0 col66\" >DOLLPOTH</th>\n",
              "      <th id=\"T_22934_level0_col67\" class=\"col_heading level0 col67\" >DOLELWTH</th>\n",
              "      <th id=\"T_22934_level0_col68\" class=\"col_heading level0 col68\" >KWHWTH</th>\n",
              "      <th id=\"T_22934_level0_col69\" class=\"col_heading level0 col69\" >BTUELWTH</th>\n",
              "      <th id=\"T_22934_level0_col70\" class=\"col_heading level0 col70\" >TOTROOMS</th>\n",
              "      <th id=\"T_22934_level0_col71\" class=\"col_heading level0 col71\" >ELWATER</th>\n",
              "      <th id=\"T_22934_level0_col72\" class=\"col_heading level0 col72\" >GALLONKERSPH</th>\n",
              "      <th id=\"T_22934_level0_col73\" class=\"col_heading level0 col73\" >BTUKERSPH</th>\n",
              "      <th id=\"T_22934_level0_col74\" class=\"col_heading level0 col74\" >TOTALBTUOTH</th>\n",
              "      <th id=\"T_22934_level0_col75\" class=\"col_heading level0 col75\" >GALLONLPSPH</th>\n",
              "      <th id=\"T_22934_level0_col76\" class=\"col_heading level0 col76\" >BTULPSPH</th>\n",
              "      <th id=\"T_22934_level0_col77\" class=\"col_heading level0 col77\" >NCOMBATH</th>\n",
              "      <th id=\"T_22934_level0_col78\" class=\"col_heading level0 col78\" >OVEN</th>\n",
              "      <th id=\"T_22934_level0_col79\" class=\"col_heading level0 col79\" >EQUIPM</th>\n",
              "      <th id=\"T_22934_level0_col80\" class=\"col_heading level0 col80\" >STORIES</th>\n",
              "      <th id=\"T_22934_level0_col81\" class=\"col_heading level0 col81\" >GALLONLP</th>\n",
              "      <th id=\"T_22934_level0_col82\" class=\"col_heading level0 col82\" >BTULP</th>\n",
              "      <th id=\"T_22934_level0_col83\" class=\"col_heading level0 col83\" >LGT1</th>\n",
              "      <th id=\"T_22934_level0_col84\" class=\"col_heading level0 col84\" >SOLWARM</th>\n",
              "      <th id=\"T_22934_level0_col85\" class=\"col_heading level0 col85\" >FUELH2O</th>\n",
              "      <th id=\"T_22934_level0_col86\" class=\"col_heading level0 col86\" >GALLONLPOTH</th>\n",
              "      <th id=\"T_22934_level0_col87\" class=\"col_heading level0 col87\" >BTULPOTH</th>\n",
              "      <th id=\"T_22934_level0_col88\" class=\"col_heading level0 col88\" >TVCOLOR</th>\n",
              "      <th id=\"T_22934_level0_col89\" class=\"col_heading level0 col89\" >SOLARAUX</th>\n",
              "      <th id=\"T_22934_level0_col90\" class=\"col_heading level0 col90\" >BTUNGOTH</th>\n",
              "      <th id=\"T_22934_level0_col91\" class=\"col_heading level0 col91\" >DOLKERSPH</th>\n",
              "      <th id=\"T_22934_level0_col92\" class=\"col_heading level0 col92\" >TOTALDOLWTH</th>\n",
              "      <th id=\"T_22934_level0_col93\" class=\"col_heading level0 col93\" >DOLLPSPH</th>\n",
              "      <th id=\"T_22934_level0_col94\" class=\"col_heading level0 col94\" >USENG</th>\n",
              "      <th id=\"T_22934_level0_col95\" class=\"col_heading level0 col95\" >YEARMADE</th>\n",
              "      <th id=\"T_22934_level0_col96\" class=\"col_heading level0 col96\" >BTUELOTH</th>\n",
              "      <th id=\"T_22934_level0_col97\" class=\"col_heading level0 col97\" >KWH</th>\n",
              "      <th id=\"T_22934_level0_col98\" class=\"col_heading level0 col98\" >BTUEL</th>\n",
              "      <th id=\"T_22934_level0_col99\" class=\"col_heading level0 col99\" >DOLLARLP</th>\n",
              "      <th id=\"T_22934_level0_col100\" class=\"col_heading level0 col100\" >BTUNGWTH</th>\n",
              "      <th id=\"T_22934_level0_col101\" class=\"col_heading level0 col101\" >UGWATER</th>\n",
              "      <th id=\"T_22934_level0_col102\" class=\"col_heading level0 col102\" >SDESCENT</th>\n",
              "      <th id=\"T_22934_level0_col103\" class=\"col_heading level0 col103\" >TEMPGONE</th>\n",
              "      <th id=\"T_22934_level0_col104\" class=\"col_heading level0 col104\" >LGT1EE</th>\n",
              "      <th id=\"T_22934_level0_col105\" class=\"col_heading level0 col105\" >TOTALBTUWTH</th>\n",
              "      <th id=\"T_22934_level0_col106\" class=\"col_heading level0 col106\" >ROOFTYPE</th>\n",
              "      <th id=\"T_22934_level0_col107\" class=\"col_heading level0 col107\" >TOTALDOLRFG</th>\n",
              "      <th id=\"T_22934_level0_col108\" class=\"col_heading level0 col108\" >HEATROOM</th>\n",
              "      <th id=\"T_22934_level0_col109\" class=\"col_heading level0 col109\" >WDWATER</th>\n",
              "      <th id=\"T_22934_level0_col110\" class=\"col_heading level0 col110\" >UGWARM</th>\n",
              "      <th id=\"T_22934_level0_col111\" class=\"col_heading level0 col111\" >DRYRFUEL</th>\n",
              "      <th id=\"T_22934_level0_col112\" class=\"col_heading level0 col112\" >KWHRFG</th>\n",
              "    </tr>\n",
              "  </thead>\n",
              "  <tbody>\n",
              "    <tr>\n",
              "      <th id=\"T_22934_level0_row0\" class=\"row_heading level0 row0\" >count</th>\n",
              "      <td id=\"T_22934_row0_col0\" class=\"data row0 col0\" >10875.000000</td>\n",
              "      <td id=\"T_22934_row0_col1\" class=\"data row0 col1\" >10875.000000</td>\n",
              "      <td id=\"T_22934_row0_col2\" class=\"data row0 col2\" >10875.000000</td>\n",
              "      <td id=\"T_22934_row0_col3\" class=\"data row0 col3\" >10875.000000</td>\n",
              "      <td id=\"T_22934_row0_col4\" class=\"data row0 col4\" >10875.000000</td>\n",
              "      <td id=\"T_22934_row0_col5\" class=\"data row0 col5\" >10875.000000</td>\n",
              "      <td id=\"T_22934_row0_col6\" class=\"data row0 col6\" >10875.000000</td>\n",
              "      <td id=\"T_22934_row0_col7\" class=\"data row0 col7\" >10875.000000</td>\n",
              "      <td id=\"T_22934_row0_col8\" class=\"data row0 col8\" >10875.000000</td>\n",
              "      <td id=\"T_22934_row0_col9\" class=\"data row0 col9\" >10875.000000</td>\n",
              "      <td id=\"T_22934_row0_col10\" class=\"data row0 col10\" >10875.000000</td>\n",
              "      <td id=\"T_22934_row0_col11\" class=\"data row0 col11\" >10875.000000</td>\n",
              "      <td id=\"T_22934_row0_col12\" class=\"data row0 col12\" >10875.000000</td>\n",
              "      <td id=\"T_22934_row0_col13\" class=\"data row0 col13\" >10875.000000</td>\n",
              "      <td id=\"T_22934_row0_col14\" class=\"data row0 col14\" >10875.000000</td>\n",
              "      <td id=\"T_22934_row0_col15\" class=\"data row0 col15\" >10875.000000</td>\n",
              "      <td id=\"T_22934_row0_col16\" class=\"data row0 col16\" >10875.000000</td>\n",
              "      <td id=\"T_22934_row0_col17\" class=\"data row0 col17\" >10875.000000</td>\n",
              "      <td id=\"T_22934_row0_col18\" class=\"data row0 col18\" >10875.000000</td>\n",
              "      <td id=\"T_22934_row0_col19\" class=\"data row0 col19\" >10875.000000</td>\n",
              "      <td id=\"T_22934_row0_col20\" class=\"data row0 col20\" >10875.000000</td>\n",
              "      <td id=\"T_22934_row0_col21\" class=\"data row0 col21\" >10875.000000</td>\n",
              "      <td id=\"T_22934_row0_col22\" class=\"data row0 col22\" >10875.000000</td>\n",
              "      <td id=\"T_22934_row0_col23\" class=\"data row0 col23\" >10875.000000</td>\n",
              "      <td id=\"T_22934_row0_col24\" class=\"data row0 col24\" >10875.000000</td>\n",
              "      <td id=\"T_22934_row0_col25\" class=\"data row0 col25\" >10875.000000</td>\n",
              "      <td id=\"T_22934_row0_col26\" class=\"data row0 col26\" >10875.000000</td>\n",
              "      <td id=\"T_22934_row0_col27\" class=\"data row0 col27\" >10875.000000</td>\n",
              "      <td id=\"T_22934_row0_col28\" class=\"data row0 col28\" >10875.000000</td>\n",
              "      <td id=\"T_22934_row0_col29\" class=\"data row0 col29\" >10875.000000</td>\n",
              "      <td id=\"T_22934_row0_col30\" class=\"data row0 col30\" >10875.000000</td>\n",
              "      <td id=\"T_22934_row0_col31\" class=\"data row0 col31\" >10875.000000</td>\n",
              "      <td id=\"T_22934_row0_col32\" class=\"data row0 col32\" >10875.000000</td>\n",
              "      <td id=\"T_22934_row0_col33\" class=\"data row0 col33\" >10875.000000</td>\n",
              "      <td id=\"T_22934_row0_col34\" class=\"data row0 col34\" >10875.000000</td>\n",
              "      <td id=\"T_22934_row0_col35\" class=\"data row0 col35\" >10875.000000</td>\n",
              "      <td id=\"T_22934_row0_col36\" class=\"data row0 col36\" >10875.000000</td>\n",
              "      <td id=\"T_22934_row0_col37\" class=\"data row0 col37\" >10875.000000</td>\n",
              "      <td id=\"T_22934_row0_col38\" class=\"data row0 col38\" >10875.000000</td>\n",
              "      <td id=\"T_22934_row0_col39\" class=\"data row0 col39\" >10875.000000</td>\n",
              "      <td id=\"T_22934_row0_col40\" class=\"data row0 col40\" >10875.000000</td>\n",
              "      <td id=\"T_22934_row0_col41\" class=\"data row0 col41\" >10875.000000</td>\n",
              "      <td id=\"T_22934_row0_col42\" class=\"data row0 col42\" >10875.000000</td>\n",
              "      <td id=\"T_22934_row0_col43\" class=\"data row0 col43\" >10875.000000</td>\n",
              "      <td id=\"T_22934_row0_col44\" class=\"data row0 col44\" >10875.000000</td>\n",
              "      <td id=\"T_22934_row0_col45\" class=\"data row0 col45\" >10875.000000</td>\n",
              "      <td id=\"T_22934_row0_col46\" class=\"data row0 col46\" >10875.000000</td>\n",
              "      <td id=\"T_22934_row0_col47\" class=\"data row0 col47\" >10875.000000</td>\n",
              "      <td id=\"T_22934_row0_col48\" class=\"data row0 col48\" >10875.000000</td>\n",
              "      <td id=\"T_22934_row0_col49\" class=\"data row0 col49\" >10875.000000</td>\n",
              "      <td id=\"T_22934_row0_col50\" class=\"data row0 col50\" >10875.000000</td>\n",
              "      <td id=\"T_22934_row0_col51\" class=\"data row0 col51\" >10875.000000</td>\n",
              "      <td id=\"T_22934_row0_col52\" class=\"data row0 col52\" >10875.000000</td>\n",
              "      <td id=\"T_22934_row0_col53\" class=\"data row0 col53\" >10875.000000</td>\n",
              "      <td id=\"T_22934_row0_col54\" class=\"data row0 col54\" >10875.000000</td>\n",
              "      <td id=\"T_22934_row0_col55\" class=\"data row0 col55\" >10875.000000</td>\n",
              "      <td id=\"T_22934_row0_col56\" class=\"data row0 col56\" >10875.000000</td>\n",
              "      <td id=\"T_22934_row0_col57\" class=\"data row0 col57\" >10875.000000</td>\n",
              "      <td id=\"T_22934_row0_col58\" class=\"data row0 col58\" >10875.000000</td>\n",
              "      <td id=\"T_22934_row0_col59\" class=\"data row0 col59\" >10875.000000</td>\n",
              "      <td id=\"T_22934_row0_col60\" class=\"data row0 col60\" >10875.000000</td>\n",
              "      <td id=\"T_22934_row0_col61\" class=\"data row0 col61\" >10875.000000</td>\n",
              "      <td id=\"T_22934_row0_col62\" class=\"data row0 col62\" >10875.000000</td>\n",
              "      <td id=\"T_22934_row0_col63\" class=\"data row0 col63\" >10875.000000</td>\n",
              "      <td id=\"T_22934_row0_col64\" class=\"data row0 col64\" >10875.000000</td>\n",
              "      <td id=\"T_22934_row0_col65\" class=\"data row0 col65\" >10875.000000</td>\n",
              "      <td id=\"T_22934_row0_col66\" class=\"data row0 col66\" >10875.000000</td>\n",
              "      <td id=\"T_22934_row0_col67\" class=\"data row0 col67\" >10875.000000</td>\n",
              "      <td id=\"T_22934_row0_col68\" class=\"data row0 col68\" >10875.000000</td>\n",
              "      <td id=\"T_22934_row0_col69\" class=\"data row0 col69\" >10875.000000</td>\n",
              "      <td id=\"T_22934_row0_col70\" class=\"data row0 col70\" >10875.000000</td>\n",
              "      <td id=\"T_22934_row0_col71\" class=\"data row0 col71\" >10875.000000</td>\n",
              "      <td id=\"T_22934_row0_col72\" class=\"data row0 col72\" >10875.000000</td>\n",
              "      <td id=\"T_22934_row0_col73\" class=\"data row0 col73\" >10875.000000</td>\n",
              "      <td id=\"T_22934_row0_col74\" class=\"data row0 col74\" >10875.000000</td>\n",
              "      <td id=\"T_22934_row0_col75\" class=\"data row0 col75\" >10875.000000</td>\n",
              "      <td id=\"T_22934_row0_col76\" class=\"data row0 col76\" >10875.000000</td>\n",
              "      <td id=\"T_22934_row0_col77\" class=\"data row0 col77\" >10875.000000</td>\n",
              "      <td id=\"T_22934_row0_col78\" class=\"data row0 col78\" >10875.000000</td>\n",
              "      <td id=\"T_22934_row0_col79\" class=\"data row0 col79\" >10875.000000</td>\n",
              "      <td id=\"T_22934_row0_col80\" class=\"data row0 col80\" >10875.000000</td>\n",
              "      <td id=\"T_22934_row0_col81\" class=\"data row0 col81\" >10875.000000</td>\n",
              "      <td id=\"T_22934_row0_col82\" class=\"data row0 col82\" >10875.000000</td>\n",
              "      <td id=\"T_22934_row0_col83\" class=\"data row0 col83\" >10875.000000</td>\n",
              "      <td id=\"T_22934_row0_col84\" class=\"data row0 col84\" >10875.000000</td>\n",
              "      <td id=\"T_22934_row0_col85\" class=\"data row0 col85\" >10875.000000</td>\n",
              "      <td id=\"T_22934_row0_col86\" class=\"data row0 col86\" >10875.000000</td>\n",
              "      <td id=\"T_22934_row0_col87\" class=\"data row0 col87\" >10875.000000</td>\n",
              "      <td id=\"T_22934_row0_col88\" class=\"data row0 col88\" >10875.000000</td>\n",
              "      <td id=\"T_22934_row0_col89\" class=\"data row0 col89\" >10875.000000</td>\n",
              "      <td id=\"T_22934_row0_col90\" class=\"data row0 col90\" >10875.000000</td>\n",
              "      <td id=\"T_22934_row0_col91\" class=\"data row0 col91\" >10875.000000</td>\n",
              "      <td id=\"T_22934_row0_col92\" class=\"data row0 col92\" >10875.000000</td>\n",
              "      <td id=\"T_22934_row0_col93\" class=\"data row0 col93\" >10875.000000</td>\n",
              "      <td id=\"T_22934_row0_col94\" class=\"data row0 col94\" >10875.000000</td>\n",
              "      <td id=\"T_22934_row0_col95\" class=\"data row0 col95\" >10875.000000</td>\n",
              "      <td id=\"T_22934_row0_col96\" class=\"data row0 col96\" >10875.000000</td>\n",
              "      <td id=\"T_22934_row0_col97\" class=\"data row0 col97\" >10875.000000</td>\n",
              "      <td id=\"T_22934_row0_col98\" class=\"data row0 col98\" >10875.000000</td>\n",
              "      <td id=\"T_22934_row0_col99\" class=\"data row0 col99\" >10875.000000</td>\n",
              "      <td id=\"T_22934_row0_col100\" class=\"data row0 col100\" >10875.000000</td>\n",
              "      <td id=\"T_22934_row0_col101\" class=\"data row0 col101\" >10875.000000</td>\n",
              "      <td id=\"T_22934_row0_col102\" class=\"data row0 col102\" >10875.000000</td>\n",
              "      <td id=\"T_22934_row0_col103\" class=\"data row0 col103\" >10875.000000</td>\n",
              "      <td id=\"T_22934_row0_col104\" class=\"data row0 col104\" >10875.000000</td>\n",
              "      <td id=\"T_22934_row0_col105\" class=\"data row0 col105\" >10875.000000</td>\n",
              "      <td id=\"T_22934_row0_col106\" class=\"data row0 col106\" >10875.000000</td>\n",
              "      <td id=\"T_22934_row0_col107\" class=\"data row0 col107\" >10875.000000</td>\n",
              "      <td id=\"T_22934_row0_col108\" class=\"data row0 col108\" >10875.000000</td>\n",
              "      <td id=\"T_22934_row0_col109\" class=\"data row0 col109\" >10875.000000</td>\n",
              "      <td id=\"T_22934_row0_col110\" class=\"data row0 col110\" >10875.000000</td>\n",
              "      <td id=\"T_22934_row0_col111\" class=\"data row0 col111\" >10875.000000</td>\n",
              "      <td id=\"T_22934_row0_col112\" class=\"data row0 col112\" >10875.000000</td>\n",
              "    </tr>\n",
              "    <tr>\n",
              "      <th id=\"T_22934_level0_row1\" class=\"row_heading level0 row1\" >mean</th>\n",
              "      <td id=\"T_22934_row1_col0\" class=\"data row1 col0\" >2.601195</td>\n",
              "      <td id=\"T_22934_row1_col1\" class=\"data row1 col1\" >5.371034</td>\n",
              "      <td id=\"T_22934_row1_col2\" class=\"data row1 col2\" >14.778391</td>\n",
              "      <td id=\"T_22934_row1_col3\" class=\"data row1 col3\" >202.429333</td>\n",
              "      <td id=\"T_22934_row1_col4\" class=\"data row1 col4\" >1682.782696</td>\n",
              "      <td id=\"T_22934_row1_col5\" class=\"data row1 col5\" >5741.654205</td>\n",
              "      <td id=\"T_22934_row1_col6\" class=\"data row1 col6\" >5741.650943</td>\n",
              "      <td id=\"T_22934_row1_col7\" class=\"data row1 col7\" >561.501517</td>\n",
              "      <td id=\"T_22934_row1_col8\" class=\"data row1 col8\" >36931.489103</td>\n",
              "      <td id=\"T_22934_row1_col9\" class=\"data row1 col9\" >-0.082943</td>\n",
              "      <td id=\"T_22934_row1_col10\" class=\"data row1 col10\" >9405.654604</td>\n",
              "      <td id=\"T_22934_row1_col11\" class=\"data row1 col11\" >1676.396690</td>\n",
              "      <td id=\"T_22934_row1_col12\" class=\"data row1 col12\" >0.962207</td>\n",
              "      <td id=\"T_22934_row1_col13\" class=\"data row1 col13\" >1.387678</td>\n",
              "      <td id=\"T_22934_row1_col14\" class=\"data row1 col14\" >1353.120644</td>\n",
              "      <td id=\"T_22934_row1_col15\" class=\"data row1 col15\" >767.469861</td>\n",
              "      <td id=\"T_22934_row1_col16\" class=\"data row1 col16\" >248.610665</td>\n",
              "      <td id=\"T_22934_row1_col17\" class=\"data row1 col17\" >25482.673719</td>\n",
              "      <td id=\"T_22934_row1_col18\" class=\"data row1 col18\" >300.229539</td>\n",
              "      <td id=\"T_22934_row1_col19\" class=\"data row1 col19\" >66.945655</td>\n",
              "      <td id=\"T_22934_row1_col20\" class=\"data row1 col20\" >1253.360552</td>\n",
              "      <td id=\"T_22934_row1_col21\" class=\"data row1 col21\" >5215.721517</td>\n",
              "      <td id=\"T_22934_row1_col22\" class=\"data row1 col22\" >0.821793</td>\n",
              "      <td id=\"T_22934_row1_col23\" class=\"data row1 col23\" >0.821793</td>\n",
              "      <td id=\"T_22934_row1_col24\" class=\"data row1 col24\" >37.607886</td>\n",
              "      <td id=\"T_22934_row1_col25\" class=\"data row1 col25\" >2.737195</td>\n",
              "      <td id=\"T_22934_row1_col26\" class=\"data row1 col26\" >840.446069</td>\n",
              "      <td id=\"T_22934_row1_col27\" class=\"data row1 col27\" >6028.754575</td>\n",
              "      <td id=\"T_22934_row1_col28\" class=\"data row1 col28\" >43.470713</td>\n",
              "      <td id=\"T_22934_row1_col29\" class=\"data row1 col29\" >105.472552</td>\n",
              "      <td id=\"T_22934_row1_col30\" class=\"data row1 col30\" >1005.794916</td>\n",
              "      <td id=\"T_22934_row1_col31\" class=\"data row1 col31\" >3431.772480</td>\n",
              "      <td id=\"T_22934_row1_col32\" class=\"data row1 col32\" >0.071724</td>\n",
              "      <td id=\"T_22934_row1_col33\" class=\"data row1 col33\" >0.075402</td>\n",
              "      <td id=\"T_22934_row1_col34\" class=\"data row1 col34\" >498.757149</td>\n",
              "      <td id=\"T_22934_row1_col35\" class=\"data row1 col35\" >2040.286437</td>\n",
              "      <td id=\"T_22934_row1_col36\" class=\"data row1 col36\" >0.792276</td>\n",
              "      <td id=\"T_22934_row1_col37\" class=\"data row1 col37\" >-0.028230</td>\n",
              "      <td id=\"T_22934_row1_col38\" class=\"data row1 col38\" >404.632184</td>\n",
              "      <td id=\"T_22934_row1_col39\" class=\"data row1 col39\" >41474.953287</td>\n",
              "      <td id=\"T_22934_row1_col40\" class=\"data row1 col40\" >0.549900</td>\n",
              "      <td id=\"T_22934_row1_col41\" class=\"data row1 col41\" >76.247246</td>\n",
              "      <td id=\"T_22934_row1_col42\" class=\"data row1 col42\" >2.773517</td>\n",
              "      <td id=\"T_22934_row1_col43\" class=\"data row1 col43\" >0.038345</td>\n",
              "      <td id=\"T_22934_row1_col44\" class=\"data row1 col44\" >5.313019</td>\n",
              "      <td id=\"T_22934_row1_col45\" class=\"data row1 col45\" >736.786255</td>\n",
              "      <td id=\"T_22934_row1_col46\" class=\"data row1 col46\" >12.875606</td>\n",
              "      <td id=\"T_22934_row1_col47\" class=\"data row1 col47\" >0.184920</td>\n",
              "      <td id=\"T_22934_row1_col48\" class=\"data row1 col48\" >24.958819</td>\n",
              "      <td id=\"T_22934_row1_col49\" class=\"data row1 col49\" >0.476448</td>\n",
              "      <td id=\"T_22934_row1_col50\" class=\"data row1 col50\" >921.793747</td>\n",
              "      <td id=\"T_22934_row1_col51\" class=\"data row1 col51\" >2175.137655</td>\n",
              "      <td id=\"T_22934_row1_col52\" class=\"data row1 col52\" >2024.084782</td>\n",
              "      <td id=\"T_22934_row1_col53\" class=\"data row1 col53\" >1.289000</td>\n",
              "      <td id=\"T_22934_row1_col54\" class=\"data row1 col54\" >0.999908</td>\n",
              "      <td id=\"T_22934_row1_col55\" class=\"data row1 col55\" >490.374161</td>\n",
              "      <td id=\"T_22934_row1_col56\" class=\"data row1 col56\" >2.616000</td>\n",
              "      <td id=\"T_22934_row1_col57\" class=\"data row1 col57\" >0.133793</td>\n",
              "      <td id=\"T_22934_row1_col58\" class=\"data row1 col58\" >1.603586</td>\n",
              "      <td id=\"T_22934_row1_col59\" class=\"data row1 col59\" >216.447080</td>\n",
              "      <td id=\"T_22934_row1_col60\" class=\"data row1 col60\" >2.114023</td>\n",
              "      <td id=\"T_22934_row1_col61\" class=\"data row1 col61\" >0.004690</td>\n",
              "      <td id=\"T_22934_row1_col62\" class=\"data row1 col62\" >90071.890115</td>\n",
              "      <td id=\"T_22934_row1_col63\" class=\"data row1 col63\" >0.697287</td>\n",
              "      <td id=\"T_22934_row1_col64\" class=\"data row1 col64\" >0.488644</td>\n",
              "      <td id=\"T_22934_row1_col65\" class=\"data row1 col65\" >4.255908</td>\n",
              "      <td id=\"T_22934_row1_col66\" class=\"data row1 col66\" >14.713397</td>\n",
              "      <td id=\"T_22934_row1_col67\" class=\"data row1 col67\" >119.821407</td>\n",
              "      <td id=\"T_22934_row1_col68\" class=\"data row1 col68\" >1062.246448</td>\n",
              "      <td id=\"T_22934_row1_col69\" class=\"data row1 col69\" >3624.385492</td>\n",
              "      <td id=\"T_22934_row1_col70\" class=\"data row1 col70\" >5.997333</td>\n",
              "      <td id=\"T_22934_row1_col71\" class=\"data row1 col71\" >0.399172</td>\n",
              "      <td id=\"T_22934_row1_col72\" class=\"data row1 col72\" >1.343448</td>\n",
              "      <td id=\"T_22934_row1_col73\" class=\"data row1 col73\" >181.340675</td>\n",
              "      <td id=\"T_22934_row1_col74\" class=\"data row1 col74\" >26840.540506</td>\n",
              "      <td id=\"T_22934_row1_col75\" class=\"data row1 col75\" >28.685919</td>\n",
              "      <td id=\"T_22934_row1_col76\" class=\"data row1 col76\" >2619.984304</td>\n",
              "      <td id=\"T_22934_row1_col77\" class=\"data row1 col77\" >1.674391</td>\n",
              "      <td id=\"T_22934_row1_col78\" class=\"data row1 col78\" >0.157149</td>\n",
              "      <td id=\"T_22934_row1_col79\" class=\"data row1 col79\" >3.437241</td>\n",
              "      <td id=\"T_22934_row1_col80\" class=\"data row1 col80\" >10.521195</td>\n",
              "      <td id=\"T_22934_row1_col81\" class=\"data row1 col81\" >41.705195</td>\n",
              "      <td id=\"T_22934_row1_col82\" class=\"data row1 col82\" >3809.048920</td>\n",
              "      <td id=\"T_22934_row1_col83\" class=\"data row1 col83\" >2.385563</td>\n",
              "      <td id=\"T_22934_row1_col84\" class=\"data row1 col84\" >0.000368</td>\n",
              "      <td id=\"T_22934_row1_col85\" class=\"data row1 col85\" >2.713379</td>\n",
              "      <td id=\"T_22934_row1_col86\" class=\"data row1 col86\" >6.133109</td>\n",
              "      <td id=\"T_22934_row1_col87\" class=\"data row1 col87\" >560.130523</td>\n",
              "      <td id=\"T_22934_row1_col88\" class=\"data row1 col88\" >2.586023</td>\n",
              "      <td id=\"T_22934_row1_col89\" class=\"data row1 col89\" >0.000276</td>\n",
              "      <td id=\"T_22934_row1_col90\" class=\"data row1 col90\" >4678.972062</td>\n",
              "      <td id=\"T_22934_row1_col91\" class=\"data row1 col91\" >3.593336</td>\n",
              "      <td id=\"T_22934_row1_col92\" class=\"data row1 col92\" >281.556414</td>\n",
              "      <td id=\"T_22934_row1_col93\" class=\"data row1 col93\" >57.327625</td>\n",
              "      <td id=\"T_22934_row1_col94\" class=\"data row1 col94\" >0.617931</td>\n",
              "      <td id=\"T_22934_row1_col95\" class=\"data row1 col95\" >1971.080460</td>\n",
              "      <td id=\"T_22934_row1_col96\" class=\"data row1 col96\" >21500.232138</td>\n",
              "      <td id=\"T_22934_row1_col97\" class=\"data row1 col97\" >11296.214805</td>\n",
              "      <td id=\"T_22934_row1_col98\" class=\"data row1 col98\" >38542.686253</td>\n",
              "      <td id=\"T_22934_row1_col99\" class=\"data row1 col99\" >87.063172</td>\n",
              "      <td id=\"T_22934_row1_col100\" class=\"data row1 col100\" >11313.307631</td>\n",
              "      <td id=\"T_22934_row1_col101\" class=\"data row1 col101\" >0.527632</td>\n",
              "      <td id=\"T_22934_row1_col102\" class=\"data row1 col102\" >0.140138</td>\n",
              "      <td id=\"T_22934_row1_col103\" class=\"data row1 col103\" >63.789609</td>\n",
              "      <td id=\"T_22934_row1_col104\" class=\"data row1 col104\" >0.818115</td>\n",
              "      <td id=\"T_22934_row1_col105\" class=\"data row1 col105\" >16313.564138</td>\n",
              "      <td id=\"T_22934_row1_col106\" class=\"data row1 col106\" >3.675126</td>\n",
              "      <td id=\"T_22934_row1_col107\" class=\"data row1 col107\" >154.358345</td>\n",
              "      <td id=\"T_22934_row1_col108\" class=\"data row1 col108\" >5.347126</td>\n",
              "      <td id=\"T_22934_row1_col109\" class=\"data row1 col109\" >0.000828</td>\n",
              "      <td id=\"T_22934_row1_col110\" class=\"data row1 col110\" >0.501793</td>\n",
              "      <td id=\"T_22934_row1_col111\" class=\"data row1 col111\" >2.984184</td>\n",
              "      <td id=\"T_22934_row1_col112\" class=\"data row1 col112\" >1244.033159</td>\n",
              "    </tr>\n",
              "    <tr>\n",
              "      <th id=\"T_22934_level0_row2\" class=\"row_heading level0 row2\" >std</th>\n",
              "      <td id=\"T_22934_row2_col0\" class=\"data row2 col0\" >1.349507</td>\n",
              "      <td id=\"T_22934_row2_col1\" class=\"data row2 col1\" >2.862200</td>\n",
              "      <td id=\"T_22934_row2_col2\" class=\"data row2 col2\" >8.207299</td>\n",
              "      <td id=\"T_22934_row2_col3\" class=\"data row2 col3\" >310.691148</td>\n",
              "      <td id=\"T_22934_row2_col4\" class=\"data row2 col4\" >2480.831034</td>\n",
              "      <td id=\"T_22934_row2_col5\" class=\"data row2 col5\" >8464.594227</td>\n",
              "      <td id=\"T_22934_row2_col6\" class=\"data row2 col6\" >8464.591405</td>\n",
              "      <td id=\"T_22934_row2_col7\" class=\"data row2 col7\" >505.921369</td>\n",
              "      <td id=\"T_22934_row2_col8\" class=\"data row2 col8\" >35823.762607</td>\n",
              "      <td id=\"T_22934_row2_col9\" class=\"data row2 col9\" >1.066451</td>\n",
              "      <td id=\"T_22934_row2_col10\" class=\"data row2 col10\" >5182.900896</td>\n",
              "      <td id=\"T_22934_row2_col11\" class=\"data row2 col11\" >1208.717645</td>\n",
              "      <td id=\"T_22934_row2_col12\" class=\"data row2 col12\" >0.190704</td>\n",
              "      <td id=\"T_22934_row2_col13\" class=\"data row2 col13\" >1.196431</td>\n",
              "      <td id=\"T_22934_row2_col14\" class=\"data row2 col14\" >909.570610</td>\n",
              "      <td id=\"T_22934_row2_col15\" class=\"data row2 col15\" >552.814641</td>\n",
              "      <td id=\"T_22934_row2_col16\" class=\"data row2 col16\" >334.313800</td>\n",
              "      <td id=\"T_22934_row2_col17\" class=\"data row2 col17\" >34267.231693</td>\n",
              "      <td id=\"T_22934_row2_col18\" class=\"data row2 col18\" >403.485166</td>\n",
              "      <td id=\"T_22934_row2_col19\" class=\"data row2 col19\" >14.315935</td>\n",
              "      <td id=\"T_22934_row2_col20\" class=\"data row2 col20\" >1232.332227</td>\n",
              "      <td id=\"T_22934_row2_col21\" class=\"data row2 col21\" >21417.820334</td>\n",
              "      <td id=\"T_22934_row2_col22\" class=\"data row2 col22\" >0.382704</td>\n",
              "      <td id=\"T_22934_row2_col23\" class=\"data row2 col23\" >0.382704</td>\n",
              "      <td id=\"T_22934_row2_col24\" class=\"data row2 col24\" >154.431277</td>\n",
              "      <td id=\"T_22934_row2_col25\" class=\"data row2 col25\" >1.509363</td>\n",
              "      <td id=\"T_22934_row2_col26\" class=\"data row2 col26\" >609.765502</td>\n",
              "      <td id=\"T_22934_row2_col27\" class=\"data row2 col27\" >24545.022845</td>\n",
              "      <td id=\"T_22934_row2_col28\" class=\"data row2 col28\" >176.980001</td>\n",
              "      <td id=\"T_22934_row2_col29\" class=\"data row2 col29\" >431.524739</td>\n",
              "      <td id=\"T_22934_row2_col30\" class=\"data row2 col30\" >1591.184153</td>\n",
              "      <td id=\"T_22934_row2_col31\" class=\"data row2 col31\" >5429.120485</td>\n",
              "      <td id=\"T_22934_row2_col32\" class=\"data row2 col32\" >0.258042</td>\n",
              "      <td id=\"T_22934_row2_col33\" class=\"data row2 col33\" >0.264052</td>\n",
              "      <td id=\"T_22934_row2_col34\" class=\"data row2 col34\" >681.400205</td>\n",
              "      <td id=\"T_22934_row2_col35\" class=\"data row2 col35\" >1184.555321</td>\n",
              "      <td id=\"T_22934_row2_col36\" class=\"data row2 col36\" >1.365978</td>\n",
              "      <td id=\"T_22934_row2_col37\" class=\"data row2 col37\" >1.094586</td>\n",
              "      <td id=\"T_22934_row2_col38\" class=\"data row2 col38\" >476.035083</td>\n",
              "      <td id=\"T_22934_row2_col39\" class=\"data row2 col39\" >48793.670311</td>\n",
              "      <td id=\"T_22934_row2_col40\" class=\"data row2 col40\" >15.173750</td>\n",
              "      <td id=\"T_22934_row2_col41\" class=\"data row2 col41\" >2104.284410</td>\n",
              "      <td id=\"T_22934_row2_col42\" class=\"data row2 col42\" >1.223775</td>\n",
              "      <td id=\"T_22934_row2_col43\" class=\"data row2 col43\" >0.192036</td>\n",
              "      <td id=\"T_22934_row2_col44\" class=\"data row2 col44\" >34.081535</td>\n",
              "      <td id=\"T_22934_row2_col45\" class=\"data row2 col45\" >4726.621581</td>\n",
              "      <td id=\"T_22934_row2_col46\" class=\"data row2 col46\" >82.596992</td>\n",
              "      <td id=\"T_22934_row2_col47\" class=\"data row2 col47\" >7.290935</td>\n",
              "      <td id=\"T_22934_row2_col48\" class=\"data row2 col48\" >984.329275</td>\n",
              "      <td id=\"T_22934_row2_col49\" class=\"data row2 col49\" >18.557055</td>\n",
              "      <td id=\"T_22934_row2_col50\" class=\"data row2 col50\" >1069.964530</td>\n",
              "      <td id=\"T_22934_row2_col51\" class=\"data row2 col51\" >1465.547511</td>\n",
              "      <td id=\"T_22934_row2_col52\" class=\"data row2 col52\" >1361.640053</td>\n",
              "      <td id=\"T_22934_row2_col53\" class=\"data row2 col53\" >35.042699</td>\n",
              "      <td id=\"T_22934_row2_col54\" class=\"data row2 col54\" >0.009589</td>\n",
              "      <td id=\"T_22934_row2_col55\" class=\"data row2 col55\" >576.946321</td>\n",
              "      <td id=\"T_22934_row2_col56\" class=\"data row2 col56\" >2.277316</td>\n",
              "      <td id=\"T_22934_row2_col57\" class=\"data row2 col57\" >0.340446</td>\n",
              "      <td id=\"T_22934_row2_col58\" class=\"data row2 col58\" >21.914069</td>\n",
              "      <td id=\"T_22934_row2_col59\" class=\"data row2 col59\" >2957.708486</td>\n",
              "      <td id=\"T_22934_row2_col60\" class=\"data row2 col60\" >2.020918</td>\n",
              "      <td id=\"T_22934_row2_col61\" class=\"data row2 col61\" >0.068323</td>\n",
              "      <td id=\"T_22934_row2_col62\" class=\"data row2 col62\" >54701.839178</td>\n",
              "      <td id=\"T_22934_row2_col63\" class=\"data row2 col63\" >1.330154</td>\n",
              "      <td id=\"T_22934_row2_col64\" class=\"data row2 col64\" >0.805498</td>\n",
              "      <td id=\"T_22934_row2_col65\" class=\"data row2 col65\" >56.293629</td>\n",
              "      <td id=\"T_22934_row2_col66\" class=\"data row2 col66\" >110.821305</td>\n",
              "      <td id=\"T_22934_row2_col67\" class=\"data row2 col67\" >180.970339</td>\n",
              "      <td id=\"T_22934_row2_col68\" class=\"data row2 col68\" >1600.624816</td>\n",
              "      <td id=\"T_22934_row2_col69\" class=\"data row2 col69\" >5461.332691</td>\n",
              "      <td id=\"T_22934_row2_col70\" class=\"data row2 col70\" >2.187776</td>\n",
              "      <td id=\"T_22934_row2_col71\" class=\"data row2 col71\" >0.489751</td>\n",
              "      <td id=\"T_22934_row2_col72\" class=\"data row2 col72\" >19.668562</td>\n",
              "      <td id=\"T_22934_row2_col73\" class=\"data row2 col73\" >2654.507809</td>\n",
              "      <td id=\"T_22934_row2_col74\" class=\"data row2 col74\" >19478.704624</td>\n",
              "      <td id=\"T_22934_row2_col75\" class=\"data row2 col75\" >157.324979</td>\n",
              "      <td id=\"T_22934_row2_col76\" class=\"data row2 col76\" >14368.680740</td>\n",
              "      <td id=\"T_22934_row2_col77\" class=\"data row2 col77\" >0.744177</td>\n",
              "      <td id=\"T_22934_row2_col78\" class=\"data row2 col78\" >0.445114</td>\n",
              "      <td id=\"T_22934_row2_col79\" class=\"data row2 col79\" >2.330988</td>\n",
              "      <td id=\"T_22934_row2_col80\" class=\"data row2 col80\" >8.801386</td>\n",
              "      <td id=\"T_22934_row2_col81\" class=\"data row2 col81\" >198.446727</td>\n",
              "      <td id=\"T_22934_row2_col82\" class=\"data row2 col82\" >18124.362910</td>\n",
              "      <td id=\"T_22934_row2_col83\" class=\"data row2 col83\" >2.516167</td>\n",
              "      <td id=\"T_22934_row2_col84\" class=\"data row2 col84\" >0.019176</td>\n",
              "      <td id=\"T_22934_row2_col85\" class=\"data row2 col85\" >2.000221</td>\n",
              "      <td id=\"T_22934_row2_col86\" class=\"data row2 col86\" >48.096095</td>\n",
              "      <td id=\"T_22934_row2_col87\" class=\"data row2 col87\" >4392.801473</td>\n",
              "      <td id=\"T_22934_row2_col88\" class=\"data row2 col88\" >1.363772</td>\n",
              "      <td id=\"T_22934_row2_col89\" class=\"data row2 col89\" >0.016608</td>\n",
              "      <td id=\"T_22934_row2_col90\" class=\"data row2 col90\" >10220.926459</td>\n",
              "      <td id=\"T_22934_row2_col91\" class=\"data row2 col91\" >50.775190</td>\n",
              "      <td id=\"T_22934_row2_col92\" class=\"data row2 col92\" >196.000856</td>\n",
              "      <td id=\"T_22934_row2_col93\" class=\"data row2 col93\" >292.887075</td>\n",
              "      <td id=\"T_22934_row2_col94\" class=\"data row2 col94\" >0.485916</td>\n",
              "      <td id=\"T_22934_row2_col95\" class=\"data row2 col95\" >24.867622</td>\n",
              "      <td id=\"T_22934_row2_col96\" class=\"data row2 col96\" >14727.448316</td>\n",
              "      <td id=\"T_22934_row2_col97\" class=\"data row2 col97\" >7657.703365</td>\n",
              "      <td id=\"T_22934_row2_col98\" class=\"data row2 col98\" >26128.080323</td>\n",
              "      <td id=\"T_22934_row2_col99\" class=\"data row2 col99\" >385.044759</td>\n",
              "      <td id=\"T_22934_row2_col100\" class=\"data row2 col100\" >15428.037398</td>\n",
              "      <td id=\"T_22934_row2_col101\" class=\"data row2 col101\" >0.499259</td>\n",
              "      <td id=\"T_22934_row2_col102\" class=\"data row2 col102\" >0.347146</td>\n",
              "      <td id=\"T_22934_row2_col103\" class=\"data row2 col103\" >14.406053</td>\n",
              "      <td id=\"T_22934_row2_col104\" class=\"data row2 col104\" >2.346643</td>\n",
              "      <td id=\"T_22934_row2_col105\" class=\"data row2 col105\" >13733.416871</td>\n",
              "      <td id=\"T_22934_row2_col106\" class=\"data row2 col106\" >2.775507</td>\n",
              "      <td id=\"T_22934_row2_col107\" class=\"data row2 col107\" >106.994526</td>\n",
              "      <td id=\"T_22934_row2_col108\" class=\"data row2 col108\" >2.636779</td>\n",
              "      <td id=\"T_22934_row2_col109\" class=\"data row2 col109\" >0.028757</td>\n",
              "      <td id=\"T_22934_row2_col110\" class=\"data row2 col110\" >0.500020</td>\n",
              "      <td id=\"T_22934_row2_col111\" class=\"data row2 col111\" >2.841844</td>\n",
              "      <td id=\"T_22934_row2_col112\" class=\"data row2 col112\" >778.588285</td>\n",
              "    </tr>\n",
              "    <tr>\n",
              "      <th id=\"T_22934_level0_row3\" class=\"row_heading level0 row3\" >min</th>\n",
              "      <td id=\"T_22934_row3_col0\" class=\"data row3 col0\" >1.000000</td>\n",
              "      <td id=\"T_22934_row3_col1\" class=\"data row3 col1\" >1.000000</td>\n",
              "      <td id=\"T_22934_row3_col2\" class=\"data row3 col2\" >1.000000</td>\n",
              "      <td id=\"T_22934_row3_col3\" class=\"data row3 col3\" >0.000000</td>\n",
              "      <td id=\"T_22934_row3_col4\" class=\"data row3 col4\" >0.000000</td>\n",
              "      <td id=\"T_22934_row3_col5\" class=\"data row3 col5\" >0.000000</td>\n",
              "      <td id=\"T_22934_row3_col6\" class=\"data row3 col6\" >0.000000</td>\n",
              "      <td id=\"T_22934_row3_col7\" class=\"data row3 col7\" >0.000000</td>\n",
              "      <td id=\"T_22934_row3_col8\" class=\"data row3 col8\" >0.000000</td>\n",
              "      <td id=\"T_22934_row3_col9\" class=\"data row3 col9\" >-2.000000</td>\n",
              "      <td id=\"T_22934_row3_col10\" class=\"data row3 col10\" >476.099768</td>\n",
              "      <td id=\"T_22934_row3_col11\" class=\"data row3 col11\" >0.000000</td>\n",
              "      <td id=\"T_22934_row3_col12\" class=\"data row3 col12\" >0.000000</td>\n",
              "      <td id=\"T_22934_row3_col13\" class=\"data row3 col13\" >0.000000</td>\n",
              "      <td id=\"T_22934_row3_col14\" class=\"data row3 col14\" >0.000000</td>\n",
              "      <td id=\"T_22934_row3_col15\" class=\"data row3 col15\" >0.000000</td>\n",
              "      <td id=\"T_22934_row3_col16\" class=\"data row3 col16\" >0.000000</td>\n",
              "      <td id=\"T_22934_row3_col17\" class=\"data row3 col17\" >0.000000</td>\n",
              "      <td id=\"T_22934_row3_col18\" class=\"data row3 col18\" >0.000000</td>\n",
              "      <td id=\"T_22934_row3_col19\" class=\"data row3 col19\" >-2.000000</td>\n",
              "      <td id=\"T_22934_row3_col20\" class=\"data row3 col20\" >0.000000</td>\n",
              "      <td id=\"T_22934_row3_col21\" class=\"data row3 col21\" >0.000000</td>\n",
              "      <td id=\"T_22934_row3_col22\" class=\"data row3 col22\" >0.000000</td>\n",
              "      <td id=\"T_22934_row3_col23\" class=\"data row3 col23\" >0.000000</td>\n",
              "      <td id=\"T_22934_row3_col24\" class=\"data row3 col24\" >0.000000</td>\n",
              "      <td id=\"T_22934_row3_col25\" class=\"data row3 col25\" >1.000000</td>\n",
              "      <td id=\"T_22934_row3_col26\" class=\"data row3 col26\" >3.000000</td>\n",
              "      <td id=\"T_22934_row3_col27\" class=\"data row3 col27\" >0.000000</td>\n",
              "      <td id=\"T_22934_row3_col28\" class=\"data row3 col28\" >0.000000</td>\n",
              "      <td id=\"T_22934_row3_col29\" class=\"data row3 col29\" >0.000000</td>\n",
              "      <td id=\"T_22934_row3_col30\" class=\"data row3 col30\" >0.000000</td>\n",
              "      <td id=\"T_22934_row3_col31\" class=\"data row3 col31\" >0.000000</td>\n",
              "      <td id=\"T_22934_row3_col32\" class=\"data row3 col32\" >0.000000</td>\n",
              "      <td id=\"T_22934_row3_col33\" class=\"data row3 col33\" >0.000000</td>\n",
              "      <td id=\"T_22934_row3_col34\" class=\"data row3 col34\" >0.000000</td>\n",
              "      <td id=\"T_22934_row3_col35\" class=\"data row3 col35\" >6.000000</td>\n",
              "      <td id=\"T_22934_row3_col36\" class=\"data row3 col36\" >-2.000000</td>\n",
              "      <td id=\"T_22934_row3_col37\" class=\"data row3 col37\" >-2.000000</td>\n",
              "      <td id=\"T_22934_row3_col38\" class=\"data row3 col38\" >0.000000</td>\n",
              "      <td id=\"T_22934_row3_col39\" class=\"data row3 col39\" >0.000000</td>\n",
              "      <td id=\"T_22934_row3_col40\" class=\"data row3 col40\" >0.000000</td>\n",
              "      <td id=\"T_22934_row3_col41\" class=\"data row3 col41\" >0.000000</td>\n",
              "      <td id=\"T_22934_row3_col42\" class=\"data row3 col42\" >-2.000000</td>\n",
              "      <td id=\"T_22934_row3_col43\" class=\"data row3 col43\" >0.000000</td>\n",
              "      <td id=\"T_22934_row3_col44\" class=\"data row3 col44\" >0.000000</td>\n",
              "      <td id=\"T_22934_row3_col45\" class=\"data row3 col45\" >0.000000</td>\n",
              "      <td id=\"T_22934_row3_col46\" class=\"data row3 col46\" >0.000000</td>\n",
              "      <td id=\"T_22934_row3_col47\" class=\"data row3 col47\" >0.000000</td>\n",
              "      <td id=\"T_22934_row3_col48\" class=\"data row3 col48\" >0.000000</td>\n",
              "      <td id=\"T_22934_row3_col49\" class=\"data row3 col49\" >0.000000</td>\n",
              "      <td id=\"T_22934_row3_col50\" class=\"data row3 col50\" >0.000000</td>\n",
              "      <td id=\"T_22934_row3_col51\" class=\"data row3 col51\" >100.000000</td>\n",
              "      <td id=\"T_22934_row3_col52\" class=\"data row3 col52\" >100.000000</td>\n",
              "      <td id=\"T_22934_row3_col53\" class=\"data row3 col53\" >0.000000</td>\n",
              "      <td id=\"T_22934_row3_col54\" class=\"data row3 col54\" >0.000000</td>\n",
              "      <td id=\"T_22934_row3_col55\" class=\"data row3 col55\" >0.000000</td>\n",
              "      <td id=\"T_22934_row3_col56\" class=\"data row3 col56\" >-2.000000</td>\n",
              "      <td id=\"T_22934_row3_col57\" class=\"data row3 col57\" >0.000000</td>\n",
              "      <td id=\"T_22934_row3_col58\" class=\"data row3 col58\" >0.000000</td>\n",
              "      <td id=\"T_22934_row3_col59\" class=\"data row3 col59\" >0.000000</td>\n",
              "      <td id=\"T_22934_row3_col60\" class=\"data row3 col60\" >0.000000</td>\n",
              "      <td id=\"T_22934_row3_col61\" class=\"data row3 col61\" >0.000000</td>\n",
              "      <td id=\"T_22934_row3_col62\" class=\"data row3 col62\" >58.000000</td>\n",
              "      <td id=\"T_22934_row3_col63\" class=\"data row3 col63\" >-2.000000</td>\n",
              "      <td id=\"T_22934_row3_col64\" class=\"data row3 col64\" >-9.000000</td>\n",
              "      <td id=\"T_22934_row3_col65\" class=\"data row3 col65\" >0.000000</td>\n",
              "      <td id=\"T_22934_row3_col66\" class=\"data row3 col66\" >0.000000</td>\n",
              "      <td id=\"T_22934_row3_col67\" class=\"data row3 col67\" >0.000000</td>\n",
              "      <td id=\"T_22934_row3_col68\" class=\"data row3 col68\" >0.000000</td>\n",
              "      <td id=\"T_22934_row3_col69\" class=\"data row3 col69\" >0.000000</td>\n",
              "      <td id=\"T_22934_row3_col70\" class=\"data row3 col70\" >1.000000</td>\n",
              "      <td id=\"T_22934_row3_col71\" class=\"data row3 col71\" >0.000000</td>\n",
              "      <td id=\"T_22934_row3_col72\" class=\"data row3 col72\" >0.000000</td>\n",
              "      <td id=\"T_22934_row3_col73\" class=\"data row3 col73\" >0.000000</td>\n",
              "      <td id=\"T_22934_row3_col74\" class=\"data row3 col74\" >33.000000</td>\n",
              "      <td id=\"T_22934_row3_col75\" class=\"data row3 col75\" >0.000000</td>\n",
              "      <td id=\"T_22934_row3_col76\" class=\"data row3 col76\" >0.000000</td>\n",
              "      <td id=\"T_22934_row3_col77\" class=\"data row3 col77\" >0.000000</td>\n",
              "      <td id=\"T_22934_row3_col78\" class=\"data row3 col78\" >0.000000</td>\n",
              "      <td id=\"T_22934_row3_col79\" class=\"data row3 col79\" >-2.000000</td>\n",
              "      <td id=\"T_22934_row3_col80\" class=\"data row3 col80\" >-2.000000</td>\n",
              "      <td id=\"T_22934_row3_col81\" class=\"data row3 col81\" >0.000000</td>\n",
              "      <td id=\"T_22934_row3_col82\" class=\"data row3 col82\" >0.000000</td>\n",
              "      <td id=\"T_22934_row3_col83\" class=\"data row3 col83\" >0.000000</td>\n",
              "      <td id=\"T_22934_row3_col84\" class=\"data row3 col84\" >0.000000</td>\n",
              "      <td id=\"T_22934_row3_col85\" class=\"data row3 col85\" >-2.000000</td>\n",
              "      <td id=\"T_22934_row3_col86\" class=\"data row3 col86\" >0.000000</td>\n",
              "      <td id=\"T_22934_row3_col87\" class=\"data row3 col87\" >0.000000</td>\n",
              "      <td id=\"T_22934_row3_col88\" class=\"data row3 col88\" >0.000000</td>\n",
              "      <td id=\"T_22934_row3_col89\" class=\"data row3 col89\" >0.000000</td>\n",
              "      <td id=\"T_22934_row3_col90\" class=\"data row3 col90\" >0.000000</td>\n",
              "      <td id=\"T_22934_row3_col91\" class=\"data row3 col91\" >0.000000</td>\n",
              "      <td id=\"T_22934_row3_col92\" class=\"data row3 col92\" >0.000000</td>\n",
              "      <td id=\"T_22934_row3_col93\" class=\"data row3 col93\" >0.000000</td>\n",
              "      <td id=\"T_22934_row3_col94\" class=\"data row3 col94\" >0.000000</td>\n",
              "      <td id=\"T_22934_row3_col95\" class=\"data row3 col95\" >1920.000000</td>\n",
              "      <td id=\"T_22934_row3_col96\" class=\"data row3 col96\" >32.719000</td>\n",
              "      <td id=\"T_22934_row3_col97\" class=\"data row3 col97\" >17.000000</td>\n",
              "      <td id=\"T_22934_row3_col98\" class=\"data row3 col98\" >58.000000</td>\n",
              "      <td id=\"T_22934_row3_col99\" class=\"data row3 col99\" >0.000000</td>\n",
              "      <td id=\"T_22934_row3_col100\" class=\"data row3 col100\" >0.000000</td>\n",
              "      <td id=\"T_22934_row3_col101\" class=\"data row3 col101\" >0.000000</td>\n",
              "      <td id=\"T_22934_row3_col102\" class=\"data row3 col102\" >0.000000</td>\n",
              "      <td id=\"T_22934_row3_col103\" class=\"data row3 col103\" >-2.000000</td>\n",
              "      <td id=\"T_22934_row3_col104\" class=\"data row3 col104\" >-9.000000</td>\n",
              "      <td id=\"T_22934_row3_col105\" class=\"data row3 col105\" >0.000000</td>\n",
              "      <td id=\"T_22934_row3_col106\" class=\"data row3 col106\" >-2.000000</td>\n",
              "      <td id=\"T_22934_row3_col107\" class=\"data row3 col107\" >0.000000</td>\n",
              "      <td id=\"T_22934_row3_col108\" class=\"data row3 col108\" >-2.000000</td>\n",
              "      <td id=\"T_22934_row3_col109\" class=\"data row3 col109\" >0.000000</td>\n",
              "      <td id=\"T_22934_row3_col110\" class=\"data row3 col110\" >0.000000</td>\n",
              "      <td id=\"T_22934_row3_col111\" class=\"data row3 col111\" >-2.000000</td>\n",
              "      <td id=\"T_22934_row3_col112\" class=\"data row3 col112\" >0.000000</td>\n",
              "    </tr>\n",
              "    <tr>\n",
              "      <th id=\"T_22934_level0_row4\" class=\"row_heading level0 row4\" >25%</th>\n",
              "      <td id=\"T_22934_row4_col0\" class=\"data row4 col0\" >1.000000</td>\n",
              "      <td id=\"T_22934_row4_col1\" class=\"data row4 col1\" >3.000000</td>\n",
              "      <td id=\"T_22934_row4_col2\" class=\"data row4 col2\" >8.000000</td>\n",
              "      <td id=\"T_22934_row4_col3\" class=\"data row4 col3\" >18.000000</td>\n",
              "      <td id=\"T_22934_row4_col4\" class=\"data row4 col4\" >143.161500</td>\n",
              "      <td id=\"T_22934_row4_col5\" class=\"data row4 col5\" >488.477000</td>\n",
              "      <td id=\"T_22934_row4_col6\" class=\"data row4 col6\" >488.500000</td>\n",
              "      <td id=\"T_22934_row4_col7\" class=\"data row4 col7\" >222.000000</td>\n",
              "      <td id=\"T_22934_row4_col8\" class=\"data row4 col8\" >8748.500000</td>\n",
              "      <td id=\"T_22934_row4_col9\" class=\"data row4 col9\" >0.000000</td>\n",
              "      <td id=\"T_22934_row4_col10\" class=\"data row4 col10\" >6297.039296</td>\n",
              "      <td id=\"T_22934_row4_col11\" class=\"data row4 col11\" >886.000000</td>\n",
              "      <td id=\"T_22934_row4_col12\" class=\"data row4 col12\" >1.000000</td>\n",
              "      <td id=\"T_22934_row4_col13\" class=\"data row4 col13\" >1.000000</td>\n",
              "      <td id=\"T_22934_row4_col14\" class=\"data row4 col14\" >739.000000</td>\n",
              "      <td id=\"T_22934_row4_col15\" class=\"data row4 col15\" >396.676000</td>\n",
              "      <td id=\"T_22934_row4_col16\" class=\"data row4 col16\" >0.000000</td>\n",
              "      <td id=\"T_22934_row4_col17\" class=\"data row4 col17\" >0.000000</td>\n",
              "      <td id=\"T_22934_row4_col18\" class=\"data row4 col18\" >0.000000</td>\n",
              "      <td id=\"T_22934_row4_col19\" class=\"data row4 col19\" >68.000000</td>\n",
              "      <td id=\"T_22934_row4_col20\" class=\"data row4 col20\" >264.000000</td>\n",
              "      <td id=\"T_22934_row4_col21\" class=\"data row4 col21\" >0.000000</td>\n",
              "      <td id=\"T_22934_row4_col22\" class=\"data row4 col22\" >1.000000</td>\n",
              "      <td id=\"T_22934_row4_col23\" class=\"data row4 col23\" >1.000000</td>\n",
              "      <td id=\"T_22934_row4_col24\" class=\"data row4 col24\" >0.000000</td>\n",
              "      <td id=\"T_22934_row4_col25\" class=\"data row4 col25\" >2.000000</td>\n",
              "      <td id=\"T_22934_row4_col26\" class=\"data row4 col26\" >442.000000</td>\n",
              "      <td id=\"T_22934_row4_col27\" class=\"data row4 col27\" >0.000000</td>\n",
              "      <td id=\"T_22934_row4_col28\" class=\"data row4 col28\" >0.000000</td>\n",
              "      <td id=\"T_22934_row4_col29\" class=\"data row4 col29\" >0.000000</td>\n",
              "      <td id=\"T_22934_row4_col30\" class=\"data row4 col30\" >0.000000</td>\n",
              "      <td id=\"T_22934_row4_col31\" class=\"data row4 col31\" >0.000000</td>\n",
              "      <td id=\"T_22934_row4_col32\" class=\"data row4 col32\" >0.000000</td>\n",
              "      <td id=\"T_22934_row4_col33\" class=\"data row4 col33\" >0.000000</td>\n",
              "      <td id=\"T_22934_row4_col34\" class=\"data row4 col34\" >0.000000</td>\n",
              "      <td id=\"T_22934_row4_col35\" class=\"data row4 col35\" >1273.000000</td>\n",
              "      <td id=\"T_22934_row4_col36\" class=\"data row4 col36\" >1.000000</td>\n",
              "      <td id=\"T_22934_row4_col37\" class=\"data row4 col37\" >0.000000</td>\n",
              "      <td id=\"T_22934_row4_col38\" class=\"data row4 col38\" >0.000000</td>\n",
              "      <td id=\"T_22934_row4_col39\" class=\"data row4 col39\" >0.000000</td>\n",
              "      <td id=\"T_22934_row4_col40\" class=\"data row4 col40\" >0.000000</td>\n",
              "      <td id=\"T_22934_row4_col41\" class=\"data row4 col41\" >0.000000</td>\n",
              "      <td id=\"T_22934_row4_col42\" class=\"data row4 col42\" >2.000000</td>\n",
              "      <td id=\"T_22934_row4_col43\" class=\"data row4 col43\" >0.000000</td>\n",
              "      <td id=\"T_22934_row4_col44\" class=\"data row4 col44\" >0.000000</td>\n",
              "      <td id=\"T_22934_row4_col45\" class=\"data row4 col45\" >0.000000</td>\n",
              "      <td id=\"T_22934_row4_col46\" class=\"data row4 col46\" >0.000000</td>\n",
              "      <td id=\"T_22934_row4_col47\" class=\"data row4 col47\" >0.000000</td>\n",
              "      <td id=\"T_22934_row4_col48\" class=\"data row4 col48\" >0.000000</td>\n",
              "      <td id=\"T_22934_row4_col49\" class=\"data row4 col49\" >0.000000</td>\n",
              "      <td id=\"T_22934_row4_col50\" class=\"data row4 col50\" >201.500000</td>\n",
              "      <td id=\"T_22934_row4_col51\" class=\"data row4 col51\" >1085.000000</td>\n",
              "      <td id=\"T_22934_row4_col52\" class=\"data row4 col52\" >1051.000000</td>\n",
              "      <td id=\"T_22934_row4_col53\" class=\"data row4 col53\" >0.000000</td>\n",
              "      <td id=\"T_22934_row4_col54\" class=\"data row4 col54\" >1.000000</td>\n",
              "      <td id=\"T_22934_row4_col55\" class=\"data row4 col55\" >0.000000</td>\n",
              "      <td id=\"T_22934_row4_col56\" class=\"data row4 col56\" >1.000000</td>\n",
              "      <td id=\"T_22934_row4_col57\" class=\"data row4 col57\" >0.000000</td>\n",
              "      <td id=\"T_22934_row4_col58\" class=\"data row4 col58\" >0.000000</td>\n",
              "      <td id=\"T_22934_row4_col59\" class=\"data row4 col59\" >0.000000</td>\n",
              "      <td id=\"T_22934_row4_col60\" class=\"data row4 col60\" >0.000000</td>\n",
              "      <td id=\"T_22934_row4_col61\" class=\"data row4 col61\" >0.000000</td>\n",
              "      <td id=\"T_22934_row4_col62\" class=\"data row4 col62\" >51588.000000</td>\n",
              "      <td id=\"T_22934_row4_col63\" class=\"data row4 col63\" >1.000000</td>\n",
              "      <td id=\"T_22934_row4_col64\" class=\"data row4 col64\" >0.000000</td>\n",
              "      <td id=\"T_22934_row4_col65\" class=\"data row4 col65\" >0.000000</td>\n",
              "      <td id=\"T_22934_row4_col66\" class=\"data row4 col66\" >0.000000</td>\n",
              "      <td id=\"T_22934_row4_col67\" class=\"data row4 col67\" >0.000000</td>\n",
              "      <td id=\"T_22934_row4_col68\" class=\"data row4 col68\" >0.000000</td>\n",
              "      <td id=\"T_22934_row4_col69\" class=\"data row4 col69\" >0.000000</td>\n",
              "      <td id=\"T_22934_row4_col70\" class=\"data row4 col70\" >5.000000</td>\n",
              "      <td id=\"T_22934_row4_col71\" class=\"data row4 col71\" >0.000000</td>\n",
              "      <td id=\"T_22934_row4_col72\" class=\"data row4 col72\" >0.000000</td>\n",
              "      <td id=\"T_22934_row4_col73\" class=\"data row4 col73\" >0.000000</td>\n",
              "      <td id=\"T_22934_row4_col74\" class=\"data row4 col74\" >13935.000000</td>\n",
              "      <td id=\"T_22934_row4_col75\" class=\"data row4 col75\" >0.000000</td>\n",
              "      <td id=\"T_22934_row4_col76\" class=\"data row4 col76\" >0.000000</td>\n",
              "      <td id=\"T_22934_row4_col77\" class=\"data row4 col77\" >1.000000</td>\n",
              "      <td id=\"T_22934_row4_col78\" class=\"data row4 col78\" >0.000000</td>\n",
              "      <td id=\"T_22934_row4_col79\" class=\"data row4 col79\" >3.000000</td>\n",
              "      <td id=\"T_22934_row4_col80\" class=\"data row4 col80\" >10.000000</td>\n",
              "      <td id=\"T_22934_row4_col81\" class=\"data row4 col81\" >0.000000</td>\n",
              "      <td id=\"T_22934_row4_col82\" class=\"data row4 col82\" >0.000000</td>\n",
              "      <td id=\"T_22934_row4_col83\" class=\"data row4 col83\" >1.000000</td>\n",
              "      <td id=\"T_22934_row4_col84\" class=\"data row4 col84\" >0.000000</td>\n",
              "      <td id=\"T_22934_row4_col85\" class=\"data row4 col85\" >1.000000</td>\n",
              "      <td id=\"T_22934_row4_col86\" class=\"data row4 col86\" >0.000000</td>\n",
              "      <td id=\"T_22934_row4_col87\" class=\"data row4 col87\" >0.000000</td>\n",
              "      <td id=\"T_22934_row4_col88\" class=\"data row4 col88\" >2.000000</td>\n",
              "      <td id=\"T_22934_row4_col89\" class=\"data row4 col89\" >0.000000</td>\n",
              "      <td id=\"T_22934_row4_col90\" class=\"data row4 col90\" >0.000000</td>\n",
              "      <td id=\"T_22934_row4_col91\" class=\"data row4 col91\" >0.000000</td>\n",
              "      <td id=\"T_22934_row4_col92\" class=\"data row4 col92\" >161.000000</td>\n",
              "      <td id=\"T_22934_row4_col93\" class=\"data row4 col93\" >0.000000</td>\n",
              "      <td id=\"T_22934_row4_col94\" class=\"data row4 col94\" >0.000000</td>\n",
              "      <td id=\"T_22934_row4_col95\" class=\"data row4 col95\" >1955.000000</td>\n",
              "      <td id=\"T_22934_row4_col96\" class=\"data row4 col96\" >10970.123500</td>\n",
              "      <td id=\"T_22934_row4_col97\" class=\"data row4 col97\" >5866.000000</td>\n",
              "      <td id=\"T_22934_row4_col98\" class=\"data row4 col98\" >20014.500000</td>\n",
              "      <td id=\"T_22934_row4_col99\" class=\"data row4 col99\" >0.000000</td>\n",
              "      <td id=\"T_22934_row4_col100\" class=\"data row4 col100\" >0.000000</td>\n",
              "      <td id=\"T_22934_row4_col101\" class=\"data row4 col101\" >0.000000</td>\n",
              "      <td id=\"T_22934_row4_col102\" class=\"data row4 col102\" >0.000000</td>\n",
              "      <td id=\"T_22934_row4_col103\" class=\"data row4 col103\" >62.000000</td>\n",
              "      <td id=\"T_22934_row4_col104\" class=\"data row4 col104\" >0.000000</td>\n",
              "      <td id=\"T_22934_row4_col105\" class=\"data row4 col105\" >7708.000000</td>\n",
              "      <td id=\"T_22934_row4_col106\" class=\"data row4 col106\" >2.000000</td>\n",
              "      <td id=\"T_22934_row4_col107\" class=\"data row4 col107\" >86.000000</td>\n",
              "      <td id=\"T_22934_row4_col108\" class=\"data row4 col108\" >4.000000</td>\n",
              "      <td id=\"T_22934_row4_col109\" class=\"data row4 col109\" >0.000000</td>\n",
              "      <td id=\"T_22934_row4_col110\" class=\"data row4 col110\" >0.000000</td>\n",
              "      <td id=\"T_22934_row4_col111\" class=\"data row4 col111\" >1.000000</td>\n",
              "      <td id=\"T_22934_row4_col112\" class=\"data row4 col112\" >723.870500</td>\n",
              "    </tr>\n",
              "    <tr>\n",
              "      <th id=\"T_22934_level0_row5\" class=\"row_heading level0 row5\" >50%</th>\n",
              "      <td id=\"T_22934_row5_col0\" class=\"data row5 col0\" >3.000000</td>\n",
              "      <td id=\"T_22934_row5_col1\" class=\"data row5 col1\" >5.000000</td>\n",
              "      <td id=\"T_22934_row5_col2\" class=\"data row5 col2\" >15.000000</td>\n",
              "      <td id=\"T_22934_row5_col3\" class=\"data row5 col3\" >90.000000</td>\n",
              "      <td id=\"T_22934_row5_col4\" class=\"data row5 col4\" >748.220000</td>\n",
              "      <td id=\"T_22934_row5_col5\" class=\"data row5 col5\" >2552.933000</td>\n",
              "      <td id=\"T_22934_row5_col6\" class=\"data row5 col6\" >2553.000000</td>\n",
              "      <td id=\"T_22934_row5_col7\" class=\"data row5 col7\" >431.000000</td>\n",
              "      <td id=\"T_22934_row5_col8\" class=\"data row5 col8\" >27289.000000</td>\n",
              "      <td id=\"T_22934_row5_col9\" class=\"data row5 col9\" >0.000000</td>\n",
              "      <td id=\"T_22934_row5_col10\" class=\"data row5 col10\" >8014.265947</td>\n",
              "      <td id=\"T_22934_row5_col11\" class=\"data row5 col11\" >1399.000000</td>\n",
              "      <td id=\"T_22934_row5_col12\" class=\"data row5 col12\" >1.000000</td>\n",
              "      <td id=\"T_22934_row5_col13\" class=\"data row5 col13\" >1.000000</td>\n",
              "      <td id=\"T_22934_row5_col14\" class=\"data row5 col14\" >1152.000000</td>\n",
              "      <td id=\"T_22934_row5_col15\" class=\"data row5 col15\" >649.216000</td>\n",
              "      <td id=\"T_22934_row5_col16\" class=\"data row5 col16\" >28.446000</td>\n",
              "      <td id=\"T_22934_row5_col17\" class=\"data row5 col17\" >2915.638000</td>\n",
              "      <td id=\"T_22934_row5_col18\" class=\"data row5 col18\" >59.468000</td>\n",
              "      <td id=\"T_22934_row5_col19\" class=\"data row5 col19\" >70.000000</td>\n",
              "      <td id=\"T_22934_row5_col20\" class=\"data row5 col20\" >1022.000000</td>\n",
              "      <td id=\"T_22934_row5_col21\" class=\"data row5 col21\" >0.000000</td>\n",
              "      <td id=\"T_22934_row5_col22\" class=\"data row5 col22\" >1.000000</td>\n",
              "      <td id=\"T_22934_row5_col23\" class=\"data row5 col23\" >1.000000</td>\n",
              "      <td id=\"T_22934_row5_col24\" class=\"data row5 col24\" >0.000000</td>\n",
              "      <td id=\"T_22934_row5_col25\" class=\"data row5 col25\" >3.000000</td>\n",
              "      <td id=\"T_22934_row5_col26\" class=\"data row5 col26\" >713.000000</td>\n",
              "      <td id=\"T_22934_row5_col27\" class=\"data row5 col27\" >0.000000</td>\n",
              "      <td id=\"T_22934_row5_col28\" class=\"data row5 col28\" >0.000000</td>\n",
              "      <td id=\"T_22934_row5_col29\" class=\"data row5 col29\" >0.000000</td>\n",
              "      <td id=\"T_22934_row5_col30\" class=\"data row5 col30\" >212.614000</td>\n",
              "      <td id=\"T_22934_row5_col31\" class=\"data row5 col31\" >725.413000</td>\n",
              "      <td id=\"T_22934_row5_col32\" class=\"data row5 col32\" >0.000000</td>\n",
              "      <td id=\"T_22934_row5_col33\" class=\"data row5 col33\" >0.000000</td>\n",
              "      <td id=\"T_22934_row5_col34\" class=\"data row5 col34\" >400.000000</td>\n",
              "      <td id=\"T_22934_row5_col35\" class=\"data row5 col35\" >1831.000000</td>\n",
              "      <td id=\"T_22934_row5_col36\" class=\"data row5 col36\" >1.000000</td>\n",
              "      <td id=\"T_22934_row5_col37\" class=\"data row5 col37\" >0.000000</td>\n",
              "      <td id=\"T_22934_row5_col38\" class=\"data row5 col38\" >277.000000</td>\n",
              "      <td id=\"T_22934_row5_col39\" class=\"data row5 col39\" >28393.000000</td>\n",
              "      <td id=\"T_22934_row5_col40\" class=\"data row5 col40\" >0.000000</td>\n",
              "      <td id=\"T_22934_row5_col41\" class=\"data row5 col41\" >0.000000</td>\n",
              "      <td id=\"T_22934_row5_col42\" class=\"data row5 col42\" >3.000000</td>\n",
              "      <td id=\"T_22934_row5_col43\" class=\"data row5 col43\" >0.000000</td>\n",
              "      <td id=\"T_22934_row5_col44\" class=\"data row5 col44\" >0.000000</td>\n",
              "      <td id=\"T_22934_row5_col45\" class=\"data row5 col45\" >0.000000</td>\n",
              "      <td id=\"T_22934_row5_col46\" class=\"data row5 col46\" >0.000000</td>\n",
              "      <td id=\"T_22934_row5_col47\" class=\"data row5 col47\" >0.000000</td>\n",
              "      <td id=\"T_22934_row5_col48\" class=\"data row5 col48\" >0.000000</td>\n",
              "      <td id=\"T_22934_row5_col49\" class=\"data row5 col49\" >0.000000</td>\n",
              "      <td id=\"T_22934_row5_col50\" class=\"data row5 col50\" >538.000000</td>\n",
              "      <td id=\"T_22934_row5_col51\" class=\"data row5 col51\" >1855.000000</td>\n",
              "      <td id=\"T_22934_row5_col52\" class=\"data row5 col52\" >1695.000000</td>\n",
              "      <td id=\"T_22934_row5_col53\" class=\"data row5 col53\" >0.000000</td>\n",
              "      <td id=\"T_22934_row5_col54\" class=\"data row5 col54\" >1.000000</td>\n",
              "      <td id=\"T_22934_row5_col55\" class=\"data row5 col55\" >344.000000</td>\n",
              "      <td id=\"T_22934_row5_col56\" class=\"data row5 col56\" >1.000000</td>\n",
              "      <td id=\"T_22934_row5_col57\" class=\"data row5 col57\" >0.000000</td>\n",
              "      <td id=\"T_22934_row5_col58\" class=\"data row5 col58\" >0.000000</td>\n",
              "      <td id=\"T_22934_row5_col59\" class=\"data row5 col59\" >0.000000</td>\n",
              "      <td id=\"T_22934_row5_col60\" class=\"data row5 col60\" >2.000000</td>\n",
              "      <td id=\"T_22934_row5_col61\" class=\"data row5 col61\" >0.000000</td>\n",
              "      <td id=\"T_22934_row5_col62\" class=\"data row5 col62\" >80636.000000</td>\n",
              "      <td id=\"T_22934_row5_col63\" class=\"data row5 col63\" >1.000000</td>\n",
              "      <td id=\"T_22934_row5_col64\" class=\"data row5 col64\" >0.000000</td>\n",
              "      <td id=\"T_22934_row5_col65\" class=\"data row5 col65\" >0.000000</td>\n",
              "      <td id=\"T_22934_row5_col66\" class=\"data row5 col66\" >0.000000</td>\n",
              "      <td id=\"T_22934_row5_col67\" class=\"data row5 col67\" >0.000000</td>\n",
              "      <td id=\"T_22934_row5_col68\" class=\"data row5 col68\" >0.000000</td>\n",
              "      <td id=\"T_22934_row5_col69\" class=\"data row5 col69\" >0.000000</td>\n",
              "      <td id=\"T_22934_row5_col70\" class=\"data row5 col70\" >6.000000</td>\n",
              "      <td id=\"T_22934_row5_col71\" class=\"data row5 col71\" >0.000000</td>\n",
              "      <td id=\"T_22934_row5_col72\" class=\"data row5 col72\" >0.000000</td>\n",
              "      <td id=\"T_22934_row5_col73\" class=\"data row5 col73\" >0.000000</td>\n",
              "      <td id=\"T_22934_row5_col74\" class=\"data row5 col74\" >22995.000000</td>\n",
              "      <td id=\"T_22934_row5_col75\" class=\"data row5 col75\" >0.000000</td>\n",
              "      <td id=\"T_22934_row5_col76\" class=\"data row5 col76\" >0.000000</td>\n",
              "      <td id=\"T_22934_row5_col77\" class=\"data row5 col77\" >2.000000</td>\n",
              "      <td id=\"T_22934_row5_col78\" class=\"data row5 col78\" >0.000000</td>\n",
              "      <td id=\"T_22934_row5_col79\" class=\"data row5 col79\" >3.000000</td>\n",
              "      <td id=\"T_22934_row5_col80\" class=\"data row5 col80\" >10.000000</td>\n",
              "      <td id=\"T_22934_row5_col81\" class=\"data row5 col81\" >0.000000</td>\n",
              "      <td id=\"T_22934_row5_col82\" class=\"data row5 col82\" >0.000000</td>\n",
              "      <td id=\"T_22934_row5_col83\" class=\"data row5 col83\" >2.000000</td>\n",
              "      <td id=\"T_22934_row5_col84\" class=\"data row5 col84\" >0.000000</td>\n",
              "      <td id=\"T_22934_row5_col85\" class=\"data row5 col85\" >1.000000</td>\n",
              "      <td id=\"T_22934_row5_col86\" class=\"data row5 col86\" >0.000000</td>\n",
              "      <td id=\"T_22934_row5_col87\" class=\"data row5 col87\" >0.000000</td>\n",
              "      <td id=\"T_22934_row5_col88\" class=\"data row5 col88\" >2.000000</td>\n",
              "      <td id=\"T_22934_row5_col89\" class=\"data row5 col89\" >0.000000</td>\n",
              "      <td id=\"T_22934_row5_col90\" class=\"data row5 col90\" >0.000000</td>\n",
              "      <td id=\"T_22934_row5_col91\" class=\"data row5 col91\" >0.000000</td>\n",
              "      <td id=\"T_22934_row5_col92\" class=\"data row5 col92\" >240.000000</td>\n",
              "      <td id=\"T_22934_row5_col93\" class=\"data row5 col93\" >0.000000</td>\n",
              "      <td id=\"T_22934_row5_col94\" class=\"data row5 col94\" >1.000000</td>\n",
              "      <td id=\"T_22934_row5_col95\" class=\"data row5 col95\" >1975.000000</td>\n",
              "      <td id=\"T_22934_row5_col96\" class=\"data row5 col96\" >18521.083000</td>\n",
              "      <td id=\"T_22934_row5_col97\" class=\"data row5 col97\" >9615.000000</td>\n",
              "      <td id=\"T_22934_row5_col98\" class=\"data row5 col98\" >32806.000000</td>\n",
              "      <td id=\"T_22934_row5_col99\" class=\"data row5 col99\" >0.000000</td>\n",
              "      <td id=\"T_22934_row5_col100\" class=\"data row5 col100\" >5731.069000</td>\n",
              "      <td id=\"T_22934_row5_col101\" class=\"data row5 col101\" >1.000000</td>\n",
              "      <td id=\"T_22934_row5_col102\" class=\"data row5 col102\" >0.000000</td>\n",
              "      <td id=\"T_22934_row5_col103\" class=\"data row5 col103\" >67.000000</td>\n",
              "      <td id=\"T_22934_row5_col104\" class=\"data row5 col104\" >0.000000</td>\n",
              "      <td id=\"T_22934_row5_col105\" class=\"data row5 col105\" >12761.000000</td>\n",
              "      <td id=\"T_22934_row5_col106\" class=\"data row5 col106\" >5.000000</td>\n",
              "      <td id=\"T_22934_row5_col107\" class=\"data row5 col107\" >127.000000</td>\n",
              "      <td id=\"T_22934_row5_col108\" class=\"data row5 col108\" >5.000000</td>\n",
              "      <td id=\"T_22934_row5_col109\" class=\"data row5 col109\" >0.000000</td>\n",
              "      <td id=\"T_22934_row5_col110\" class=\"data row5 col110\" >1.000000</td>\n",
              "      <td id=\"T_22934_row5_col111\" class=\"data row5 col111\" >5.000000</td>\n",
              "      <td id=\"T_22934_row5_col112\" class=\"data row5 col112\" >1047.355000</td>\n",
              "    </tr>\n",
              "    <tr>\n",
              "      <th id=\"T_22934_level0_row6\" class=\"row_heading level0 row6\" >75%</th>\n",
              "      <td id=\"T_22934_row6_col0\" class=\"data row6 col0\" >4.000000</td>\n",
              "      <td id=\"T_22934_row6_col1\" class=\"data row6 col1\" >7.000000</td>\n",
              "      <td id=\"T_22934_row6_col2\" class=\"data row6 col2\" >21.000000</td>\n",
              "      <td id=\"T_22934_row6_col3\" class=\"data row6 col3\" >263.000000</td>\n",
              "      <td id=\"T_22934_row6_col4\" class=\"data row6 col4\" >2281.322500</td>\n",
              "      <td id=\"T_22934_row6_col5\" class=\"data row6 col5\" >7783.797500</td>\n",
              "      <td id=\"T_22934_row6_col6\" class=\"data row6 col6\" >7784.000000</td>\n",
              "      <td id=\"T_22934_row6_col7\" class=\"data row6 col7\" >762.500000</td>\n",
              "      <td id=\"T_22934_row6_col8\" class=\"data row6 col8\" >55784.500000</td>\n",
              "      <td id=\"T_22934_row6_col9\" class=\"data row6 col9\" >1.000000</td>\n",
              "      <td id=\"T_22934_row6_col10\" class=\"data row6 col10\" >11330.024220</td>\n",
              "      <td id=\"T_22934_row6_col11\" class=\"data row6 col11\" >2153.000000</td>\n",
              "      <td id=\"T_22934_row6_col12\" class=\"data row6 col12\" >1.000000</td>\n",
              "      <td id=\"T_22934_row6_col13\" class=\"data row6 col13\" >2.000000</td>\n",
              "      <td id=\"T_22934_row6_col14\" class=\"data row6 col14\" >1729.000000</td>\n",
              "      <td id=\"T_22934_row6_col15\" class=\"data row6 col15\" >989.100500</td>\n",
              "      <td id=\"T_22934_row6_col16\" class=\"data row6 col16\" >447.514000</td>\n",
              "      <td id=\"T_22934_row6_col17\" class=\"data row6 col17\" >45870.351000</td>\n",
              "      <td id=\"T_22934_row6_col18\" class=\"data row6 col18\" >533.035000</td>\n",
              "      <td id=\"T_22934_row6_col19\" class=\"data row6 col19\" >72.000000</td>\n",
              "      <td id=\"T_22934_row6_col20\" class=\"data row6 col20\" >1824.000000</td>\n",
              "      <td id=\"T_22934_row6_col21\" class=\"data row6 col21\" >0.000000</td>\n",
              "      <td id=\"T_22934_row6_col22\" class=\"data row6 col22\" >1.000000</td>\n",
              "      <td id=\"T_22934_row6_col23\" class=\"data row6 col23\" >1.000000</td>\n",
              "      <td id=\"T_22934_row6_col24\" class=\"data row6 col24\" >0.000000</td>\n",
              "      <td id=\"T_22934_row6_col25\" class=\"data row6 col25\" >3.000000</td>\n",
              "      <td id=\"T_22934_row6_col26\" class=\"data row6 col26\" >1069.500000</td>\n",
              "      <td id=\"T_22934_row6_col27\" class=\"data row6 col27\" >0.000000</td>\n",
              "      <td id=\"T_22934_row6_col28\" class=\"data row6 col28\" >0.000000</td>\n",
              "      <td id=\"T_22934_row6_col29\" class=\"data row6 col29\" >0.000000</td>\n",
              "      <td id=\"T_22934_row6_col30\" class=\"data row6 col30\" >1473.091000</td>\n",
              "      <td id=\"T_22934_row6_col31\" class=\"data row6 col31\" >5026.186500</td>\n",
              "      <td id=\"T_22934_row6_col32\" class=\"data row6 col32\" >0.000000</td>\n",
              "      <td id=\"T_22934_row6_col33\" class=\"data row6 col33\" >0.000000</td>\n",
              "      <td id=\"T_22934_row6_col34\" class=\"data row6 col34\" >659.500000</td>\n",
              "      <td id=\"T_22934_row6_col35\" class=\"data row6 col35\" >2543.500000</td>\n",
              "      <td id=\"T_22934_row6_col36\" class=\"data row6 col36\" >1.000000</td>\n",
              "      <td id=\"T_22934_row6_col37\" class=\"data row6 col37\" >1.000000</td>\n",
              "      <td id=\"T_22934_row6_col38\" class=\"data row6 col38\" >683.500000</td>\n",
              "      <td id=\"T_22934_row6_col39\" class=\"data row6 col39\" >70059.000000</td>\n",
              "      <td id=\"T_22934_row6_col40\" class=\"data row6 col40\" >0.000000</td>\n",
              "      <td id=\"T_22934_row6_col41\" class=\"data row6 col41\" >0.000000</td>\n",
              "      <td id=\"T_22934_row6_col42\" class=\"data row6 col42\" >3.000000</td>\n",
              "      <td id=\"T_22934_row6_col43\" class=\"data row6 col43\" >0.000000</td>\n",
              "      <td id=\"T_22934_row6_col44\" class=\"data row6 col44\" >0.000000</td>\n",
              "      <td id=\"T_22934_row6_col45\" class=\"data row6 col45\" >0.000000</td>\n",
              "      <td id=\"T_22934_row6_col46\" class=\"data row6 col46\" >0.000000</td>\n",
              "      <td id=\"T_22934_row6_col47\" class=\"data row6 col47\" >0.000000</td>\n",
              "      <td id=\"T_22934_row6_col48\" class=\"data row6 col48\" >0.000000</td>\n",
              "      <td id=\"T_22934_row6_col49\" class=\"data row6 col49\" >0.000000</td>\n",
              "      <td id=\"T_22934_row6_col50\" class=\"data row6 col50\" >1360.000000</td>\n",
              "      <td id=\"T_22934_row6_col51\" class=\"data row6 col51\" >2825.500000</td>\n",
              "      <td id=\"T_22934_row6_col52\" class=\"data row6 col52\" >2608.000000</td>\n",
              "      <td id=\"T_22934_row6_col53\" class=\"data row6 col53\" >0.000000</td>\n",
              "      <td id=\"T_22934_row6_col54\" class=\"data row6 col54\" >1.000000</td>\n",
              "      <td id=\"T_22934_row6_col55\" class=\"data row6 col55\" >803.000000</td>\n",
              "      <td id=\"T_22934_row6_col56\" class=\"data row6 col56\" >5.000000</td>\n",
              "      <td id=\"T_22934_row6_col57\" class=\"data row6 col57\" >0.000000</td>\n",
              "      <td id=\"T_22934_row6_col58\" class=\"data row6 col58\" >0.000000</td>\n",
              "      <td id=\"T_22934_row6_col59\" class=\"data row6 col59\" >0.000000</td>\n",
              "      <td id=\"T_22934_row6_col60\" class=\"data row6 col60\" >3.000000</td>\n",
              "      <td id=\"T_22934_row6_col61\" class=\"data row6 col61\" >0.000000</td>\n",
              "      <td id=\"T_22934_row6_col62\" class=\"data row6 col62\" >117123.000000</td>\n",
              "      <td id=\"T_22934_row6_col63\" class=\"data row6 col63\" >1.000000</td>\n",
              "      <td id=\"T_22934_row6_col64\" class=\"data row6 col64\" >1.000000</td>\n",
              "      <td id=\"T_22934_row6_col65\" class=\"data row6 col65\" >0.000000</td>\n",
              "      <td id=\"T_22934_row6_col66\" class=\"data row6 col66\" >0.000000</td>\n",
              "      <td id=\"T_22934_row6_col67\" class=\"data row6 col67\" >225.700500</td>\n",
              "      <td id=\"T_22934_row6_col68\" class=\"data row6 col68\" >2015.433000</td>\n",
              "      <td id=\"T_22934_row6_col69\" class=\"data row6 col69\" >6876.610500</td>\n",
              "      <td id=\"T_22934_row6_col70\" class=\"data row6 col70\" >7.000000</td>\n",
              "      <td id=\"T_22934_row6_col71\" class=\"data row6 col71\" >1.000000</td>\n",
              "      <td id=\"T_22934_row6_col72\" class=\"data row6 col72\" >0.000000</td>\n",
              "      <td id=\"T_22934_row6_col73\" class=\"data row6 col73\" >0.000000</td>\n",
              "      <td id=\"T_22934_row6_col74\" class=\"data row6 col74\" >34853.000000</td>\n",
              "      <td id=\"T_22934_row6_col75\" class=\"data row6 col75\" >0.000000</td>\n",
              "      <td id=\"T_22934_row6_col76\" class=\"data row6 col76\" >0.000000</td>\n",
              "      <td id=\"T_22934_row6_col77\" class=\"data row6 col77\" >2.000000</td>\n",
              "      <td id=\"T_22934_row6_col78\" class=\"data row6 col78\" >0.000000</td>\n",
              "      <td id=\"T_22934_row6_col79\" class=\"data row6 col79\" >3.000000</td>\n",
              "      <td id=\"T_22934_row6_col80\" class=\"data row6 col80\" >20.000000</td>\n",
              "      <td id=\"T_22934_row6_col81\" class=\"data row6 col81\" >0.000000</td>\n",
              "      <td id=\"T_22934_row6_col82\" class=\"data row6 col82\" >0.000000</td>\n",
              "      <td id=\"T_22934_row6_col83\" class=\"data row6 col83\" >3.000000</td>\n",
              "      <td id=\"T_22934_row6_col84\" class=\"data row6 col84\" >0.000000</td>\n",
              "      <td id=\"T_22934_row6_col85\" class=\"data row6 col85\" >5.000000</td>\n",
              "      <td id=\"T_22934_row6_col86\" class=\"data row6 col86\" >0.000000</td>\n",
              "      <td id=\"T_22934_row6_col87\" class=\"data row6 col87\" >0.000000</td>\n",
              "      <td id=\"T_22934_row6_col88\" class=\"data row6 col88\" >3.000000</td>\n",
              "      <td id=\"T_22934_row6_col89\" class=\"data row6 col89\" >0.000000</td>\n",
              "      <td id=\"T_22934_row6_col90\" class=\"data row6 col90\" >6120.846000</td>\n",
              "      <td id=\"T_22934_row6_col91\" class=\"data row6 col91\" >0.000000</td>\n",
              "      <td id=\"T_22934_row6_col92\" class=\"data row6 col92\" >350.000000</td>\n",
              "      <td id=\"T_22934_row6_col93\" class=\"data row6 col93\" >0.000000</td>\n",
              "      <td id=\"T_22934_row6_col94\" class=\"data row6 col94\" >1.000000</td>\n",
              "      <td id=\"T_22934_row6_col95\" class=\"data row6 col95\" >1991.000000</td>\n",
              "      <td id=\"T_22934_row6_col96\" class=\"data row6 col96\" >28353.442500</td>\n",
              "      <td id=\"T_22934_row6_col97\" class=\"data row6 col97\" >14788.500000</td>\n",
              "      <td id=\"T_22934_row6_col98\" class=\"data row6 col98\" >50458.000000</td>\n",
              "      <td id=\"T_22934_row6_col99\" class=\"data row6 col99\" >0.000000</td>\n",
              "      <td id=\"T_22934_row6_col100\" class=\"data row6 col100\" >19397.613500</td>\n",
              "      <td id=\"T_22934_row6_col101\" class=\"data row6 col101\" >1.000000</td>\n",
              "      <td id=\"T_22934_row6_col102\" class=\"data row6 col102\" >0.000000</td>\n",
              "      <td id=\"T_22934_row6_col103\" class=\"data row6 col103\" >70.000000</td>\n",
              "      <td id=\"T_22934_row6_col104\" class=\"data row6 col104\" >2.000000</td>\n",
              "      <td id=\"T_22934_row6_col105\" class=\"data row6 col105\" >21169.500000</td>\n",
              "      <td id=\"T_22934_row6_col106\" class=\"data row6 col106\" >5.000000</td>\n",
              "      <td id=\"T_22934_row6_col107\" class=\"data row6 col107\" >193.000000</td>\n",
              "      <td id=\"T_22934_row6_col108\" class=\"data row6 col108\" >7.000000</td>\n",
              "      <td id=\"T_22934_row6_col109\" class=\"data row6 col109\" >0.000000</td>\n",
              "      <td id=\"T_22934_row6_col110\" class=\"data row6 col110\" >1.000000</td>\n",
              "      <td id=\"T_22934_row6_col111\" class=\"data row6 col111\" >5.000000</td>\n",
              "      <td id=\"T_22934_row6_col112\" class=\"data row6 col112\" >1558.283000</td>\n",
              "    </tr>\n",
              "    <tr>\n",
              "      <th id=\"T_22934_level0_row7\" class=\"row_heading level0 row7\" >max</th>\n",
              "      <td id=\"T_22934_row7_col0\" class=\"data row7 col0\" >5.000000</td>\n",
              "      <td id=\"T_22934_row7_col1\" class=\"data row7 col1\" >10.000000</td>\n",
              "      <td id=\"T_22934_row7_col2\" class=\"data row7 col2\" >27.000000</td>\n",
              "      <td id=\"T_22934_row7_col3\" class=\"data row7 col3\" >7729.000000</td>\n",
              "      <td id=\"T_22934_row7_col4\" class=\"data row7 col4\" >60995.431000</td>\n",
              "      <td id=\"T_22934_row7_col5\" class=\"data row7 col5\" >208116.552000</td>\n",
              "      <td id=\"T_22934_row7_col6\" class=\"data row7 col6\" >208117.000000</td>\n",
              "      <td id=\"T_22934_row7_col7\" class=\"data row7 col7\" >9264.000000</td>\n",
              "      <td id=\"T_22934_row7_col8\" class=\"data row7 col8\" >548711.000000</td>\n",
              "      <td id=\"T_22934_row7_col9\" class=\"data row7 col9\" >1.000000</td>\n",
              "      <td id=\"T_22934_row7_col10\" class=\"data row7 col10\" >95779.144570</td>\n",
              "      <td id=\"T_22934_row7_col11\" class=\"data row7 col11\" >13776.000000</td>\n",
              "      <td id=\"T_22934_row7_col12\" class=\"data row7 col12\" >1.000000</td>\n",
              "      <td id=\"T_22934_row7_col13\" class=\"data row7 col13\" >15.000000</td>\n",
              "      <td id=\"T_22934_row7_col14\" class=\"data row7 col14\" >19040.000000</td>\n",
              "      <td id=\"T_22934_row7_col15\" class=\"data row7 col15\" >9213.064000</td>\n",
              "      <td id=\"T_22934_row7_col16\" class=\"data row7 col16\" >3296.035000</td>\n",
              "      <td id=\"T_22934_row7_col17\" class=\"data row7 col17\" >337843.933000</td>\n",
              "      <td id=\"T_22934_row7_col18\" class=\"data row7 col18\" >3591.152000</td>\n",
              "      <td id=\"T_22934_row7_col19\" class=\"data row7 col19\" >90.000000</td>\n",
              "      <td id=\"T_22934_row7_col20\" class=\"data row7 col20\" >13776.000000</td>\n",
              "      <td id=\"T_22934_row7_col21\" class=\"data row7 col21\" >333790.556000</td>\n",
              "      <td id=\"T_22934_row7_col22\" class=\"data row7 col22\" >1.000000</td>\n",
              "      <td id=\"T_22934_row7_col23\" class=\"data row7 col23\" >1.000000</td>\n",
              "      <td id=\"T_22934_row7_col24\" class=\"data row7 col24\" >2407.218000</td>\n",
              "      <td id=\"T_22934_row7_col25\" class=\"data row7 col25\" >9.000000</td>\n",
              "      <td id=\"T_22934_row7_col26\" class=\"data row7 col26\" >12826.000000</td>\n",
              "      <td id=\"T_22934_row7_col27\" class=\"data row7 col27\" >426888.000000</td>\n",
              "      <td id=\"T_22934_row7_col28\" class=\"data row7 col28\" >3078.000000</td>\n",
              "      <td id=\"T_22934_row7_col29\" class=\"data row7 col29\" >7665.000000</td>\n",
              "      <td id=\"T_22934_row7_col30\" class=\"data row7 col30\" >13843.341000</td>\n",
              "      <td id=\"T_22934_row7_col31\" class=\"data row7 col31\" >47233.418000</td>\n",
              "      <td id=\"T_22934_row7_col32\" class=\"data row7 col32\" >1.000000</td>\n",
              "      <td id=\"T_22934_row7_col33\" class=\"data row7 col33\" >1.000000</td>\n",
              "      <td id=\"T_22934_row7_col34\" class=\"data row7 col34\" >7589.000000</td>\n",
              "      <td id=\"T_22934_row7_col35\" class=\"data row7 col35\" >32012.000000</td>\n",
              "      <td id=\"T_22934_row7_col36\" class=\"data row7 col36\" >5.000000</td>\n",
              "      <td id=\"T_22934_row7_col37\" class=\"data row7 col37\" >1.000000</td>\n",
              "      <td id=\"T_22934_row7_col38\" class=\"data row7 col38\" >4501.000000</td>\n",
              "      <td id=\"T_22934_row7_col39\" class=\"data row7 col39\" >461353.000000</td>\n",
              "      <td id=\"T_22934_row7_col40\" class=\"data row7 col40\" >777.000000</td>\n",
              "      <td id=\"T_22934_row7_col41\" class=\"data row7 col41\" >107761.689000</td>\n",
              "      <td id=\"T_22934_row7_col42\" class=\"data row7 col42\" >13.000000</td>\n",
              "      <td id=\"T_22934_row7_col43\" class=\"data row7 col43\" >1.000000</td>\n",
              "      <td id=\"T_22934_row7_col44\" class=\"data row7 col44\" >896.600000</td>\n",
              "      <td id=\"T_22934_row7_col45\" class=\"data row7 col45\" >124285.134000</td>\n",
              "      <td id=\"T_22934_row7_col46\" class=\"data row7 col46\" >2139.431000</td>\n",
              "      <td id=\"T_22934_row7_col47\" class=\"data row7 col47\" >425.000000</td>\n",
              "      <td id=\"T_22934_row7_col48\" class=\"data row7 col48\" >57308.157000</td>\n",
              "      <td id=\"T_22934_row7_col49\" class=\"data row7 col49\" >1117.371000</td>\n",
              "      <td id=\"T_22934_row7_col50\" class=\"data row7 col50\" >10783.000000</td>\n",
              "      <td id=\"T_22934_row7_col51\" class=\"data row7 col51\" >16122.000000</td>\n",
              "      <td id=\"T_22934_row7_col52\" class=\"data row7 col52\" >15472.000000</td>\n",
              "      <td id=\"T_22934_row7_col53\" class=\"data row7 col53\" >1766.273000</td>\n",
              "      <td id=\"T_22934_row7_col54\" class=\"data row7 col54\" >1.000000</td>\n",
              "      <td id=\"T_22934_row7_col55\" class=\"data row7 col55\" >6355.000000</td>\n",
              "      <td id=\"T_22934_row7_col56\" class=\"data row7 col56\" >21.000000</td>\n",
              "      <td id=\"T_22934_row7_col57\" class=\"data row7 col57\" >1.000000</td>\n",
              "      <td id=\"T_22934_row7_col58\" class=\"data row7 col58\" >561.000000</td>\n",
              "      <td id=\"T_22934_row7_col59\" class=\"data row7 col59\" >75740.000000</td>\n",
              "      <td id=\"T_22934_row7_col60\" class=\"data row7 col60\" >15.000000</td>\n",
              "      <td id=\"T_22934_row7_col61\" class=\"data row7 col61\" >1.000000</td>\n",
              "      <td id=\"T_22934_row7_col62\" class=\"data row7 col62\" >1096083.000000</td>\n",
              "      <td id=\"T_22934_row7_col63\" class=\"data row7 col63\" >3.000000</td>\n",
              "      <td id=\"T_22934_row7_col64\" class=\"data row7 col64\" >10.000000</td>\n",
              "      <td id=\"T_22934_row7_col65\" class=\"data row7 col65\" >1394.000000</td>\n",
              "      <td id=\"T_22934_row7_col66\" class=\"data row7 col66\" >4582.283000</td>\n",
              "      <td id=\"T_22934_row7_col67\" class=\"data row7 col67\" >2155.258000</td>\n",
              "      <td id=\"T_22934_row7_col68\" class=\"data row7 col68\" >18916.317000</td>\n",
              "      <td id=\"T_22934_row7_col69\" class=\"data row7 col69\" >64542.434000</td>\n",
              "      <td id=\"T_22934_row7_col70\" class=\"data row7 col70\" >23.000000</td>\n",
              "      <td id=\"T_22934_row7_col71\" class=\"data row7 col71\" >1.000000</td>\n",
              "      <td id=\"T_22934_row7_col72\" class=\"data row7 col72\" >550.000000</td>\n",
              "      <td id=\"T_22934_row7_col73\" class=\"data row7 col73\" >74183.000000</td>\n",
              "      <td id=\"T_22934_row7_col74\" class=\"data row7 col74\" >428085.000000</td>\n",
              "      <td id=\"T_22934_row7_col75\" class=\"data row7 col75\" >6008.000000</td>\n",
              "      <td id=\"T_22934_row7_col76\" class=\"data row7 col76\" >548710.670000</td>\n",
              "      <td id=\"T_22934_row7_col77\" class=\"data row7 col77\" >8.000000</td>\n",
              "      <td id=\"T_22934_row7_col78\" class=\"data row7 col78\" >3.000000</td>\n",
              "      <td id=\"T_22934_row7_col79\" class=\"data row7 col79\" >21.000000</td>\n",
              "      <td id=\"T_22934_row7_col80\" class=\"data row7 col80\" >40.000000</td>\n",
              "      <td id=\"T_22934_row7_col81\" class=\"data row7 col81\" >6388.000000</td>\n",
              "      <td id=\"T_22934_row7_col82\" class=\"data row7 col82\" >583416.000000</td>\n",
              "      <td id=\"T_22934_row7_col83\" class=\"data row7 col83\" >40.000000</td>\n",
              "      <td id=\"T_22934_row7_col84\" class=\"data row7 col84\" >1.000000</td>\n",
              "      <td id=\"T_22934_row7_col85\" class=\"data row7 col85\" >21.000000</td>\n",
              "      <td id=\"T_22934_row7_col86\" class=\"data row7 col86\" >2256.647000</td>\n",
              "      <td id=\"T_22934_row7_col87\" class=\"data row7 col87\" >206110.735000</td>\n",
              "      <td id=\"T_22934_row7_col88\" class=\"data row7 col88\" >14.000000</td>\n",
              "      <td id=\"T_22934_row7_col89\" class=\"data row7 col89\" >1.000000</td>\n",
              "      <td id=\"T_22934_row7_col90\" class=\"data row7 col90\" >238895.052000</td>\n",
              "      <td id=\"T_22934_row7_col91\" class=\"data row7 col91\" >1391.000000</td>\n",
              "      <td id=\"T_22934_row7_col92\" class=\"data row7 col92\" >3019.000000</td>\n",
              "      <td id=\"T_22934_row7_col93\" class=\"data row7 col93\" >8389.687000</td>\n",
              "      <td id=\"T_22934_row7_col94\" class=\"data row7 col94\" >1.000000</td>\n",
              "      <td id=\"T_22934_row7_col95\" class=\"data row7 col95\" >2009.000000</td>\n",
              "      <td id=\"T_22934_row7_col96\" class=\"data row7 col96\" >221973.784000</td>\n",
              "      <td id=\"T_22934_row7_col97\" class=\"data row7 col97\" >150254.000000</td>\n",
              "      <td id=\"T_22934_row7_col98\" class=\"data row7 col98\" >512667.000000</td>\n",
              "      <td id=\"T_22934_row7_col99\" class=\"data row7 col99\" >12972.000000</td>\n",
              "      <td id=\"T_22934_row7_col100\" class=\"data row7 col100\" >284130.000000</td>\n",
              "      <td id=\"T_22934_row7_col101\" class=\"data row7 col101\" >1.000000</td>\n",
              "      <td id=\"T_22934_row7_col102\" class=\"data row7 col102\" >1.000000</td>\n",
              "      <td id=\"T_22934_row7_col103\" class=\"data row7 col103\" >90.000000</td>\n",
              "      <td id=\"T_22934_row7_col104\" class=\"data row7 col104\" >40.000000</td>\n",
              "      <td id=\"T_22934_row7_col105\" class=\"data row7 col105\" >284130.000000</td>\n",
              "      <td id=\"T_22934_row7_col106\" class=\"data row7 col106\" >8.000000</td>\n",
              "      <td id=\"T_22934_row7_col107\" class=\"data row7 col107\" >2490.000000</td>\n",
              "      <td id=\"T_22934_row7_col108\" class=\"data row7 col108\" >23.000000</td>\n",
              "      <td id=\"T_22934_row7_col109\" class=\"data row7 col109\" >1.000000</td>\n",
              "      <td id=\"T_22934_row7_col110\" class=\"data row7 col110\" >1.000000</td>\n",
              "      <td id=\"T_22934_row7_col111\" class=\"data row7 col111\" >5.000000</td>\n",
              "      <td id=\"T_22934_row7_col112\" class=\"data row7 col112\" >11069.027000</td>\n",
              "    </tr>\n",
              "  </tbody>\n",
              "</table>\n"
            ]
          },
          "metadata": {},
          "execution_count": 13
        }
      ]
    },
    {
      "cell_type": "code",
      "source": [
        "data3.info(verbose=True, show_counts=True)"
      ],
      "metadata": {
        "colab": {
          "base_uri": "https://localhost:8080/"
        },
        "id": "ytXpzRNeDcCc",
        "outputId": "1f8709ff-52fd-40ab-9ee0-5f1909648bf0"
      },
      "execution_count": 17,
      "outputs": [
        {
          "output_type": "stream",
          "name": "stdout",
          "text": [
            "<class 'pandas.core.frame.DataFrame'>\n",
            "RangeIndex: 10875 entries, 0 to 10874\n",
            "Data columns (total 121 columns):\n",
            " #    Column              Non-Null Count  Dtype  \n",
            "---   ------              --------------  -----  \n",
            " 0    Climate_Region_Pub  10875 non-null  int64  \n",
            " 1    DIVISION            10875 non-null  int64  \n",
            " 2    REPORTABLE_DOMAIN   10875 non-null  int64  \n",
            " 3    DOLELCOL            10875 non-null  object \n",
            " 4    TOTALDOLCOL         10875 non-null  int64  \n",
            " 5    KWHCOL              10875 non-null  float64\n",
            " 6    BTUELCOL            10875 non-null  float64\n",
            " 7    TOTALBTUCOL         10875 non-null  int64  \n",
            " 8    TOTALDOLSPH         10875 non-null  int64  \n",
            " 9    TOTALBTUSPH         10875 non-null  int64  \n",
            " 10   CELLAR              10875 non-null  int64  \n",
            " 11   NWEIGHT             10875 non-null  float64\n",
            " 12   TOTHSQFT            10875 non-null  int64  \n",
            " 13   HEATHOME            10875 non-null  int64  \n",
            " 14   NUMPC               10875 non-null  int64  \n",
            " 15   DOLLAREL            10875 non-null  int64  \n",
            " 16   DOLELOTH            10875 non-null  float64\n",
            " 17   CUFEETNGSPH         10875 non-null  float64\n",
            " 18   BTUNGSPH            10875 non-null  float64\n",
            " 19   DOLNGSPH            10875 non-null  float64\n",
            " 20   TEMPHOME            10875 non-null  int64  \n",
            " 21   TOTCSQFT            10875 non-null  int64  \n",
            " 22   BTUFOSPH            10875 non-null  float64\n",
            " 23   AIRCOND             10875 non-null  int64  \n",
            " 24   ELCOOL              10875 non-null  int64  \n",
            " 25   GALLONFOSPH         10875 non-null  float64\n",
            " 26   WALLTYPE            10875 non-null  int64  \n",
            " 27   TOTALDOLOTH         10875 non-null  int64  \n",
            " 28   BTUFO               10875 non-null  int64  \n",
            " 29   GALLONFO            10875 non-null  int64  \n",
            " 30   DOLFOSPH            10875 non-null  object \n",
            " 31   DOLLARFO            10875 non-null  int64  \n",
            " 32   KWHSPH              10875 non-null  float64\n",
            " 33   BTUELSPH            10875 non-null  float64\n",
            " 34   FOWARM              10875 non-null  int64  \n",
            " 35   USEFO               10875 non-null  int64  \n",
            " 36   TOTUSQFT            10875 non-null  int64  \n",
            " 37   TOTALDOL            10875 non-null  int64  \n",
            " 38   NUMTHERM            10875 non-null  int64  \n",
            " 39   DOLELSPH            10875 non-null  object \n",
            " 40   CONCRETE            10875 non-null  int64  \n",
            " 41   CUFEETNG            10875 non-null  int64  \n",
            " 42   BTUNG               10875 non-null  int64  \n",
            " 43   GALLONFOOTH         10875 non-null  float64\n",
            " 44   BTUFOOTH            10875 non-null  float64\n",
            " 45   BEDROOMS            10875 non-null  int64  \n",
            " 46   FOWATER             10875 non-null  int64  \n",
            " 47   GALLONFOWTH         10875 non-null  float64\n",
            " 48   BTUFOWTH            10875 non-null  float64\n",
            " 49   DOLFOWTH            10875 non-null  float64\n",
            " 50   GALLONKEROTH        10875 non-null  int64  \n",
            " 51   BTUKEROTH           10875 non-null  float64\n",
            " 52   DOLKEROTH           10875 non-null  float64\n",
            " 53   TOTUCSQFT           10875 non-null  int64  \n",
            " 54   TOTSQFT             10875 non-null  int64  \n",
            " 55   TOTSQFT_EN          10875 non-null  int64  \n",
            " 56   DOLNGWTH            10875 non-null  object \n",
            " 57   DOLFOOTH            10875 non-null  float64\n",
            " 58   ELOTHER             10875 non-null  int64  \n",
            " 59   DOLLARNG            10875 non-null  int64  \n",
            " 60   FUELHEAT            10875 non-null  int64  \n",
            " 61   NOTMOIST            10875 non-null  int64  \n",
            " 62   GALLONKER           10875 non-null  int64  \n",
            " 63   BTUKER              10875 non-null  int64  \n",
            " 64   NUMCFAN             10875 non-null  int64  \n",
            " 65   FOILAUX             10875 non-null  int64  \n",
            " 66   TOTALBTU            10875 non-null  int64  \n",
            " 67   COOLTYPE            10875 non-null  int64  \n",
            " 68   DOOR1SUM            10875 non-null  int64  \n",
            " 69   DOLLARKER           10875 non-null  int64  \n",
            " 70   DOLLPOTH            10875 non-null  float64\n",
            " 71   DOLELWTH            10875 non-null  float64\n",
            " 72   KWHWTH              10875 non-null  float64\n",
            " 73   BTUELWTH            10875 non-null  float64\n",
            " 74   TOTROOMS            10875 non-null  int64  \n",
            " 75   ELWATER             10875 non-null  int64  \n",
            " 76   GALLONKERSPH        10875 non-null  int64  \n",
            " 77   BTUKERSPH           10875 non-null  float64\n",
            " 78   TOTALBTUOTH         10875 non-null  int64  \n",
            " 79   GALLONLPSPH         10875 non-null  float64\n",
            " 80   BTULPSPH            10875 non-null  float64\n",
            " 81   NCOMBATH            10875 non-null  int64  \n",
            " 82   OVEN                10875 non-null  int64  \n",
            " 83   EQUIPM              10875 non-null  int64  \n",
            " 84   STORIES             10875 non-null  int64  \n",
            " 85   GALLONLP            10875 non-null  int64  \n",
            " 86   BTULP               10875 non-null  int64  \n",
            " 87   LGT1                10875 non-null  int64  \n",
            " 88   SOLWARM             10875 non-null  int64  \n",
            " 89   FUELH2O             10875 non-null  int64  \n",
            " 90   GALLONLPOTH         10875 non-null  float64\n",
            " 91   BTULPOTH            10875 non-null  float64\n",
            " 92   TVCOLOR             10875 non-null  int64  \n",
            " 93   SOLARAUX            10875 non-null  int64  \n",
            " 94   CUFEETNGOTH         10875 non-null  object \n",
            " 95   BTUNGOTH            10875 non-null  float64\n",
            " 96   KWHOTH              10875 non-null  object \n",
            " 97   DOLKERSPH           10875 non-null  float64\n",
            " 98   TOTALDOLWTH         10875 non-null  int64  \n",
            " 99   DOLLPSPH            10875 non-null  float64\n",
            " 100  USENG               10875 non-null  int64  \n",
            " 101  YEARMADE            10875 non-null  int64  \n",
            " 102  BTUELOTH            10875 non-null  float64\n",
            " 103  KWH                 10875 non-null  int64  \n",
            " 104  BTUEL               10875 non-null  int64  \n",
            " 105  DOLLARLP            10875 non-null  int64  \n",
            " 106  CUFEETNGWTH         10875 non-null  object \n",
            " 107  BTUNGWTH            10875 non-null  float64\n",
            " 108  UGWATER             10875 non-null  int64  \n",
            " 109  SDESCENT            10875 non-null  int64  \n",
            " 110  TEMPGONE            10875 non-null  int64  \n",
            " 111  LGT1EE              10875 non-null  int64  \n",
            " 112  TOTALBTUWTH         10875 non-null  int64  \n",
            " 113  ROOFTYPE            10875 non-null  int64  \n",
            " 114  DOLELRFG            10875 non-null  object \n",
            " 115  TOTALDOLRFG         10875 non-null  int64  \n",
            " 116  HEATROOM            10875 non-null  int64  \n",
            " 117  WDWATER             10875 non-null  int64  \n",
            " 118  UGWARM              10875 non-null  int64  \n",
            " 119  DRYRFUEL            10875 non-null  int64  \n",
            " 120  KWHRFG              10875 non-null  float64\n",
            "dtypes: float64(34), int64(79), object(8)\n",
            "memory usage: 10.0+ MB\n"
          ]
        }
      ]
    },
    {
      "cell_type": "markdown",
      "source": [
        "## Convert all columns with type object to float/integer (numeric)"
      ],
      "metadata": {
        "id": "KStaXsTwI7xd"
      }
    },
    {
      "cell_type": "code",
      "source": [
        "# If it's not possible to convert the value to numeric then set the value to NaN, then use dropna to drop all the row with nill value\n",
        "data3_numeric = data3.apply(pd.to_numeric, errors='coerce').dropna()\n",
        "data3_numeric.info(verbose=True, show_counts=True)"
      ],
      "metadata": {
        "colab": {
          "base_uri": "https://localhost:8080/"
        },
        "id": "11wj_Ml5IlV_",
        "outputId": "0e41d820-e49e-4f13-bc55-68bdcab40c51"
      },
      "execution_count": 28,
      "outputs": [
        {
          "output_type": "stream",
          "name": "stdout",
          "text": [
            "<class 'pandas.core.frame.DataFrame'>\n",
            "Int64Index: 10785 entries, 0 to 10874\n",
            "Data columns (total 121 columns):\n",
            " #    Column              Non-Null Count  Dtype  \n",
            "---   ------              --------------  -----  \n",
            " 0    Climate_Region_Pub  10785 non-null  int64  \n",
            " 1    DIVISION            10785 non-null  int64  \n",
            " 2    REPORTABLE_DOMAIN   10785 non-null  int64  \n",
            " 3    DOLELCOL            10785 non-null  float64\n",
            " 4    TOTALDOLCOL         10785 non-null  int64  \n",
            " 5    KWHCOL              10785 non-null  float64\n",
            " 6    BTUELCOL            10785 non-null  float64\n",
            " 7    TOTALBTUCOL         10785 non-null  int64  \n",
            " 8    TOTALDOLSPH         10785 non-null  int64  \n",
            " 9    TOTALBTUSPH         10785 non-null  int64  \n",
            " 10   CELLAR              10785 non-null  int64  \n",
            " 11   NWEIGHT             10785 non-null  float64\n",
            " 12   TOTHSQFT            10785 non-null  int64  \n",
            " 13   HEATHOME            10785 non-null  int64  \n",
            " 14   NUMPC               10785 non-null  int64  \n",
            " 15   DOLLAREL            10785 non-null  int64  \n",
            " 16   DOLELOTH            10785 non-null  float64\n",
            " 17   CUFEETNGSPH         10785 non-null  float64\n",
            " 18   BTUNGSPH            10785 non-null  float64\n",
            " 19   DOLNGSPH            10785 non-null  float64\n",
            " 20   TEMPHOME            10785 non-null  int64  \n",
            " 21   TOTCSQFT            10785 non-null  int64  \n",
            " 22   BTUFOSPH            10785 non-null  float64\n",
            " 23   AIRCOND             10785 non-null  int64  \n",
            " 24   ELCOOL              10785 non-null  int64  \n",
            " 25   GALLONFOSPH         10785 non-null  float64\n",
            " 26   WALLTYPE            10785 non-null  int64  \n",
            " 27   TOTALDOLOTH         10785 non-null  int64  \n",
            " 28   BTUFO               10785 non-null  int64  \n",
            " 29   GALLONFO            10785 non-null  int64  \n",
            " 30   DOLFOSPH            10785 non-null  float64\n",
            " 31   DOLLARFO            10785 non-null  int64  \n",
            " 32   KWHSPH              10785 non-null  float64\n",
            " 33   BTUELSPH            10785 non-null  float64\n",
            " 34   FOWARM              10785 non-null  int64  \n",
            " 35   USEFO               10785 non-null  int64  \n",
            " 36   TOTUSQFT            10785 non-null  int64  \n",
            " 37   TOTALDOL            10785 non-null  int64  \n",
            " 38   NUMTHERM            10785 non-null  int64  \n",
            " 39   DOLELSPH            10785 non-null  float64\n",
            " 40   CONCRETE            10785 non-null  int64  \n",
            " 41   CUFEETNG            10785 non-null  int64  \n",
            " 42   BTUNG               10785 non-null  int64  \n",
            " 43   GALLONFOOTH         10785 non-null  float64\n",
            " 44   BTUFOOTH            10785 non-null  float64\n",
            " 45   BEDROOMS            10785 non-null  int64  \n",
            " 46   FOWATER             10785 non-null  int64  \n",
            " 47   GALLONFOWTH         10785 non-null  float64\n",
            " 48   BTUFOWTH            10785 non-null  float64\n",
            " 49   DOLFOWTH            10785 non-null  float64\n",
            " 50   GALLONKEROTH        10785 non-null  int64  \n",
            " 51   BTUKEROTH           10785 non-null  float64\n",
            " 52   DOLKEROTH           10785 non-null  float64\n",
            " 53   TOTUCSQFT           10785 non-null  int64  \n",
            " 54   TOTSQFT             10785 non-null  int64  \n",
            " 55   TOTSQFT_EN          10785 non-null  int64  \n",
            " 56   DOLNGWTH            10785 non-null  float64\n",
            " 57   DOLFOOTH            10785 non-null  float64\n",
            " 58   ELOTHER             10785 non-null  int64  \n",
            " 59   DOLLARNG            10785 non-null  int64  \n",
            " 60   FUELHEAT            10785 non-null  int64  \n",
            " 61   NOTMOIST            10785 non-null  int64  \n",
            " 62   GALLONKER           10785 non-null  int64  \n",
            " 63   BTUKER              10785 non-null  int64  \n",
            " 64   NUMCFAN             10785 non-null  int64  \n",
            " 65   FOILAUX             10785 non-null  int64  \n",
            " 66   TOTALBTU            10785 non-null  int64  \n",
            " 67   COOLTYPE            10785 non-null  int64  \n",
            " 68   DOOR1SUM            10785 non-null  int64  \n",
            " 69   DOLLARKER           10785 non-null  int64  \n",
            " 70   DOLLPOTH            10785 non-null  float64\n",
            " 71   DOLELWTH            10785 non-null  float64\n",
            " 72   KWHWTH              10785 non-null  float64\n",
            " 73   BTUELWTH            10785 non-null  float64\n",
            " 74   TOTROOMS            10785 non-null  int64  \n",
            " 75   ELWATER             10785 non-null  int64  \n",
            " 76   GALLONKERSPH        10785 non-null  int64  \n",
            " 77   BTUKERSPH           10785 non-null  float64\n",
            " 78   TOTALBTUOTH         10785 non-null  int64  \n",
            " 79   GALLONLPSPH         10785 non-null  float64\n",
            " 80   BTULPSPH            10785 non-null  float64\n",
            " 81   NCOMBATH            10785 non-null  int64  \n",
            " 82   OVEN                10785 non-null  int64  \n",
            " 83   EQUIPM              10785 non-null  int64  \n",
            " 84   STORIES             10785 non-null  int64  \n",
            " 85   GALLONLP            10785 non-null  int64  \n",
            " 86   BTULP               10785 non-null  int64  \n",
            " 87   LGT1                10785 non-null  int64  \n",
            " 88   SOLWARM             10785 non-null  int64  \n",
            " 89   FUELH2O             10785 non-null  int64  \n",
            " 90   GALLONLPOTH         10785 non-null  float64\n",
            " 91   BTULPOTH            10785 non-null  float64\n",
            " 92   TVCOLOR             10785 non-null  int64  \n",
            " 93   SOLARAUX            10785 non-null  int64  \n",
            " 94   CUFEETNGOTH         10785 non-null  float64\n",
            " 95   BTUNGOTH            10785 non-null  float64\n",
            " 96   KWHOTH              10785 non-null  float64\n",
            " 97   DOLKERSPH           10785 non-null  float64\n",
            " 98   TOTALDOLWTH         10785 non-null  int64  \n",
            " 99   DOLLPSPH            10785 non-null  float64\n",
            " 100  USENG               10785 non-null  int64  \n",
            " 101  YEARMADE            10785 non-null  int64  \n",
            " 102  BTUELOTH            10785 non-null  float64\n",
            " 103  KWH                 10785 non-null  int64  \n",
            " 104  BTUEL               10785 non-null  int64  \n",
            " 105  DOLLARLP            10785 non-null  int64  \n",
            " 106  CUFEETNGWTH         10785 non-null  float64\n",
            " 107  BTUNGWTH            10785 non-null  float64\n",
            " 108  UGWATER             10785 non-null  int64  \n",
            " 109  SDESCENT            10785 non-null  int64  \n",
            " 110  TEMPGONE            10785 non-null  int64  \n",
            " 111  LGT1EE              10785 non-null  int64  \n",
            " 112  TOTALBTUWTH         10785 non-null  int64  \n",
            " 113  ROOFTYPE            10785 non-null  int64  \n",
            " 114  DOLELRFG            10785 non-null  float64\n",
            " 115  TOTALDOLRFG         10785 non-null  int64  \n",
            " 116  HEATROOM            10785 non-null  int64  \n",
            " 117  WDWATER             10785 non-null  int64  \n",
            " 118  UGWARM              10785 non-null  int64  \n",
            " 119  DRYRFUEL            10785 non-null  int64  \n",
            " 120  KWHRFG              10785 non-null  float64\n",
            "dtypes: float64(42), int64(79)\n",
            "memory usage: 10.0 MB\n"
          ]
        }
      ]
    },
    {
      "cell_type": "code",
      "source": [
        "data3.shape"
      ],
      "metadata": {
        "colab": {
          "base_uri": "https://localhost:8080/"
        },
        "id": "pBcuXqD8JRH5",
        "outputId": "a21515b8-46c9-4a15-842f-4d1a53060f07"
      },
      "execution_count": 29,
      "outputs": [
        {
          "output_type": "execute_result",
          "data": {
            "text/plain": [
              "(10875, 121)"
            ]
          },
          "metadata": {},
          "execution_count": 29
        }
      ]
    },
    {
      "cell_type": "code",
      "source": [
        "data3_numeric.shape"
      ],
      "metadata": {
        "colab": {
          "base_uri": "https://localhost:8080/"
        },
        "id": "wtHjnWI7JSnb",
        "outputId": "ad368dc8-53d4-40ce-ce12-e523def068c3"
      },
      "execution_count": 30,
      "outputs": [
        {
          "output_type": "execute_result",
          "data": {
            "text/plain": [
              "(10785, 121)"
            ]
          },
          "metadata": {},
          "execution_count": 30
        }
      ]
    },
    {
      "cell_type": "markdown",
      "source": [
        "## Divide data into X and y\n",
        "Target = TOTALBTU (Total usage, in thousand BTU, 2009)"
      ],
      "metadata": {
        "id": "q_2scqtLFXoy"
      }
    },
    {
      "cell_type": "code",
      "source": [
        "X = data3_numeric.drop(['TOTALBTU'], axis=1)\n",
        "y = data3_numeric['TOTALBTU']"
      ],
      "metadata": {
        "id": "_9e901n4EzyQ"
      },
      "execution_count": 31,
      "outputs": []
    },
    {
      "cell_type": "markdown",
      "source": [
        "## Split data to train, test and validation data"
      ],
      "metadata": {
        "id": "ClNd_UYTFrU_"
      }
    },
    {
      "cell_type": "code",
      "source": [
        "X_train, X_test, y_train, y_test = train_test_split(X, y , test_size=0.25, random_state=0)"
      ],
      "metadata": {
        "id": "iRKZ2m0XFPnF"
      },
      "execution_count": 32,
      "outputs": []
    },
    {
      "cell_type": "code",
      "source": [
        "X_train, X_val, y_train, y_val = train_test_split(X_train, y_train, test_size = 0.3, random_state = 0)"
      ],
      "metadata": {
        "id": "EE7ym1m4Fu2y"
      },
      "execution_count": 55,
      "outputs": []
    },
    {
      "cell_type": "markdown",
      "source": [
        "## Normalize Data"
      ],
      "metadata": {
        "id": "seSA6Uw9GQph"
      }
    },
    {
      "cell_type": "code",
      "source": [
        "ss_train = StandardScaler()\n",
        "X_train = ss_train.fit_transform(X_train)"
      ],
      "metadata": {
        "id": "IZPDcjKeGRdf"
      },
      "execution_count": 56,
      "outputs": []
    },
    {
      "cell_type": "code",
      "source": [
        "ss_test = StandardScaler()\n",
        "X_test = ss_test.fit_transform(X_test)"
      ],
      "metadata": {
        "id": "qfFWx8fiGRdo"
      },
      "execution_count": 57,
      "outputs": []
    },
    {
      "cell_type": "code",
      "source": [
        "print(f'Размер исходного набора: {X.shape}')\n",
        "print(f'Размер обучающего набора: {X_train.shape}')\n",
        "print(f'Размер тестового набора: {X_val.shape}')"
      ],
      "metadata": {
        "colab": {
          "base_uri": "https://localhost:8080/"
        },
        "id": "qIQtIsoeJd0f",
        "outputId": "4f7aa2aa-0e36-4d9c-dad6-f85fdcb5ba79"
      },
      "execution_count": 58,
      "outputs": [
        {
          "output_type": "stream",
          "name": "stdout",
          "text": [
            "Размер исходного набора: (10785, 120)\n",
            "Размер обучающего набора: (4529, 120)\n",
            "Размер тестового набора: (1941, 120)\n"
          ]
        }
      ]
    },
    {
      "cell_type": "markdown",
      "source": [
        "## TensorFlow"
      ],
      "metadata": {
        "id": "eE4-im7mJgfx"
      }
    },
    {
      "cell_type": "code",
      "source": [
        "model_regressor = tf.keras.Sequential([\n",
        "    tf.keras.layers.Dense(12,activation='relu',input_dim=X_train.shape[1]),\n",
        "    tf.keras.layers.Dense(8,activation='relu'),\n",
        "    tf.keras.layers.Dense(1)\n",
        "])"
      ],
      "metadata": {
        "id": "NTtZWM_fJhoe"
      },
      "execution_count": 59,
      "outputs": []
    },
    {
      "cell_type": "code",
      "source": [
        "model_regressor.summary()"
      ],
      "metadata": {
        "colab": {
          "base_uri": "https://localhost:8080/"
        },
        "id": "tXP34zNWJmYF",
        "outputId": "035041ef-621c-4c88-c9b0-ac74621393d3"
      },
      "execution_count": 60,
      "outputs": [
        {
          "output_type": "stream",
          "name": "stdout",
          "text": [
            "Model: \"sequential_2\"\n",
            "_________________________________________________________________\n",
            " Layer (type)                Output Shape              Param #   \n",
            "=================================================================\n",
            " dense_6 (Dense)             (None, 12)                1452      \n",
            "                                                                 \n",
            " dense_7 (Dense)             (None, 8)                 104       \n",
            "                                                                 \n",
            " dense_8 (Dense)             (None, 1)                 9         \n",
            "                                                                 \n",
            "=================================================================\n",
            "Total params: 1565 (6.11 KB)\n",
            "Trainable params: 1565 (6.11 KB)\n",
            "Non-trainable params: 0 (0.00 Byte)\n",
            "_________________________________________________________________\n"
          ]
        }
      ]
    },
    {
      "cell_type": "code",
      "source": [
        "model_regressor.compile(loss='mse',\n",
        "                      optimizer='adam',\n",
        "                      metrics='mae')"
      ],
      "metadata": {
        "id": "rvF7TD38JpJo"
      },
      "execution_count": 61,
      "outputs": []
    },
    {
      "cell_type": "code",
      "source": [
        "regressor_history = model_regressor.fit(X_train, y_train,\n",
        "                      validation_data=(X_val,y_val), batch_size = 40, epochs=100)"
      ],
      "metadata": {
        "colab": {
          "base_uri": "https://localhost:8080/"
        },
        "id": "_tGtg6C8Jpgw",
        "outputId": "98e653c6-8b62-40d2-a31c-d3d0935f8551"
      },
      "execution_count": 62,
      "outputs": [
        {
          "output_type": "stream",
          "name": "stdout",
          "text": [
            "Epoch 1/100\n",
            "114/114 [==============================] - 1s 5ms/step - loss: 11035527168.0000 - mae: 89041.6094 - val_loss: 10896097280.0000 - val_mae: 90368.7578\n",
            "Epoch 2/100\n",
            "114/114 [==============================] - 0s 3ms/step - loss: 11030199296.0000 - mae: 89023.8516 - val_loss: 10886195200.0000 - val_mae: 90333.9531\n",
            "Epoch 3/100\n",
            "114/114 [==============================] - 0s 4ms/step - loss: 11013783552.0000 - mae: 88968.4688 - val_loss: 10862519296.0000 - val_mae: 90252.4062\n",
            "Epoch 4/100\n",
            "114/114 [==============================] - 0s 4ms/step - loss: 10976501760.0000 - mae: 88848.6094 - val_loss: 10812849152.0000 - val_mae: 90082.7031\n",
            "Epoch 5/100\n",
            "114/114 [==============================] - 0s 3ms/step - loss: 10911251456.0000 - mae: 88634.8672 - val_loss: 10734131200.0000 - val_mae: 89814.7969\n",
            "Epoch 6/100\n",
            "114/114 [==============================] - 0s 4ms/step - loss: 10811233280.0000 - mae: 88310.0703 - val_loss: 10618062848.0000 - val_mae: 89419.7266\n",
            "Epoch 7/100\n",
            "114/114 [==============================] - 0s 4ms/step - loss: 10668233728.0000 - mae: 87846.0312 - val_loss: 10456164352.0000 - val_mae: 88866.4453\n",
            "Epoch 8/100\n",
            "114/114 [==============================] - 1s 4ms/step - loss: 10477607936.0000 - mae: 87223.8203 - val_loss: 10248580096.0000 - val_mae: 88149.7500\n",
            "Epoch 9/100\n",
            "114/114 [==============================] - 0s 4ms/step - loss: 10239677440.0000 - mae: 86426.0625 - val_loss: 9997082624.0000 - val_mae: 87270.4062\n",
            "Epoch 10/100\n",
            "114/114 [==============================] - 0s 4ms/step - loss: 9956314112.0000 - mae: 85471.4062 - val_loss: 9700007936.0000 - val_mae: 86213.5547\n",
            "Epoch 11/100\n",
            "114/114 [==============================] - 1s 5ms/step - loss: 9623473152.0000 - mae: 84347.3594 - val_loss: 9359895552.0000 - val_mae: 84975.4844\n",
            "Epoch 12/100\n",
            "114/114 [==============================] - 1s 5ms/step - loss: 9240996864.0000 - mae: 83003.7344 - val_loss: 8961579008.0000 - val_mae: 83485.1641\n",
            "Epoch 13/100\n",
            "114/114 [==============================] - 1s 6ms/step - loss: 8808854528.0000 - mae: 81428.1875 - val_loss: 8526017536.0000 - val_mae: 81798.5391\n",
            "Epoch 14/100\n",
            "114/114 [==============================] - 1s 6ms/step - loss: 8339721216.0000 - mae: 79658.5781 - val_loss: 8055956992.0000 - val_mae: 79902.7891\n",
            "Epoch 15/100\n",
            "114/114 [==============================] - 1s 6ms/step - loss: 7848695808.0000 - mae: 77737.9141 - val_loss: 7581236736.0000 - val_mae: 77896.8906\n",
            "Epoch 16/100\n",
            "114/114 [==============================] - 1s 6ms/step - loss: 7341192192.0000 - mae: 75639.5078 - val_loss: 7081787904.0000 - val_mae: 75671.8047\n",
            "Epoch 17/100\n",
            "114/114 [==============================] - 1s 6ms/step - loss: 6823106048.0000 - mae: 73377.7188 - val_loss: 6582128640.0000 - val_mae: 73304.8438\n",
            "Epoch 18/100\n",
            "114/114 [==============================] - 1s 7ms/step - loss: 6308419584.0000 - mae: 70988.8203 - val_loss: 6092526080.0000 - val_mae: 70820.9766\n",
            "Epoch 19/100\n",
            "114/114 [==============================] - 1s 4ms/step - loss: 5809240576.0000 - mae: 68499.3906 - val_loss: 5621650432.0000 - val_mae: 68241.2812\n",
            "Epoch 20/100\n",
            "114/114 [==============================] - 1s 4ms/step - loss: 5332623872.0000 - mae: 65911.7578 - val_loss: 5176587264.0000 - val_mae: 65584.5469\n",
            "Epoch 21/100\n",
            "114/114 [==============================] - 0s 4ms/step - loss: 4884911616.0000 - mae: 63267.2656 - val_loss: 4762432000.0000 - val_mae: 62878.5000\n",
            "Epoch 22/100\n",
            "114/114 [==============================] - 0s 4ms/step - loss: 4477585408.0000 - mae: 60640.5000 - val_loss: 4389784576.0000 - val_mae: 60248.7188\n",
            "Epoch 23/100\n",
            "114/114 [==============================] - 0s 4ms/step - loss: 4115886592.0000 - mae: 58056.5156 - val_loss: 4062864896.0000 - val_mae: 57733.8438\n",
            "Epoch 24/100\n",
            "114/114 [==============================] - 0s 4ms/step - loss: 3799908096.0000 - mae: 55641.5625 - val_loss: 3784838656.0000 - val_mae: 55417.4727\n",
            "Epoch 25/100\n",
            "114/114 [==============================] - 0s 3ms/step - loss: 3529864192.0000 - mae: 53402.0664 - val_loss: 3544138240.0000 - val_mae: 53257.9961\n",
            "Epoch 26/100\n",
            "114/114 [==============================] - 0s 4ms/step - loss: 3305283328.0000 - mae: 51415.9648 - val_loss: 3342369792.0000 - val_mae: 51375.1211\n",
            "Epoch 27/100\n",
            "114/114 [==============================] - 0s 4ms/step - loss: 3121387264.0000 - mae: 49765.9336 - val_loss: 3182754816.0000 - val_mae: 49875.8086\n",
            "Epoch 28/100\n",
            "114/114 [==============================] - 1s 4ms/step - loss: 2967144448.0000 - mae: 48329.8477 - val_loss: 3038214656.0000 - val_mae: 48454.7344\n",
            "Epoch 29/100\n",
            "114/114 [==============================] - 1s 5ms/step - loss: 2834865408.0000 - mae: 47035.2227 - val_loss: 2921427456.0000 - val_mae: 47334.2539\n",
            "Epoch 30/100\n",
            "114/114 [==============================] - 0s 4ms/step - loss: 2729089536.0000 - mae: 46006.0781 - val_loss: 2825999360.0000 - val_mae: 46460.8750\n",
            "Epoch 31/100\n",
            "114/114 [==============================] - 1s 5ms/step - loss: 2643525376.0000 - mae: 45178.8008 - val_loss: 2746297856.0000 - val_mae: 45710.1836\n",
            "Epoch 32/100\n",
            "114/114 [==============================] - 0s 4ms/step - loss: 2570012672.0000 - mae: 44480.6758 - val_loss: 2674017280.0000 - val_mae: 45012.7148\n",
            "Epoch 33/100\n",
            "114/114 [==============================] - 0s 4ms/step - loss: 2503129344.0000 - mae: 43814.8555 - val_loss: 2607247872.0000 - val_mae: 44383.5625\n",
            "Epoch 34/100\n",
            "114/114 [==============================] - 0s 3ms/step - loss: 2439027968.0000 - mae: 43200.7383 - val_loss: 2541849088.0000 - val_mae: 43763.0820\n",
            "Epoch 35/100\n",
            "114/114 [==============================] - 0s 4ms/step - loss: 2376953856.0000 - mae: 42583.0859 - val_loss: 2477794304.0000 - val_mae: 43170.3750\n",
            "Epoch 36/100\n",
            "114/114 [==============================] - 0s 4ms/step - loss: 2314627072.0000 - mae: 41971.9492 - val_loss: 2410738944.0000 - val_mae: 42550.2891\n",
            "Epoch 37/100\n",
            "114/114 [==============================] - 0s 4ms/step - loss: 2249686784.0000 - mae: 41345.5117 - val_loss: 2343304960.0000 - val_mae: 41923.1992\n",
            "Epoch 38/100\n",
            "114/114 [==============================] - 0s 4ms/step - loss: 2183721984.0000 - mae: 40697.5234 - val_loss: 2273334528.0000 - val_mae: 41270.3125\n",
            "Epoch 39/100\n",
            "114/114 [==============================] - 0s 4ms/step - loss: 2116118272.0000 - mae: 40035.4141 - val_loss: 2203187712.0000 - val_mae: 40603.2812\n",
            "Epoch 40/100\n",
            "114/114 [==============================] - 1s 5ms/step - loss: 2047665408.0000 - mae: 39334.9141 - val_loss: 2131605504.0000 - val_mae: 39903.0078\n",
            "Epoch 41/100\n",
            "114/114 [==============================] - 1s 5ms/step - loss: 1977851008.0000 - mae: 38618.0859 - val_loss: 2058876544.0000 - val_mae: 39172.9805\n",
            "Epoch 42/100\n",
            "114/114 [==============================] - 1s 5ms/step - loss: 1907369984.0000 - mae: 37874.5898 - val_loss: 1984581504.0000 - val_mae: 38401.8438\n",
            "Epoch 43/100\n",
            "114/114 [==============================] - 1s 6ms/step - loss: 1835618816.0000 - mae: 37084.1289 - val_loss: 1910159616.0000 - val_mae: 37620.3789\n",
            "Epoch 44/100\n",
            "114/114 [==============================] - 1s 6ms/step - loss: 1762693248.0000 - mae: 36287.9336 - val_loss: 1835016064.0000 - val_mae: 36805.9844\n",
            "Epoch 45/100\n",
            "114/114 [==============================] - 1s 6ms/step - loss: 1689763328.0000 - mae: 35461.2578 - val_loss: 1759876480.0000 - val_mae: 35961.4102\n",
            "Epoch 46/100\n",
            "114/114 [==============================] - 1s 6ms/step - loss: 1616203776.0000 - mae: 34609.7617 - val_loss: 1683975552.0000 - val_mae: 35094.2695\n",
            "Epoch 47/100\n",
            "114/114 [==============================] - 1s 6ms/step - loss: 1543276032.0000 - mae: 33743.9805 - val_loss: 1608667520.0000 - val_mae: 34198.7344\n",
            "Epoch 48/100\n",
            "114/114 [==============================] - 1s 7ms/step - loss: 1470212480.0000 - mae: 32847.3906 - val_loss: 1533676416.0000 - val_mae: 33271.5039\n",
            "Epoch 49/100\n",
            "114/114 [==============================] - 0s 4ms/step - loss: 1398392576.0000 - mae: 31933.4277 - val_loss: 1460165504.0000 - val_mae: 32339.0391\n",
            "Epoch 50/100\n",
            "114/114 [==============================] - 0s 4ms/step - loss: 1327388032.0000 - mae: 30999.4219 - val_loss: 1387157376.0000 - val_mae: 31383.3379\n",
            "Epoch 51/100\n",
            "114/114 [==============================] - 0s 4ms/step - loss: 1257708672.0000 - mae: 30060.8105 - val_loss: 1316259072.0000 - val_mae: 30416.1250\n",
            "Epoch 52/100\n",
            "114/114 [==============================] - 0s 4ms/step - loss: 1190159360.0000 - mae: 29104.8926 - val_loss: 1247264384.0000 - val_mae: 29456.4688\n",
            "Epoch 53/100\n",
            "114/114 [==============================] - 0s 4ms/step - loss: 1124656384.0000 - mae: 28146.9844 - val_loss: 1180085888.0000 - val_mae: 28482.1543\n",
            "Epoch 54/100\n",
            "114/114 [==============================] - 0s 4ms/step - loss: 1062006656.0000 - mae: 27209.3105 - val_loss: 1116297600.0000 - val_mae: 27518.9824\n",
            "Epoch 55/100\n",
            "114/114 [==============================] - 0s 4ms/step - loss: 1001787136.0000 - mae: 26259.3477 - val_loss: 1054905536.0000 - val_mae: 26558.8418\n",
            "Epoch 56/100\n",
            "114/114 [==============================] - 1s 4ms/step - loss: 944483136.0000 - mae: 25318.1992 - val_loss: 996229248.0000 - val_mae: 25605.9551\n",
            "Epoch 57/100\n",
            "114/114 [==============================] - 0s 4ms/step - loss: 890377152.0000 - mae: 24425.2246 - val_loss: 942645888.0000 - val_mae: 24708.8457\n",
            "Epoch 58/100\n",
            "114/114 [==============================] - 0s 4ms/step - loss: 839785088.0000 - mae: 23556.7344 - val_loss: 891186240.0000 - val_mae: 23827.3320\n",
            "Epoch 59/100\n",
            "114/114 [==============================] - 0s 3ms/step - loss: 792989824.0000 - mae: 22724.1523 - val_loss: 844224000.0000 - val_mae: 22994.1953\n",
            "Epoch 60/100\n",
            "114/114 [==============================] - 0s 3ms/step - loss: 749998912.0000 - mae: 21936.7129 - val_loss: 801165824.0000 - val_mae: 22208.1172\n",
            "Epoch 61/100\n",
            "114/114 [==============================] - 0s 4ms/step - loss: 710535360.0000 - mae: 21194.0332 - val_loss: 762223360.0000 - val_mae: 21480.3496\n",
            "Epoch 62/100\n",
            "114/114 [==============================] - 0s 3ms/step - loss: 674715200.0000 - mae: 20487.3438 - val_loss: 725524992.0000 - val_mae: 20790.1680\n",
            "Epoch 63/100\n",
            "114/114 [==============================] - 0s 4ms/step - loss: 641890368.0000 - mae: 19850.6289 - val_loss: 693948672.0000 - val_mae: 20182.9141\n",
            "Epoch 64/100\n",
            "114/114 [==============================] - 0s 4ms/step - loss: 612639744.0000 - mae: 19259.1504 - val_loss: 664315392.0000 - val_mae: 19605.5449\n",
            "Epoch 65/100\n",
            "114/114 [==============================] - 0s 3ms/step - loss: 586123072.0000 - mae: 18727.7617 - val_loss: 638424704.0000 - val_mae: 19092.7363\n",
            "Epoch 66/100\n",
            "114/114 [==============================] - 0s 4ms/step - loss: 562376256.0000 - mae: 18237.3223 - val_loss: 614430144.0000 - val_mae: 18614.1445\n",
            "Epoch 67/100\n",
            "114/114 [==============================] - 0s 3ms/step - loss: 541151360.0000 - mae: 17801.4043 - val_loss: 592897664.0000 - val_mae: 18169.8613\n",
            "Epoch 68/100\n",
            "114/114 [==============================] - 0s 3ms/step - loss: 521424672.0000 - mae: 17385.6953 - val_loss: 572971520.0000 - val_mae: 17767.2070\n",
            "Epoch 69/100\n",
            "114/114 [==============================] - 0s 3ms/step - loss: 503688320.0000 - mae: 17033.1719 - val_loss: 555027840.0000 - val_mae: 17407.6016\n",
            "Epoch 70/100\n",
            "114/114 [==============================] - 0s 3ms/step - loss: 487556768.0000 - mae: 16686.9375 - val_loss: 538808448.0000 - val_mae: 17070.3242\n",
            "Epoch 71/100\n",
            "114/114 [==============================] - 0s 4ms/step - loss: 472270688.0000 - mae: 16386.8203 - val_loss: 523403104.0000 - val_mae: 16771.8184\n",
            "Epoch 72/100\n",
            "114/114 [==============================] - 1s 5ms/step - loss: 458197056.0000 - mae: 16103.0127 - val_loss: 509056160.0000 - val_mae: 16484.7773\n",
            "Epoch 73/100\n",
            "114/114 [==============================] - 1s 6ms/step - loss: 444977504.0000 - mae: 15824.3623 - val_loss: 495711296.0000 - val_mae: 16209.0605\n",
            "Epoch 74/100\n",
            "114/114 [==============================] - 1s 6ms/step - loss: 432092160.0000 - mae: 15553.2344 - val_loss: 482641792.0000 - val_mae: 15950.9268\n",
            "Epoch 75/100\n",
            "114/114 [==============================] - 1s 6ms/step - loss: 420097920.0000 - mae: 15312.1064 - val_loss: 470752064.0000 - val_mae: 15709.7715\n",
            "Epoch 76/100\n",
            "114/114 [==============================] - 1s 6ms/step - loss: 408736000.0000 - mae: 15062.5371 - val_loss: 459130688.0000 - val_mae: 15478.2822\n",
            "Epoch 77/100\n",
            "114/114 [==============================] - 1s 6ms/step - loss: 398251168.0000 - mae: 14857.9834 - val_loss: 449011872.0000 - val_mae: 15254.4404\n",
            "Epoch 78/100\n",
            "114/114 [==============================] - 1s 6ms/step - loss: 388516384.0000 - mae: 14635.2959 - val_loss: 438823200.0000 - val_mae: 15040.2305\n",
            "Epoch 79/100\n",
            "114/114 [==============================] - 1s 7ms/step - loss: 378980320.0000 - mae: 14426.2080 - val_loss: 428903872.0000 - val_mae: 14846.4014\n",
            "Epoch 80/100\n",
            "114/114 [==============================] - 0s 4ms/step - loss: 369881568.0000 - mae: 14236.0312 - val_loss: 419405408.0000 - val_mae: 14649.0781\n",
            "Epoch 81/100\n",
            "114/114 [==============================] - 0s 4ms/step - loss: 361101952.0000 - mae: 14041.5049 - val_loss: 410141024.0000 - val_mae: 14460.1885\n",
            "Epoch 82/100\n",
            "114/114 [==============================] - 0s 4ms/step - loss: 352605184.0000 - mae: 13855.6719 - val_loss: 401265504.0000 - val_mae: 14257.5195\n",
            "Epoch 83/100\n",
            "114/114 [==============================] - 0s 4ms/step - loss: 344340128.0000 - mae: 13670.5684 - val_loss: 392417984.0000 - val_mae: 14073.2783\n",
            "Epoch 84/100\n",
            "114/114 [==============================] - 0s 3ms/step - loss: 336238112.0000 - mae: 13471.7383 - val_loss: 383720224.0000 - val_mae: 13895.7246\n",
            "Epoch 85/100\n",
            "114/114 [==============================] - 0s 4ms/step - loss: 328265600.0000 - mae: 13324.9902 - val_loss: 375608672.0000 - val_mae: 13698.9023\n",
            "Epoch 86/100\n",
            "114/114 [==============================] - 0s 4ms/step - loss: 320496992.0000 - mae: 13111.3535 - val_loss: 367163552.0000 - val_mae: 13521.0537\n",
            "Epoch 87/100\n",
            "114/114 [==============================] - 0s 4ms/step - loss: 312949408.0000 - mae: 12953.1855 - val_loss: 359376352.0000 - val_mae: 13343.8438\n",
            "Epoch 88/100\n",
            "114/114 [==============================] - 0s 4ms/step - loss: 305573504.0000 - mae: 12772.3711 - val_loss: 351469632.0000 - val_mae: 13164.0010\n",
            "Epoch 89/100\n",
            "114/114 [==============================] - 0s 4ms/step - loss: 298423200.0000 - mae: 12583.2051 - val_loss: 343998016.0000 - val_mae: 12993.5889\n",
            "Epoch 90/100\n",
            "114/114 [==============================] - 0s 3ms/step - loss: 291347360.0000 - mae: 12415.6602 - val_loss: 336331616.0000 - val_mae: 12823.6523\n",
            "Epoch 91/100\n",
            "114/114 [==============================] - 0s 4ms/step - loss: 284461056.0000 - mae: 12255.3984 - val_loss: 328854944.0000 - val_mae: 12665.5283\n",
            "Epoch 92/100\n",
            "114/114 [==============================] - 1s 5ms/step - loss: 277966016.0000 - mae: 12089.5654 - val_loss: 321878656.0000 - val_mae: 12488.6152\n",
            "Epoch 93/100\n",
            "114/114 [==============================] - 1s 6ms/step - loss: 271374880.0000 - mae: 11922.1416 - val_loss: 315104288.0000 - val_mae: 12315.8828\n",
            "Epoch 94/100\n",
            "114/114 [==============================] - 1s 6ms/step - loss: 265065296.0000 - mae: 11759.3857 - val_loss: 308397792.0000 - val_mae: 12153.7344\n",
            "Epoch 95/100\n",
            "114/114 [==============================] - 1s 6ms/step - loss: 258799168.0000 - mae: 11596.9873 - val_loss: 301561792.0000 - val_mae: 12000.4678\n",
            "Epoch 96/100\n",
            "114/114 [==============================] - 1s 6ms/step - loss: 252692784.0000 - mae: 11443.6533 - val_loss: 295063360.0000 - val_mae: 11841.4561\n",
            "Epoch 97/100\n",
            "114/114 [==============================] - 1s 5ms/step - loss: 246657616.0000 - mae: 11279.0146 - val_loss: 288330848.0000 - val_mae: 11696.7969\n",
            "Epoch 98/100\n",
            "114/114 [==============================] - 1s 6ms/step - loss: 240822576.0000 - mae: 11150.2217 - val_loss: 282193344.0000 - val_mae: 11525.7520\n",
            "Epoch 99/100\n",
            "114/114 [==============================] - 1s 7ms/step - loss: 235215408.0000 - mae: 10971.7129 - val_loss: 276023040.0000 - val_mae: 11377.2969\n",
            "Epoch 100/100\n",
            "114/114 [==============================] - 1s 8ms/step - loss: 229593504.0000 - mae: 10823.1572 - val_loss: 270000832.0000 - val_mae: 11217.2598\n"
          ]
        }
      ]
    },
    {
      "cell_type": "markdown",
      "source": [
        "## MSE, MAE, R2"
      ],
      "metadata": {
        "id": "ggNi9tXkJ7h8"
      }
    },
    {
      "cell_type": "code",
      "source": [
        "y_pred = model_regressor.predict(X_test)\n",
        "\n",
        "mse = mean_squared_error(y_test, y_pred)\n",
        "\n",
        "mae = mean_absolute_error(y_test, y_pred)\n",
        "\n",
        "r2 = r2_score(y_test, y_pred)\n",
        "\n",
        "print(f\"MSE: {mse:.2f}\")\n",
        "print(f\"MAE: {mae:.2f}\")\n",
        "print(f\"R-squared (R^2): {r2:.2f}\")"
      ],
      "metadata": {
        "colab": {
          "base_uri": "https://localhost:8080/"
        },
        "id": "kKY_j_leJ5Am",
        "outputId": "013d8bd7-1f30-46f1-ec88-ae6e20355ba4"
      },
      "execution_count": 63,
      "outputs": [
        {
          "output_type": "stream",
          "name": "stdout",
          "text": [
            "85/85 [==============================] - 0s 3ms/step\n",
            "MSE: 286726977.01\n",
            "MAE: 11793.39\n",
            "R-squared (R^2): 0.91\n"
          ]
        }
      ]
    },
    {
      "cell_type": "code",
      "source": [
        "mae = regressor_history.history['mae']\n",
        "val_mae = regressor_history.history['val_mae']\n",
        "epochs = range(1,len(mae)+1)\n",
        "\n",
        "plt.title('Mean Absolute Error')\n",
        "plt.plot(epochs,mae,label='Train')\n",
        "plt.plot(epochs,val_mae,color='red',label='Validation')\n",
        "plt.xlabel('Epochs')\n",
        "plt.ylabel('MAE')\n",
        "plt.legend()\n",
        "plt.show()"
      ],
      "metadata": {
        "colab": {
          "base_uri": "https://localhost:8080/",
          "height": 472
        },
        "id": "A1NCRVN5LVUA",
        "outputId": "7ce917ca-9d0b-4e65-cc26-67cdb23dd00f"
      },
      "execution_count": 64,
      "outputs": [
        {
          "output_type": "display_data",
          "data": {
            "text/plain": [
              "<Figure size 640x480 with 1 Axes>"
            ],
            "image/png": "[encoded data removed]"
          },
          "metadata": {}
        }
      ]
    },
    {
      "cell_type": "code",
      "source": [
        "loss_function = regressor_history.history['loss']\n",
        "val_loss_function = regressor_history.history['val_loss']\n",
        "epochs = range(1,len(loss_function)+1)\n",
        "\n",
        "plt.title('Loss')\n",
        "plt.plot(epochs,loss_function,label='Train')\n",
        "plt.plot(epochs,val_loss_function,color='red',label='Validation')\n",
        "plt.xlabel('Epochs')\n",
        "plt.ylabel('Loss function')\n",
        "plt.legend()\n",
        "plt.show()"
      ],
      "metadata": {
        "colab": {
          "base_uri": "https://localhost:8080/",
          "height": 472
        },
        "id": "nooNBC08LZIS",
        "outputId": "1b304480-65ba-41a3-aebc-1dfa6b10c612"
      },
      "execution_count": 65,
      "outputs": [
        {
          "output_type": "display_data",
          "data": {
            "text/plain": [
              "<Figure size 640x480 with 1 Axes>"
            ],
            "image/png": "[encoded data removed]"
          },
          "metadata": {}
        }
      ]
    }
  ]
}