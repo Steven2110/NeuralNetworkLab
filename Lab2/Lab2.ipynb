{
  "nbformat": 4,
  "nbformat_minor": 0,
  "metadata": {
    "colab": {
      "provenance": [],
      "toc_visible": true
    },
    "kernelspec": {
      "name": "python3",
      "display_name": "Python 3"
    },
    "language_info": {
      "name": "python"
    }
  },
  "cells": [
    {
      "cell_type": "code",
      "execution_count": 1,
      "metadata": {
        "colab": {
          "base_uri": "https://localhost:8080/"
        },
        "id": "3LqJfog9EvF9",
        "outputId": "ef0967cb-30b5-40e2-9c5a-adce9a4222d0"
      },
      "outputs": [
        {
          "output_type": "stream",
          "name": "stdout",
          "text": [
            "Mounted at /content/gdrive\n"
          ]
        }
      ],
      "source": [
        "from google.colab import drive\n",
        "drive.mount('/content/gdrive')"
      ]
    },
    {
      "cell_type": "code",
      "source": [
        "import numpy as np\n",
        "import pandas as pd\n",
        "import tensorflow as tf\n",
        "import matplotlib.pyplot as plt\n",
        "from tensorflow.keras.layers import Dropout\n",
        "from sklearn.preprocessing import MinMaxScaler\n",
        "from sklearn.metrics import mean_squared_error, mean_absolute_error, r2_score"
      ],
      "metadata": {
        "id": "GOBKxJ87FCXu"
      },
      "execution_count": 2,
      "outputs": []
    },
    {
      "cell_type": "code",
      "source": [
        "file_name = \"/content/gdrive/MyDrive/TSU/Lab_Neural_Network/Lab2/Khabarovsk_weather.csv\""
      ],
      "metadata": {
        "id": "xzVIPhABc5nL"
      },
      "execution_count": 3,
      "outputs": []
    },
    {
      "cell_type": "code",
      "source": [
        "df = pd.read_csv(file_name, sep=';')\n",
        "df.head(10)"
      ],
      "metadata": {
        "colab": {
          "base_uri": "https://localhost:8080/",
          "height": 363
        },
        "id": "VkqU9ESDecHq",
        "outputId": "eca52e41-62f8-4eb9-bf78-c7d6c2dee660"
      },
      "execution_count": 4,
      "outputs": [
        {
          "output_type": "execute_result",
          "data": {
            "text/plain": [
              "          LocalTime    T     P0      P     U     DD\n",
              "0  15.10.2020 23:30  4.0  753.6  760.5  48.0  �����\n",
              "1  15.10.2020 23:00  4.0  753.6  760.5  48.0  �����\n",
              "2  15.10.2020 22:30  5.0  753.6  760.5  42.0  �����\n",
              "3  15.10.2020 22:00  5.0  753.6  760.5  42.0  �����\n",
              "4  15.10.2020 21:30  5.0  753.6  760.5  45.0  �����\n",
              "5  15.10.2020 21:00  5.0  753.6  760.5  42.0  �����\n",
              "6  15.10.2020 20:30  4.0  753.6  760.5  48.0  �����\n",
              "7  15.10.2020 20:00  4.0  753.6  760.5  48.0  �����\n",
              "8  15.10.2020 19:30  4.0  753.6  760.5  45.0  �����\n",
              "9  15.10.2020 19:00  4.0  753.6  760.5  48.0  �����"
            ],
            "text/html": [
              "\n",
              "  <div id=\"df-ebe07551-daf2-495a-ab9e-6b6366f7b979\" class=\"colab-df-container\">\n",
              "    <div>\n",
              "<style scoped>\n",
              "    .dataframe tbody tr th:only-of-type {\n",
              "        vertical-align: middle;\n",
              "    }\n",
              "\n",
              "    .dataframe tbody tr th {\n",
              "        vertical-align: top;\n",
              "    }\n",
              "\n",
              "    .dataframe thead th {\n",
              "        text-align: right;\n",
              "    }\n",
              "</style>\n",
              "<table border=\"1\" class=\"dataframe\">\n",
              "  <thead>\n",
              "    <tr style=\"text-align: right;\">\n",
              "      <th></th>\n",
              "      <th>LocalTime</th>\n",
              "      <th>T</th>\n",
              "      <th>P0</th>\n",
              "      <th>P</th>\n",
              "      <th>U</th>\n",
              "      <th>DD</th>\n",
              "    </tr>\n",
              "  </thead>\n",
              "  <tbody>\n",
              "    <tr>\n",
              "      <th>0</th>\n",
              "      <td>15.10.2020 23:30</td>\n",
              "      <td>4.0</td>\n",
              "      <td>753.6</td>\n",
              "      <td>760.5</td>\n",
              "      <td>48.0</td>\n",
              "      <td>�����</td>\n",
              "    </tr>\n",
              "    <tr>\n",
              "      <th>1</th>\n",
              "      <td>15.10.2020 23:00</td>\n",
              "      <td>4.0</td>\n",
              "      <td>753.6</td>\n",
              "      <td>760.5</td>\n",
              "      <td>48.0</td>\n",
              "      <td>�����</td>\n",
              "    </tr>\n",
              "    <tr>\n",
              "      <th>2</th>\n",
              "      <td>15.10.2020 22:30</td>\n",
              "      <td>5.0</td>\n",
              "      <td>753.6</td>\n",
              "      <td>760.5</td>\n",
              "      <td>42.0</td>\n",
              "      <td>�����</td>\n",
              "    </tr>\n",
              "    <tr>\n",
              "      <th>3</th>\n",
              "      <td>15.10.2020 22:00</td>\n",
              "      <td>5.0</td>\n",
              "      <td>753.6</td>\n",
              "      <td>760.5</td>\n",
              "      <td>42.0</td>\n",
              "      <td>�����</td>\n",
              "    </tr>\n",
              "    <tr>\n",
              "      <th>4</th>\n",
              "      <td>15.10.2020 21:30</td>\n",
              "      <td>5.0</td>\n",
              "      <td>753.6</td>\n",
              "      <td>760.5</td>\n",
              "      <td>45.0</td>\n",
              "      <td>�����</td>\n",
              "    </tr>\n",
              "    <tr>\n",
              "      <th>5</th>\n",
              "      <td>15.10.2020 21:00</td>\n",
              "      <td>5.0</td>\n",
              "      <td>753.6</td>\n",
              "      <td>760.5</td>\n",
              "      <td>42.0</td>\n",
              "      <td>�����</td>\n",
              "    </tr>\n",
              "    <tr>\n",
              "      <th>6</th>\n",
              "      <td>15.10.2020 20:30</td>\n",
              "      <td>4.0</td>\n",
              "      <td>753.6</td>\n",
              "      <td>760.5</td>\n",
              "      <td>48.0</td>\n",
              "      <td>�����</td>\n",
              "    </tr>\n",
              "    <tr>\n",
              "      <th>7</th>\n",
              "      <td>15.10.2020 20:00</td>\n",
              "      <td>4.0</td>\n",
              "      <td>753.6</td>\n",
              "      <td>760.5</td>\n",
              "      <td>48.0</td>\n",
              "      <td>�����</td>\n",
              "    </tr>\n",
              "    <tr>\n",
              "      <th>8</th>\n",
              "      <td>15.10.2020 19:30</td>\n",
              "      <td>4.0</td>\n",
              "      <td>753.6</td>\n",
              "      <td>760.5</td>\n",
              "      <td>45.0</td>\n",
              "      <td>�����</td>\n",
              "    </tr>\n",
              "    <tr>\n",
              "      <th>9</th>\n",
              "      <td>15.10.2020 19:00</td>\n",
              "      <td>4.0</td>\n",
              "      <td>753.6</td>\n",
              "      <td>760.5</td>\n",
              "      <td>48.0</td>\n",
              "      <td>�����</td>\n",
              "    </tr>\n",
              "  </tbody>\n",
              "</table>\n",
              "</div>\n",
              "    <div class=\"colab-df-buttons\">\n",
              "\n",
              "  <div class=\"colab-df-container\">\n",
              "    <button class=\"colab-df-convert\" onclick=\"convertToInteractive('df-ebe07551-daf2-495a-ab9e-6b6366f7b979')\"\n",
              "            title=\"Convert this dataframe to an interactive table.\"\n",
              "            style=\"display:none;\">\n",
              "\n",
              "  <svg xmlns=\"http://www.w3.org/2000/svg\" height=\"24px\" viewBox=\"0 -960 960 960\">\n",
              "    <path d=\"M120-120v-720h720v720H120Zm60-500h600v-160H180v160Zm220 220h160v-160H400v160Zm0 220h160v-160H400v160ZM180-400h160v-160H180v160Zm440 0h160v-160H620v160ZM180-180h160v-160H180v160Zm440 0h160v-160H620v160Z\"/>\n",
              "  </svg>\n",
              "    </button>\n",
              "\n",
              "  <style>\n",
              "    .colab-df-container {\n",
              "      display:flex;\n",
              "      gap: 12px;\n",
              "    }\n",
              "\n",
              "    .colab-df-convert {\n",
              "      background-color: #E8F0FE;\n",
              "      border: none;\n",
              "      border-radius: 50%;\n",
              "      cursor: pointer;\n",
              "      display: none;\n",
              "      fill: #1967D2;\n",
              "      height: 32px;\n",
              "      padding: 0 0 0 0;\n",
              "      width: 32px;\n",
              "    }\n",
              "\n",
              "    .colab-df-convert:hover {\n",
              "      background-color: #E2EBFA;\n",
              "      box-shadow: 0px 1px 2px rgba(60, 64, 67, 0.3), 0px 1px 3px 1px rgba(60, 64, 67, 0.15);\n",
              "      fill: #174EA6;\n",
              "    }\n",
              "\n",
              "    .colab-df-buttons div {\n",
              "      margin-bottom: 4px;\n",
              "    }\n",
              "\n",
              "    [theme=dark] .colab-df-convert {\n",
              "      background-color: #3B4455;\n",
              "      fill: #D2E3FC;\n",
              "    }\n",
              "\n",
              "    [theme=dark] .colab-df-convert:hover {\n",
              "      background-color: #434B5C;\n",
              "      box-shadow: 0px 1px 3px 1px rgba(0, 0, 0, 0.15);\n",
              "      filter: drop-shadow(0px 1px 2px rgba(0, 0, 0, 0.3));\n",
              "      fill: #FFFFFF;\n",
              "    }\n",
              "  </style>\n",
              "\n",
              "    <script>\n",
              "      const buttonEl =\n",
              "        document.querySelector('#df-ebe07551-daf2-495a-ab9e-6b6366f7b979 button.colab-df-convert');\n",
              "      buttonEl.style.display =\n",
              "        google.colab.kernel.accessAllowed ? 'block' : 'none';\n",
              "\n",
              "      async function convertToInteractive(key) {\n",
              "        const element = document.querySelector('#df-ebe07551-daf2-495a-ab9e-6b6366f7b979');\n",
              "        const dataTable =\n",
              "          await google.colab.kernel.invokeFunction('convertToInteractive',\n",
              "                                                    [key], {});\n",
              "        if (!dataTable) return;\n",
              "\n",
              "        const docLinkHtml = 'Like what you see? Visit the ' +\n",
              "          '<a target=\"_blank\" href=https://colab.research.google.com/notebooks/data_table.ipynb>data table notebook</a>'\n",
              "          + ' to learn more about interactive tables.';\n",
              "        element.innerHTML = '';\n",
              "        dataTable['output_type'] = 'display_data';\n",
              "        await google.colab.output.renderOutput(dataTable, element);\n",
              "        const docLink = document.createElement('div');\n",
              "        docLink.innerHTML = docLinkHtml;\n",
              "        element.appendChild(docLink);\n",
              "      }\n",
              "    </script>\n",
              "  </div>\n",
              "\n",
              "\n",
              "<div id=\"df-3f70722b-bc83-40d2-96c8-d8158f859b4e\">\n",
              "  <button class=\"colab-df-quickchart\" onclick=\"quickchart('df-3f70722b-bc83-40d2-96c8-d8158f859b4e')\"\n",
              "            title=\"Suggest charts\"\n",
              "            style=\"display:none;\">\n",
              "\n",
              "<svg xmlns=\"http://www.w3.org/2000/svg\" height=\"24px\"viewBox=\"0 0 24 24\"\n",
              "     width=\"24px\">\n",
              "    <g>\n",
              "        <path d=\"M19 3H5c-1.1 0-2 .9-2 2v14c0 1.1.9 2 2 2h14c1.1 0 2-.9 2-2V5c0-1.1-.9-2-2-2zM9 17H7v-7h2v7zm4 0h-2V7h2v10zm4 0h-2v-4h2v4z\"/>\n",
              "    </g>\n",
              "</svg>\n",
              "  </button>\n",
              "\n",
              "<style>\n",
              "  .colab-df-quickchart {\n",
              "      --bg-color: #E8F0FE;\n",
              "      --fill-color: #1967D2;\n",
              "      --hover-bg-color: #E2EBFA;\n",
              "      --hover-fill-color: #174EA6;\n",
              "      --disabled-fill-color: #AAA;\n",
              "      --disabled-bg-color: #DDD;\n",
              "  }\n",
              "\n",
              "  [theme=dark] .colab-df-quickchart {\n",
              "      --bg-color: #3B4455;\n",
              "      --fill-color: #D2E3FC;\n",
              "      --hover-bg-color: #434B5C;\n",
              "      --hover-fill-color: #FFFFFF;\n",
              "      --disabled-bg-color: #3B4455;\n",
              "      --disabled-fill-color: #666;\n",
              "  }\n",
              "\n",
              "  .colab-df-quickchart {\n",
              "    background-color: var(--bg-color);\n",
              "    border: none;\n",
              "    border-radius: 50%;\n",
              "    cursor: pointer;\n",
              "    display: none;\n",
              "    fill: var(--fill-color);\n",
              "    height: 32px;\n",
              "    padding: 0;\n",
              "    width: 32px;\n",
              "  }\n",
              "\n",
              "  .colab-df-quickchart:hover {\n",
              "    background-color: var(--hover-bg-color);\n",
              "    box-shadow: 0 1px 2px rgba(60, 64, 67, 0.3), 0 1px 3px 1px rgba(60, 64, 67, 0.15);\n",
              "    fill: var(--button-hover-fill-color);\n",
              "  }\n",
              "\n",
              "  .colab-df-quickchart-complete:disabled,\n",
              "  .colab-df-quickchart-complete:disabled:hover {\n",
              "    background-color: var(--disabled-bg-color);\n",
              "    fill: var(--disabled-fill-color);\n",
              "    box-shadow: none;\n",
              "  }\n",
              "\n",
              "  .colab-df-spinner {\n",
              "    border: 2px solid var(--fill-color);\n",
              "    border-color: transparent;\n",
              "    border-bottom-color: var(--fill-color);\n",
              "    animation:\n",
              "      spin 1s steps(1) infinite;\n",
              "  }\n",
              "\n",
              "  @keyframes spin {\n",
              "    0% {\n",
              "      border-color: transparent;\n",
              "      border-bottom-color: var(--fill-color);\n",
              "      border-left-color: var(--fill-color);\n",
              "    }\n",
              "    20% {\n",
              "      border-color: transparent;\n",
              "      border-left-color: var(--fill-color);\n",
              "      border-top-color: var(--fill-color);\n",
              "    }\n",
              "    30% {\n",
              "      border-color: transparent;\n",
              "      border-left-color: var(--fill-color);\n",
              "      border-top-color: var(--fill-color);\n",
              "      border-right-color: var(--fill-color);\n",
              "    }\n",
              "    40% {\n",
              "      border-color: transparent;\n",
              "      border-right-color: var(--fill-color);\n",
              "      border-top-color: var(--fill-color);\n",
              "    }\n",
              "    60% {\n",
              "      border-color: transparent;\n",
              "      border-right-color: var(--fill-color);\n",
              "    }\n",
              "    80% {\n",
              "      border-color: transparent;\n",
              "      border-right-color: var(--fill-color);\n",
              "      border-bottom-color: var(--fill-color);\n",
              "    }\n",
              "    90% {\n",
              "      border-color: transparent;\n",
              "      border-bottom-color: var(--fill-color);\n",
              "    }\n",
              "  }\n",
              "</style>\n",
              "\n",
              "  <script>\n",
              "    async function quickchart(key) {\n",
              "      const quickchartButtonEl =\n",
              "        document.querySelector('#' + key + ' button');\n",
              "      quickchartButtonEl.disabled = true;  // To prevent multiple clicks.\n",
              "      quickchartButtonEl.classList.add('colab-df-spinner');\n",
              "      try {\n",
              "        const charts = await google.colab.kernel.invokeFunction(\n",
              "            'suggestCharts', [key], {});\n",
              "      } catch (error) {\n",
              "        console.error('Error during call to suggestCharts:', error);\n",
              "      }\n",
              "      quickchartButtonEl.classList.remove('colab-df-spinner');\n",
              "      quickchartButtonEl.classList.add('colab-df-quickchart-complete');\n",
              "    }\n",
              "    (() => {\n",
              "      let quickchartButtonEl =\n",
              "        document.querySelector('#df-3f70722b-bc83-40d2-96c8-d8158f859b4e button');\n",
              "      quickchartButtonEl.style.display =\n",
              "        google.colab.kernel.accessAllowed ? 'block' : 'none';\n",
              "    })();\n",
              "  </script>\n",
              "</div>\n",
              "    </div>\n",
              "  </div>\n"
            ]
          },
          "metadata": {},
          "execution_count": 4
        }
      ]
    },
    {
      "cell_type": "code",
      "source": [
        "df.drop('DD', axis=1, inplace=True)\n",
        "df.head(10)"
      ],
      "metadata": {
        "colab": {
          "base_uri": "https://localhost:8080/",
          "height": 363
        },
        "id": "Ljzo_Ferh7qd",
        "outputId": "bc6631b5-0fdf-4373-9d70-60e485fc9703"
      },
      "execution_count": 5,
      "outputs": [
        {
          "output_type": "execute_result",
          "data": {
            "text/plain": [
              "          LocalTime    T     P0      P     U\n",
              "0  15.10.2020 23:30  4.0  753.6  760.5  48.0\n",
              "1  15.10.2020 23:00  4.0  753.6  760.5  48.0\n",
              "2  15.10.2020 22:30  5.0  753.6  760.5  42.0\n",
              "3  15.10.2020 22:00  5.0  753.6  760.5  42.0\n",
              "4  15.10.2020 21:30  5.0  753.6  760.5  45.0\n",
              "5  15.10.2020 21:00  5.0  753.6  760.5  42.0\n",
              "6  15.10.2020 20:30  4.0  753.6  760.5  48.0\n",
              "7  15.10.2020 20:00  4.0  753.6  760.5  48.0\n",
              "8  15.10.2020 19:30  4.0  753.6  760.5  45.0\n",
              "9  15.10.2020 19:00  4.0  753.6  760.5  48.0"
            ],
            "text/html": [
              "\n",
              "  <div id=\"df-9acd5866-44c9-4ff9-9f3c-c37883e1be89\" class=\"colab-df-container\">\n",
              "    <div>\n",
              "<style scoped>\n",
              "    .dataframe tbody tr th:only-of-type {\n",
              "        vertical-align: middle;\n",
              "    }\n",
              "\n",
              "    .dataframe tbody tr th {\n",
              "        vertical-align: top;\n",
              "    }\n",
              "\n",
              "    .dataframe thead th {\n",
              "        text-align: right;\n",
              "    }\n",
              "</style>\n",
              "<table border=\"1\" class=\"dataframe\">\n",
              "  <thead>\n",
              "    <tr style=\"text-align: right;\">\n",
              "      <th></th>\n",
              "      <th>LocalTime</th>\n",
              "      <th>T</th>\n",
              "      <th>P0</th>\n",
              "      <th>P</th>\n",
              "      <th>U</th>\n",
              "    </tr>\n",
              "  </thead>\n",
              "  <tbody>\n",
              "    <tr>\n",
              "      <th>0</th>\n",
              "      <td>15.10.2020 23:30</td>\n",
              "      <td>4.0</td>\n",
              "      <td>753.6</td>\n",
              "      <td>760.5</td>\n",
              "      <td>48.0</td>\n",
              "    </tr>\n",
              "    <tr>\n",
              "      <th>1</th>\n",
              "      <td>15.10.2020 23:00</td>\n",
              "      <td>4.0</td>\n",
              "      <td>753.6</td>\n",
              "      <td>760.5</td>\n",
              "      <td>48.0</td>\n",
              "    </tr>\n",
              "    <tr>\n",
              "      <th>2</th>\n",
              "      <td>15.10.2020 22:30</td>\n",
              "      <td>5.0</td>\n",
              "      <td>753.6</td>\n",
              "      <td>760.5</td>\n",
              "      <td>42.0</td>\n",
              "    </tr>\n",
              "    <tr>\n",
              "      <th>3</th>\n",
              "      <td>15.10.2020 22:00</td>\n",
              "      <td>5.0</td>\n",
              "      <td>753.6</td>\n",
              "      <td>760.5</td>\n",
              "      <td>42.0</td>\n",
              "    </tr>\n",
              "    <tr>\n",
              "      <th>4</th>\n",
              "      <td>15.10.2020 21:30</td>\n",
              "      <td>5.0</td>\n",
              "      <td>753.6</td>\n",
              "      <td>760.5</td>\n",
              "      <td>45.0</td>\n",
              "    </tr>\n",
              "    <tr>\n",
              "      <th>5</th>\n",
              "      <td>15.10.2020 21:00</td>\n",
              "      <td>5.0</td>\n",
              "      <td>753.6</td>\n",
              "      <td>760.5</td>\n",
              "      <td>42.0</td>\n",
              "    </tr>\n",
              "    <tr>\n",
              "      <th>6</th>\n",
              "      <td>15.10.2020 20:30</td>\n",
              "      <td>4.0</td>\n",
              "      <td>753.6</td>\n",
              "      <td>760.5</td>\n",
              "      <td>48.0</td>\n",
              "    </tr>\n",
              "    <tr>\n",
              "      <th>7</th>\n",
              "      <td>15.10.2020 20:00</td>\n",
              "      <td>4.0</td>\n",
              "      <td>753.6</td>\n",
              "      <td>760.5</td>\n",
              "      <td>48.0</td>\n",
              "    </tr>\n",
              "    <tr>\n",
              "      <th>8</th>\n",
              "      <td>15.10.2020 19:30</td>\n",
              "      <td>4.0</td>\n",
              "      <td>753.6</td>\n",
              "      <td>760.5</td>\n",
              "      <td>45.0</td>\n",
              "    </tr>\n",
              "    <tr>\n",
              "      <th>9</th>\n",
              "      <td>15.10.2020 19:00</td>\n",
              "      <td>4.0</td>\n",
              "      <td>753.6</td>\n",
              "      <td>760.5</td>\n",
              "      <td>48.0</td>\n",
              "    </tr>\n",
              "  </tbody>\n",
              "</table>\n",
              "</div>\n",
              "    <div class=\"colab-df-buttons\">\n",
              "\n",
              "  <div class=\"colab-df-container\">\n",
              "    <button class=\"colab-df-convert\" onclick=\"convertToInteractive('df-9acd5866-44c9-4ff9-9f3c-c37883e1be89')\"\n",
              "            title=\"Convert this dataframe to an interactive table.\"\n",
              "            style=\"display:none;\">\n",
              "\n",
              "  <svg xmlns=\"http://www.w3.org/2000/svg\" height=\"24px\" viewBox=\"0 -960 960 960\">\n",
              "    <path d=\"M120-120v-720h720v720H120Zm60-500h600v-160H180v160Zm220 220h160v-160H400v160Zm0 220h160v-160H400v160ZM180-400h160v-160H180v160Zm440 0h160v-160H620v160ZM180-180h160v-160H180v160Zm440 0h160v-160H620v160Z\"/>\n",
              "  </svg>\n",
              "    </button>\n",
              "\n",
              "  <style>\n",
              "    .colab-df-container {\n",
              "      display:flex;\n",
              "      gap: 12px;\n",
              "    }\n",
              "\n",
              "    .colab-df-convert {\n",
              "      background-color: #E8F0FE;\n",
              "      border: none;\n",
              "      border-radius: 50%;\n",
              "      cursor: pointer;\n",
              "      display: none;\n",
              "      fill: #1967D2;\n",
              "      height: 32px;\n",
              "      padding: 0 0 0 0;\n",
              "      width: 32px;\n",
              "    }\n",
              "\n",
              "    .colab-df-convert:hover {\n",
              "      background-color: #E2EBFA;\n",
              "      box-shadow: 0px 1px 2px rgba(60, 64, 67, 0.3), 0px 1px 3px 1px rgba(60, 64, 67, 0.15);\n",
              "      fill: #174EA6;\n",
              "    }\n",
              "\n",
              "    .colab-df-buttons div {\n",
              "      margin-bottom: 4px;\n",
              "    }\n",
              "\n",
              "    [theme=dark] .colab-df-convert {\n",
              "      background-color: #3B4455;\n",
              "      fill: #D2E3FC;\n",
              "    }\n",
              "\n",
              "    [theme=dark] .colab-df-convert:hover {\n",
              "      background-color: #434B5C;\n",
              "      box-shadow: 0px 1px 3px 1px rgba(0, 0, 0, 0.15);\n",
              "      filter: drop-shadow(0px 1px 2px rgba(0, 0, 0, 0.3));\n",
              "      fill: #FFFFFF;\n",
              "    }\n",
              "  </style>\n",
              "\n",
              "    <script>\n",
              "      const buttonEl =\n",
              "        document.querySelector('#df-9acd5866-44c9-4ff9-9f3c-c37883e1be89 button.colab-df-convert');\n",
              "      buttonEl.style.display =\n",
              "        google.colab.kernel.accessAllowed ? 'block' : 'none';\n",
              "\n",
              "      async function convertToInteractive(key) {\n",
              "        const element = document.querySelector('#df-9acd5866-44c9-4ff9-9f3c-c37883e1be89');\n",
              "        const dataTable =\n",
              "          await google.colab.kernel.invokeFunction('convertToInteractive',\n",
              "                                                    [key], {});\n",
              "        if (!dataTable) return;\n",
              "\n",
              "        const docLinkHtml = 'Like what you see? Visit the ' +\n",
              "          '<a target=\"_blank\" href=https://colab.research.google.com/notebooks/data_table.ipynb>data table notebook</a>'\n",
              "          + ' to learn more about interactive tables.';\n",
              "        element.innerHTML = '';\n",
              "        dataTable['output_type'] = 'display_data';\n",
              "        await google.colab.output.renderOutput(dataTable, element);\n",
              "        const docLink = document.createElement('div');\n",
              "        docLink.innerHTML = docLinkHtml;\n",
              "        element.appendChild(docLink);\n",
              "      }\n",
              "    </script>\n",
              "  </div>\n",
              "\n",
              "\n",
              "<div id=\"df-8d85fafc-adda-4751-8303-fcd450b998d9\">\n",
              "  <button class=\"colab-df-quickchart\" onclick=\"quickchart('df-8d85fafc-adda-4751-8303-fcd450b998d9')\"\n",
              "            title=\"Suggest charts\"\n",
              "            style=\"display:none;\">\n",
              "\n",
              "<svg xmlns=\"http://www.w3.org/2000/svg\" height=\"24px\"viewBox=\"0 0 24 24\"\n",
              "     width=\"24px\">\n",
              "    <g>\n",
              "        <path d=\"M19 3H5c-1.1 0-2 .9-2 2v14c0 1.1.9 2 2 2h14c1.1 0 2-.9 2-2V5c0-1.1-.9-2-2-2zM9 17H7v-7h2v7zm4 0h-2V7h2v10zm4 0h-2v-4h2v4z\"/>\n",
              "    </g>\n",
              "</svg>\n",
              "  </button>\n",
              "\n",
              "<style>\n",
              "  .colab-df-quickchart {\n",
              "      --bg-color: #E8F0FE;\n",
              "      --fill-color: #1967D2;\n",
              "      --hover-bg-color: #E2EBFA;\n",
              "      --hover-fill-color: #174EA6;\n",
              "      --disabled-fill-color: #AAA;\n",
              "      --disabled-bg-color: #DDD;\n",
              "  }\n",
              "\n",
              "  [theme=dark] .colab-df-quickchart {\n",
              "      --bg-color: #3B4455;\n",
              "      --fill-color: #D2E3FC;\n",
              "      --hover-bg-color: #434B5C;\n",
              "      --hover-fill-color: #FFFFFF;\n",
              "      --disabled-bg-color: #3B4455;\n",
              "      --disabled-fill-color: #666;\n",
              "  }\n",
              "\n",
              "  .colab-df-quickchart {\n",
              "    background-color: var(--bg-color);\n",
              "    border: none;\n",
              "    border-radius: 50%;\n",
              "    cursor: pointer;\n",
              "    display: none;\n",
              "    fill: var(--fill-color);\n",
              "    height: 32px;\n",
              "    padding: 0;\n",
              "    width: 32px;\n",
              "  }\n",
              "\n",
              "  .colab-df-quickchart:hover {\n",
              "    background-color: var(--hover-bg-color);\n",
              "    box-shadow: 0 1px 2px rgba(60, 64, 67, 0.3), 0 1px 3px 1px rgba(60, 64, 67, 0.15);\n",
              "    fill: var(--button-hover-fill-color);\n",
              "  }\n",
              "\n",
              "  .colab-df-quickchart-complete:disabled,\n",
              "  .colab-df-quickchart-complete:disabled:hover {\n",
              "    background-color: var(--disabled-bg-color);\n",
              "    fill: var(--disabled-fill-color);\n",
              "    box-shadow: none;\n",
              "  }\n",
              "\n",
              "  .colab-df-spinner {\n",
              "    border: 2px solid var(--fill-color);\n",
              "    border-color: transparent;\n",
              "    border-bottom-color: var(--fill-color);\n",
              "    animation:\n",
              "      spin 1s steps(1) infinite;\n",
              "  }\n",
              "\n",
              "  @keyframes spin {\n",
              "    0% {\n",
              "      border-color: transparent;\n",
              "      border-bottom-color: var(--fill-color);\n",
              "      border-left-color: var(--fill-color);\n",
              "    }\n",
              "    20% {\n",
              "      border-color: transparent;\n",
              "      border-left-color: var(--fill-color);\n",
              "      border-top-color: var(--fill-color);\n",
              "    }\n",
              "    30% {\n",
              "      border-color: transparent;\n",
              "      border-left-color: var(--fill-color);\n",
              "      border-top-color: var(--fill-color);\n",
              "      border-right-color: var(--fill-color);\n",
              "    }\n",
              "    40% {\n",
              "      border-color: transparent;\n",
              "      border-right-color: var(--fill-color);\n",
              "      border-top-color: var(--fill-color);\n",
              "    }\n",
              "    60% {\n",
              "      border-color: transparent;\n",
              "      border-right-color: var(--fill-color);\n",
              "    }\n",
              "    80% {\n",
              "      border-color: transparent;\n",
              "      border-right-color: var(--fill-color);\n",
              "      border-bottom-color: var(--fill-color);\n",
              "    }\n",
              "    90% {\n",
              "      border-color: transparent;\n",
              "      border-bottom-color: var(--fill-color);\n",
              "    }\n",
              "  }\n",
              "</style>\n",
              "\n",
              "  <script>\n",
              "    async function quickchart(key) {\n",
              "      const quickchartButtonEl =\n",
              "        document.querySelector('#' + key + ' button');\n",
              "      quickchartButtonEl.disabled = true;  // To prevent multiple clicks.\n",
              "      quickchartButtonEl.classList.add('colab-df-spinner');\n",
              "      try {\n",
              "        const charts = await google.colab.kernel.invokeFunction(\n",
              "            'suggestCharts', [key], {});\n",
              "      } catch (error) {\n",
              "        console.error('Error during call to suggestCharts:', error);\n",
              "      }\n",
              "      quickchartButtonEl.classList.remove('colab-df-spinner');\n",
              "      quickchartButtonEl.classList.add('colab-df-quickchart-complete');\n",
              "    }\n",
              "    (() => {\n",
              "      let quickchartButtonEl =\n",
              "        document.querySelector('#df-8d85fafc-adda-4751-8303-fcd450b998d9 button');\n",
              "      quickchartButtonEl.style.display =\n",
              "        google.colab.kernel.accessAllowed ? 'block' : 'none';\n",
              "    })();\n",
              "  </script>\n",
              "</div>\n",
              "    </div>\n",
              "  </div>\n"
            ]
          },
          "metadata": {},
          "execution_count": 5
        }
      ]
    },
    {
      "cell_type": "code",
      "source": [
        "df.describe()"
      ],
      "metadata": {
        "colab": {
          "base_uri": "https://localhost:8080/",
          "height": 300
        },
        "id": "ihRlRubxmStx",
        "outputId": "d191a620-2ae6-4fb3-8530-56fb842a84b2"
      },
      "execution_count": 6,
      "outputs": [
        {
          "output_type": "execute_result",
          "data": {
            "text/plain": [
              "                   T             P0              P              U\n",
              "count  119665.000000  119664.000000  119667.000000  119665.000000\n",
              "mean        3.067313     751.888499     758.824175      68.904183\n",
              "std        15.286499       5.818855       6.073825      20.116274\n",
              "min       -35.000000     725.100000     732.000000       5.000000\n",
              "25%       -11.000000     748.000000     754.600000      55.000000\n",
              "50%         5.000000     751.700000     758.200000      70.000000\n",
              "75%        16.000000     755.900000     762.800000      85.000000\n",
              "max        35.000000     770.900000     778.500000     100.000000"
            ],
            "text/html": [
              "\n",
              "  <div id=\"df-12b249c0-3a2f-49e5-b557-dcc20815c4c0\" class=\"colab-df-container\">\n",
              "    <div>\n",
              "<style scoped>\n",
              "    .dataframe tbody tr th:only-of-type {\n",
              "        vertical-align: middle;\n",
              "    }\n",
              "\n",
              "    .dataframe tbody tr th {\n",
              "        vertical-align: top;\n",
              "    }\n",
              "\n",
              "    .dataframe thead th {\n",
              "        text-align: right;\n",
              "    }\n",
              "</style>\n",
              "<table border=\"1\" class=\"dataframe\">\n",
              "  <thead>\n",
              "    <tr style=\"text-align: right;\">\n",
              "      <th></th>\n",
              "      <th>T</th>\n",
              "      <th>P0</th>\n",
              "      <th>P</th>\n",
              "      <th>U</th>\n",
              "    </tr>\n",
              "  </thead>\n",
              "  <tbody>\n",
              "    <tr>\n",
              "      <th>count</th>\n",
              "      <td>119665.000000</td>\n",
              "      <td>119664.000000</td>\n",
              "      <td>119667.000000</td>\n",
              "      <td>119665.000000</td>\n",
              "    </tr>\n",
              "    <tr>\n",
              "      <th>mean</th>\n",
              "      <td>3.067313</td>\n",
              "      <td>751.888499</td>\n",
              "      <td>758.824175</td>\n",
              "      <td>68.904183</td>\n",
              "    </tr>\n",
              "    <tr>\n",
              "      <th>std</th>\n",
              "      <td>15.286499</td>\n",
              "      <td>5.818855</td>\n",
              "      <td>6.073825</td>\n",
              "      <td>20.116274</td>\n",
              "    </tr>\n",
              "    <tr>\n",
              "      <th>min</th>\n",
              "      <td>-35.000000</td>\n",
              "      <td>725.100000</td>\n",
              "      <td>732.000000</td>\n",
              "      <td>5.000000</td>\n",
              "    </tr>\n",
              "    <tr>\n",
              "      <th>25%</th>\n",
              "      <td>-11.000000</td>\n",
              "      <td>748.000000</td>\n",
              "      <td>754.600000</td>\n",
              "      <td>55.000000</td>\n",
              "    </tr>\n",
              "    <tr>\n",
              "      <th>50%</th>\n",
              "      <td>5.000000</td>\n",
              "      <td>751.700000</td>\n",
              "      <td>758.200000</td>\n",
              "      <td>70.000000</td>\n",
              "    </tr>\n",
              "    <tr>\n",
              "      <th>75%</th>\n",
              "      <td>16.000000</td>\n",
              "      <td>755.900000</td>\n",
              "      <td>762.800000</td>\n",
              "      <td>85.000000</td>\n",
              "    </tr>\n",
              "    <tr>\n",
              "      <th>max</th>\n",
              "      <td>35.000000</td>\n",
              "      <td>770.900000</td>\n",
              "      <td>778.500000</td>\n",
              "      <td>100.000000</td>\n",
              "    </tr>\n",
              "  </tbody>\n",
              "</table>\n",
              "</div>\n",
              "    <div class=\"colab-df-buttons\">\n",
              "\n",
              "  <div class=\"colab-df-container\">\n",
              "    <button class=\"colab-df-convert\" onclick=\"convertToInteractive('df-12b249c0-3a2f-49e5-b557-dcc20815c4c0')\"\n",
              "            title=\"Convert this dataframe to an interactive table.\"\n",
              "            style=\"display:none;\">\n",
              "\n",
              "  <svg xmlns=\"http://www.w3.org/2000/svg\" height=\"24px\" viewBox=\"0 -960 960 960\">\n",
              "    <path d=\"M120-120v-720h720v720H120Zm60-500h600v-160H180v160Zm220 220h160v-160H400v160Zm0 220h160v-160H400v160ZM180-400h160v-160H180v160Zm440 0h160v-160H620v160ZM180-180h160v-160H180v160Zm440 0h160v-160H620v160Z\"/>\n",
              "  </svg>\n",
              "    </button>\n",
              "\n",
              "  <style>\n",
              "    .colab-df-container {\n",
              "      display:flex;\n",
              "      gap: 12px;\n",
              "    }\n",
              "\n",
              "    .colab-df-convert {\n",
              "      background-color: #E8F0FE;\n",
              "      border: none;\n",
              "      border-radius: 50%;\n",
              "      cursor: pointer;\n",
              "      display: none;\n",
              "      fill: #1967D2;\n",
              "      height: 32px;\n",
              "      padding: 0 0 0 0;\n",
              "      width: 32px;\n",
              "    }\n",
              "\n",
              "    .colab-df-convert:hover {\n",
              "      background-color: #E2EBFA;\n",
              "      box-shadow: 0px 1px 2px rgba(60, 64, 67, 0.3), 0px 1px 3px 1px rgba(60, 64, 67, 0.15);\n",
              "      fill: #174EA6;\n",
              "    }\n",
              "\n",
              "    .colab-df-buttons div {\n",
              "      margin-bottom: 4px;\n",
              "    }\n",
              "\n",
              "    [theme=dark] .colab-df-convert {\n",
              "      background-color: #3B4455;\n",
              "      fill: #D2E3FC;\n",
              "    }\n",
              "\n",
              "    [theme=dark] .colab-df-convert:hover {\n",
              "      background-color: #434B5C;\n",
              "      box-shadow: 0px 1px 3px 1px rgba(0, 0, 0, 0.15);\n",
              "      filter: drop-shadow(0px 1px 2px rgba(0, 0, 0, 0.3));\n",
              "      fill: #FFFFFF;\n",
              "    }\n",
              "  </style>\n",
              "\n",
              "    <script>\n",
              "      const buttonEl =\n",
              "        document.querySelector('#df-12b249c0-3a2f-49e5-b557-dcc20815c4c0 button.colab-df-convert');\n",
              "      buttonEl.style.display =\n",
              "        google.colab.kernel.accessAllowed ? 'block' : 'none';\n",
              "\n",
              "      async function convertToInteractive(key) {\n",
              "        const element = document.querySelector('#df-12b249c0-3a2f-49e5-b557-dcc20815c4c0');\n",
              "        const dataTable =\n",
              "          await google.colab.kernel.invokeFunction('convertToInteractive',\n",
              "                                                    [key], {});\n",
              "        if (!dataTable) return;\n",
              "\n",
              "        const docLinkHtml = 'Like what you see? Visit the ' +\n",
              "          '<a target=\"_blank\" href=https://colab.research.google.com/notebooks/data_table.ipynb>data table notebook</a>'\n",
              "          + ' to learn more about interactive tables.';\n",
              "        element.innerHTML = '';\n",
              "        dataTable['output_type'] = 'display_data';\n",
              "        await google.colab.output.renderOutput(dataTable, element);\n",
              "        const docLink = document.createElement('div');\n",
              "        docLink.innerHTML = docLinkHtml;\n",
              "        element.appendChild(docLink);\n",
              "      }\n",
              "    </script>\n",
              "  </div>\n",
              "\n",
              "\n",
              "<div id=\"df-e251cdf1-0f01-44e5-acc0-235c3d29ac92\">\n",
              "  <button class=\"colab-df-quickchart\" onclick=\"quickchart('df-e251cdf1-0f01-44e5-acc0-235c3d29ac92')\"\n",
              "            title=\"Suggest charts\"\n",
              "            style=\"display:none;\">\n",
              "\n",
              "<svg xmlns=\"http://www.w3.org/2000/svg\" height=\"24px\"viewBox=\"0 0 24 24\"\n",
              "     width=\"24px\">\n",
              "    <g>\n",
              "        <path d=\"M19 3H5c-1.1 0-2 .9-2 2v14c0 1.1.9 2 2 2h14c1.1 0 2-.9 2-2V5c0-1.1-.9-2-2-2zM9 17H7v-7h2v7zm4 0h-2V7h2v10zm4 0h-2v-4h2v4z\"/>\n",
              "    </g>\n",
              "</svg>\n",
              "  </button>\n",
              "\n",
              "<style>\n",
              "  .colab-df-quickchart {\n",
              "      --bg-color: #E8F0FE;\n",
              "      --fill-color: #1967D2;\n",
              "      --hover-bg-color: #E2EBFA;\n",
              "      --hover-fill-color: #174EA6;\n",
              "      --disabled-fill-color: #AAA;\n",
              "      --disabled-bg-color: #DDD;\n",
              "  }\n",
              "\n",
              "  [theme=dark] .colab-df-quickchart {\n",
              "      --bg-color: #3B4455;\n",
              "      --fill-color: #D2E3FC;\n",
              "      --hover-bg-color: #434B5C;\n",
              "      --hover-fill-color: #FFFFFF;\n",
              "      --disabled-bg-color: #3B4455;\n",
              "      --disabled-fill-color: #666;\n",
              "  }\n",
              "\n",
              "  .colab-df-quickchart {\n",
              "    background-color: var(--bg-color);\n",
              "    border: none;\n",
              "    border-radius: 50%;\n",
              "    cursor: pointer;\n",
              "    display: none;\n",
              "    fill: var(--fill-color);\n",
              "    height: 32px;\n",
              "    padding: 0;\n",
              "    width: 32px;\n",
              "  }\n",
              "\n",
              "  .colab-df-quickchart:hover {\n",
              "    background-color: var(--hover-bg-color);\n",
              "    box-shadow: 0 1px 2px rgba(60, 64, 67, 0.3), 0 1px 3px 1px rgba(60, 64, 67, 0.15);\n",
              "    fill: var(--button-hover-fill-color);\n",
              "  }\n",
              "\n",
              "  .colab-df-quickchart-complete:disabled,\n",
              "  .colab-df-quickchart-complete:disabled:hover {\n",
              "    background-color: var(--disabled-bg-color);\n",
              "    fill: var(--disabled-fill-color);\n",
              "    box-shadow: none;\n",
              "  }\n",
              "\n",
              "  .colab-df-spinner {\n",
              "    border: 2px solid var(--fill-color);\n",
              "    border-color: transparent;\n",
              "    border-bottom-color: var(--fill-color);\n",
              "    animation:\n",
              "      spin 1s steps(1) infinite;\n",
              "  }\n",
              "\n",
              "  @keyframes spin {\n",
              "    0% {\n",
              "      border-color: transparent;\n",
              "      border-bottom-color: var(--fill-color);\n",
              "      border-left-color: var(--fill-color);\n",
              "    }\n",
              "    20% {\n",
              "      border-color: transparent;\n",
              "      border-left-color: var(--fill-color);\n",
              "      border-top-color: var(--fill-color);\n",
              "    }\n",
              "    30% {\n",
              "      border-color: transparent;\n",
              "      border-left-color: var(--fill-color);\n",
              "      border-top-color: var(--fill-color);\n",
              "      border-right-color: var(--fill-color);\n",
              "    }\n",
              "    40% {\n",
              "      border-color: transparent;\n",
              "      border-right-color: var(--fill-color);\n",
              "      border-top-color: var(--fill-color);\n",
              "    }\n",
              "    60% {\n",
              "      border-color: transparent;\n",
              "      border-right-color: var(--fill-color);\n",
              "    }\n",
              "    80% {\n",
              "      border-color: transparent;\n",
              "      border-right-color: var(--fill-color);\n",
              "      border-bottom-color: var(--fill-color);\n",
              "    }\n",
              "    90% {\n",
              "      border-color: transparent;\n",
              "      border-bottom-color: var(--fill-color);\n",
              "    }\n",
              "  }\n",
              "</style>\n",
              "\n",
              "  <script>\n",
              "    async function quickchart(key) {\n",
              "      const quickchartButtonEl =\n",
              "        document.querySelector('#' + key + ' button');\n",
              "      quickchartButtonEl.disabled = true;  // To prevent multiple clicks.\n",
              "      quickchartButtonEl.classList.add('colab-df-spinner');\n",
              "      try {\n",
              "        const charts = await google.colab.kernel.invokeFunction(\n",
              "            'suggestCharts', [key], {});\n",
              "      } catch (error) {\n",
              "        console.error('Error during call to suggestCharts:', error);\n",
              "      }\n",
              "      quickchartButtonEl.classList.remove('colab-df-spinner');\n",
              "      quickchartButtonEl.classList.add('colab-df-quickchart-complete');\n",
              "    }\n",
              "    (() => {\n",
              "      let quickchartButtonEl =\n",
              "        document.querySelector('#df-e251cdf1-0f01-44e5-acc0-235c3d29ac92 button');\n",
              "      quickchartButtonEl.style.display =\n",
              "        google.colab.kernel.accessAllowed ? 'block' : 'none';\n",
              "    })();\n",
              "  </script>\n",
              "</div>\n",
              "    </div>\n",
              "  </div>\n"
            ]
          },
          "metadata": {},
          "execution_count": 6
        }
      ]
    },
    {
      "cell_type": "code",
      "source": [
        "df.info()"
      ],
      "metadata": {
        "colab": {
          "base_uri": "https://localhost:8080/"
        },
        "id": "TKl62dKMmV-r",
        "outputId": "490e895e-24d1-4e2c-d42d-2a7fe2169532"
      },
      "execution_count": 7,
      "outputs": [
        {
          "output_type": "stream",
          "name": "stdout",
          "text": [
            "<class 'pandas.core.frame.DataFrame'>\n",
            "RangeIndex: 119674 entries, 0 to 119673\n",
            "Data columns (total 5 columns):\n",
            " #   Column     Non-Null Count   Dtype  \n",
            "---  ------     --------------   -----  \n",
            " 0   LocalTime  119674 non-null  object \n",
            " 1   T          119665 non-null  float64\n",
            " 2   P0         119664 non-null  float64\n",
            " 3   P          119667 non-null  float64\n",
            " 4   U          119665 non-null  float64\n",
            "dtypes: float64(4), object(1)\n",
            "memory usage: 4.6+ MB\n"
          ]
        }
      ]
    },
    {
      "cell_type": "code",
      "source": [
        "df.hist()"
      ],
      "metadata": {
        "colab": {
          "base_uri": "https://localhost:8080/",
          "height": 506
        },
        "id": "nR8waPBimYu_",
        "outputId": "11ed6291-bcf7-4670-f2a3-08ba2f250d8b"
      },
      "execution_count": 8,
      "outputs": [
        {
          "output_type": "execute_result",
          "data": {
            "text/plain": [
              "array([[<Axes: title={'center': 'T'}>, <Axes: title={'center': 'P0'}>],\n",
              "       [<Axes: title={'center': 'P'}>, <Axes: title={'center': 'U'}>]],\n",
              "      dtype=object)"
            ]
          },
          "metadata": {},
          "execution_count": 8
        },
        {
          "output_type": "display_data",
          "data": {
            "text/plain": [
              "<Figure size 640x480 with 4 Axes>"
            ],
            "image/png": "[encoded data removed]"
          },
          "metadata": {}
        }
      ]
    },
    {
      "cell_type": "code",
      "source": [
        "df = df[['LocalTime','T']]\n",
        "df.head()"
      ],
      "metadata": {
        "colab": {
          "base_uri": "https://localhost:8080/",
          "height": 206
        },
        "id": "8d9W9nmdw7MM",
        "outputId": "711b1bf1-afc1-4ac2-ac9e-e8509bf85efc"
      },
      "execution_count": 21,
      "outputs": [
        {
          "output_type": "execute_result",
          "data": {
            "text/plain": [
              "          LocalTime    T\n",
              "0  15.10.2020 23:30  4.0\n",
              "1  15.10.2020 23:00  4.0\n",
              "2  15.10.2020 22:30  5.0\n",
              "3  15.10.2020 22:00  5.0\n",
              "4  15.10.2020 21:30  5.0"
            ],
            "text/html": [
              "\n",
              "  <div id=\"df-ffc1dbc9-989c-4148-a051-0c5693fd839f\" class=\"colab-df-container\">\n",
              "    <div>\n",
              "<style scoped>\n",
              "    .dataframe tbody tr th:only-of-type {\n",
              "        vertical-align: middle;\n",
              "    }\n",
              "\n",
              "    .dataframe tbody tr th {\n",
              "        vertical-align: top;\n",
              "    }\n",
              "\n",
              "    .dataframe thead th {\n",
              "        text-align: right;\n",
              "    }\n",
              "</style>\n",
              "<table border=\"1\" class=\"dataframe\">\n",
              "  <thead>\n",
              "    <tr style=\"text-align: right;\">\n",
              "      <th></th>\n",
              "      <th>LocalTime</th>\n",
              "      <th>T</th>\n",
              "    </tr>\n",
              "  </thead>\n",
              "  <tbody>\n",
              "    <tr>\n",
              "      <th>0</th>\n",
              "      <td>15.10.2020 23:30</td>\n",
              "      <td>4.0</td>\n",
              "    </tr>\n",
              "    <tr>\n",
              "      <th>1</th>\n",
              "      <td>15.10.2020 23:00</td>\n",
              "      <td>4.0</td>\n",
              "    </tr>\n",
              "    <tr>\n",
              "      <th>2</th>\n",
              "      <td>15.10.2020 22:30</td>\n",
              "      <td>5.0</td>\n",
              "    </tr>\n",
              "    <tr>\n",
              "      <th>3</th>\n",
              "      <td>15.10.2020 22:00</td>\n",
              "      <td>5.0</td>\n",
              "    </tr>\n",
              "    <tr>\n",
              "      <th>4</th>\n",
              "      <td>15.10.2020 21:30</td>\n",
              "      <td>5.0</td>\n",
              "    </tr>\n",
              "  </tbody>\n",
              "</table>\n",
              "</div>\n",
              "    <div class=\"colab-df-buttons\">\n",
              "\n",
              "  <div class=\"colab-df-container\">\n",
              "    <button class=\"colab-df-convert\" onclick=\"convertToInteractive('df-ffc1dbc9-989c-4148-a051-0c5693fd839f')\"\n",
              "            title=\"Convert this dataframe to an interactive table.\"\n",
              "            style=\"display:none;\">\n",
              "\n",
              "  <svg xmlns=\"http://www.w3.org/2000/svg\" height=\"24px\" viewBox=\"0 -960 960 960\">\n",
              "    <path d=\"M120-120v-720h720v720H120Zm60-500h600v-160H180v160Zm220 220h160v-160H400v160Zm0 220h160v-160H400v160ZM180-400h160v-160H180v160Zm440 0h160v-160H620v160ZM180-180h160v-160H180v160Zm440 0h160v-160H620v160Z\"/>\n",
              "  </svg>\n",
              "    </button>\n",
              "\n",
              "  <style>\n",
              "    .colab-df-container {\n",
              "      display:flex;\n",
              "      gap: 12px;\n",
              "    }\n",
              "\n",
              "    .colab-df-convert {\n",
              "      background-color: #E8F0FE;\n",
              "      border: none;\n",
              "      border-radius: 50%;\n",
              "      cursor: pointer;\n",
              "      display: none;\n",
              "      fill: #1967D2;\n",
              "      height: 32px;\n",
              "      padding: 0 0 0 0;\n",
              "      width: 32px;\n",
              "    }\n",
              "\n",
              "    .colab-df-convert:hover {\n",
              "      background-color: #E2EBFA;\n",
              "      box-shadow: 0px 1px 2px rgba(60, 64, 67, 0.3), 0px 1px 3px 1px rgba(60, 64, 67, 0.15);\n",
              "      fill: #174EA6;\n",
              "    }\n",
              "\n",
              "    .colab-df-buttons div {\n",
              "      margin-bottom: 4px;\n",
              "    }\n",
              "\n",
              "    [theme=dark] .colab-df-convert {\n",
              "      background-color: #3B4455;\n",
              "      fill: #D2E3FC;\n",
              "    }\n",
              "\n",
              "    [theme=dark] .colab-df-convert:hover {\n",
              "      background-color: #434B5C;\n",
              "      box-shadow: 0px 1px 3px 1px rgba(0, 0, 0, 0.15);\n",
              "      filter: drop-shadow(0px 1px 2px rgba(0, 0, 0, 0.3));\n",
              "      fill: #FFFFFF;\n",
              "    }\n",
              "  </style>\n",
              "\n",
              "    <script>\n",
              "      const buttonEl =\n",
              "        document.querySelector('#df-ffc1dbc9-989c-4148-a051-0c5693fd839f button.colab-df-convert');\n",
              "      buttonEl.style.display =\n",
              "        google.colab.kernel.accessAllowed ? 'block' : 'none';\n",
              "\n",
              "      async function convertToInteractive(key) {\n",
              "        const element = document.querySelector('#df-ffc1dbc9-989c-4148-a051-0c5693fd839f');\n",
              "        const dataTable =\n",
              "          await google.colab.kernel.invokeFunction('convertToInteractive',\n",
              "                                                    [key], {});\n",
              "        if (!dataTable) return;\n",
              "\n",
              "        const docLinkHtml = 'Like what you see? Visit the ' +\n",
              "          '<a target=\"_blank\" href=https://colab.research.google.com/notebooks/data_table.ipynb>data table notebook</a>'\n",
              "          + ' to learn more about interactive tables.';\n",
              "        element.innerHTML = '';\n",
              "        dataTable['output_type'] = 'display_data';\n",
              "        await google.colab.output.renderOutput(dataTable, element);\n",
              "        const docLink = document.createElement('div');\n",
              "        docLink.innerHTML = docLinkHtml;\n",
              "        element.appendChild(docLink);\n",
              "      }\n",
              "    </script>\n",
              "  </div>\n",
              "\n",
              "\n",
              "<div id=\"df-173c6d8b-1cc6-49a2-a64b-bea5809d4b9a\">\n",
              "  <button class=\"colab-df-quickchart\" onclick=\"quickchart('df-173c6d8b-1cc6-49a2-a64b-bea5809d4b9a')\"\n",
              "            title=\"Suggest charts\"\n",
              "            style=\"display:none;\">\n",
              "\n",
              "<svg xmlns=\"http://www.w3.org/2000/svg\" height=\"24px\"viewBox=\"0 0 24 24\"\n",
              "     width=\"24px\">\n",
              "    <g>\n",
              "        <path d=\"M19 3H5c-1.1 0-2 .9-2 2v14c0 1.1.9 2 2 2h14c1.1 0 2-.9 2-2V5c0-1.1-.9-2-2-2zM9 17H7v-7h2v7zm4 0h-2V7h2v10zm4 0h-2v-4h2v4z\"/>\n",
              "    </g>\n",
              "</svg>\n",
              "  </button>\n",
              "\n",
              "<style>\n",
              "  .colab-df-quickchart {\n",
              "      --bg-color: #E8F0FE;\n",
              "      --fill-color: #1967D2;\n",
              "      --hover-bg-color: #E2EBFA;\n",
              "      --hover-fill-color: #174EA6;\n",
              "      --disabled-fill-color: #AAA;\n",
              "      --disabled-bg-color: #DDD;\n",
              "  }\n",
              "\n",
              "  [theme=dark] .colab-df-quickchart {\n",
              "      --bg-color: #3B4455;\n",
              "      --fill-color: #D2E3FC;\n",
              "      --hover-bg-color: #434B5C;\n",
              "      --hover-fill-color: #FFFFFF;\n",
              "      --disabled-bg-color: #3B4455;\n",
              "      --disabled-fill-color: #666;\n",
              "  }\n",
              "\n",
              "  .colab-df-quickchart {\n",
              "    background-color: var(--bg-color);\n",
              "    border: none;\n",
              "    border-radius: 50%;\n",
              "    cursor: pointer;\n",
              "    display: none;\n",
              "    fill: var(--fill-color);\n",
              "    height: 32px;\n",
              "    padding: 0;\n",
              "    width: 32px;\n",
              "  }\n",
              "\n",
              "  .colab-df-quickchart:hover {\n",
              "    background-color: var(--hover-bg-color);\n",
              "    box-shadow: 0 1px 2px rgba(60, 64, 67, 0.3), 0 1px 3px 1px rgba(60, 64, 67, 0.15);\n",
              "    fill: var(--button-hover-fill-color);\n",
              "  }\n",
              "\n",
              "  .colab-df-quickchart-complete:disabled,\n",
              "  .colab-df-quickchart-complete:disabled:hover {\n",
              "    background-color: var(--disabled-bg-color);\n",
              "    fill: var(--disabled-fill-color);\n",
              "    box-shadow: none;\n",
              "  }\n",
              "\n",
              "  .colab-df-spinner {\n",
              "    border: 2px solid var(--fill-color);\n",
              "    border-color: transparent;\n",
              "    border-bottom-color: var(--fill-color);\n",
              "    animation:\n",
              "      spin 1s steps(1) infinite;\n",
              "  }\n",
              "\n",
              "  @keyframes spin {\n",
              "    0% {\n",
              "      border-color: transparent;\n",
              "      border-bottom-color: var(--fill-color);\n",
              "      border-left-color: var(--fill-color);\n",
              "    }\n",
              "    20% {\n",
              "      border-color: transparent;\n",
              "      border-left-color: var(--fill-color);\n",
              "      border-top-color: var(--fill-color);\n",
              "    }\n",
              "    30% {\n",
              "      border-color: transparent;\n",
              "      border-left-color: var(--fill-color);\n",
              "      border-top-color: var(--fill-color);\n",
              "      border-right-color: var(--fill-color);\n",
              "    }\n",
              "    40% {\n",
              "      border-color: transparent;\n",
              "      border-right-color: var(--fill-color);\n",
              "      border-top-color: var(--fill-color);\n",
              "    }\n",
              "    60% {\n",
              "      border-color: transparent;\n",
              "      border-right-color: var(--fill-color);\n",
              "    }\n",
              "    80% {\n",
              "      border-color: transparent;\n",
              "      border-right-color: var(--fill-color);\n",
              "      border-bottom-color: var(--fill-color);\n",
              "    }\n",
              "    90% {\n",
              "      border-color: transparent;\n",
              "      border-bottom-color: var(--fill-color);\n",
              "    }\n",
              "  }\n",
              "</style>\n",
              "\n",
              "  <script>\n",
              "    async function quickchart(key) {\n",
              "      const quickchartButtonEl =\n",
              "        document.querySelector('#' + key + ' button');\n",
              "      quickchartButtonEl.disabled = true;  // To prevent multiple clicks.\n",
              "      quickchartButtonEl.classList.add('colab-df-spinner');\n",
              "      try {\n",
              "        const charts = await google.colab.kernel.invokeFunction(\n",
              "            'suggestCharts', [key], {});\n",
              "      } catch (error) {\n",
              "        console.error('Error during call to suggestCharts:', error);\n",
              "      }\n",
              "      quickchartButtonEl.classList.remove('colab-df-spinner');\n",
              "      quickchartButtonEl.classList.add('colab-df-quickchart-complete');\n",
              "    }\n",
              "    (() => {\n",
              "      let quickchartButtonEl =\n",
              "        document.querySelector('#df-173c6d8b-1cc6-49a2-a64b-bea5809d4b9a button');\n",
              "      quickchartButtonEl.style.display =\n",
              "        google.colab.kernel.accessAllowed ? 'block' : 'none';\n",
              "    })();\n",
              "  </script>\n",
              "</div>\n",
              "    </div>\n",
              "  </div>\n"
            ]
          },
          "metadata": {},
          "execution_count": 21
        }
      ]
    },
    {
      "cell_type": "code",
      "source": [
        "df.isna().sum()"
      ],
      "metadata": {
        "colab": {
          "base_uri": "https://localhost:8080/"
        },
        "id": "AMvnMzC8xApX",
        "outputId": "4ede7525-4a4f-46de-b8e4-a61e0d8d31f2"
      },
      "execution_count": 22,
      "outputs": [
        {
          "output_type": "execute_result",
          "data": {
            "text/plain": [
              "LocalTime    0\n",
              "T            9\n",
              "dtype: int64"
            ]
          },
          "metadata": {},
          "execution_count": 22
        }
      ]
    },
    {
      "cell_type": "code",
      "source": [
        "df.dropna(inplace=True)"
      ],
      "metadata": {
        "id": "ZO1B9pu6xDl0"
      },
      "execution_count": 23,
      "outputs": []
    },
    {
      "cell_type": "code",
      "source": [
        "df.isna().sum()"
      ],
      "metadata": {
        "colab": {
          "base_uri": "https://localhost:8080/"
        },
        "id": "bmgp_mkGxHq_",
        "outputId": "c71c64b7-0dd7-4205-d1b8-468bc322625f"
      },
      "execution_count": 24,
      "outputs": [
        {
          "output_type": "execute_result",
          "data": {
            "text/plain": [
              "LocalTime    0\n",
              "T            0\n",
              "dtype: int64"
            ]
          },
          "metadata": {},
          "execution_count": 24
        }
      ]
    },
    {
      "cell_type": "code",
      "source": [
        "plt.plot(range(1,len(df['T'].values)+1),df['T'].values)"
      ],
      "metadata": {
        "colab": {
          "base_uri": "https://localhost:8080/",
          "height": 448
        },
        "id": "SdzFuInixas_",
        "outputId": "d46aa4fe-d152-4d43-f577-7f0f8e0de6c3"
      },
      "execution_count": 25,
      "outputs": [
        {
          "output_type": "execute_result",
          "data": {
            "text/plain": [
              "[<matplotlib.lines.Line2D at 0x7c23a4fe5540>]"
            ]
          },
          "metadata": {},
          "execution_count": 25
        },
        {
          "output_type": "display_data",
          "data": {
            "text/plain": [
              "<Figure size 640x480 with 1 Axes>"
            ],
            "image/png": "[encoded data removed]"
          },
          "metadata": {}
        }
      ]
    },
    {
      "cell_type": "code",
      "source": [
        "# Extract and normalize the target column\n",
        "min_max_scaler = MinMaxScaler()\n",
        "df = df['T'].values\n",
        "df = min_max_scaler.fit_transform(df.reshape(-1, 1))"
      ],
      "metadata": {
        "id": "W4QblOIuxj2q"
      },
      "execution_count": 26,
      "outputs": []
    },
    {
      "cell_type": "code",
      "source": [
        "df.shape"
      ],
      "metadata": {
        "colab": {
          "base_uri": "https://localhost:8080/"
        },
        "id": "uIgoco8Uxqg8",
        "outputId": "74000855-bec0-4134-9b2f-37ed42b05b5b"
      },
      "execution_count": 27,
      "outputs": [
        {
          "output_type": "execute_result",
          "data": {
            "text/plain": [
              "(119665, 1)"
            ]
          },
          "metadata": {},
          "execution_count": 27
        }
      ]
    },
    {
      "cell_type": "code",
      "source": [
        "# Flatten the data shape\n",
        "df = df.flatten()\n",
        "df.shape"
      ],
      "metadata": {
        "colab": {
          "base_uri": "https://localhost:8080/"
        },
        "id": "gtD_KflGxuJ-",
        "outputId": "682f623d-899d-4948-e1f1-291648cbfdf9"
      },
      "execution_count": 28,
      "outputs": [
        {
          "output_type": "execute_result",
          "data": {
            "text/plain": [
              "(119665,)"
            ]
          },
          "metadata": {},
          "execution_count": 28
        }
      ]
    },
    {
      "cell_type": "markdown",
      "source": [
        "## Split data to train, test, and validation"
      ],
      "metadata": {
        "id": "L3VechNGnY96"
      }
    },
    {
      "cell_type": "code",
      "source": [
        "window = 15\n",
        "\n",
        "# Calculate the number of samples for training, validation, and test sets\n",
        "n_samples = df.shape[0] - window\n",
        "n_train_samples = round(0.7 * n_samples)\n",
        "n_val_samples = round(0.15 * n_samples)\n",
        "n_test_samples = n_samples - n_train_samples - n_val_samples\n",
        "\n",
        "print('Train = ',n_train_samples,'Validation = ',n_val_samples,'Test = ',n_test_samples)"
      ],
      "metadata": {
        "colab": {
          "base_uri": "https://localhost:8080/"
        },
        "id": "dw6SU4fGxzuX",
        "outputId": "03ea3ce7-6d9d-478e-84c9-ea787fd97de5"
      },
      "execution_count": 29,
      "outputs": [
        {
          "output_type": "stream",
          "name": "stdout",
          "text": [
            "Train =  83755 Validation =  17948 Test =  17947\n"
          ]
        }
      ]
    },
    {
      "cell_type": "code",
      "source": [
        "# Function to create input-output pairs for a given set\n",
        "def create_pairs(start_index, num_samples):\n",
        "    X = [df[start_index + i : start_index + i + window] for i in range(num_samples)]\n",
        "    y = [df[start_index + i + window] for i in range(num_samples)]\n",
        "    return np.array(X), np.array(y)"
      ],
      "metadata": {
        "id": "I0aVc_hSnKC_"
      },
      "execution_count": 30,
      "outputs": []
    },
    {
      "cell_type": "code",
      "source": [
        "# Create training, validation, and test sets\n",
        "X_train, y_train = create_pairs(0, n_train_samples)\n",
        "X_val, y_val = create_pairs(n_train_samples, n_val_samples)\n",
        "X_test, y_test = create_pairs(n_train_samples + n_val_samples, n_test_samples)"
      ],
      "metadata": {
        "id": "4X4llkvkylix"
      },
      "execution_count": 31,
      "outputs": []
    },
    {
      "cell_type": "code",
      "source": [
        "# Reshape the data\n",
        "X_train = np.reshape(X_train, (X_train.shape[0], 1, X_train.shape[1]))\n",
        "X_val = np.reshape(X_val, (X_val.shape[0], 1, X_val.shape[1]))\n",
        "X_test = np.reshape(X_test, (X_test.shape[0], 1, X_test.shape[1]))"
      ],
      "metadata": {
        "id": "i8m6DHRbyp4a"
      },
      "execution_count": 32,
      "outputs": []
    },
    {
      "cell_type": "markdown",
      "source": [
        "# Regressor (RNN)"
      ],
      "metadata": {
        "id": "TVasSiwlysnb"
      }
    },
    {
      "cell_type": "code",
      "source": [
        "# Build the RNN model\n",
        "rnn_model = tf.keras.Sequential([\n",
        "    tf.keras.layers.SimpleRNN(10, activation='sigmoid', input_shape=(X_train.shape[1], X_train.shape[2])),\n",
        "    Dropout(0.2),\n",
        "    tf.keras.layers.Dense(1, activation='linear')\n",
        "])"
      ],
      "metadata": {
        "id": "jaD7l9LKyqS9"
      },
      "execution_count": 38,
      "outputs": []
    },
    {
      "cell_type": "code",
      "source": [
        "# Compile the RNN model\n",
        "rnn_model.compile(loss='mse',\n",
        "                  optimizer='adam',\n",
        "                  metrics='mae')"
      ],
      "metadata": {
        "id": "70F03CNwysD2"
      },
      "execution_count": 39,
      "outputs": []
    },
    {
      "cell_type": "code",
      "source": [
        "# Train the RNN model\n",
        "rnn_history = rnn_model.fit(\n",
        "    X_train,\n",
        "    y_train,\n",
        "    epochs=10,\n",
        "    batch_size=20,\n",
        "    validation_data=(X_val, y_val)\n",
        ")"
      ],
      "metadata": {
        "colab": {
          "base_uri": "https://localhost:8080/"
        },
        "id": "30tQEXQOywUn",
        "outputId": "e90f9da1-c971-4b25-eb4c-d8e231489ce3"
      },
      "execution_count": 40,
      "outputs": [
        {
          "output_type": "stream",
          "name": "stdout",
          "text": [
            "Epoch 1/10\n",
            "4188/4188 [==============================] - 18s 3ms/step - loss: 0.0476 - mae: 0.1499 - val_loss: 0.0062 - val_mae: 0.0652\n",
            "Epoch 2/10\n",
            "4188/4188 [==============================] - 12s 3ms/step - loss: 0.0102 - mae: 0.0792 - val_loss: 0.0045 - val_mae: 0.0551\n",
            "Epoch 3/10\n",
            "4188/4188 [==============================] - 14s 3ms/step - loss: 0.0069 - mae: 0.0645 - val_loss: 0.0014 - val_mae: 0.0305\n",
            "Epoch 4/10\n",
            "4188/4188 [==============================] - 13s 3ms/step - loss: 0.0046 - mae: 0.0523 - val_loss: 9.2294e-04 - val_mae: 0.0243\n",
            "Epoch 5/10\n",
            "4188/4188 [==============================] - 12s 3ms/step - loss: 0.0039 - mae: 0.0477 - val_loss: 9.5814e-04 - val_mae: 0.0251\n",
            "Epoch 6/10\n",
            "4188/4188 [==============================] - 12s 3ms/step - loss: 0.0036 - mae: 0.0457 - val_loss: 6.6811e-04 - val_mae: 0.0203\n",
            "Epoch 7/10\n",
            "4188/4188 [==============================] - 13s 3ms/step - loss: 0.0034 - mae: 0.0443 - val_loss: 7.9760e-04 - val_mae: 0.0227\n",
            "Epoch 8/10\n",
            "4188/4188 [==============================] - 14s 3ms/step - loss: 0.0033 - mae: 0.0435 - val_loss: 6.2444e-04 - val_mae: 0.0196\n",
            "Epoch 9/10\n",
            "4188/4188 [==============================] - 14s 3ms/step - loss: 0.0032 - mae: 0.0431 - val_loss: 7.0180e-04 - val_mae: 0.0214\n",
            "Epoch 10/10\n",
            "4188/4188 [==============================] - 11s 3ms/step - loss: 0.0031 - mae: 0.0422 - val_loss: 7.4187e-04 - val_mae: 0.0223\n"
          ]
        }
      ]
    },
    {
      "cell_type": "markdown",
      "source": [
        "## MSE, MAE R2"
      ],
      "metadata": {
        "id": "TH-ZsKUD4vvN"
      }
    },
    {
      "cell_type": "code",
      "source": [
        "# Get R2, MSE, & MAE scores\n",
        "y_pred = rnn_model.predict(X_test)\n",
        "\n",
        "mse = mean_squared_error(y_test, y_pred)\n",
        "\n",
        "mae = mean_absolute_error(y_test, y_pred)\n",
        "\n",
        "r2 = r2_score(y_test, y_pred)\n",
        "\n",
        "print(f\"MSE: {mse:.2f}\")\n",
        "print(f\"MAE: {mae:.2f}\")\n",
        "print(f\"R-squared (R^2): {r2:.2f}\")"
      ],
      "metadata": {
        "colab": {
          "base_uri": "https://localhost:8080/"
        },
        "id": "59mg-mT5yxyi",
        "outputId": "4a55b386-735a-4520-ad63-d70fca97e311"
      },
      "execution_count": 41,
      "outputs": [
        {
          "output_type": "stream",
          "name": "stdout",
          "text": [
            "561/561 [==============================] - 1s 2ms/step\n",
            "MSE: 0.00\n",
            "MAE: 0.02\n",
            "R-squared (R^2): 0.98\n"
          ]
        }
      ]
    },
    {
      "cell_type": "code",
      "source": [
        "# Visualize the mean absolute error\n",
        "mae = rnn_history.history['mae']\n",
        "val_mae = rnn_history.history['val_mae']\n",
        "epochs = range(1,len(mae)+1)\n",
        "\n",
        "plt.title('Mean Absolute Error')\n",
        "plt.plot(epochs,mae,label='Train')\n",
        "plt.plot(epochs,val_mae,color='red',label='Validation')\n",
        "plt.xlabel('Epochs')\n",
        "plt.ylabel('MAE')\n",
        "plt.legend()\n",
        "plt.show()"
      ],
      "metadata": {
        "colab": {
          "base_uri": "https://localhost:8080/",
          "height": 472
        },
        "id": "QMGNKtBNy1G5",
        "outputId": "594d24f8-c1f7-4a98-aa47-70ae2bf082ff"
      },
      "execution_count": 42,
      "outputs": [
        {
          "output_type": "display_data",
          "data": {
            "text/plain": [
              "<Figure size 640x480 with 1 Axes>"
            ],
            "image/png": "[encoded data removed]"
          },
          "metadata": {}
        }
      ]
    },
    {
      "cell_type": "markdown",
      "source": [
        "## Predict"
      ],
      "metadata": {
        "id": "JKJzUS_u4soC"
      }
    },
    {
      "cell_type": "code",
      "source": [
        "# Predict using test sets\n",
        "y_pred = rnn_model.predict(X_test)\n",
        "y_pred_inv = min_max_scaler.inverse_transform(y_pred)\n",
        "y_test_inv = min_max_scaler.inverse_transform(y_test.reshape(-1,1))\n",
        "\n",
        "print('MAE = ',round(mean_absolute_error(y_true=y_test_inv,y_pred=y_pred_inv),3),' degrees')\n",
        "print('R2-score = ',round(r2_score(y_test_inv,y_pred_inv),3))"
      ],
      "metadata": {
        "colab": {
          "base_uri": "https://localhost:8080/"
        },
        "id": "i7Er7VMI36M-",
        "outputId": "9fb55331-f57c-4f9d-d2c7-cd249a61f38a"
      },
      "execution_count": 43,
      "outputs": [
        {
          "output_type": "stream",
          "name": "stdout",
          "text": [
            "561/561 [==============================] - 2s 3ms/step\n",
            "MAE =  1.667  degrees\n",
            "R2-score =  0.982\n"
          ]
        }
      ]
    },
    {
      "cell_type": "code",
      "source": [
        "# Visualize prediction\n",
        "plt.plot(range(1,len(y_test_inv)+1),y_test_inv)\n",
        "plt.plot(range(1,len(y_pred_inv)+1),y_pred_inv)"
      ],
      "metadata": {
        "colab": {
          "base_uri": "https://localhost:8080/",
          "height": 448
        },
        "id": "cX0lemLe386s",
        "outputId": "4c0e6b21-be91-4e00-8e61-c3f97b4c9eaf"
      },
      "execution_count": 44,
      "outputs": [
        {
          "output_type": "execute_result",
          "data": {
            "text/plain": [
              "[<matplotlib.lines.Line2D at 0x7c23937e20e0>]"
            ]
          },
          "metadata": {},
          "execution_count": 44
        },
        {
          "output_type": "display_data",
          "data": {
            "text/plain": [
              "<Figure size 640x480 with 1 Axes>"
            ],
            "image/png": "[encoded data removed]"
          },
          "metadata": {}
        }
      ]
    },
    {
      "cell_type": "markdown",
      "source": [
        "# Регрессор (LSTM)"
      ],
      "metadata": {
        "id": "C2EFSEPf4zhq"
      }
    },
    {
      "cell_type": "code",
      "source": [
        "# Build the LSTM model\n",
        "lstm_model = tf.keras.Sequential([\n",
        "    tf.keras.layers.LSTM(10, activation='sigmoid', input_shape=(X_train.shape[1], X_train.shape[2])),\n",
        "    Dropout(0.2),\n",
        "    tf.keras.layers.Dense(1, activation='relu')\n",
        "])"
      ],
      "metadata": {
        "id": "uUUi_7wk44El"
      },
      "execution_count": 59,
      "outputs": []
    },
    {
      "cell_type": "code",
      "source": [
        "# Compile the LSTM model\n",
        "lstm_model.compile(loss='mse',\n",
        "                  optimizer='adam',\n",
        "                  metrics='mae')"
      ],
      "metadata": {
        "id": "0Ez61IUO47pc"
      },
      "execution_count": 60,
      "outputs": []
    },
    {
      "cell_type": "code",
      "source": [
        "# Train the LSTM model\n",
        "lstm_history = lstm_model.fit(\n",
        "    X_train,\n",
        "    y_train,\n",
        "    epochs=10,\n",
        "    batch_size=20,\n",
        "    validation_data=(X_val, y_val)\n",
        ")"
      ],
      "metadata": {
        "colab": {
          "base_uri": "https://localhost:8080/"
        },
        "id": "x8q5BSMq484N",
        "outputId": "5b8e487f-36c2-41a7-de68-927341e4f231"
      },
      "execution_count": 61,
      "outputs": [
        {
          "output_type": "stream",
          "name": "stdout",
          "text": [
            "Epoch 1/10\n",
            "4188/4188 [==============================] - 18s 4ms/step - loss: 0.0143 - mae: 0.0905 - val_loss: 0.0031 - val_mae: 0.0452\n",
            "Epoch 2/10\n",
            "4188/4188 [==============================] - 14s 3ms/step - loss: 0.0062 - mae: 0.0610 - val_loss: 0.0012 - val_mae: 0.0274\n",
            "Epoch 3/10\n",
            "4188/4188 [==============================] - 14s 3ms/step - loss: 0.0044 - mae: 0.0510 - val_loss: 8.3422e-04 - val_mae: 0.0228\n",
            "Epoch 4/10\n",
            "4188/4188 [==============================] - 15s 4ms/step - loss: 0.0037 - mae: 0.0468 - val_loss: 6.6153e-04 - val_mae: 0.0200\n",
            "Epoch 5/10\n",
            "4188/4188 [==============================] - 16s 4ms/step - loss: 0.0035 - mae: 0.0449 - val_loss: 6.4110e-04 - val_mae: 0.0199\n",
            "Epoch 6/10\n",
            "4188/4188 [==============================] - 15s 4ms/step - loss: 0.0033 - mae: 0.0438 - val_loss: 5.6690e-04 - val_mae: 0.0186\n",
            "Epoch 7/10\n",
            "4188/4188 [==============================] - 15s 4ms/step - loss: 0.0032 - mae: 0.0431 - val_loss: 7.2465e-04 - val_mae: 0.0217\n",
            "Epoch 8/10\n",
            "4188/4188 [==============================] - 15s 4ms/step - loss: 0.0031 - mae: 0.0423 - val_loss: 5.9539e-04 - val_mae: 0.0195\n",
            "Epoch 9/10\n",
            "4188/4188 [==============================] - 15s 4ms/step - loss: 0.0031 - mae: 0.0418 - val_loss: 5.3478e-04 - val_mae: 0.0184\n",
            "Epoch 10/10\n",
            "4188/4188 [==============================] - 15s 4ms/step - loss: 0.0030 - mae: 0.0415 - val_loss: 5.9843e-04 - val_mae: 0.0198\n"
          ]
        }
      ]
    },
    {
      "cell_type": "markdown",
      "source": [
        "## MSE, MAE, R2"
      ],
      "metadata": {
        "id": "764ZMJtRDbn_"
      }
    },
    {
      "cell_type": "code",
      "source": [
        "# Get R2, MSE, & MAE scores\n",
        "y_pred = lstm_model.predict(X_test)\n",
        "\n",
        "mse = mean_squared_error(y_test, y_pred)\n",
        "\n",
        "mae = mean_absolute_error(y_test, y_pred)\n",
        "\n",
        "r2 = r2_score(y_test, y_pred)\n",
        "\n",
        "print(f\"MSE: {mse:.2f}\")\n",
        "print(f\"MAE: {mae:.2f}\")\n",
        "print(f\"R-squared (R^2): {r2:.2f}\")"
      ],
      "metadata": {
        "colab": {
          "base_uri": "https://localhost:8080/"
        },
        "id": "eQYGvqVI4-E2",
        "outputId": "46ddcbb6-ca57-443a-a540-61eda88b88f5"
      },
      "execution_count": 62,
      "outputs": [
        {
          "output_type": "stream",
          "name": "stdout",
          "text": [
            "561/561 [==============================] - 1s 2ms/step\n",
            "MSE: 0.00\n",
            "MAE: 0.02\n",
            "R-squared (R^2): 0.99\n"
          ]
        }
      ]
    },
    {
      "cell_type": "code",
      "source": [
        "# Visualize the mean absolute error\n",
        "mae = lstm_history.history['mae']\n",
        "val_mae = lstm_history.history['val_mae']\n",
        "epochs = range(1,len(mae)+1)\n",
        "\n",
        "plt.title('Mean Absolute Error')\n",
        "plt.plot(epochs,mae,label='Train')\n",
        "plt.plot(epochs,val_mae,color='red',label='Validation')\n",
        "plt.xlabel('Epochs')\n",
        "plt.ylabel('MAE')\n",
        "plt.legend()\n",
        "plt.show()"
      ],
      "metadata": {
        "colab": {
          "base_uri": "https://localhost:8080/",
          "height": 472
        },
        "id": "lZ8w85mT5AS8",
        "outputId": "5cb3f561-8a72-4152-f216-b757401b9780"
      },
      "execution_count": 63,
      "outputs": [
        {
          "output_type": "display_data",
          "data": {
            "text/plain": [
              "<Figure size 640x480 with 1 Axes>"
            ],
            "image/png": "[encoded data removed]"
          },
          "metadata": {}
        }
      ]
    },
    {
      "cell_type": "markdown",
      "source": [
        "## Predict"
      ],
      "metadata": {
        "id": "ElXvu2HlDekX"
      }
    },
    {
      "cell_type": "code",
      "source": [
        "# Predict using test sets\n",
        "y_pred = lstm_model.predict(X_test)\n",
        "y_pred_inv = min_max_scaler.inverse_transform(y_pred)\n",
        "y_test_inv = min_max_scaler.inverse_transform(y_test.reshape(-1,1))\n",
        "\n",
        "print('MAE = ',round(mean_absolute_error(y_true=y_test_inv,y_pred=y_pred_inv),3),' degrees')\n",
        "print('R2-score = ',round(r2_score(y_test_inv,y_pred_inv),3))"
      ],
      "metadata": {
        "colab": {
          "base_uri": "https://localhost:8080/"
        },
        "id": "4S6FBm5a5Bw-",
        "outputId": "267bb50c-3d67-45fb-cc99-04f342667a1e"
      },
      "execution_count": 64,
      "outputs": [
        {
          "output_type": "stream",
          "name": "stdout",
          "text": [
            "561/561 [==============================] - 2s 3ms/step\n",
            "MAE =  1.511  degrees\n",
            "R2-score =  0.985\n"
          ]
        }
      ]
    },
    {
      "cell_type": "code",
      "source": [
        "# Visualize prediction\n",
        "plt.plot(range(1,len(y_test_inv)+1),y_test_inv)\n",
        "plt.plot(range(1,len(y_pred_inv)+1),y_pred_inv)"
      ],
      "metadata": {
        "colab": {
          "base_uri": "https://localhost:8080/",
          "height": 448
        },
        "id": "5sESx7tR5Dd-",
        "outputId": "ef79d5bd-ba58-4999-94ee-5e4caf68f210"
      },
      "execution_count": 65,
      "outputs": [
        {
          "output_type": "execute_result",
          "data": {
            "text/plain": [
              "[<matplotlib.lines.Line2D at 0x7c23a4ee1840>]"
            ]
          },
          "metadata": {},
          "execution_count": 65
        },
        {
          "output_type": "display_data",
          "data": {
            "text/plain": [
              "<Figure size 640x480 with 1 Axes>"
            ],
            "image/png": "[encoded data removed]"
          },
          "metadata": {}
        }
      ]
    },
    {
      "cell_type": "markdown",
      "source": [
        "# Regressor (LSTM 2 Layers)"
      ],
      "metadata": {
        "id": "L3vvb7UUDHuG"
      }
    },
    {
      "cell_type": "code",
      "source": [
        "# Build the LSTM model\n",
        "lstm_model2 = tf.keras.Sequential([\n",
        "    tf.keras.layers.LSTM(10, activation='relu', input_shape=(X_train.shape[1], X_train.shape[2]), return_sequences = True),\n",
        "    Dropout(0.2),\n",
        "    tf.keras.layers.LSTM(10, activation='sigmoid'),\n",
        "    Dropout(0.2),\n",
        "    tf.keras.layers.Dense(1, activation='relu')\n",
        "])"
      ],
      "metadata": {
        "id": "6Owz2oTYDNGG"
      },
      "execution_count": 80,
      "outputs": []
    },
    {
      "cell_type": "code",
      "source": [
        "# Compile the LSTM model\n",
        "lstm_model2.compile(loss='mse',\n",
        "                  optimizer='adam',\n",
        "                  metrics='mae')"
      ],
      "metadata": {
        "id": "psfpqO-lDOSh"
      },
      "execution_count": 81,
      "outputs": []
    },
    {
      "cell_type": "code",
      "source": [
        "# Train the LSTM model\n",
        "lstm_history2 = lstm_model2.fit(\n",
        "    X_train,\n",
        "    y_train,\n",
        "    epochs=20,\n",
        "    batch_size=20,\n",
        "    validation_data=(X_val, y_val)\n",
        ")"
      ],
      "metadata": {
        "colab": {
          "base_uri": "https://localhost:8080/"
        },
        "id": "6scyELPUDQZ2",
        "outputId": "4fdd7b12-5bb8-48cc-da2c-bcbe5a31c2d5"
      },
      "execution_count": 82,
      "outputs": [
        {
          "output_type": "stream",
          "name": "stdout",
          "text": [
            "Epoch 1/20\n",
            "4188/4188 [==============================] - 23s 5ms/step - loss: 0.0251 - mae: 0.1126 - val_loss: 0.0043 - val_mae: 0.0513\n",
            "Epoch 2/20\n",
            "4188/4188 [==============================] - 19s 5ms/step - loss: 0.0093 - mae: 0.0717 - val_loss: 0.0027 - val_mae: 0.0399\n",
            "Epoch 3/20\n",
            "4188/4188 [==============================] - 19s 4ms/step - loss: 0.0063 - mae: 0.0592 - val_loss: 0.0025 - val_mae: 0.0384\n",
            "Epoch 4/20\n",
            "4188/4188 [==============================] - 20s 5ms/step - loss: 0.0055 - mae: 0.0538 - val_loss: 0.0023 - val_mae: 0.0371\n",
            "Epoch 5/20\n",
            "4188/4188 [==============================] - 20s 5ms/step - loss: 0.0051 - mae: 0.0511 - val_loss: 0.0023 - val_mae: 0.0376\n",
            "Epoch 6/20\n",
            "4188/4188 [==============================] - 19s 5ms/step - loss: 0.0050 - mae: 0.0497 - val_loss: 0.0027 - val_mae: 0.0410\n",
            "Epoch 7/20\n",
            "4188/4188 [==============================] - 20s 5ms/step - loss: 0.0048 - mae: 0.0489 - val_loss: 0.0028 - val_mae: 0.0423\n",
            "Epoch 8/20\n",
            "4188/4188 [==============================] - 21s 5ms/step - loss: 0.0046 - mae: 0.0478 - val_loss: 0.0023 - val_mae: 0.0384\n",
            "Epoch 9/20\n",
            "4188/4188 [==============================] - 19s 5ms/step - loss: 0.0045 - mae: 0.0470 - val_loss: 0.0026 - val_mae: 0.0403\n",
            "Epoch 10/20\n",
            "4188/4188 [==============================] - 19s 5ms/step - loss: 0.0046 - mae: 0.0470 - val_loss: 0.0029 - val_mae: 0.0436\n",
            "Epoch 11/20\n",
            "4188/4188 [==============================] - 20s 5ms/step - loss: 0.0046 - mae: 0.0468 - val_loss: 0.0027 - val_mae: 0.0425\n",
            "Epoch 12/20\n",
            "4188/4188 [==============================] - 20s 5ms/step - loss: 0.0044 - mae: 0.0461 - val_loss: 0.0027 - val_mae: 0.0422\n",
            "Epoch 13/20\n",
            "4188/4188 [==============================] - 19s 4ms/step - loss: 0.0045 - mae: 0.0462 - val_loss: 0.0026 - val_mae: 0.0420\n",
            "Epoch 14/20\n",
            "4188/4188 [==============================] - 19s 5ms/step - loss: 0.0043 - mae: 0.0456 - val_loss: 0.0027 - val_mae: 0.0419\n",
            "Epoch 15/20\n",
            "4188/4188 [==============================] - 20s 5ms/step - loss: 0.0044 - mae: 0.0457 - val_loss: 0.0024 - val_mae: 0.0398\n",
            "Epoch 16/20\n",
            "4188/4188 [==============================] - 19s 5ms/step - loss: 0.0044 - mae: 0.0456 - val_loss: 0.0026 - val_mae: 0.0414\n",
            "Epoch 17/20\n",
            "4188/4188 [==============================] - 20s 5ms/step - loss: 0.0043 - mae: 0.0452 - val_loss: 0.0028 - val_mae: 0.0429\n",
            "Epoch 18/20\n",
            "4188/4188 [==============================] - 20s 5ms/step - loss: 0.0043 - mae: 0.0451 - val_loss: 0.0022 - val_mae: 0.0385\n",
            "Epoch 19/20\n",
            "4188/4188 [==============================] - 19s 5ms/step - loss: 0.0042 - mae: 0.0445 - val_loss: 0.0026 - val_mae: 0.0423\n",
            "Epoch 20/20\n",
            "4188/4188 [==============================] - 19s 4ms/step - loss: 0.0042 - mae: 0.0444 - val_loss: 0.0026 - val_mae: 0.0425\n"
          ]
        }
      ]
    },
    {
      "cell_type": "markdown",
      "source": [
        "## MSE, MAE, R2"
      ],
      "metadata": {
        "id": "b0PKhmnsDgro"
      }
    },
    {
      "cell_type": "code",
      "source": [
        "# Get R2, MSE, & MAE scores\n",
        "y_pred = lstm_model2.predict(X_test)\n",
        "\n",
        "mse = mean_squared_error(y_test, y_pred)\n",
        "\n",
        "mae = mean_absolute_error(y_test, y_pred)\n",
        "\n",
        "r2 = r2_score(y_test, y_pred)\n",
        "\n",
        "print(f\"MSE: {mse:.2f}\")\n",
        "print(f\"MAE: {mae:.2f}\")\n",
        "print(f\"R-squared (R^2): {r2:.2f}\")"
      ],
      "metadata": {
        "colab": {
          "base_uri": "https://localhost:8080/"
        },
        "id": "uM6OkPJzDRzH",
        "outputId": "f734f240-9adc-4631-f78f-58d3bc3840a9"
      },
      "execution_count": 83,
      "outputs": [
        {
          "output_type": "stream",
          "name": "stdout",
          "text": [
            "561/561 [==============================] - 2s 3ms/step\n",
            "MSE: 0.00\n",
            "MAE: 0.04\n",
            "R-squared (R^2): 0.95\n"
          ]
        }
      ]
    },
    {
      "cell_type": "code",
      "source": [
        "# Visualize the mean absolute error\n",
        "mae = lstm_history2.history['mae']\n",
        "val_mae = lstm_history2.history['val_mae']\n",
        "epochs = range(1,len(mae)+1)\n",
        "\n",
        "plt.title('Mean Absolute Error')\n",
        "plt.plot(epochs,mae,label='Train')\n",
        "plt.plot(epochs,val_mae,color='red',label='Validation')\n",
        "plt.xlabel('Epochs')\n",
        "plt.ylabel('MAE')\n",
        "plt.legend()\n",
        "plt.show()"
      ],
      "metadata": {
        "colab": {
          "base_uri": "https://localhost:8080/",
          "height": 472
        },
        "id": "PrSgYd3tDT_x",
        "outputId": "b15a7d93-165a-4d6e-cd32-a5fc46c2ea3e"
      },
      "execution_count": 84,
      "outputs": [
        {
          "output_type": "display_data",
          "data": {
            "text/plain": [
              "<Figure size 640x480 with 1 Axes>"
            ],
            "image/png": "[encoded data removed]"
          },
          "metadata": {}
        }
      ]
    },
    {
      "cell_type": "markdown",
      "source": [
        "## Predict"
      ],
      "metadata": {
        "id": "hvLNIBCdDi8v"
      }
    },
    {
      "cell_type": "code",
      "source": [
        "# Predict using test sets\n",
        "y_pred = lstm_model2.predict(X_test)\n",
        "y_pred_inv = min_max_scaler.inverse_transform(y_pred)\n",
        "y_test_inv = min_max_scaler.inverse_transform(y_test.reshape(-1,1))\n",
        "\n",
        "print('MAE = ',round(mean_absolute_error(y_true=y_test_inv,y_pred=y_pred_inv),3),' degrees')\n",
        "print('R2-score = ',round(r2_score(y_test_inv,y_pred_inv),3))"
      ],
      "metadata": {
        "colab": {
          "base_uri": "https://localhost:8080/"
        },
        "id": "LnR0MbPxDVXw",
        "outputId": "bdccabfc-c13c-4406-b7b7-971db3289968"
      },
      "execution_count": 85,
      "outputs": [
        {
          "output_type": "stream",
          "name": "stdout",
          "text": [
            "561/561 [==============================] - 1s 3ms/step\n",
            "MAE =  2.737  degrees\n",
            "R2-score =  0.952\n"
          ]
        }
      ]
    },
    {
      "cell_type": "code",
      "source": [
        "# Visualize prediction\n",
        "plt.plot(range(1,len(y_test_inv)+1),y_test_inv)\n",
        "plt.plot(range(1,len(y_pred_inv)+1),y_pred_inv)"
      ],
      "metadata": {
        "colab": {
          "base_uri": "https://localhost:8080/",
          "height": 448
        },
        "id": "0P8wpsBlDXVS",
        "outputId": "e2d1be0d-10ae-47f9-cbe4-0dff108c4fe1"
      },
      "execution_count": 86,
      "outputs": [
        {
          "output_type": "execute_result",
          "data": {
            "text/plain": [
              "[<matplotlib.lines.Line2D at 0x7c239256bc70>]"
            ]
          },
          "metadata": {},
          "execution_count": 86
        },
        {
          "output_type": "display_data",
          "data": {
            "text/plain": [
              "<Figure size 640x480 with 1 Axes>"
            ],
            "image/png": "[encoded data removed]"
          },
          "metadata": {}
        }
      ]
    }
  ]
}